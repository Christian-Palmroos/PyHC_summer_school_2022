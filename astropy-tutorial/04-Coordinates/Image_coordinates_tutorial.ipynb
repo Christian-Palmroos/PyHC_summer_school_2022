{
 "cells": [
  {
   "cell_type": "markdown",
   "metadata": {},
   "source": [
    "## Handling image coordinates\n",
    "\n",
    "The `astropy.wcs` package implements the FITS World Coordinate System (WCS) standard, and some commonly-used distortion conventions used in imaging data.\n",
    "\n",
    "This tutorial will show how to extract from FITS files, and how to use it to transform coordinates."
   ]
  },
  {
   "cell_type": "code",
   "execution_count": null,
   "metadata": {},
   "outputs": [],
   "source": [
    "import os\n",
    "import numpy as np\n",
    "%matplotlib inline\n",
    "from matplotlib import pyplot as plt"
   ]
  },
  {
   "cell_type": "code",
   "execution_count": null,
   "metadata": {},
   "outputs": [],
   "source": [
    "from sunpy.data.sample import AIA_171_IMAGE\n",
    "from sunpy.coordinates import Helioprojective\n",
    "\n",
    "from astropy.utils.data import get_pkg_data_filename\n",
    "from astropy.io import fits\n",
    "from astropy import wcs\n",
    "from astropy.coordinates import SkyCoord\n",
    "import astropy.units as u\n",
    "\n",
    "from astropy.visualization import (\n",
    "    AsinhStretch, ImageNormalize, MinMaxInterval\n",
    ")"
   ]
  },
  {
   "cell_type": "markdown",
   "metadata": {},
   "source": [
    "## Creating a WCS object from the header of a FITS file"
   ]
  },
  {
   "cell_type": "markdown",
   "metadata": {},
   "source": [
    "Open a FITS image with `astropy.fits` and examine the contents."
   ]
  },
  {
   "cell_type": "code",
   "execution_count": null,
   "metadata": {},
   "outputs": [],
   "source": [
    "image_file = fits.open(AIA_171_IMAGE)\n",
    "image_file.info()"
   ]
  },
  {
   "cell_type": "markdown",
   "metadata": {},
   "source": [
    "To create a WCS object pass the header with the WCS keywords to astropy.wcs.WCS. In this case it is the primary header. "
   ]
  },
  {
   "cell_type": "code",
   "execution_count": null,
   "metadata": {},
   "outputs": [],
   "source": [
    "w = wcs.WCS(image_file[1].header)\n",
    "print(w)"
   ]
  },
  {
   "cell_type": "markdown",
   "metadata": {},
   "source": [
    "Examine the physical types of the world coordinate axes, to show they are RA and Dec."
   ]
  },
  {
   "cell_type": "code",
   "execution_count": null,
   "metadata": {},
   "outputs": [],
   "source": [
    "w.world_axis_physical_types"
   ]
  },
  {
   "cell_type": "markdown",
   "metadata": {},
   "source": [
    "Print the number of pixel and world axes, and the shape of the data"
   ]
  },
  {
   "cell_type": "code",
   "execution_count": null,
   "metadata": {},
   "outputs": [],
   "source": [
    "print(w.pixel_n_dim, w.world_n_dim, w.array_shape)"
   ]
  },
  {
   "cell_type": "markdown",
   "metadata": {},
   "source": [
    "## Transforming between pixel coordinates and sky coordinates"
   ]
  },
  {
   "cell_type": "markdown",
   "metadata": {},
   "source": [
    "To determine the sky coordinate associated with a position on the detector, pass x-pixel and y-pixel values to the `pixel_to_world` method.\n",
    "\n",
    "The inputs can be numbers, numpy arrays or array-like objects. See the [Pixel Conventions and Definitions](https://docs.astropy.org/en/stable/wcs/index.html#pixel-conventions) for an explanation of the pixel numbering convention.\n",
    "\n",
    "The output is a SkyCoord object."
   ]
  },
  {
   "cell_type": "code",
   "execution_count": null,
   "metadata": {},
   "outputs": [],
   "source": [
    "hand_selected_pix = [[800, 550], [350, 650]]\n",
    "hand_selected_coords = w.pixel_to_world(*hand_selected_pix)\n",
    "print(hand_selected_coords)"
   ]
  },
  {
   "cell_type": "markdown",
   "metadata": {},
   "source": [
    "Perfom the inverse transformation - from sky to detector coordinates."
   ]
  },
  {
   "cell_type": "code",
   "execution_count": null,
   "metadata": {},
   "outputs": [],
   "source": [
    "w.world_to_pixel(hand_selected_coords)"
   ]
  },
  {
   "cell_type": "code",
   "execution_count": null,
   "metadata": {},
   "outputs": [],
   "source": [
    "# generate random positions in pixel coordinates:\n",
    "np.random.seed(10)\n",
    "n_random_points = 50\n",
    "angles = np.random.uniform(0, 2*np.pi, size=n_random_points)\n",
    "radii = 250 * np.arccos(np.random.uniform(size=n_random_points))\n",
    "\n",
    "random_pixel_coords = np.vstack([radii * np.cos(angles) + 512, radii * np.sin(angles) + 512])\n",
    "\n",
    "# convert these pixel coordinates to world coordinates:\n",
    "random_world_coords = w.pixel_to_world(*random_pixel_coords)"
   ]
  },
  {
   "cell_type": "markdown",
   "metadata": {},
   "source": [
    "We can plot the random and hand-selected coordinates like so:"
   ]
  },
  {
   "cell_type": "code",
   "execution_count": null,
   "metadata": {},
   "outputs": [],
   "source": [
    "fig = plt.figure(figsize=(8, 8))\n",
    "ax = fig.add_subplot(projection=w)\n",
    "\n",
    "# Create an ImageNormalize object\n",
    "norm = ImageNormalize(\n",
    "    image_file[1].data, \n",
    "    interval=MinMaxInterval(),                      \n",
    "    stretch=AsinhStretch(0.5e-3)\n",
    ")\n",
    "\n",
    "ax.imshow(\n",
    "    image_file[1].data, \n",
    "    origin='lower', \n",
    "    cmap='Greys_r', \n",
    "    norm=norm\n",
    ")\n",
    "ax.grid(ls=':')\n",
    "\n",
    "# Plot hand-selected events\n",
    "ax.scatter(\n",
    "    hand_selected_pix[0], hand_selected_pix[1],\n",
    "    s=500,\n",
    "    # transform=ax.get_transform('world'),\n",
    "    facecolor='none', linewidth=2, color='red'\n",
    ")\n",
    "\n",
    "# plot random coordinates\n",
    "ax.scatter(\n",
    "    random_pixel_coords[0], random_pixel_coords[1],\n",
    "    s=500,\n",
    "    # transform=ax.get_transform('world'),\n",
    "    facecolor='none', linewidth=2, color='DodgerBlue'\n",
    ")"
   ]
  },
  {
   "cell_type": "markdown",
   "metadata": {},
   "source": [
    "### Find closest matching coordinate on the sky to the hand-selected event coordinates\n",
    "\n",
    "A common astronomical problem is matching a set of coordinates that you have with a set of coordinates in a catalog. In this example, we'll randomly generate a series of solar coordinates, and match hand-selected coordinates to the random catalog to demonstrate this functionality."
   ]
  },
  {
   "cell_type": "code",
   "execution_count": null,
   "metadata": {},
   "outputs": [],
   "source": [
    "# Match coordinates in the hand-selected list against the random sky coord list\n",
    "idx, sep2d, _ = hand_selected_coords.match_to_catalog_sky(random_world_coords)"
   ]
  },
  {
   "cell_type": "markdown",
   "metadata": {},
   "source": [
    "We can see the on-sky seperation angle between the best matches in the `random_sky_coords` list, and the hand-selected coords:"
   ]
  },
  {
   "cell_type": "code",
   "execution_count": null,
   "metadata": {},
   "outputs": [],
   "source": [
    "sep2d"
   ]
  },
  {
   "cell_type": "markdown",
   "metadata": {},
   "source": [
    "Now let's plot just the best-matching random coords and the hand-selected ones:"
   ]
  },
  {
   "cell_type": "code",
   "execution_count": null,
   "metadata": {},
   "outputs": [],
   "source": [
    "fig = plt.figure(figsize=(8, 8))\n",
    "ax = fig.add_subplot(projection=w)\n",
    "\n",
    "# Create an ImageNormalize object\n",
    "norm = ImageNormalize(\n",
    "    image_file[1].data, \n",
    "    interval=MinMaxInterval(),                      \n",
    "    stretch=AsinhStretch(0.5e-3)\n",
    ")\n",
    "\n",
    "ax.imshow(\n",
    "    image_file[1].data, \n",
    "    origin='lower', \n",
    "    cmap='Greys_r', \n",
    "    norm=norm\n",
    ")\n",
    "ax.grid(ls=':')\n",
    "\n",
    "# Plot hand-selected events\n",
    "ax.scatter(\n",
    "    hand_selected_pix[0], hand_selected_pix[1],\n",
    "    s=500,\n",
    "    facecolor='none', linewidth=2, color='red'\n",
    ")\n",
    "\n",
    "# plot closest-matching random coordinates\n",
    "ax.scatter(\n",
    "    random_pixel_coords[0][idx], random_pixel_coords[1][idx],\n",
    "    s=500,\n",
    "    facecolor='none', linewidth=2, color='lime'\n",
    ")"
   ]
  },
  {
   "cell_type": "markdown",
   "metadata": {},
   "source": [
    "We can also specify the solar coordinates of interest directly and plot them using the ``transform`` kwarg:"
   ]
  },
  {
   "cell_type": "code",
   "execution_count": null,
   "metadata": {},
   "outputs": [],
   "source": [
    "solar_origin = SkyCoord(0*u.deg, 0*u.deg, frame=Helioprojective)\n",
    "\n",
    "fig = plt.figure(figsize=(8, 8))\n",
    "ax = fig.add_subplot(projection=w)\n",
    "\n",
    "# Create an ImageNormalize object\n",
    "norm = ImageNormalize(\n",
    "    image_file[1].data, \n",
    "    interval=MinMaxInterval(),                      \n",
    "    stretch=AsinhStretch(0.5e-3)\n",
    ")\n",
    "\n",
    "ax.imshow(\n",
    "    image_file[1].data, \n",
    "    origin='lower', \n",
    "    cmap='Greys_r', \n",
    "    norm=norm\n",
    ")\n",
    "ax.grid(ls=':')\n",
    "\n",
    "ax.scatter(\n",
    "    solar_origin.Tx, solar_origin.Ty,\n",
    "    s=500,\n",
    "    facecolor='none', linewidth=2, color='r',\n",
    "    transform=ax.get_transform('world'),\n",
    ")"
   ]
  },
  {
   "cell_type": "code",
   "execution_count": null,
   "metadata": {},
   "outputs": [],
   "source": []
  }
 ],
 "metadata": {
  "anaconda-cloud": {},
  "kernelspec": {
   "display_name": "Python 3",
   "language": "python",
   "name": "python3"
  },
  "language_info": {
   "codemirror_mode": {
    "name": "ipython",
    "version": 3
   },
   "file_extension": ".py",
   "mimetype": "text/x-python",
   "name": "python",
   "nbconvert_exporter": "python",
   "pygments_lexer": "ipython3",
   "version": "3.8.8"
  }
 },
 "nbformat": 4,
 "nbformat_minor": 4
}
