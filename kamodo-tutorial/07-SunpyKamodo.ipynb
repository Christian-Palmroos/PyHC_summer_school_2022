{
 "cells": [
  {
   "cell_type": "markdown",
   "id": "04ae5b9f",
   "metadata": {},
   "source": [
    "Here is how you would normally work with SkyCoord objects"
   ]
  },
  {
   "cell_type": "code",
   "execution_count": 2,
   "id": "aeed2987",
   "metadata": {},
   "outputs": [
    {
     "data": {
      "text/plain": [
       "((7, 5), (7, 5))"
      ]
     },
     "execution_count": 2,
     "metadata": {},
     "output_type": "execute_result"
    }
   ],
   "source": [
    "import numpy as np\n",
    "lon = np.linspace(0, 5, 5)\n",
    "lat = np.linspace(0, 5, 7)\n",
    "\n",
    "llon, llat = np.meshgrid(lon, lat)\n",
    "\n",
    "llon.shape, llat.shape"
   ]
  },
  {
   "cell_type": "code",
   "execution_count": 3,
   "id": "1bb6adbd",
   "metadata": {},
   "outputs": [],
   "source": [
    "from astropy.coordinates import SkyCoord\n",
    "import sunpy.coordinates # needed to find sunpy coordinate frames"
   ]
  },
  {
   "cell_type": "code",
   "execution_count": 4,
   "id": "409402ce",
   "metadata": {},
   "outputs": [],
   "source": [
    "hpc = SkyCoord(llon, llat,\n",
    "               unit='arcsec',\n",
    "               obstime=\"2020/12/15T00:00:00\",\n",
    "               observer=\"earth\",\n",
    "               frame=\"helioprojective\")\n",
    "\n",
    "hgs = hpc.transform_to(\"heliographic_stonyhurst\")\n",
    "xvals = hgs.cartesian.x.value\n",
    "yvals = hgs.cartesian.y.value\n",
    "zvals = hgs.cartesian.z.value\n",
    "points = np.array([xvals, yvals, zvals])"
   ]
  },
  {
   "cell_type": "code",
   "execution_count": 5,
   "id": "31d7c746",
   "metadata": {},
   "outputs": [
    {
     "data": {
      "text/plain": [
       "(3, 7, 5)"
      ]
     },
     "execution_count": 5,
     "metadata": {},
     "output_type": "execute_result"
    }
   ],
   "source": [
    "points.shape"
   ]
  },
  {
   "cell_type": "markdown",
   "id": "d3462ab8",
   "metadata": {},
   "source": [
    "Here is how you would do this using the new `SkyKamodo` interface"
   ]
  },
  {
   "cell_type": "code",
   "execution_count": 6,
   "id": "0aed8c5f",
   "metadata": {},
   "outputs": [],
   "source": [
    "from sunpy_kamodo.transforms import SkyKamodo\n",
    "\n",
    "sky = SkyKamodo(to_frame='HeliographicStonyhurst', from_frame='Helioprojective')\n",
    "points_ = sky.xvec_HGS__HPC(llon, llat, '2020/12/15T00:00:00') "
   ]
  },
  {
   "cell_type": "code",
   "execution_count": 7,
   "id": "e25a55e5",
   "metadata": {},
   "outputs": [],
   "source": [
    "assert (points_ == points).all() # check that the results match"
   ]
  },
  {
   "cell_type": "code",
   "execution_count": 8,
   "id": "7f5d4cba",
   "metadata": {},
   "outputs": [
    {
     "name": "stdout",
     "output_type": "stream",
     "text": [
      "Help on function xvec_HGS__HPC in module sunpy_kamodo.transforms:\n",
      "\n",
      "xvec_HGS__HPC(alpha_HPC, delta_HPC, t_unix)\n",
      "    Converts from Earth Helioprojective to Earth Cartesian HeliographicStonyhurst\n",
      "\n"
     ]
    }
   ],
   "source": [
    "help(sky.xvec_HGS__HPC)"
   ]
  },
  {
   "cell_type": "markdown",
   "id": "643effe4",
   "metadata": {},
   "source": [
    "The SkyKamodo class can be used to register multiple coordinate transformations at once.\n"
   ]
  },
  {
   "cell_type": "code",
   "execution_count": 1,
   "id": "6273b7ac",
   "metadata": {},
   "outputs": [],
   "source": [
    "from sunpy_kamodo.transforms import SkyKamodo"
   ]
  },
  {
   "cell_type": "code",
   "execution_count": 4,
   "id": "a10aee15",
   "metadata": {},
   "outputs": [
    {
     "name": "stdout",
     "output_type": "stream",
     "text": [
      "Help on function __init__ in module sunpy_kamodo.transforms:\n",
      "\n",
      "__init__(self, to_frame, from_frame, from_units='arcsec', representation_type='cartesian', to_observer='earth', from_observer='earth', verbose=False, **kwargs)\n",
      "    Register transformations between Sunpy Coordinate systems\n",
      "\n"
     ]
    }
   ],
   "source": [
    "help(SkyKamodo.__init__)"
   ]
  },
  {
   "cell_type": "code",
   "execution_count": null,
   "id": "970849e3",
   "metadata": {},
   "outputs": [],
   "source": []
  }
 ],
 "metadata": {
  "jupytext": {
   "formats": "ipynb,md"
  },
  "kernelspec": {
   "display_name": "Python 3 (ipykernel)",
   "language": "python",
   "name": "python3"
  },
  "language_info": {
   "codemirror_mode": {
    "name": "ipython",
    "version": 3
   },
   "file_extension": ".py",
   "mimetype": "text/x-python",
   "name": "python",
   "nbconvert_exporter": "python",
   "pygments_lexer": "ipython3",
   "version": "3.7.12"
  }
 },
 "nbformat": 4,
 "nbformat_minor": 5
}
