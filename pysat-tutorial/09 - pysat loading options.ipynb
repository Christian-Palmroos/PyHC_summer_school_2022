{
 "cells": [
  {
   "cell_type": "markdown",
   "id": "1b6cd190",
   "metadata": {},
   "source": [
    "# Demo of loading options"
   ]
  },
  {
   "cell_type": "code",
   "execution_count": null,
   "id": "7550968c",
   "metadata": {
    "scrolled": true
   },
   "outputs": [],
   "source": [
    "import datetime as dt\n",
    "import pandas as pds"
   ]
  },
  {
   "cell_type": "code",
   "execution_count": null,
   "id": "a8ef56db",
   "metadata": {
    "scrolled": true
   },
   "outputs": [],
   "source": [
    "import pysat"
   ]
  },
  {
   "cell_type": "code",
   "execution_count": null,
   "id": "9b4a8340",
   "metadata": {
    "scrolled": true
   },
   "outputs": [],
   "source": [
    "# All of the examples work with any of the Instrument types below.\n",
    "\n",
    "# Basic test instrument, pandas format\n",
    "inst = pysat.Instrument('pysat', 'testing')\n",
    "\n",
    "# Basic test instrument, xarray format\n",
    "# inst = pysat.Instrument('pysat', 'testing_xarray')\n",
    "\n",
    "# Basic test model, xarray format\n",
    "# inst = pysat.Instrument('pysat', 'testmodel', tag='pressure_levels')"
   ]
  },
  {
   "cell_type": "markdown",
   "id": "3c58fd9c",
   "metadata": {},
   "source": [
    "# Load by year, day of year"
   ]
  },
  {
   "cell_type": "code",
   "execution_count": null,
   "id": "660bc85f",
   "metadata": {
    "scrolled": true
   },
   "outputs": [],
   "source": [
    "# Load by year, doy\n",
    "inst.load(2009, 1, use_header=True)"
   ]
  },
  {
   "cell_type": "code",
   "execution_count": null,
   "id": "b1a7ba66",
   "metadata": {
    "scrolled": true
   },
   "outputs": [],
   "source": [
    "# Load a range of data. Inclusive first input, exclusive second.\n",
    "# Keywords starting with `end_` are exclusing.\n",
    "# This load is equivalent to one above.\n",
    "inst.load(2009, 1, end_yr=2009, end_doy=2, use_header=True)\n",
    "inst.data"
   ]
  },
  {
   "cell_type": "code",
   "execution_count": null,
   "id": "66c9181b",
   "metadata": {
    "scrolled": true
   },
   "outputs": [],
   "source": [
    "# Load a range of data. Inclusive first input, exclusive second.\n",
    "# Keywords starting with `end_` are exclusing.\n",
    "# This loads two days of data.\n",
    "inst.load(2009, 1, end_yr=2009, end_doy=3, use_header=True)\n",
    "inst.data"
   ]
  },
  {
   "cell_type": "markdown",
   "id": "3ab0070f",
   "metadata": {},
   "source": [
    "# Load by datetime(s)"
   ]
  },
  {
   "cell_type": "code",
   "execution_count": null,
   "id": "ca9a2c19",
   "metadata": {
    "scrolled": true
   },
   "outputs": [],
   "source": [
    "# Load by date\n",
    "inst.load(date=dt.datetime(2009, 1, 1), use_header=True)\n",
    "inst.data"
   ]
  },
  {
   "cell_type": "code",
   "execution_count": null,
   "id": "0e093495",
   "metadata": {
    "scrolled": true
   },
   "outputs": [],
   "source": [
    "# Load by range of dates\n",
    "inst.load(date=dt.datetime(2009, 1, 1), end_date=dt.datetime(2009, 1, 3), use_header=True)\n",
    "inst.data"
   ]
  },
  {
   "cell_type": "markdown",
   "id": "21a64471",
   "metadata": {},
   "source": [
    "# Load by filename(s)"
   ]
  },
  {
   "cell_type": "code",
   "execution_count": null,
   "id": "7e8fe967",
   "metadata": {
    "scrolled": true
   },
   "outputs": [],
   "source": [
    "inst.load(fname=inst.files.files[0], use_header=True)\n",
    "inst.data"
   ]
  },
  {
   "cell_type": "code",
   "execution_count": null,
   "id": "db9184fa",
   "metadata": {
    "scrolled": true
   },
   "outputs": [],
   "source": [
    "# Filename bounds are inclusive for both ends\n",
    "# Keywords ending with `stop_` are inclusive.\n",
    "inst.load(fname=inst.files.files[0], stop_fname=inst.files.files[1], use_header=True)\n",
    "inst.data"
   ]
  },
  {
   "cell_type": "markdown",
   "id": "cdb029da",
   "metadata": {},
   "source": [
    "# Load All Data"
   ]
  },
  {
   "cell_type": "code",
   "execution_count": null,
   "id": "46bbcb60",
   "metadata": {
    "scrolled": true
   },
   "outputs": [],
   "source": [
    "# Create new Instrument test object with limited file range to demonstrate loading all data\n",
    "inst = pysat.Instrument('pysat', 'testing', file_date_range=[dt.datetime(2019, 1, 1), dt.datetime(2019, 1, 3)])\n",
    "\n",
    "# Load all simulated data\n",
    "inst.load(use_header=True)\n",
    "\n",
    "# Print to Jupyter\n",
    "inst.data"
   ]
  },
  {
   "cell_type": "markdown",
   "id": "7a4bd188",
   "metadata": {},
   "source": [
    "# Custom instrument module keywords"
   ]
  },
  {
   "cell_type": "code",
   "execution_count": null,
   "id": "aee71b94",
   "metadata": {
    "scrolled": true
   },
   "outputs": [],
   "source": [
    "# Keywords may be passed to underlying instrument support modules via pysat. Keywords passed like\n",
    "# this only apply for a single function call.\n",
    "inst.load(2009, 1, num_samples=10, use_header=True)\n",
    "inst.data"
   ]
  },
  {
   "cell_type": "code",
   "execution_count": null,
   "id": "4312368e",
   "metadata": {
    "scrolled": true
   },
   "outputs": [],
   "source": [
    "# Keywords may also be supplied at instantiation. These values persist.\n",
    "inst = pysat.Instrument('pysat', 'testing', num_samples=10)\n",
    "inst.load(2009, 1, use_header=True)\n",
    "inst.data"
   ]
  },
  {
   "cell_type": "code",
   "execution_count": null,
   "id": "480c1e93",
   "metadata": {
    "scrolled": true
   },
   "outputs": [],
   "source": [
    "# `num_samples` may be modified on subsequent load calls, but, unless otherwise specified, `num_samples`\n",
    "# will return to the value at instantiation.\n",
    "inst.load(2009, 1, use_header=True, num_samples=3)\n",
    "inst.data"
   ]
  },
  {
   "cell_type": "code",
   "execution_count": null,
   "id": "35693e7b",
   "metadata": {
    "scrolled": true
   },
   "outputs": [],
   "source": [
    "# Confirmation that `num_samples` consistent with instantiation value\n",
    "inst.load(2009, 1, use_header=True)\n",
    "inst.data"
   ]
  },
  {
   "cell_type": "code",
   "execution_count": null,
   "id": "36c68699",
   "metadata": {
    "scrolled": true
   },
   "outputs": [],
   "source": [
    "# Note the `Data Processing` section below. pyast passes supplied keywords to the appropriate methods.\n",
    "print(inst)"
   ]
  },
  {
   "cell_type": "code",
   "execution_count": null,
   "id": "da049cf3",
   "metadata": {
    "scrolled": true
   },
   "outputs": [],
   "source": [
    "# All keywords in the instrument support module identified by pysat are stored as `kwargs_supported` attribute\n",
    "for key in inst.kwargs_supported:\n",
    "    print('Keywords for Instrument method: ', key)\n",
    "    print('\\t', repr(inst.kwargs_supported[key]), '\\n')"
   ]
  },
  {
   "cell_type": "markdown",
   "id": "d52d220e",
   "metadata": {},
   "source": [
    "# Data Padding for Time-Based Calculations"
   ]
  },
  {
   "cell_type": "code",
   "execution_count": null,
   "id": "3dcd85a5",
   "metadata": {
    "scrolled": true
   },
   "outputs": [],
   "source": [
    "# Some calculations in time require a 'spin-up'/'spin-down' for full accuracy. For example, a standard\n",
    "# deviation over 30 seconds requires 30 seconds of data. For a centered standard deviation this is a \n",
    "# challenge for the first sample in a day. There isn't a preceding 15 seconds of data. To make accurate \n",
    "# time based calculations easy, pysat can load buffer data from the next/prev today, \n",
    "# join it with the current days data, then run the custom functions,\n",
    "# and finally, pysat removes the buffer data, leaving just the desired time range.\n",
    "# This happens in the background and requires no explicit support by any instrument module developer.\n",
    "\n",
    "# Define data padding window\n",
    "pad = pds.DateOffset(seconds=30)\n",
    "\n",
    "# Instantiate instrument with padding information. \n",
    "inst = pysat.Instrument('pysat', 'testing', pad=pad)\n",
    "\n",
    "# Load data. The `verifyPad` keyword, if True, retains\n",
    "# the padded data. Default is False.\n",
    "inst.load(2009, 1, verifyPad=False, use_header=True)\n",
    "\n",
    "# Use Jupyter to display data\n",
    "inst.data"
   ]
  },
  {
   "cell_type": "code",
   "execution_count": null,
   "id": "e83be46c",
   "metadata": {
    "scrolled": true
   },
   "outputs": [],
   "source": []
  }
 ],
 "metadata": {
  "kernelspec": {
   "display_name": "Python 3 (ipykernel)",
   "language": "python",
   "name": "python3"
  },
  "language_info": {
   "codemirror_mode": {
    "name": "ipython",
    "version": 3
   },
   "file_extension": ".py",
   "mimetype": "text/x-python",
   "name": "python",
   "nbconvert_exporter": "python",
   "pygments_lexer": "ipython3",
   "version": "3.9.7"
  }
 },
 "nbformat": 4,
 "nbformat_minor": 5
}
