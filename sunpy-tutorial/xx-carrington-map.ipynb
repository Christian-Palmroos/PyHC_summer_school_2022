{
 "cells": [
  {
   "cell_type": "code",
   "execution_count": null,
   "metadata": {
    "collapsed": false,
    "jupyter": {
     "outputs_hidden": false
    }
   },
   "outputs": [],
   "source": [
    "%matplotlib inline"
   ]
  },
  {
   "cell_type": "markdown",
   "metadata": {},
   "source": [
    "\n",
    "# Creating a Full Sun Map with AIA and EUVI\n",
    "\n",
    "With SDO/AIA and STEREO/A and STEREO/B, it is now possible (given specific dates)\n",
    "to combine combine three EUV images from these satellites\n",
    "to produce a full latitude / longitude map of the Sun.\n",
    "\n",
    "You will need an active internet connection as well as\n",
    "`reproject <https://reproject.readthedocs.io/en/stable/>`__ v0.6 or higher installed.\n"
   ]
  },
  {
   "cell_type": "code",
   "execution_count": null,
   "metadata": {
    "collapsed": false,
    "jupyter": {
     "outputs_hidden": false
    }
   },
   "outputs": [],
   "source": [
    "import matplotlib.pyplot as plt\n",
    "import numpy as np\n",
    "from reproject import reproject_interp\n",
    "from reproject.mosaicking import reproject_and_coadd\n",
    "import glob\n",
    "\n",
    "import astropy.units as u\n",
    "from astropy.coordinates import SkyCoord\n",
    "from astropy.wcs import WCS\n",
    "\n",
    "import sunpy.map\n",
    "import sunpy.sun\n",
    "from sunpy.coordinates import get_body_heliographic_stonyhurst\n",
    "from sunpy.net import Fido\n",
    "from sunpy.net import attrs as a"
   ]
  },
  {
   "cell_type": "code",
   "execution_count": null,
   "metadata": {
    "collapsed": false,
    "jupyter": {
     "outputs_hidden": false
    }
   },
   "outputs": [],
   "source": [
    "aia_files = sorted(glob.glob('data/AIA/*.fits'))\n",
    "stereo_files = sorted(glob.glob('data/SECCHI/*.fts'))\n",
    "eui_files = sorted(glob.glob('data/EUI/*.fits'))"
   ]
  },
  {
   "cell_type": "code",
   "execution_count": null,
   "metadata": {
    "collapsed": false,
    "jupyter": {
     "outputs_hidden": false
    }
   },
   "outputs": [],
   "source": [
    "m_aia, m_stereo, m_eui = sunpy.map.Map(aia_files[6], stereo_files[6], eui_files[2])\n",
    "m_aia /= m_aia.exposure_time\n",
    "m_stereo /= m_stereo.exposure_time"
   ]
  },
  {
   "cell_type": "markdown",
   "metadata": {},
   "source": [
    "When combining these images all three need to assume the same radius of\n",
    "the Sun for the data. The AIA images specify a slightly different value\n",
    "than the IAU 2015 constant. To avoid coordinate transformation issues we\n",
    "reset this here.\n",
    "\n"
   ]
  },
  {
   "cell_type": "code",
   "execution_count": null,
   "metadata": {
    "collapsed": false,
    "jupyter": {
     "outputs_hidden": false
    }
   },
   "outputs": [],
   "source": [
    "m_stereo.meta['rsun_ref'] = sunpy.sun.constants.radius.to_value(u.m)"
   ]
  },
  {
   "cell_type": "markdown",
   "metadata": {},
   "source": [
    "Next we will plot the locations of the three spacecraft with respect to\n",
    "the Sun so we can easily see the relative separations.\n",
    "\n"
   ]
  },
  {
   "cell_type": "markdown",
   "metadata": {},
   "source": [
    "The next step is to calculate the output coordinate system for the combined\n",
    "map. We select a heliographic Stonyhurst frame, and a Plate Carree (CAR)\n",
    "projection, and generate a header using `sunpy.map.make_fitswcs_header` and\n",
    "then construct a World Coordinate System (WCS) object for that header.\n",
    "\n"
   ]
  },
  {
   "cell_type": "code",
   "execution_count": null,
   "metadata": {
    "collapsed": false,
    "jupyter": {
     "outputs_hidden": false
    }
   },
   "outputs": [],
   "source": [
    "shape_out = (180, 360)  # This is set deliberately low to reduce memory consumption\n",
    "header = sunpy.map.make_fitswcs_header(shape_out,\n",
    "                                       SkyCoord(0, 0, unit=u.deg,\n",
    "                                                frame=\"heliographic_stonyhurst\",\n",
    "                                                obstime=m_aia.date),\n",
    "                                       scale=[360 / shape_out[1],\n",
    "                                              180 / shape_out[0]] * u.deg / u.pix,\n",
    "                                       wavelength=int(m_aia.meta['wavelnth']) * u.AA,\n",
    "                                       projection_code=\"CAR\")\n",
    "out_wcs = WCS(header)"
   ]
  },
  {
   "cell_type": "markdown",
   "metadata": {},
   "source": [
    "Next we call the `reproject.mosaicking.reproject_and_coadd` function, which\n",
    "takes a list of maps, and the desired output WCS and array shape.\n",
    "\n"
   ]
  },
  {
   "cell_type": "code",
   "execution_count": null,
   "metadata": {
    "collapsed": false,
    "jupyter": {
     "outputs_hidden": false
    }
   },
   "outputs": [],
   "source": [
    "array, footprint = reproject_and_coadd([m_aia, m_stereo, m_eui], out_wcs, shape_out,\n",
    "                                       reproject_function=reproject_interp)"
   ]
  },
  {
   "cell_type": "markdown",
   "metadata": {},
   "source": [
    "To display the output we construct a new map using the new array and our\n",
    "generated header. We also borrow the plot settings from the AIA map.\n",
    "\n"
   ]
  },
  {
   "cell_type": "code",
   "execution_count": null,
   "metadata": {
    "collapsed": false,
    "jupyter": {
     "outputs_hidden": false
    }
   },
   "outputs": [],
   "source": [
    "outmap = sunpy.map.Map((array, header))\n",
    "outmap.plot_settings = m_aia.plot_settings\n",
    "\n",
    "plt.figure()\n",
    "outmap.plot()\n",
    "\n",
    "plt.show()"
   ]
  },
  {
   "cell_type": "markdown",
   "metadata": {
    "tags": []
   },
   "source": [
    "## Improving the Output\n",
    "\n",
    "As you can see this leaves a little to be desired. To reduce the obvious\n",
    "warping towards the points which are close to the limb in the input\n",
    "images, we can define a set of weights to use when co-adding the output\n",
    "arrays. To reduce this warping we want to calculate an set of weights\n",
    "which highly weigh points close to the centre of the disk in the input\n",
    "image.\n",
    "\n",
    "We can achieve this by using sunpy's coordinate framework. First we\n",
    "calculate all the world coordinates for all the pixels in all three\n",
    "input maps.\n",
    "\n"
   ]
  },
  {
   "cell_type": "code",
   "execution_count": null,
   "metadata": {},
   "outputs": [],
   "source": [
    "maps = [m_aia, m_stereo, m_eui]"
   ]
  },
  {
   "cell_type": "code",
   "execution_count": null,
   "metadata": {
    "collapsed": false,
    "jupyter": {
     "outputs_hidden": false
    }
   },
   "outputs": [],
   "source": [
    "coordinates = tuple(map(sunpy.map.all_coordinates_from_map, maps))"
   ]
  },
  {
   "cell_type": "markdown",
   "metadata": {},
   "source": [
    "To get a weighting which is high close to disk centre and low towards\n",
    "the limb, we can use the Z coordinate in the heliocentric frame. This\n",
    "coordinate is the distance of the sphere from the centre of the Sun\n",
    "towards the observer.\n",
    "\n"
   ]
  },
  {
   "cell_type": "code",
   "execution_count": null,
   "metadata": {
    "collapsed": false,
    "jupyter": {
     "outputs_hidden": false
    }
   },
   "outputs": [],
   "source": [
    "weights = [coord.transform_to(\"heliocentric\").z.value for coord in coordinates]"
   ]
  },
  {
   "cell_type": "markdown",
   "metadata": {},
   "source": [
    "These weights are good, but they are better if the ramp down is a little\n",
    "smoother, and more biased to the centre. Also we can scale them to the\n",
    "range 0-1, and set any off disk (NaN) regions to 0.\n",
    "\n"
   ]
  },
  {
   "cell_type": "code",
   "execution_count": null,
   "metadata": {
    "collapsed": false,
    "jupyter": {
     "outputs_hidden": false
    }
   },
   "outputs": [],
   "source": [
    "weights = [(w / np.nanmax(w)) ** 1.5 for w in weights]\n",
    "for w in weights:\n",
    "    w[np.isnan(w)] = 0\n",
    "\n",
    "plt.figure()\n",
    "plt.imshow(weights[0])\n",
    "plt.colorbar()\n",
    "\n",
    "plt.show()"
   ]
  },
  {
   "cell_type": "markdown",
   "metadata": {},
   "source": [
    "Now we can rerun the reprojection. This time we also set\n",
    "``match_background=True`` which scales the images by a single scaling\n",
    "factor so they are of similar brightness. We also set\n",
    "``background_reference=0`` which uses the AIA map as the reference for\n",
    "the background scaling.\n",
    "\n",
    "Here we are using the fastest but least accurate method of reprojection,\n",
    "`reproject.reproject_interp`, a more accurate but slower method is\n",
    "`reproject.reproject_adaptive`.\n",
    "\n"
   ]
  },
  {
   "cell_type": "code",
   "execution_count": null,
   "metadata": {
    "collapsed": false,
    "jupyter": {
     "outputs_hidden": false
    }
   },
   "outputs": [],
   "source": [
    "array, _ = reproject_and_coadd(maps, out_wcs, shape_out,\n",
    "                               input_weights=weights,\n",
    "                               reproject_function=reproject_interp,\n",
    "                               match_background=True,\n",
    "                               background_reference=0)"
   ]
  },
  {
   "cell_type": "markdown",
   "metadata": {},
   "source": [
    "Once again we create a new map, and this time we customise the plot a\n",
    "little.\n",
    "\n"
   ]
  },
  {
   "cell_type": "code",
   "execution_count": null,
   "metadata": {
    "collapsed": false,
    "jupyter": {
     "outputs_hidden": false
    }
   },
   "outputs": [],
   "source": [
    "outmap = sunpy.map.Map((array, header))\n",
    "outmap.plot_settings = maps[0].plot_settings\n",
    "outmap.nickname = 'AIA + EUVI/A + EUI'\n",
    "\n",
    "fig = plt.figure(figsize=(10, 5))\n",
    "ax = fig.add_subplot(projection=out_wcs)\n",
    "im = outmap.plot(axes=ax)\n",
    "\n",
    "lon, lat = ax.coords\n",
    "lon.set_coord_type(\"longitude\")\n",
    "lon.coord_wrap = 180\n",
    "lon.set_format_unit(u.deg)\n",
    "lat.set_coord_type(\"latitude\")\n",
    "lat.set_format_unit(u.deg)\n",
    "\n",
    "lon.set_axislabel('Heliographic Longitude', minpad=0.8)\n",
    "lat.set_axislabel('Heliographic Latitude', minpad=0.9)\n",
    "lon.set_ticks(spacing=25*u.deg, color='k')\n",
    "lat.set_ticks(spacing=15*u.deg, color='k')\n",
    "\n",
    "plt.colorbar(im, ax=ax)\n",
    "\n",
    "# Reset the view to pixel centers\n",
    "_ = ax.axis((0, shape_out[1], 0, shape_out[0]))\n",
    "\n",
    "m_aia.draw_limb(axes=ax, color=\"y\")\n",
    "m_stereo.draw_limb(axes=ax, color=\"g\")\n",
    "m_eui.draw_limb(axes=ax, color=\"b\")\n",
    "\n",
    "plt.show()"
   ]
  },
  {
   "cell_type": "code",
   "execution_count": null,
   "metadata": {},
   "outputs": [],
   "source": [
    "m_eui.observer_coordinate"
   ]
  },
  {
   "cell_type": "code",
   "execution_count": null,
   "metadata": {},
   "outputs": [],
   "source": [
    "m_aia.observer_coordinate"
   ]
  },
  {
   "cell_type": "code",
   "execution_count": null,
   "metadata": {},
   "outputs": [],
   "source": [
    "m_stereo.observer_coordinate"
   ]
  }
 ],
 "metadata": {
  "kernelspec": {
   "display_name": "Python [conda env:pyhc-summer-school]",
   "language": "python",
   "name": "conda-env-pyhc-summer-school-py"
  },
  "language_info": {
   "codemirror_mode": {
    "name": "ipython",
    "version": 3
   },
   "file_extension": ".py",
   "mimetype": "text/x-python",
   "name": "python",
   "nbconvert_exporter": "python",
   "pygments_lexer": "ipython3",
   "version": "3.9.12"
  }
 },
 "nbformat": 4,
 "nbformat_minor": 4
}
