{
 "cells": [
  {
   "cell_type": "markdown",
   "id": "arctic-crawford",
   "metadata": {},
   "source": [
    "# Introduction to coordinates\n",
    "Albert Y. Shih (`sunpy.coordinates` lead maintainer)"
   ]
  },
  {
   "cell_type": "markdown",
   "id": "biological-browser",
   "metadata": {},
   "source": [
    "The `sunpy.coordinates` sub-package contains:\n",
    "\n",
    "* A robust framework for working with solar-physics coordinate systems\n",
    "* Functions to obtain the locations of solar-system bodies (`sunpy.coordinates.ephemeris`)\n",
    "* Functions to calculate Sun-specific coordinate information (`sunpy.coordinates.sun`)\n",
    "\n",
    "The [SunPy coordinate framework](https://docs.sunpy.org/en/stable/code_ref/coordinates/) extends the [Astropy coordinates framework](https://docs.astropy.org/en/stable/coordinates/)."
   ]
  },
  {
   "cell_type": "markdown",
   "id": "functional-multimedia",
   "metadata": {},
   "source": [
    "The following diagram shows coordinate systems commonly used in solar physics and how they are connected to each other through transformations:"
   ]
  },
  {
   "cell_type": "code",
   "execution_count": 1,
   "id": "electrical-stevens",
   "metadata": {},
   "outputs": [
    {
     "ename": "ModuleNotFoundError",
     "evalue": "No module named 'graphviz'",
     "output_type": "error",
     "traceback": [
      "\u001b[0;31m---------------------------------------------------------------------------\u001b[0m",
      "\u001b[0;31mModuleNotFoundError\u001b[0m                       Traceback (most recent call last)",
      "Input \u001b[0;32mIn [1]\u001b[0m, in \u001b[0;36m<cell line: 2>\u001b[0;34m()\u001b[0m\n\u001b[1;32m      1\u001b[0m \u001b[38;5;66;03m# This code block requires Graphviz and its Python bindings to be installed\u001b[39;00m\n\u001b[0;32m----> 2\u001b[0m \u001b[38;5;28;01mfrom\u001b[39;00m \u001b[38;5;21;01mgraphviz\u001b[39;00m \u001b[38;5;28;01mimport\u001b[39;00m Source\n\u001b[1;32m      3\u001b[0m Source(\u001b[38;5;124m\"\"\"\u001b[39m\n\u001b[1;32m      4\u001b[0m \u001b[38;5;124m    digraph \u001b[39m\u001b[38;5;124m{\u001b[39m\n\u001b[1;32m      5\u001b[0m \u001b[38;5;124m        fontname=\u001b[39m\u001b[38;5;124m\"\u001b[39m\u001b[38;5;124msans-serif\u001b[39m\u001b[38;5;124m\"\u001b[39m\n\u001b[0;32m   (...)\u001b[0m\n\u001b[1;32m     86\u001b[0m \u001b[38;5;124m        }\u001b[39m\n\u001b[1;32m     87\u001b[0m \u001b[38;5;124m    }\u001b[39m\u001b[38;5;124m\"\"\"\u001b[39m)\n",
      "\u001b[0;31mModuleNotFoundError\u001b[0m: No module named 'graphviz'"
     ]
    }
   ],
   "source": [
    "# This code block requires Graphviz and its Python bindings to be installed\n",
    "from graphviz import Source\n",
    "Source(\"\"\"\n",
    "    digraph {\n",
    "        fontname=\"sans-serif\"\n",
    "        node [fontsize=8 fontname=\"sans-serif\"]\n",
    "\n",
    "        ICRS [label=ICRS]\n",
    "        HCRS [label=HCRS]\n",
    "        HeliocentricMeanEcliptic [label=\"Heliocentric Aries Ecliptic (HAE)\"]\n",
    "        HeliographicStonyhurst [label=\"Heliographic Stonyhurst (HGS)\\nHeliocentric Earth Equatorial (HEEQ)\"]\n",
    "        HeliocentricEarthEcliptic [label=\"Heliocentric Earth Ecliptic (HEE)\"]\n",
    "        GeocentricEarthEquatorial [label=\"Geocentric Earth Equatorial (GEI)\"]\n",
    "        HeliographicCarrington [label=\"Heliographic Carrington (HGC)\"]\n",
    "        Heliocentric [label=\"Heliocentric Cartesian (HCC)\"]\n",
    "        HeliocentricInertial [label=\"Heliocentric Inertial (HCI)\"]\n",
    "        Helioprojective [label=\"Helioprojective Cartesian (HPC)\"]\n",
    "        GeocentricSolarEcliptic [label=\"Geocentric Solar Ecliptic (GSE)\"]\n",
    "        geocentric [label=\"Earth-centered frames\\n(including GEO)\" shape=box3d style=filled]\n",
    "        astropy [label=\"Other Astropy frames\" shape=box3d style=filled]\n",
    "\n",
    "        ICRS -> HCRS\n",
    "        ICRS -> HeliocentricMeanEcliptic\n",
    "        HCRS -> ICRS\n",
    "        HCRS -> HeliographicStonyhurst\n",
    "        HeliocentricMeanEcliptic -> ICRS\n",
    "        HeliocentricMeanEcliptic -> HeliocentricEarthEcliptic\n",
    "        HeliocentricMeanEcliptic -> GeocentricEarthEquatorial\n",
    "        HeliographicStonyhurst -> HeliographicCarrington\n",
    "        HeliographicStonyhurst -> Heliocentric\n",
    "        HeliographicStonyhurst -> HCRS\n",
    "        HeliographicStonyhurst -> HeliocentricInertial\n",
    "        HeliographicCarrington -> HeliographicStonyhurst\n",
    "        Heliocentric -> Helioprojective\n",
    "        Heliocentric -> HeliographicStonyhurst\n",
    "        Helioprojective -> Heliocentric\n",
    "        HeliocentricEarthEcliptic -> HeliocentricMeanEcliptic\n",
    "        HeliocentricEarthEcliptic -> GeocentricSolarEcliptic\n",
    "        GeocentricSolarEcliptic -> HeliocentricEarthEcliptic\n",
    "        HeliocentricInertial -> HeliographicStonyhurst\n",
    "        GeocentricEarthEquatorial -> HeliocentricMeanEcliptic\n",
    "        \n",
    "        subgraph cluster_astropy {\n",
    "            color=blue\n",
    "            fontcolor=blue\n",
    "            penwidth=2\n",
    "            label=<<b>Frames implemented in Astropy</b>>\n",
    "\n",
    "            ICRS\n",
    "            HCRS\n",
    "            HeliocentricMeanEcliptic\n",
    "            geocentric\n",
    "            astropy\n",
    "\n",
    "            ICRS -> geocentric\n",
    "            ICRS -> astropy\n",
    "            geocentric -> ICRS\n",
    "            astropy -> ICRS\n",
    "        }\n",
    "\n",
    "        subgraph cluster_sunpy {\n",
    "            color=crimson\n",
    "            fontcolor=crimson\n",
    "            penwidth=2\n",
    "            label=<<b>Frames implemented in SunPy</b>>\n",
    "            labeljust=r\n",
    "            labelloc=b\n",
    "\n",
    "            HeliographicStonyhurst\n",
    "            HeliocentricInertial\n",
    "            HeliocentricEarthEcliptic\n",
    "            GeocentricSolarEcliptic\n",
    "            GeocentricEarthEquatorial\n",
    "\n",
    "            subgraph cluster_sunpy11 {\n",
    "                color=chocolate\n",
    "                fontcolor=chocolate\n",
    "                label=<<b>Observer-based frames</b>>\n",
    "                labeljust=r\n",
    "                labelloc=b\n",
    "\n",
    "                HeliographicCarrington\n",
    "                Helioprojective\n",
    "                Heliocentric\n",
    "            }\n",
    "        }\n",
    "    }\"\"\")"
   ]
  },
  {
   "cell_type": "markdown",
   "id": "therapeutic-freeze",
   "metadata": {},
   "source": [
    "This transformation graph reveals some of the underlying complexity to the coordinates framework, but for normal situations, a user does not need to be aware what transformations are necessary.  Everything is taken care of \"under the hood\"!  This includes transformations between systems defined in SunPy (red box) and systems defined in Astropy (blue box)."
   ]
  },
  {
   "cell_type": "markdown",
   "id": "addressed-helicopter",
   "metadata": {},
   "source": [
    "## A coordinate frame"
   ]
  },
  {
   "cell_type": "markdown",
   "id": "dense-minimum",
   "metadata": {},
   "source": [
    "A **coordinate frame** is a specific instance, or \"realization\", of a coordinate system.  For example, Stonyhurst heliographic coordinates are defined with the following Cartesian axes:\n",
    "\n",
    "* The origin is the center of the Sun\n",
    "* The Z-axis (+90 degrees latitude) is aligned with the Sun’s north pole.\n",
    "* The X-axis (0 degrees longitude and 0 degrees latitude) is perpendicular to the Z-axis such that the XZ-plane contains the Sun-Earth line.  That is, Earth is at 0 degrees longitude (but usually not at 0 degrees latitude).\n",
    "* The Y-axis (+90 degrees longitude and 0 degrees latitude) is perpendicular to both the X-axis and the Z-axis in a right-handed fashion.\n",
    "\n",
    "Then, the coordinate frame is the realization of this definition at a particular time, which defines the position/orientation of the Sun and the position of the Earth."
   ]
  },
  {
   "cell_type": "markdown",
   "id": "accompanied-waterproof",
   "metadata": {},
   "source": [
    "Let's create a frame for Stonyhurst heliographic coordinates using SunPy's [`HeliographicStonyhurst` class](https://docs.sunpy.org/en/stable/api/sunpy.coordinates.frames.HeliographicStonyhurst.html):"
   ]
  },
  {
   "cell_type": "code",
   "execution_count": 2,
   "id": "reliable-thinking",
   "metadata": {},
   "outputs": [
    {
     "data": {
      "text/plain": [
       "<HeliographicStonyhurst Frame (obstime=2021-06-04T14:45:00.000, rsun=695700.0 km)>"
      ]
     },
     "execution_count": 2,
     "metadata": {},
     "output_type": "execute_result"
    }
   ],
   "source": [
    "from sunpy.coordinates import frames\n",
    "\n",
    "time = '2021-06-04 14:45'\n",
    "hgs_frame = frames.HeliographicStonyhurst(obstime=time)\n",
    "hgs_frame"
   ]
  },
  {
   "cell_type": "markdown",
   "id": "featured-north",
   "metadata": {},
   "source": [
    "## A coordinate and different representations"
   ]
  },
  {
   "cell_type": "markdown",
   "id": "bronze-conspiracy",
   "metadata": {},
   "source": [
    "A **coordinate** combines position data with a coordinate frame using Astropy's [SkyCoord class](https://docs.astropy.org/en/stable/api/astropy.coordinates.SkyCoord.html).  This position data can have different **representations**, e.g., spherical components or Cartesian components.  Unless a different representation type is specified, the first three (or two) positional arguments to `SkyCoord` are interpreted using the default representation, which for `HeliographicStonyhurst` is spherical components."
   ]
  },
  {
   "cell_type": "code",
   "execution_count": 3,
   "id": "median-suite",
   "metadata": {},
   "outputs": [
    {
     "data": {
      "text/plain": [
       "<SkyCoord (HeliographicStonyhurst: obstime=2021-06-04T14:45:00.000, rsun=695700.0 km): (lon, lat, radius) in (deg, deg, AU)\n",
       "    (10., 20., 1.)>"
      ]
     },
     "execution_count": 3,
     "metadata": {},
     "output_type": "execute_result"
    }
   ],
   "source": [
    "import astropy.units as u\n",
    "from astropy.coordinates import SkyCoord\n",
    "\n",
    "hgs_coord = SkyCoord(10*u.deg, 20*u.deg, 1*u.AU, frame=hgs_frame)  # longitude, latitude, and distance from the origin\n",
    "hgs_coord"
   ]
  },
  {
   "cell_type": "markdown",
   "id": "northern-asbestos",
   "metadata": {},
   "source": [
    "You can access the coordinate components through attributes:"
   ]
  },
  {
   "cell_type": "code",
   "execution_count": 4,
   "id": "focused-netherlands",
   "metadata": {},
   "outputs": [
    {
     "name": "stdout",
     "output_type": "stream",
     "text": [
      "Longitude: 10.0 deg\n",
      "Latitude: 20.0 deg\n",
      "Distance from Sun center: 1.0 AU\n"
     ]
    }
   ],
   "source": [
    "print(f\"\"\"Longitude: {hgs_coord.lon}\n",
    "Latitude: {hgs_coord.lat}\n",
    "Distance from Sun center: {hgs_coord.radius}\"\"\")"
   ]
  },
  {
   "cell_type": "markdown",
   "id": "banned-commercial",
   "metadata": {},
   "source": [
    "Stonyhurst heliographic coordinates with Cartesian components is also known as Heliocentric Earth Equatorial (HEEQ).  Here's one way to transform the above coordinate to use the Cartesian representation:"
   ]
  },
  {
   "cell_type": "code",
   "execution_count": 5,
   "id": "danish-question",
   "metadata": {},
   "outputs": [
    {
     "data": {
      "text/plain": [
       "<SkyCoord (HeliographicStonyhurst: obstime=2021-06-04T14:45:00.000, rsun=695700.0 km): (x, y, z) in AU\n",
       "    (0.92541658, 0.16317591, 0.34202014)>"
      ]
     },
     "execution_count": 5,
     "metadata": {},
     "output_type": "execute_result"
    }
   ],
   "source": [
    "hgs_coord_xyz = SkyCoord(hgs_coord, representation_type='cartesian')\n",
    "hgs_coord_xyz"
   ]
  },
  {
   "cell_type": "code",
   "execution_count": 6,
   "id": "frequent-kernel",
   "metadata": {},
   "outputs": [
    {
     "name": "stdout",
     "output_type": "stream",
     "text": [
      "X: 0.9254165783983234 AU\n",
      "Y: 0.16317591116653482 AU\n",
      "Z: 0.3420201433256687 AU\n"
     ]
    }
   ],
   "source": [
    "print(f\"\"\"X: {hgs_coord_xyz.x}\n",
    "Y: {hgs_coord_xyz.y}\n",
    "Z: {hgs_coord_xyz.z}\"\"\")"
   ]
  },
  {
   "cell_type": "markdown",
   "id": "cleared-alberta",
   "metadata": {},
   "source": [
    "Here's another example of creating a coordinate where:\n",
    "* A non-default representation type is explicitly specified, which changes how positional arguments are interpreted as components.\n",
    "* The coordinate frame is specified using a string rather than a frame instance.  Additional frame attributes (e.g., the frame time) can be specified as arguments to `SkyCoord`."
   ]
  },
  {
   "cell_type": "code",
   "execution_count": 7,
   "id": "integral-scottish",
   "metadata": {},
   "outputs": [
    {
     "data": {
      "text/plain": [
       "<SkyCoord (HeliographicStonyhurst: obstime=2021-06-04T14:45:00.000, rsun=695700.0 km): (x, y, z) in AU\n",
       "    (0.9, 0.2, 0.3)>"
      ]
     },
     "execution_count": 7,
     "metadata": {},
     "output_type": "execute_result"
    }
   ],
   "source": [
    "SkyCoord(0.9*u.AU, 0.2*u.AU, 0.3*u.AU, representation_type='cartesian',\n",
    "         frame='heliographic_stonyhurst', obstime=time)"
   ]
  },
  {
   "cell_type": "markdown",
   "id": "technical-wages",
   "metadata": {},
   "source": [
    "## Observer-based frames"
   ]
  },
  {
   "cell_type": "markdown",
   "id": "greatest-variety",
   "metadata": {},
   "source": [
    "A number of coordinate frames are **observer-based**, which means that the position of the observer is fundamental to the definition of the coordinate frame.  For example, helioprojective Cartesian coordinates are aligned such that one axis is aligned with the Sun-observer line.  Let's use the above `HeliographicStonyhurst` coordinate as the observer for a [`Helioprojective` frame](https://docs.sunpy.org/en/stable/api/sunpy.coordinates.frames.Helioprojective.html), here for 2D helioprojective coordinates (theta_x, theta_y) = (123 arcsec, 456 arcsec)."
   ]
  },
  {
   "cell_type": "code",
   "execution_count": 8,
   "id": "skilled-simon",
   "metadata": {},
   "outputs": [
    {
     "data": {
      "text/plain": [
       "<SkyCoord (Helioprojective: obstime=2021-06-04T14:45:00.000, rsun=695700.0 km, observer=<HeliographicStonyhurst Coordinate (obstime=2021-06-04T14:45:00.000, rsun=695700.0 km): (lon, lat, radius) in (deg, deg, AU)\n",
       "    (10., 20., 1.)>): (Tx, Ty) in arcsec\n",
       "    (123., 456.)>"
      ]
     },
     "execution_count": 8,
     "metadata": {},
     "output_type": "execute_result"
    }
   ],
   "source": [
    "hpc_frame = frames.Helioprojective(obstime=time, observer=hgs_coord)\n",
    "SkyCoord(123*u.arcsec, 456*u.arcsec, frame=hpc_frame)"
   ]
  },
  {
   "cell_type": "markdown",
   "id": "confident-casting",
   "metadata": {},
   "source": [
    "## Transforming a coordinate"
   ]
  },
  {
   "cell_type": "markdown",
   "id": "satisfactory-migration",
   "metadata": {},
   "source": [
    "A coordinate can be transformed to any other frame on the transformation graph.  For example, let's create a coordinate in the [Heliocentric Earth Ecliptic frame](https://docs.sunpy.org/en/stable/api/sunpy.coordinates.frames.HeliocentricEarthEcliptic.html)."
   ]
  },
  {
   "cell_type": "code",
   "execution_count": 9,
   "id": "abroad-tutorial",
   "metadata": {},
   "outputs": [
    {
     "data": {
      "text/plain": [
       "<SkyCoord (HeliocentricEarthEcliptic: obstime=2021-06-04T14:45:00.000): (x, y, z) in AU\n",
       "    (0.1, 0.2, 0.3)>"
      ]
     },
     "execution_count": 9,
     "metadata": {},
     "output_type": "execute_result"
    }
   ],
   "source": [
    "hee_coord = SkyCoord(0.1*u.AU, 0.2*u.AU, 0.3*u.AU, representation_type='cartesian',\n",
    "                     frame='heliocentricearthecliptic', obstime=time)\n",
    "hee_coord"
   ]
  },
  {
   "cell_type": "markdown",
   "id": "empirical-theorem",
   "metadata": {},
   "source": [
    "We can transform this coordinate to the [Geocentric Solar Ecliptic frame](https://docs.sunpy.org/en/stable/api/sunpy.coordinates.frames.GeocentricSolarEcliptic.html)."
   ]
  },
  {
   "cell_type": "code",
   "execution_count": 10,
   "id": "committed-headquarters",
   "metadata": {},
   "outputs": [
    {
     "data": {
      "text/plain": [
       "<SkyCoord (GeocentricSolarEcliptic: obstime=2021-06-04T14:45:00.000): (x, y, z) in AU\n",
       "    (0.91455823, -0.2, 0.3)>"
      ]
     },
     "execution_count": 10,
     "metadata": {},
     "output_type": "execute_result"
    }
   ],
   "source": [
    "gse_coord = hee_coord.transform_to('geocentricsolarecliptic')  # This coordinate defaults to spherical components\n",
    "SkyCoord(gse_coord, representation_type='cartesian')"
   ]
  },
  {
   "cell_type": "markdown",
   "id": "dimensional-interaction",
   "metadata": {},
   "source": [
    "We can also transform to (or from) an observer-based frame, such as the `Helioprojective` frame we created above."
   ]
  },
  {
   "cell_type": "code",
   "execution_count": 11,
   "id": "marked-panic",
   "metadata": {},
   "outputs": [
    {
     "data": {
      "text/plain": [
       "<SkyCoord (Helioprojective: obstime=2021-06-04T14:45:00.000, rsun=695700.0 km, observer=<HeliographicStonyhurst Coordinate (obstime=2021-06-04T14:45:00.000, rsun=695700.0 km): (lon, lat, radius) in (deg, deg, AU)\n",
       "    (10., 20., 1.)>): (Tx, Ty, distance) in (arcsec, arcsec, AU)\n",
       "    (37242.71285625, 66008.83003305, 0.82434917)>"
      ]
     },
     "execution_count": 11,
     "metadata": {},
     "output_type": "execute_result"
    }
   ],
   "source": [
    "hee_coord.transform_to(hpc_frame)"
   ]
  },
  {
   "cell_type": "markdown",
   "id": "ancient-suite",
   "metadata": {},
   "source": [
    "## Ephemeris functions"
   ]
  },
  {
   "cell_type": "markdown",
   "id": "built-shore",
   "metadata": {},
   "source": [
    "`sunpy.coordinates` provides functions to obtain the coordinates of solar-system bodies.  For bodies that are in the current Astropy ephemeris (e.g., planets), you can use [`get_body_heliographic_stonyhurst()`](https://docs.sunpy.org/en/stable/api/sunpy.coordinates.get_body_heliographic_stonyhurst.html):"
   ]
  },
  {
   "cell_type": "code",
   "execution_count": 12,
   "id": "green-society",
   "metadata": {},
   "outputs": [
    {
     "data": {
      "text/plain": [
       "<SkyCoord (HeliographicStonyhurst: obstime=2021-06-04T14:45:00.000, rsun=695700.0 km): (lon, lat, radius) in (deg, deg, AU)\n",
       "    (-114.62835286, -4.64740583, 1.65865469)>"
      ]
     },
     "execution_count": 12,
     "metadata": {},
     "output_type": "execute_result"
    }
   ],
   "source": [
    "from sunpy.coordinates import get_body_heliographic_stonyhurst\n",
    "\n",
    "SkyCoord(get_body_heliographic_stonyhurst('Mars', time))"
   ]
  },
  {
   "cell_type": "markdown",
   "id": "invalid-intensity",
   "metadata": {},
   "source": [
    "For all other solar-system bodies (e.g., major man-made spacecraft or comets), you can use [`get_horizons_coord()`](https://docs.sunpy.org/en/stable/api/sunpy.coordinates.get_horizons_coord.html), which queries [JPL HORIZONS](https://ssd.jpl.nasa.gov/?horizons):"
   ]
  },
  {
   "cell_type": "code",
   "execution_count": 13,
   "id": "identical-adelaide",
   "metadata": {},
   "outputs": [
    {
     "name": "stdout",
     "output_type": "stream",
     "text": [
      "INFO: Obtained JPL HORIZONS location for Solar Orbiter (spacecraft) (-144 [sunpy.coordinates.ephemeris]\n"
     ]
    },
    {
     "data": {
      "text/plain": [
       "<SkyCoord (HeliographicStonyhurst: obstime=2021-06-04T14:45:00.000, rsun=695700.0 km): (lon, lat, radius) in (deg, deg, AU)\n",
       "    (-99.06769586, -1.11895552, 0.95197894)>"
      ]
     },
     "execution_count": 13,
     "metadata": {},
     "output_type": "execute_result"
    }
   ],
   "source": [
    "from sunpy.coordinates import get_horizons_coord\n",
    "\n",
    "get_horizons_coord('Solar Orbiter', time)"
   ]
  },
  {
   "cell_type": "markdown",
   "id": "finite-japan",
   "metadata": {},
   "source": [
    "## Sun-specific coordinate information"
   ]
  },
  {
   "cell_type": "markdown",
   "id": "helpful-shakespeare",
   "metadata": {},
   "source": [
    "`sunpy.coordinates.sun` provides functions for Sun-specific coordinate information (assuming an Earth-based observer)."
   ]
  },
  {
   "cell_type": "code",
   "execution_count": 14,
   "id": "crucial-future",
   "metadata": {},
   "outputs": [
    {
     "name": "stdout",
     "output_type": "stream",
     "text": [
      "B0 angle: -0.23164402438805823 deg\n",
      "L0 angle: 40.5976746184717 deg\n"
     ]
    }
   ],
   "source": [
    "from sunpy.coordinates import sun\n",
    "\n",
    "print(f\"\"\"B0 angle: {sun.B0(time)}\n",
    "L0 angle: {sun.L0(time)}\"\"\")"
   ]
  },
  {
   "cell_type": "code",
   "execution_count": 15,
   "id": "important-israel",
   "metadata": {},
   "outputs": [
    {
     "name": "stdout",
     "output_type": "stream",
     "text": [
      "Solar Ephemeris for 2021-06-04T14:45:00.000 UTC\n",
      "\n",
      "Distance = 1.0145582266325062 AU\n",
      "Semidiameter = 945.4667680869455 arcsec\n",
      "True (long, lat) = (74d12m27.40814215s, -0d00m00.19198487s)\n",
      "Apparent (long, lat) = (74d11m50.53390269s, -0d00m00.19198487s)\n",
      "True (RA, Dec) = (4h51m28.23093725s, 22d30m07.88333617s)\n",
      "Apparent (RA, Dec) = (4h51m25.56613551s, 22d30m06.17743393s)\n",
      "Heliographic long. and lat of disk center = (40d35m51.6286265s, -0d13m53.9184878s)\n",
      "Position angle of north pole = -13.981491087597774 deg\n",
      "Carrington rotation number = 2244.8872286816154\n"
     ]
    }
   ],
   "source": [
    "sun.print_params(time)"
   ]
  },
  {
   "cell_type": "code",
   "execution_count": 16,
   "id": "outdoor-dollar",
   "metadata": {},
   "outputs": [
    {
     "data": {
      "text/plain": [
       "['angular_radius',\n",
       " 'sky_position',\n",
       " 'carrington_rotation_number',\n",
       " 'carrington_rotation_time',\n",
       " 'true_longitude',\n",
       " 'apparent_longitude',\n",
       " 'true_latitude',\n",
       " 'apparent_latitude',\n",
       " 'mean_obliquity_of_ecliptic',\n",
       " 'true_rightascension',\n",
       " 'true_declination',\n",
       " 'true_obliquity_of_ecliptic',\n",
       " 'apparent_rightascension',\n",
       " 'apparent_declination',\n",
       " 'print_params',\n",
       " 'B0',\n",
       " 'L0',\n",
       " 'P',\n",
       " 'earth_distance',\n",
       " 'orientation']"
      ]
     },
     "execution_count": 16,
     "metadata": {},
     "output_type": "execute_result"
    }
   ],
   "source": [
    "# The functions in sunpy.coordinates.sun\n",
    "sun.__all__"
   ]
  }
 ],
 "metadata": {
  "kernelspec": {
   "display_name": "Python 3 (ipykernel)",
   "language": "python",
   "name": "python3"
  },
  "language_info": {
   "codemirror_mode": {
    "name": "ipython",
    "version": 3
   },
   "file_extension": ".py",
   "mimetype": "text/x-python",
   "name": "python",
   "nbconvert_exporter": "python",
   "pygments_lexer": "ipython3",
   "version": "3.9.12"
  }
 },
 "nbformat": 4,
 "nbformat_minor": 5
}
