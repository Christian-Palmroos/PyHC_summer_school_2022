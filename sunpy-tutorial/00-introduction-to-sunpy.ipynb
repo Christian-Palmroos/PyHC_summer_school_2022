{
 "cells": [
  {
   "cell_type": "markdown",
   "id": "b30c635a-8c7d-4fb9-ae7d-2382f9a89e7b",
   "metadata": {},
   "source": [
    "# **An Introduction to the SunPy Ecosystem**\n",
    "\n",
    "![sunpy logo](images/sunpy_logo.png)\n",
    "\n",
    "## PyHC Summer School / 28 May 2022 / ESAC, Madrid, Spain\n",
    "\n",
    "### *Will Barnes* (AU/NASA GSFC) *on behalf of the SunPy Community*\n",
    "### *with many thanks to: Stuart Mumford, Albert Shih, Laura Hayes, David Stansby*\n"
   ]
  },
  {
   "cell_type": "markdown",
   "id": "d3058b21-e045-4cd4-a130-51b9950840b1",
   "metadata": {},
   "source": [
    "## What is SunPy?"
   ]
  },
  {
   "cell_type": "markdown",
   "id": "72d11c0d-f3ef-4034-b2a1-89f58069bc70",
   "metadata": {},
   "source": [
    "![sunpy core summary](images/sunpy-summary-slide.png)"
   ]
  },
  {
   "cell_type": "markdown",
   "id": "2b23ccf9-638d-4e8c-9ba0-f2abbbad1c60",
   "metadata": {},
   "source": [
    "(Another slide on the SunPy Project will go here)"
   ]
  },
  {
   "cell_type": "markdown",
   "id": "8bdc7be7-82e7-47c1-8f00-9ffc4827a026",
   "metadata": {},
   "source": [
    "## This Tutorial\n",
    "\n",
    "(Brief summary/outline of what we are going to cover and what we are going to do)"
   ]
  },
  {
   "cell_type": "code",
   "execution_count": 14,
   "id": "1d7f9979-c847-4dde-92b6-1493b11c3ad2",
   "metadata": {
    "tags": []
   },
   "outputs": [
    {
     "data": {
      "text/html": [
       "<iframe width=\"800\" height=\"500\" src=\"https://www.youtube-nocookie.com/embed/0AXw-tKm7R0?controls=0\" title=\"YouTube video player\" frameborder=\"0\" allow=\"accelerometer; autoplay; clipboard-write; encrypted-media; gyroscope; picture-in-picture\" allowfullscreen></iframe>\n"
      ],
      "text/plain": [
       "<IPython.core.display.HTML object>"
      ]
     },
     "metadata": {},
     "output_type": "display_data"
    }
   ],
   "source": [
    "%%html\n",
    "<iframe width=\"800\" height=\"500\" src=\"https://www.youtube-nocookie.com/embed/0AXw-tKm7R0?controls=0\" title=\"YouTube video player\" frameborder=\"0\" allow=\"accelerometer; autoplay; clipboard-write; encrypted-media; gyroscope; picture-in-picture\" allowfullscreen></iframe>"
   ]
  },
  {
   "cell_type": "markdown",
   "id": "870a1aa4-3801-46b2-aa48-8c0b9aa03b62",
   "metadata": {},
   "source": [
    "## Resources\n",
    "\n",
    "Below are a few helpful links for finding out more about SunPy, including our webpage, documentation, and our Matrix channel:\n",
    "\n",
    "* [sunpy.org](https://sunpy.org/)\n",
    "* [SunPy Documentation](https://docs.sunpy.org/en/stable/)\n",
    "* [Tutorial Notebooks from 2021 AAS/SPD SunPy Workshop](https://github.com/sunpy/aas-2021-workshop)\n",
    "* [List of Affiliated Packages](https://sunpy.org/project/affiliated.html)\n",
    "* [Matrix Chat](https://openastronomy.element.io/#/room/#sunpy:openastronomy.org)\n",
    "* [OpenAstronomy Discourse](https://community.openastronomy.org/c/sunpy/5)"
   ]
  },
  {
   "cell_type": "code",
   "execution_count": null,
   "id": "c99016fa-66a6-499a-ad91-ddfc847fbcbf",
   "metadata": {},
   "outputs": [],
   "source": []
  }
 ],
 "metadata": {
  "kernelspec": {
   "display_name": "Python [conda env:sunpy-tutorial]",
   "language": "python",
   "name": "conda-env-sunpy-tutorial-py"
  },
  "language_info": {
   "codemirror_mode": {
    "name": "ipython",
    "version": 3
   },
   "file_extension": ".py",
   "mimetype": "text/x-python",
   "name": "python",
   "nbconvert_exporter": "python",
   "pygments_lexer": "ipython3",
   "version": "3.9.12"
  },
  "toc-autonumbering": false,
  "toc-showmarkdowntxt": true,
  "toc-showtags": false
 },
 "nbformat": 4,
 "nbformat_minor": 5
}
