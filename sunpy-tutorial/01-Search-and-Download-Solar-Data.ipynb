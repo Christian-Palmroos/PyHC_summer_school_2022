{
 "cells": [
  {
   "cell_type": "markdown",
   "id": "8b36dd99",
   "metadata": {
    "slideshow": {
     "slide_type": "slide"
    },
    "tags": []
   },
   "source": [
    "Searching and Downloading Data with Sunpy\n",
    "=========================================\n",
    "\n",
    "In this notebook we will look at how sunpy can be used to search and download solar physics data. Here is what this notebook contains:\n",
    "\n",
    "1. Overview of Fido\n",
    "2. Attributes of Fido\n",
    "3. Constructing a data search query\n",
    "4. Inspecting data search query\n",
    "5. More complex queries\n",
    "6. Using Fido to query the HEK\n",
    "7. Downloading data\n",
    "8. Extending Fido : New clients and use for your own packages <img src=\"https://raw.githubusercontent.com/sunpy/sunpy.org/main/_static/img/sunpy_icon.svg\" alt=\"logo\" width=\"100\" align=\"right\"/>"
   ]
  },
  {
   "cell_type": "markdown",
   "id": "6007ebb7",
   "metadata": {
    "slideshow": {
     "slide_type": "slide"
    }
   },
   "source": [
    "\n",
    "Fido Unified Downloader\n",
    "====================\n",
    "\n",
    "## 1. Overview of Fido\n",
    "\n",
    "\n",
    "\n",
    "* Fido is sunpy's interface for searching and downloading solar physics data.\n",
    "\n",
    "\n",
    "* It offers a unified interface for searching and fetching data irrespective of the underlying client or webservice from where the data is obtained.\n",
    "\n",
    "\n",
    "* Offers a way to search and accesses multiple instruments and all available data providers in a single query.\n",
    "\n",
    "\n",
    "* It supplies a single, easy, consistent and *extendable* way to get most forms of solar physics data the community need \n",
    "\n",
    "Fido offers access to data available through:\n",
    "\n",
    " * **VSO**\n",
    " * **JSOC** (~~through `drms`~~)\n",
    " * **Individual data providers** from web accessible sources (http, ftp, etc)\n",
    " * **HEK**\n",
    " * **HELIO**\n",
    " \n",
    "Lets first import `Fido` and the `attrs` submodule, and inspect Fido. \n",
    "As described here Fido provides access to many sources of data through different `clients`, these clients can be defined inside sunpy or in other packages. Lets print the current list of available clients within sunpy."
   ]
  },
  {
   "cell_type": "code",
   "execution_count": 1,
   "id": "c6596d6f",
   "metadata": {},
   "outputs": [],
   "source": [
    "from sunpy.net import Fido, attrs as a"
   ]
  },
  {
   "cell_type": "code",
   "execution_count": 4,
   "id": "05c7100b",
   "metadata": {},
   "outputs": [
    {
     "data": {
      "text/html": [
       "<p>sunpy.net.Fido</p>\n",
       "<p>\n",
       "Fido is a unified data search and retrieval tool.\n",
       "\n",
       "It provides simultaneous access to a variety of online data sources, some\n",
       "cover multiple instruments and data products like the Virtual Solar\n",
       "Observatory and some are specific to a single source.\n",
       "\n",
       "For details of using `~sunpy.net.Fido` see :ref:`fido_guide`.\n",
       "\n",
       "</p>\n",
       "<table id=\"table140589485543040\">\n",
       "<thead><tr><th>Client</th><th>Description</th></tr></thead>\n",
       "<tr><td>CDAWEBClient</td><td>Provides access to query and download from the Coordinated Data Analysis Web (CDAWeb).</td></tr>\n",
       "<tr><td>EVEClient</td><td>Provides access to Level 0CS Extreme ultraviolet Variability Experiment (EVE) data.</td></tr>\n",
       "<tr><td>GBMClient</td><td>Provides access to data from the Gamma-Ray Burst Monitor (GBM) instrument on board the Fermi satellite.</td></tr>\n",
       "<tr><td>XRSClient</td><td>Provides access to the GOES XRS fits files archive.</td></tr>\n",
       "<tr><td>SUVIClient</td><td>Provides access to data from the GOES Solar Ultraviolet Imager (SUVI).</td></tr>\n",
       "<tr><td>...</td><td>...</td></tr>\n",
       "<tr><td>NoRHClient</td><td>Provides access to the Nobeyama RadioHeliograph (NoRH) averaged correlation time series data.</td></tr>\n",
       "<tr><td>RHESSIClient</td><td>Provides access to the RHESSI observing summary time series data.</td></tr>\n",
       "<tr><td>HEKClient</td><td>Provides access to the Heliophysics Event Knowledgebase (HEK).</td></tr>\n",
       "<tr><td>HECClient</td><td>Provides access to the HELIO webservices.</td></tr>\n",
       "<tr><td>JSOCClient</td><td>Provides access to the JSOC Data Export service.</td></tr>\n",
       "<tr><td>VSOClient</td><td>Provides access to query and download from Virtual Solar Observatory (VSO).</td></tr>\n",
       "</table>\n",
       "Length = 16 rows"
      ],
      "text/plain": [
       "<sunpy.net.fido_factory.UnifiedDownloaderFactory object at 0x7fdd8a584d00>\n",
       "sunpy.net.Fido\n",
       "\n",
       "Fido is a unified data search and retrieval tool.\n",
       "\n",
       "It provides simultaneous access to a variety of online data sources, some\n",
       "cover multiple instruments and data products like the Virtual Solar\n",
       "Observatory and some are specific to a single source.\n",
       "\n",
       "For details of using `~sunpy.net.Fido` see :ref:`fido_guide`.\n",
       "\n",
       "\n",
       "   Client    ...\n",
       "------------ ...\n",
       "CDAWEBClient ...\n",
       "EVEClient    ...\n",
       "GBMClient    ...\n",
       "XRSClient    ...\n",
       "SUVIClient   ...\n",
       "...          ...\n",
       "NoRHClient   ...\n",
       "RHESSIClient ...\n",
       "HEKClient    ...\n",
       "HECClient    ...\n",
       "JSOCClient   ...\n",
       "VSOClient    ...\n",
       "Length = 16 rows"
      ]
     },
     "execution_count": 4,
     "metadata": {},
     "output_type": "execute_result"
    }
   ],
   "source": [
    "Fido"
   ]
  },
  {
   "cell_type": "markdown",
   "id": "eabc9a77",
   "metadata": {},
   "source": [
    "## 2. Using attributes to search for data with Fido\n",
    "\n",
    "Sunpy uses specified *attributes* to search for data using Fido. The range of these attributes is located in the `attrs` submodule. These `attr` parameters can be combined together to construct data search queries, such as searching over a certain time period, for data from a certain instrument with a certain wavelength etc.\n",
    "\n",
    "Different clients and provides will have client-specific attributes, but the core attributes are:\n",
    "\n",
    "* `a.Time`\n",
    "* `a.Instrument`\n",
    "* `a.Wavelength`\n",
    "\n",
    "\n",
    "Lets look at how these attributes work in more detail.\n",
    "\n",
    "First we can look at a.Time, which is used to specify the timerange of a query."
   ]
  },
  {
   "cell_type": "code",
   "execution_count": 5,
   "id": "82e5945e",
   "metadata": {},
   "outputs": [
    {
     "data": {
      "text/plain": [
       "<sunpy.net.attrs.Time(2021-02-12 18:00:00.000, 2021-02-12 23:00:00.000)>"
      ]
     },
     "execution_count": 5,
     "metadata": {},
     "output_type": "execute_result"
    }
   ],
   "source": [
    "a.Time(\"2021-02-12 18:00\", \"2021-02-12 23:00\")"
   ]
  },
  {
   "cell_type": "markdown",
   "id": "8be2a838",
   "metadata": {},
   "source": [
    "We can inspect the instrument attribute to see what instrument `attrs` are currently supported through sunpy. Here we can see the instrument name (i.e. the name to be passed to the `a.Instrument` attribute, the client from which the data is available to access, and the full name of the instrument."
   ]
  },
  {
   "cell_type": "code",
   "execution_count": 6,
   "id": "13fdc573",
   "metadata": {},
   "outputs": [
    {
     "data": {
      "text/html": [
       "<p>sunpy.net.attrs.Instrument</p>\n",
       "<p>\n",
       "Specifies the Instrument name for the search.\n",
       "</p>\n",
       "<table id=\"table140590995753088\">\n",
       "<thead><tr><th>Attribute Name</th><th>Client</th><th>Full Name</th><th>Description</th></tr></thead>\n",
       "<tr><td>aia</td><td>VSO</td><td>AIA</td><td>Atmospheric Imaging Assembly</td></tr>\n",
       "<tr><td>bcs</td><td>VSO</td><td>BCS</td><td>Bragg Crystal Spectrometer</td></tr>\n",
       "<tr><td>be_continuum</td><td>VSO</td><td>BE-Continuum</td><td>INAF-OACT Barra Equatoriale Continuum Instrument</td></tr>\n",
       "<tr><td>be_halpha</td><td>VSO</td><td>BE-Halpha</td><td>INAF-OACT Barra Equatoriale Hα Instrument</td></tr>\n",
       "<tr><td>bigbear</td><td>VSO</td><td>Big Bear</td><td>Big Bear Solar Observatory, California TON and GONG+ sites</td></tr>\n",
       "<tr><td>caii</td><td>VSO</td><td>CAII</td><td>Kanzelhöhe Ca II k Instrument</td></tr>\n",
       "<tr><td>cds</td><td>VSO</td><td>CDS</td><td>Coronal Diagnostic Spectrometer</td></tr>\n",
       "<tr><td>celias</td><td>VSO</td><td>CELIAS</td><td>Charge, Element, and Isotope Analysis System</td></tr>\n",
       "<tr><td>cerrotololo</td><td>VSO</td><td>Cerro Tololo</td><td>Cerro Tololo, Chile GONG+ site</td></tr>\n",
       "<tr><td>chp</td><td>VSO</td><td>chp</td><td>Chromospheric Helium-I Imaging Photometer</td></tr>\n",
       "<tr><td>chrotel</td><td>VSO</td><td>ChroTel</td><td>Chromospheric Telescope</td></tr>\n",
       "<tr><td>climso</td><td>VSO</td><td>CLIMSO</td><td>Christian Latouche IMageur SOlaire</td></tr>\n",
       "<tr><td>cook</td><td>VSO</td><td>Cook</td><td>None</td></tr>\n",
       "<tr><td>costep</td><td>VSO</td><td>COSTEP</td><td>Comprehensive Suprathermal and Energetic Particle Analyzer</td></tr>\n",
       "<tr><td>cp</td><td>VSO</td><td>cp</td><td>Coronagraph/Polarimeter</td></tr>\n",
       "<tr><td>dpm</td><td>VSO</td><td>dpm</td><td>Digital Prominence Monitor</td></tr>\n",
       "<tr><td>eis</td><td>VSO</td><td>EIS</td><td>EUV Imaging Spectrometer</td></tr>\n",
       "<tr><td>eit</td><td>VSO</td><td>EIT</td><td>Extreme ultraviolet Imaging Telescope</td></tr>\n",
       "<tr><td>elteide</td><td>VSO</td><td>El Teide</td><td>Canary Islands GONG+ site</td></tr>\n",
       "<tr><td>erne</td><td>VSO</td><td>ERNE</td><td>Energetic and Relativistic Nuclei and Electron experiment</td></tr>\n",
       "<tr><td>eui</td><td>VSO</td><td>EUI</td><td>Extreme Ultravoilet Imager</td></tr>\n",
       "<tr><td>eve</td><td>EVE</td><td>EVE</td><td>Extreme ultraviolet Variability Experiment, which is part of the NASA Solar D...</td></tr>\n",
       "<tr><td>eve</td><td>VSO</td><td>EVE</td><td>Extreme Ultraviolet Variability Experiment</td></tr>\n",
       "<tr><td>film</td><td>VSO</td><td>FILM</td><td>Kanzelhöhe Hα Film Camera</td></tr>\n",
       "<tr><td>five_12_channelmagnetograph</td><td>VSO</td><td>512-channel magnetograph</td><td>512-channel Magnetograph</td></tr>\n",
       "<tr><td>foxsi</td><td>VSO</td><td>FOXSI</td><td>Focusing Optics X-ray Solar Imager</td></tr>\n",
       "<tr><td>gbm</td><td>GBM</td><td>GBM</td><td>Gamma-Ray Burst Monitor on board the Fermi satellite.</td></tr>\n",
       "<tr><td>goes</td><td>XRS</td><td>GOES</td><td>The Geostationary Operational Environmental Satellite Program.</td></tr>\n",
       "<tr><td>golf</td><td>VSO</td><td>GOLF</td><td>Global Oscillations at Low Frequencies</td></tr>\n",
       "<tr><td>gong</td><td>GONG</td><td>GONG</td><td>Global Oscillation Network Group.</td></tr>\n",
       "<tr><td>ha2</td><td>VSO</td><td>HA2</td><td>Kanzelhöhe Hα Patrol Instrument</td></tr>\n",
       "<tr><td>hi_c</td><td>VSO</td><td>Hi-C</td><td>High Resolution Coronal Imager (193 A)</td></tr>\n",
       "<tr><td>hi_c21</td><td>VSO</td><td>Hi-C21</td><td>High Resolution Coronal Imager 2.1 (172 A)</td></tr>\n",
       "<tr><td>hmi</td><td>VSO</td><td>HMI</td><td>Helioseismic and Magnetic Imager</td></tr>\n",
       "<tr><td>hxeclipse</td><td>VSO</td><td>HXECLIPSE</td><td>UCAR HAO Historical Eclipse Archive</td></tr>\n",
       "<tr><td>hxt</td><td>VSO</td><td>HXT</td><td>Hard X-Ray Telescope</td></tr>\n",
       "<tr><td>imax</td><td>VSO</td><td>IMaX</td><td>Imaging Magnetograph eXperiment</td></tr>\n",
       "<tr><td>impact</td><td>VSO</td><td>IMPACT</td><td>In-situ Measurements of Particles and CME Transients</td></tr>\n",
       "<tr><td>iris</td><td>VSO</td><td>IRIS</td><td>Interface Region Imaging Spectrograph</td></tr>\n",
       "<tr><td>isoon</td><td>VSO</td><td>ISOON</td><td>Improved Solar Observing Optical Network</td></tr>\n",
       "<tr><td>iss</td><td>VSO</td><td>ISS</td><td>None</td></tr>\n",
       "<tr><td>ivm</td><td>VSO</td><td>IVM</td><td>None</td></tr>\n",
       "<tr><td>k_cor</td><td>VSO</td><td>K-Cor</td><td>None</td></tr>\n",
       "<tr><td>kpdc</td><td>VSO</td><td>KPDC</td><td>Kanzelhöhe Photosphere Digital Camera</td></tr>\n",
       "<tr><td>lasco</td><td>VSO</td><td>LASCO</td><td>Large Angle and Spectrometric Coronagraph</td></tr>\n",
       "<tr><td>learmonth</td><td>VSO</td><td>Learmonth</td><td>Australian GONG+ site</td></tr>\n",
       "<tr><td>longwave_lobe_06</td><td>VSO</td><td>LONGWAVE-LOBE-06</td><td>Full longwave EUV observation of Sun with EUNIS (2006 flight)</td></tr>\n",
       "<tr><td>longwave_lobe_07</td><td>VSO</td><td>LONGWAVE-LOBE-07</td><td>Full longwave EUV observation of Sun with EUNIS (2007 flight)</td></tr>\n",
       "<tr><td>longwave_slit_06</td><td>VSO</td><td>LONGWAVE-SLIT-06</td><td>Full longwave EUV observation of Sun with EUNIS (trimmed/2006 flight)</td></tr>\n",
       "<tr><td>longwave_slit_07</td><td>VSO</td><td>LONGWAVE-SLIT-07</td><td>Full longwave EUV observation of Sun with EUNIS (trimmed/2007 flight)</td></tr>\n",
       "<tr><td>lyra</td><td>LYRA</td><td>LYRA</td><td>Lyman Alpha Radiometer is the solar UV radiometer on board Proba-2.</td></tr>\n",
       "<tr><td>maunaloa</td><td>VSO</td><td>Mauna Loa</td><td>Hawai&apos;ian GONG+ site</td></tr>\n",
       "<tr><td>mdi</td><td>VSO</td><td>MDI</td><td>Michelson Doppler Imager</td></tr>\n",
       "<tr><td>mees</td><td>VSO</td><td>MEES</td><td>Mees Solar Observatory Imaging Spectrograph on Haleakala, Maui</td></tr>\n",
       "<tr><td>mergedgong</td><td>VSO</td><td>MERGED GONG</td><td>None</td></tr>\n",
       "<tr><td>meudonspectroheliograph</td><td>VSO</td><td>Meudon Spectroheliograph</td><td>None</td></tr>\n",
       "<tr><td>mk4</td><td>VSO</td><td>mk4</td><td>Mk. IV coronagraph</td></tr>\n",
       "<tr><td>noaa_indices</td><td>NOAAIndices</td><td>NOAA-Indices</td><td>Recent Solar Indices of Observed Monthly Mean Values</td></tr>\n",
       "<tr><td>noaa_predict</td><td>NOAAPredict</td><td>NOAA-Predict</td><td>Predicted Sunspot Number And Radio Flux Values With Expected Ranges.</td></tr>\n",
       "<tr><td>norh</td><td>NoRH</td><td>NORH</td><td>Nobeyama Radio Heliograph is an imaging radio telescope at 17 or 34GHz locate...</td></tr>\n",
       "<tr><td>phoenix</td><td>VSO</td><td>PHOENIX</td><td>PHOENIX detector on flight #3 of FOXSI</td></tr>\n",
       "<tr><td>phoka</td><td>VSO</td><td>PHOKA</td><td>Kanzelhöhe Photoheliograph</td></tr>\n",
       "<tr><td>plastic</td><td>VSO</td><td>PLASTIC</td><td>PLasma And SupraThermal Ion Composition</td></tr>\n",
       "<tr><td>ptmc</td><td>VSO</td><td>PTMC</td><td>None</td></tr>\n",
       "<tr><td>rhessi</td><td>RHESSI</td><td>RHESSI</td><td>Reuven Ramaty High Energy Solar Spectroscopic Imager.</td></tr>\n",
       "<tr><td>rhessi</td><td>VSO</td><td>RHESSI</td><td>Reuven Ramaty High Energy Solar Spectroscopic Imager</td></tr>\n",
       "<tr><td>secchi</td><td>VSO</td><td>SECCHI</td><td>Sun Earth Connection Coronal and Heliospheric Investigation</td></tr>\n",
       "<tr><td>shortwave_lobe_06</td><td>VSO</td><td>SHORTWAVE-LOBE-06</td><td>Shortwave EUV observation of Sun with EUNIS (2006 flight)</td></tr>\n",
       "<tr><td>shortwave_lobe_07</td><td>VSO</td><td>SHORTWAVE-LOBE-07</td><td>Shortwave EUV observation of Sun with EUNIS (2007 flight)</td></tr>\n",
       "<tr><td>shortwave_slit_06</td><td>VSO</td><td>SHORTWAVE-SLIT-06</td><td>Shortwave EUV observation of Sun with EUNIS (trimmed/2006 flight)</td></tr>\n",
       "<tr><td>shortwave_slit_07</td><td>VSO</td><td>SHORTWAVE-SLIT-07</td><td>Shortwave EUV observation of Sun with EUNIS (trimmed/2007 flight)</td></tr>\n",
       "<tr><td>six_0_ftshg</td><td>VSO</td><td>60-ft SHG</td><td>60-foot Tower Spectroheliograph</td></tr>\n",
       "<tr><td>sj</td><td>VSO</td><td>SJ</td><td>Slit-Jaw</td></tr>\n",
       "<tr><td>solarftsspectrometer</td><td>VSO</td><td>solar fts spectrometer</td><td>Solar FTS Spectrometer</td></tr>\n",
       "<tr><td>soon</td><td>SRS</td><td>SOON</td><td>Solar Region Summary.</td></tr>\n",
       "<tr><td>sot</td><td>VSO</td><td>SOT</td><td>Solar Optical Telescope</td></tr>\n",
       "<tr><td>sp1</td><td>VSO</td><td>SP1</td><td>Spectropolarimeter1</td></tr>\n",
       "<tr><td>sp2</td><td>VSO</td><td>SP2</td><td>Spectropolarimeter2</td></tr>\n",
       "<tr><td>spectroheliograph</td><td>VSO</td><td>spectroheliograph</td><td>SpectroHeliograph</td></tr>\n",
       "<tr><td>spectromagnetograph</td><td>VSO</td><td>spectromagnetograph</td><td>SpectroMagnetograph</td></tr>\n",
       "<tr><td>srs_table</td><td>SRS</td><td>SRS-Table</td><td>Solar Region Summary.</td></tr>\n",
       "<tr><td>sufi</td><td>VSO</td><td>SuFI</td><td>Sunrise Filter Imager</td></tr>\n",
       "<tr><td>sumer</td><td>VSO</td><td>SUMER</td><td>Solar Ultraviolet Measurements of Emitted Radiation</td></tr>\n",
       "<tr><td>suvi</td><td>SUVI</td><td>SUVI</td><td>GOES Solar Ultraviolet Imager.</td></tr>\n",
       "<tr><td>suvi</td><td>VSO</td><td>SUVI</td><td>GOES-R Series Solar Ultraviolet Imager</td></tr>\n",
       "<tr><td>swan</td><td>VSO</td><td>SWAN</td><td>Solar Wind Anisotropies</td></tr>\n",
       "<tr><td>swap</td><td>VSO</td><td>SWAP</td><td>Sun Watcher using Active pixel system detector and image Processing</td></tr>\n",
       "<tr><td>swaves</td><td>VSO</td><td>SWAVES</td><td>STEREO/WAVES</td></tr>\n",
       "<tr><td>sxt</td><td>VSO</td><td>SXT</td><td>Soft X-Ray Telescope</td></tr>\n",
       "<tr><td>tm_1001</td><td>VSO</td><td>TM-1001</td><td>Kanzelhöhe Hα Pulnix TM-1001 Camera</td></tr>\n",
       "<tr><td>tm_1010</td><td>VSO</td><td>TM-1010</td><td>Kanzelhöhe Hα Pulnix TM-1010 Camera</td></tr>\n",
       "<tr><td>trace</td><td>VSO</td><td>TRACE</td><td>Transition Region And Coronal Explorer</td></tr>\n",
       "<tr><td>udaipur</td><td>VSO</td><td>Udaipur</td><td>Indian GONG+ site</td></tr>\n",
       "<tr><td>uvcs</td><td>VSO</td><td>UVCS</td><td>Ultraviolet Coronagraph Spectrometer</td></tr>\n",
       "<tr><td>vault_1999</td><td>VSO</td><td>VAULT-1999</td><td>Very High Angular Resolution Ultraviolet Telescope (1999 flight)</td></tr>\n",
       "<tr><td>vault_2002</td><td>VSO</td><td>VAULT-2002</td><td>Very High Angular Resolution Ultraviolet Telescope (2002 flight)</td></tr>\n",
       "<tr><td>vault_2014</td><td>VSO</td><td>VAULT-2014</td><td>Very High Angular Resolution Ultraviolet Telescope (2014 flight)</td></tr>\n",
       "<tr><td>virgo</td><td>VSO</td><td>VIRGO</td><td>Variability of Solar Irradiance and Gravity Oscillations</td></tr>\n",
       "<tr><td>vsm</td><td>VSO</td><td>vsm</td><td>Vector SpecroMagnetograph</td></tr>\n",
       "<tr><td>wbs</td><td>VSO</td><td>WBS</td><td>Wide Band Spectrometer</td></tr>\n",
       "<tr><td>wispr</td><td>VSO</td><td>WISPR</td><td>Wide-Field Imager for Solar Probe Plus</td></tr>\n",
       "<tr><td>x123</td><td>VSO</td><td>X123</td><td>X123 SXR Spectometer</td></tr>\n",
       "<tr><td>xrs</td><td>XRS</td><td>XRS</td><td>GOES X-ray Sensor</td></tr>\n",
       "</table>"
      ],
      "text/plain": [
       "<class 'sunpy.net.attrs.Instrument'>\n",
       "sunpy.net.attrs.Instrument\n",
       "\n",
       "Specifies the Instrument name for the search.\n",
       "\n",
       "       Attribute Name       ...\n",
       "--------------------------- ...\n",
       "aia                         ...\n",
       "bcs                         ...\n",
       "be_continuum                ...\n",
       "be_halpha                   ...\n",
       "bigbear                     ...\n",
       "caii                        ...\n",
       "cds                         ...\n",
       "celias                      ...\n",
       "cerrotololo                 ...\n",
       "chp                         ...\n",
       "chrotel                     ...\n",
       "climso                      ...\n",
       "cook                        ...\n",
       "costep                      ...\n",
       "cp                          ...\n",
       "dpm                         ...\n",
       "eis                         ...\n",
       "eit                         ...\n",
       "elteide                     ...\n",
       "erne                        ...\n",
       "eui                         ...\n",
       "eve                         ...\n",
       "eve                         ...\n",
       "film                        ...\n",
       "five_12_channelmagnetograph ...\n",
       "foxsi                       ...\n",
       "gbm                         ...\n",
       "goes                        ...\n",
       "golf                        ...\n",
       "gong                        ...\n",
       "ha2                         ...\n",
       "hi_c                        ...\n",
       "hi_c21                      ...\n",
       "hmi                         ...\n",
       "hxeclipse                   ...\n",
       "hxt                         ...\n",
       "imax                        ...\n",
       "impact                      ...\n",
       "iris                        ...\n",
       "isoon                       ...\n",
       "iss                         ...\n",
       "ivm                         ...\n",
       "k_cor                       ...\n",
       "kpdc                        ...\n",
       "lasco                       ...\n",
       "learmonth                   ...\n",
       "longwave_lobe_06            ...\n",
       "longwave_lobe_07            ...\n",
       "longwave_slit_06            ...\n",
       "longwave_slit_07            ...\n",
       "lyra                        ...\n",
       "maunaloa                    ...\n",
       "mdi                         ...\n",
       "mees                        ...\n",
       "mergedgong                  ...\n",
       "meudonspectroheliograph     ...\n",
       "mk4                         ...\n",
       "noaa_indices                ...\n",
       "noaa_predict                ...\n",
       "norh                        ...\n",
       "phoenix                     ...\n",
       "phoka                       ...\n",
       "plastic                     ...\n",
       "ptmc                        ...\n",
       "rhessi                      ...\n",
       "rhessi                      ...\n",
       "secchi                      ...\n",
       "shortwave_lobe_06           ...\n",
       "shortwave_lobe_07           ...\n",
       "shortwave_slit_06           ...\n",
       "shortwave_slit_07           ...\n",
       "six_0_ftshg                 ...\n",
       "sj                          ...\n",
       "solarftsspectrometer        ...\n",
       "soon                        ...\n",
       "sot                         ...\n",
       "sp1                         ...\n",
       "sp2                         ...\n",
       "spectroheliograph           ...\n",
       "spectromagnetograph         ...\n",
       "srs_table                   ...\n",
       "sufi                        ...\n",
       "sumer                       ...\n",
       "suvi                        ...\n",
       "suvi                        ...\n",
       "swan                        ...\n",
       "swap                        ...\n",
       "swaves                      ...\n",
       "sxt                         ...\n",
       "tm_1001                     ...\n",
       "tm_1010                     ...\n",
       "trace                       ...\n",
       "udaipur                     ...\n",
       "uvcs                        ...\n",
       "vault_1999                  ...\n",
       "vault_2002                  ...\n",
       "vault_2014                  ...\n",
       "virgo                       ...\n",
       "vsm                         ...\n",
       "wbs                         ...\n",
       "wispr                       ...\n",
       "x123                        ...\n",
       "xrs                         ..."
      ]
     },
     "execution_count": 6,
     "metadata": {},
     "output_type": "execute_result"
    }
   ],
   "source": [
    "a.Instrument"
   ]
  },
  {
   "cell_type": "markdown",
   "id": "f1e5dded",
   "metadata": {},
   "source": [
    "Sunpy also now provides tab completion to auto-fill the attribute name"
   ]
  },
  {
   "cell_type": "code",
   "execution_count": 7,
   "id": "705a3d84",
   "metadata": {},
   "outputs": [
    {
     "data": {
      "text/plain": [
       "<sunpy.net.attrs.Instrument(WISPR: Wide-Field Imager for Solar Probe Plus) object at 0x7fdd8a23ddc0>"
      ]
     },
     "execution_count": 7,
     "metadata": {},
     "output_type": "execute_result"
    }
   ],
   "source": [
    "a.Instrument.wispr"
   ]
  },
  {
   "cell_type": "markdown",
   "id": "28a90a90",
   "metadata": {},
   "source": [
    "To search for certain wavelengths, we need to specify the input as an `astropy Quantity` which is a the combination of a value and an associated unit. This is something is universal in the sunpy stack - that every physical input/output is a `Quantity`."
   ]
  },
  {
   "cell_type": "code",
   "execution_count": 8,
   "id": "9436a819",
   "metadata": {},
   "outputs": [],
   "source": [
    "from astropy import units as u"
   ]
  },
  {
   "cell_type": "code",
   "execution_count": 9,
   "id": "d234fae7",
   "metadata": {},
   "outputs": [
    {
     "data": {
      "text/latex": [
       "$171 \\; \\mathrm{\\mathring{A}}$"
      ],
      "text/plain": [
       "<Quantity 171. Angstrom>"
      ]
     },
     "execution_count": 9,
     "metadata": {},
     "output_type": "execute_result"
    }
   ],
   "source": [
    "171 * u.angstrom"
   ]
  },
  {
   "cell_type": "code",
   "execution_count": 10,
   "id": "ce1faff9",
   "metadata": {},
   "outputs": [
    {
     "data": {
      "text/plain": [
       "<sunpy.net.attrs.Wavelength(170.99999999999997, 170.99999999999997, 'Angstrom')>"
      ]
     },
     "execution_count": 10,
     "metadata": {},
     "output_type": "execute_result"
    }
   ],
   "source": [
    "a.Wavelength(17.1*u.nm)"
   ]
  },
  {
   "cell_type": "markdown",
   "id": "ede00dbf",
   "metadata": {},
   "source": [
    "## 3. Constructing a search query\n",
    " ### A simple query\n",
    "\n",
    "Lets create a simple query to search for data from AIA over a particular time period"
   ]
  },
  {
   "cell_type": "code",
   "execution_count": 11,
   "id": "1bd72a37",
   "metadata": {},
   "outputs": [],
   "source": [
    "result = Fido.search(a.Time(\"2021-02-12 18:00:00\", \"2021-02-12 23:00:00\"), \n",
    "                     a.Instrument(\"AIA\"))#,a.Wavelength(171*u.angstrom))"
   ]
  },
  {
   "cell_type": "markdown",
   "id": "536c9dec",
   "metadata": {},
   "source": [
    "The `Fido.search` will return `UnifiedResponse` object with all the information available from the search that fit the criteria specified by the attrs. This `result` can then be passed to `Fido.fetch` to download the queried data (We will discuss this further below). Lets now inspect our `result` which holds the results of our query, if we print this we should see a summary of our query:"
   ]
  },
  {
   "cell_type": "code",
   "execution_count": 12,
   "id": "b7816751",
   "metadata": {},
   "outputs": [
    {
     "data": {
      "text/html": [
       "Results from 1 Provider:</br></br>283 Results from the VSOClient:</br><div><i>VSOQueryResponseTable length=283</i>\n",
       "<table id=\"table140589471616880\" class=\"table-striped table-bordered table-condensed\">\n",
       "<thead><tr><th>Start Time</th><th>End Time</th><th>Source</th><th>Instrument</th><th>Wavelength [2]</th><th>Provider</th><th>Physobs</th><th>Wavetype</th><th>Extent Width</th><th>Extent Length</th><th>Extent Type</th><th>Size</th><th>Extra Flags</th><th>Info</th></tr></thead>\n",
       "<thead><tr><th></th><th></th><th></th><th></th><th>Angstrom</th><th></th><th></th><th></th><th></th><th></th><th></th><th>Mibyte</th><th></th><th></th></tr></thead>\n",
       "<thead><tr><th>Time</th><th>Time</th><th>str3</th><th>str3</th><th>float64</th><th>str4</th><th>str9</th><th>str6</th><th>str4</th><th>str4</th><th>str8</th><th>float64</th><th>str1</th><th>str106</th></tr></thead>\n",
       "<tr><td>2021-02-12 18:00:00.000</td><td>2021-02-12 18:09:13.000</td><td>SDO</td><td>AIA</td><td>335.0 .. 335.0</td><td>JSOC</td><td>intensity</td><td>NARROW</td><td>4096</td><td>4096</td><td>FULLDISK</td><td>3038.47656</td><td>S</td><td>AIA level 1, 4096x4096 [47 records] [0 eclipse] [0 darks] [2.901 to 2.901 exposure] [100.00 avg. percentd]</td></tr>\n",
       "<tr><td>2021-02-12 18:00:04.000</td><td>2021-02-12 18:09:17.000</td><td>SDO</td><td>AIA</td><td>193.0 .. 193.0</td><td>JSOC</td><td>intensity</td><td>NARROW</td><td>4096</td><td>4096</td><td>FULLDISK</td><td>3038.47656</td><td>S</td><td>AIA level 1, 4096x4096 [47 records] [0 eclipse] [0 darks] [2.000 to 2.000 exposure] [100.00 avg. percentd]</td></tr>\n",
       "<tr><td>2021-02-12 18:00:05.000</td><td>2021-02-12 18:00:06.000</td><td>SDO</td><td>AIA</td><td>4500.0 .. 4500.0</td><td>JSOC</td><td>intensity</td><td>NARROW</td><td>4096</td><td>4096</td><td>FULLDISK</td><td>64.64844</td><td>S</td><td>AIA level 1, 4096x4096 [0.300 exposure] [100.00 percentd]</td></tr>\n",
       "<tr><td>2021-02-12 18:00:05.000</td><td>2021-02-12 18:09:18.000</td><td>SDO</td><td>AIA</td><td>304.0 .. 304.0</td><td>JSOC</td><td>intensity</td><td>NARROW</td><td>4096</td><td>4096</td><td>FULLDISK</td><td>3038.47656</td><td>S</td><td>AIA level 1, 4096x4096 [47 records] [0 eclipse] [0 darks] [2.901 to 2.901 exposure] [100.00 avg. percentd]</td></tr>\n",
       "<tr><td>2021-02-12 18:00:06.000</td><td>2021-02-12 18:09:19.000</td><td>SDO</td><td>AIA</td><td>131.0 .. 131.0</td><td>JSOC</td><td>intensity</td><td>NARROW</td><td>4096</td><td>4096</td><td>FULLDISK</td><td>3038.47656</td><td>S</td><td>AIA level 1, 4096x4096 [47 records] [0 eclipse] [0 darks] [2.901 to 2.901 exposure] [100.00 avg. percentd]</td></tr>\n",
       "<tr><td>2021-02-12 18:00:09.000</td><td>2021-02-12 18:09:22.000</td><td>SDO</td><td>AIA</td><td>171.0 .. 171.0</td><td>JSOC</td><td>intensity</td><td>NARROW</td><td>4096</td><td>4096</td><td>FULLDISK</td><td>3038.47656</td><td>S</td><td>AIA level 1, 4096x4096 [47 records] [0 eclipse] [0 darks] [2.000 to 2.000 exposure] [100.00 avg. percentd]</td></tr>\n",
       "<tr><td>2021-02-12 18:00:09.000</td><td>2021-02-12 18:09:10.000</td><td>SDO</td><td>AIA</td><td>211.0 .. 211.0</td><td>JSOC</td><td>intensity</td><td>NARROW</td><td>4096</td><td>4096</td><td>FULLDISK</td><td>2973.82812</td><td>S</td><td>AIA level 1, 4096x4096 [46 records] [0 eclipse] [0 darks] [2.901 to 2.901 exposure] [100.00 avg. percentd]</td></tr>\n",
       "<tr><td>2021-02-12 18:00:11.000</td><td>2021-02-12 18:09:12.000</td><td>SDO</td><td>AIA</td><td>94.0 .. 94.0</td><td>JSOC</td><td>intensity</td><td>NARROW</td><td>4096</td><td>4096</td><td>FULLDISK</td><td>2973.82812</td><td>S</td><td>AIA level 1, 4096x4096 [46 records] [0 eclipse] [0 darks] [2.902 to 2.902 exposure] [100.00 avg. percentd]</td></tr>\n",
       "<tr><td>2021-02-12 18:00:14.000</td><td>2021-02-12 18:09:03.000</td><td>SDO</td><td>AIA</td><td>1600.0 .. 1600.0</td><td>JSOC</td><td>intensity</td><td>NARROW</td><td>4096</td><td>4096</td><td>FULLDISK</td><td>1486.91406</td><td>S</td><td>AIA level 1, 4096x4096 [23 records] [0 eclipse] [0 darks] [2.901 to 2.901 exposure] [100.00 avg. percentd]</td></tr>\n",
       "<tr><td>...</td><td>...</td><td>...</td><td>...</td><td>...</td><td>...</td><td>...</td><td>...</td><td>...</td><td>...</td><td>...</td><td>...</td><td>...</td><td>...</td></tr>\n",
       "<tr><td>2021-02-12 22:49:40.000</td><td>2021-02-12 22:59:17.000</td><td>SDO</td><td>AIA</td><td>1700.0 .. 1700.0</td><td>JSOC</td><td>intensity</td><td>NARROW</td><td>4096</td><td>4096</td><td>FULLDISK</td><td>1616.21094</td><td>S</td><td>AIA level 1, 4096x4096 [25 records] [0 eclipse] [0 darks] [1.001 to 1.001 exposure] [100.00 avg. percentd]</td></tr>\n",
       "<tr><td>2021-02-12 22:59:21.000</td><td>2021-02-12 22:59:58.000</td><td>SDO</td><td>AIA</td><td>211.0 .. 211.0</td><td>JSOC</td><td>intensity</td><td>NARROW</td><td>4096</td><td>4096</td><td>FULLDISK</td><td>258.59375</td><td>S</td><td>AIA level 1, 4096x4096 [4 records] [0 eclipse] [0 darks] [2.901 to 2.901 exposure] [100.00 avg. percentd]</td></tr>\n",
       "<tr><td>2021-02-12 22:59:23.000</td><td>2021-02-12 23:00:00.000</td><td>SDO</td><td>AIA</td><td>94.0 .. 94.0</td><td>JSOC</td><td>intensity</td><td>NARROW</td><td>4096</td><td>4096</td><td>FULLDISK</td><td>258.59375</td><td>S</td><td>AIA level 1, 4096x4096 [4 records] [0 eclipse] [0 darks] [2.902 to 2.902 exposure] [100.00 avg. percentd]</td></tr>\n",
       "<tr><td>2021-02-12 22:59:24.000</td><td>2021-02-12 23:00:01.000</td><td>SDO</td><td>AIA</td><td>335.0 .. 335.0</td><td>JSOC</td><td>intensity</td><td>NARROW</td><td>4096</td><td>4096</td><td>FULLDISK</td><td>258.59375</td><td>S</td><td>AIA level 1, 4096x4096 [4 records] [0 eclipse] [0 darks] [2.901 to 2.901 exposure] [100.00 avg. percentd]</td></tr>\n",
       "<tr><td>2021-02-12 22:59:26.000</td><td>2021-02-12 22:59:51.000</td><td>SDO</td><td>AIA</td><td>1600.0 .. 1600.0</td><td>JSOC</td><td>intensity</td><td>NARROW</td><td>4096</td><td>4096</td><td>FULLDISK</td><td>129.29688</td><td>S</td><td>AIA level 1, 4096x4096 [2 records] [0 eclipse] [0 darks] [2.901 to 2.901 exposure] [100.00 avg. percentd]</td></tr>\n",
       "<tr><td>2021-02-12 22:59:28.000</td><td>2021-02-12 22:59:53.000</td><td>SDO</td><td>AIA</td><td>193.0 .. 193.0</td><td>JSOC</td><td>intensity</td><td>NARROW</td><td>4096</td><td>4096</td><td>FULLDISK</td><td>193.94531</td><td>S</td><td>AIA level 1, 4096x4096 [3 records] [0 eclipse] [0 darks] [2.000 to 2.000 exposure] [100.00 avg. percentd]</td></tr>\n",
       "<tr><td>2021-02-12 22:59:29.000</td><td>2021-02-12 22:59:54.000</td><td>SDO</td><td>AIA</td><td>304.0 .. 304.0</td><td>JSOC</td><td>intensity</td><td>NARROW</td><td>4096</td><td>4096</td><td>FULLDISK</td><td>193.94531</td><td>S</td><td>AIA level 1, 4096x4096 [3 records] [0 eclipse] [0 darks] [2.901 to 2.901 exposure] [100.00 avg. percentd]</td></tr>\n",
       "<tr><td>2021-02-12 22:59:30.000</td><td>2021-02-12 22:59:55.000</td><td>SDO</td><td>AIA</td><td>131.0 .. 131.0</td><td>JSOC</td><td>intensity</td><td>NARROW</td><td>4096</td><td>4096</td><td>FULLDISK</td><td>193.94531</td><td>S</td><td>AIA level 1, 4096x4096 [3 records] [0 eclipse] [0 darks] [2.901 to 2.901 exposure] [100.00 avg. percentd]</td></tr>\n",
       "<tr><td>2021-02-12 22:59:33.000</td><td>2021-02-12 22:59:58.000</td><td>SDO</td><td>AIA</td><td>171.0 .. 171.0</td><td>JSOC</td><td>intensity</td><td>NARROW</td><td>4096</td><td>4096</td><td>FULLDISK</td><td>193.94531</td><td>S</td><td>AIA level 1, 4096x4096 [3 records] [0 eclipse] [0 darks] [2.000 to 2.000 exposure] [100.00 avg. percentd]</td></tr>\n",
       "<tr><td>2021-02-12 22:59:40.000</td><td>2021-02-12 22:59:41.000</td><td>SDO</td><td>AIA</td><td>1700.0 .. 1700.0</td><td>JSOC</td><td>intensity</td><td>NARROW</td><td>4096</td><td>4096</td><td>FULLDISK</td><td>64.64844</td><td>S</td><td>AIA level 1, 4096x4096 [1.001 exposure] [100.00 percentd]</td></tr>\n",
       "</table></div></br>"
      ],
      "text/plain": [
       "<sunpy.net.fido_factory.UnifiedResponse object at 0x7fdd89dd36d0>\n",
       "Results from 1 Provider:\n",
       "\n",
       "283 Results from the VSOClient:\n",
       "Source: http://vso.stanford.edu/cgi-bin/search\n",
       "Total estimated size: 813.533 Gbyte\n",
       "\n",
       "       Start Time       ...\n",
       "                        ...\n",
       "----------------------- ...\n",
       "2021-02-12 18:00:00.000 ...\n",
       "2021-02-12 18:00:04.000 ...\n",
       "2021-02-12 18:00:05.000 ...\n",
       "2021-02-12 18:00:05.000 ...\n",
       "2021-02-12 18:00:06.000 ...\n",
       "2021-02-12 18:00:09.000 ...\n",
       "2021-02-12 18:00:09.000 ...\n",
       "2021-02-12 18:00:11.000 ...\n",
       "2021-02-12 18:00:14.000 ...\n",
       "2021-02-12 18:00:28.000 ...\n",
       "                    ... ...\n",
       "2021-02-12 22:49:40.000 ...\n",
       "2021-02-12 22:59:21.000 ...\n",
       "2021-02-12 22:59:23.000 ...\n",
       "2021-02-12 22:59:24.000 ...\n",
       "2021-02-12 22:59:26.000 ...\n",
       "2021-02-12 22:59:28.000 ...\n",
       "2021-02-12 22:59:29.000 ...\n",
       "2021-02-12 22:59:30.000 ...\n",
       "2021-02-12 22:59:33.000 ...\n",
       "2021-02-12 22:59:40.000 ...\n",
       "Length = 283 rows\n"
      ]
     },
     "execution_count": 12,
     "metadata": {},
     "output_type": "execute_result"
    }
   ],
   "source": [
    "result"
   ]
  },
  {
   "cell_type": "markdown",
   "id": "1f213a9f",
   "metadata": {},
   "source": [
    "Now lets make our query a bit more specific, say, say we only want one wavelength band from AIA. This can be achieved by specifying the `Wavelength` attribute within the search. The `Wavelength` attribute is passed as an astropy Quantity:"
   ]
  },
  {
   "cell_type": "code",
   "execution_count": 13,
   "id": "abfbe41d",
   "metadata": {},
   "outputs": [],
   "source": [
    "result = Fido.search(a.Time(\"2021-02-12 18:00\", \"2021-02-12 23:00\"), \n",
    "                     a.Instrument(\"AIA\"), \n",
    "                     a.Wavelength(171*u.angstrom))"
   ]
  },
  {
   "cell_type": "code",
   "execution_count": 14,
   "id": "1475b4ce",
   "metadata": {},
   "outputs": [
    {
     "data": {
      "text/html": [
       "Results from 1 Provider:</br></br>1500 Results from the VSOClient:</br><div><i>VSOQueryResponseTable length=1500</i>\n",
       "<table id=\"table140589466702368\" class=\"table-striped table-bordered table-condensed\">\n",
       "<thead><tr><th>Start Time</th><th>End Time</th><th>Source</th><th>Instrument</th><th>Wavelength [2]</th><th>Provider</th><th>Physobs</th><th>Wavetype</th><th>Extent Width</th><th>Extent Length</th><th>Extent Type</th><th>Size</th><th>Info</th></tr></thead>\n",
       "<thead><tr><th></th><th></th><th></th><th></th><th>Angstrom</th><th></th><th></th><th></th><th></th><th></th><th></th><th>Mibyte</th><th></th></tr></thead>\n",
       "<thead><tr><th>Time</th><th>Time</th><th>str3</th><th>str3</th><th>float64</th><th>str4</th><th>str9</th><th>str6</th><th>str4</th><th>str4</th><th>str8</th><th>float64</th><th>str64</th></tr></thead>\n",
       "<tr><td>2021-02-12 18:00:09.000</td><td>2021-02-12 18:00:10.000</td><td>SDO</td><td>AIA</td><td>171.0 .. 171.0</td><td>JSOC</td><td>intensity</td><td>NARROW</td><td>4096</td><td>4096</td><td>FULLDISK</td><td>64.64844</td><td>AIA level 1, 4096x4096 [2.000 exposure] [100.00 percentd]</td></tr>\n",
       "<tr><td>2021-02-12 18:00:21.000</td><td>2021-02-12 18:00:22.000</td><td>SDO</td><td>AIA</td><td>171.0 .. 171.0</td><td>JSOC</td><td>intensity</td><td>NARROW</td><td>4096</td><td>4096</td><td>FULLDISK</td><td>64.64844</td><td>AIA level 1, 4096x4096 [2.000 exposure] [100.00 percentd]</td></tr>\n",
       "<tr><td>2021-02-12 18:00:33.000</td><td>2021-02-12 18:00:34.000</td><td>SDO</td><td>AIA</td><td>171.0 .. 171.0</td><td>JSOC</td><td>intensity</td><td>NARROW</td><td>4096</td><td>4096</td><td>FULLDISK</td><td>64.64844</td><td>AIA level 1, 4096x4096 [2.000 exposure] [100.00 percentd]</td></tr>\n",
       "<tr><td>2021-02-12 18:00:45.000</td><td>2021-02-12 18:00:46.000</td><td>SDO</td><td>AIA</td><td>171.0 .. 171.0</td><td>JSOC</td><td>intensity</td><td>NARROW</td><td>4096</td><td>4096</td><td>FULLDISK</td><td>64.64844</td><td>AIA level 1, 4096x4096 [2.000 exposure] [100.00 percentd]</td></tr>\n",
       "<tr><td>2021-02-12 18:00:57.000</td><td>2021-02-12 18:00:58.000</td><td>SDO</td><td>AIA</td><td>171.0 .. 171.0</td><td>JSOC</td><td>intensity</td><td>NARROW</td><td>4096</td><td>4096</td><td>FULLDISK</td><td>64.64844</td><td>AIA level 1, 4096x4096 [2.000 exposure] [100.00 percentd]</td></tr>\n",
       "<tr><td>2021-02-12 18:01:09.000</td><td>2021-02-12 18:01:10.000</td><td>SDO</td><td>AIA</td><td>171.0 .. 171.0</td><td>JSOC</td><td>intensity</td><td>NARROW</td><td>4096</td><td>4096</td><td>FULLDISK</td><td>64.64844</td><td>AIA level 1, 4096x4096 [2.000 exposure] [100.00 percentd]</td></tr>\n",
       "<tr><td>2021-02-12 18:01:21.000</td><td>2021-02-12 18:01:22.000</td><td>SDO</td><td>AIA</td><td>171.0 .. 171.0</td><td>JSOC</td><td>intensity</td><td>NARROW</td><td>4096</td><td>4096</td><td>FULLDISK</td><td>64.64844</td><td>AIA level 1, 4096x4096 [2.000 exposure] [100.00 percentd]</td></tr>\n",
       "<tr><td>2021-02-12 18:01:33.000</td><td>2021-02-12 18:01:34.000</td><td>SDO</td><td>AIA</td><td>171.0 .. 171.0</td><td>JSOC</td><td>intensity</td><td>NARROW</td><td>4096</td><td>4096</td><td>FULLDISK</td><td>64.64844</td><td>AIA level 1, 4096x4096 [2.000 exposure] [100.00 percentd]</td></tr>\n",
       "<tr><td>2021-02-12 18:01:45.000</td><td>2021-02-12 18:01:46.000</td><td>SDO</td><td>AIA</td><td>171.0 .. 171.0</td><td>JSOC</td><td>intensity</td><td>NARROW</td><td>4096</td><td>4096</td><td>FULLDISK</td><td>64.64844</td><td>AIA level 1, 4096x4096 [2.000 exposure] [100.00 percentd]</td></tr>\n",
       "<tr><td>...</td><td>...</td><td>...</td><td>...</td><td>...</td><td>...</td><td>...</td><td>...</td><td>...</td><td>...</td><td>...</td><td>...</td><td>...</td></tr>\n",
       "<tr><td>2021-02-12 22:58:09.000</td><td>2021-02-12 22:58:10.000</td><td>SDO</td><td>AIA</td><td>171.0 .. 171.0</td><td>JSOC</td><td>intensity</td><td>NARROW</td><td>4096</td><td>4096</td><td>FULLDISK</td><td>64.64844</td><td>AIA level 1, 4096x4096 [2.000 exposure] [100.00 percentd]</td></tr>\n",
       "<tr><td>2021-02-12 22:58:21.000</td><td>2021-02-12 22:58:22.000</td><td>SDO</td><td>AIA</td><td>171.0 .. 171.0</td><td>JSOC</td><td>intensity</td><td>NARROW</td><td>4096</td><td>4096</td><td>FULLDISK</td><td>64.64844</td><td>AIA level 1, 4096x4096 [2.000 exposure] [100.00 percentd]</td></tr>\n",
       "<tr><td>2021-02-12 22:58:33.000</td><td>2021-02-12 22:58:34.000</td><td>SDO</td><td>AIA</td><td>171.0 .. 171.0</td><td>JSOC</td><td>intensity</td><td>NARROW</td><td>4096</td><td>4096</td><td>FULLDISK</td><td>64.64844</td><td>AIA level 1, 4096x4096 [2.000 exposure] [100.00 percentd]</td></tr>\n",
       "<tr><td>2021-02-12 22:58:45.000</td><td>2021-02-12 22:58:46.000</td><td>SDO</td><td>AIA</td><td>171.0 .. 171.0</td><td>JSOC</td><td>intensity</td><td>NARROW</td><td>4096</td><td>4096</td><td>FULLDISK</td><td>64.64844</td><td>AIA level 1, 4096x4096 [2.000 exposure] [100.00 percentd]</td></tr>\n",
       "<tr><td>2021-02-12 22:58:57.000</td><td>2021-02-12 22:58:58.000</td><td>SDO</td><td>AIA</td><td>171.0 .. 171.0</td><td>JSOC</td><td>intensity</td><td>NARROW</td><td>4096</td><td>4096</td><td>FULLDISK</td><td>64.64844</td><td>AIA level 1, 4096x4096 [2.000 exposure] [100.00 percentd]</td></tr>\n",
       "<tr><td>2021-02-12 22:59:09.000</td><td>2021-02-12 22:59:10.000</td><td>SDO</td><td>AIA</td><td>171.0 .. 171.0</td><td>JSOC</td><td>intensity</td><td>NARROW</td><td>4096</td><td>4096</td><td>FULLDISK</td><td>64.64844</td><td>AIA level 1, 4096x4096 [2.000 exposure] [100.00 percentd]</td></tr>\n",
       "<tr><td>2021-02-12 22:59:21.000</td><td>2021-02-12 22:59:22.000</td><td>SDO</td><td>AIA</td><td>171.0 .. 171.0</td><td>JSOC</td><td>intensity</td><td>NARROW</td><td>4096</td><td>4096</td><td>FULLDISK</td><td>64.64844</td><td>AIA level 1, 4096x4096 [2.000 exposure] [100.00 percentd]</td></tr>\n",
       "<tr><td>2021-02-12 22:59:33.000</td><td>2021-02-12 22:59:34.000</td><td>SDO</td><td>AIA</td><td>171.0 .. 171.0</td><td>JSOC</td><td>intensity</td><td>NARROW</td><td>4096</td><td>4096</td><td>FULLDISK</td><td>64.64844</td><td>AIA level 1, 4096x4096 [2.000 exposure] [100.00 percentd]</td></tr>\n",
       "<tr><td>2021-02-12 22:59:45.000</td><td>2021-02-12 22:59:46.000</td><td>SDO</td><td>AIA</td><td>171.0 .. 171.0</td><td>JSOC</td><td>intensity</td><td>NARROW</td><td>4096</td><td>4096</td><td>FULLDISK</td><td>64.64844</td><td>AIA level 1, 4096x4096 [2.000 exposure] [100.00 percentd]</td></tr>\n",
       "<tr><td>2021-02-12 22:59:57.000</td><td>2021-02-12 22:59:58.000</td><td>SDO</td><td>AIA</td><td>171.0 .. 171.0</td><td>JSOC</td><td>intensity</td><td>NARROW</td><td>4096</td><td>4096</td><td>FULLDISK</td><td>64.64844</td><td>AIA level 1, 4096x4096 [2.000 exposure] [100.00 percentd]</td></tr>\n",
       "</table></div></br>"
      ],
      "text/plain": [
       "<sunpy.net.fido_factory.UnifiedResponse object at 0x7fdd899b3fd0>\n",
       "Results from 1 Provider:\n",
       "\n",
       "1500 Results from the VSOClient:\n",
       "Source: http://vso.stanford.edu/cgi-bin/search\n",
       "Total estimated size: 101.683 Gbyte\n",
       "\n",
       "       Start Time       ...\n",
       "                        ...\n",
       "----------------------- ...\n",
       "2021-02-12 18:00:09.000 ...\n",
       "2021-02-12 18:00:21.000 ...\n",
       "2021-02-12 18:00:33.000 ...\n",
       "2021-02-12 18:00:45.000 ...\n",
       "2021-02-12 18:00:57.000 ...\n",
       "2021-02-12 18:01:09.000 ...\n",
       "2021-02-12 18:01:21.000 ...\n",
       "2021-02-12 18:01:33.000 ...\n",
       "2021-02-12 18:01:45.000 ...\n",
       "2021-02-12 18:01:57.000 ...\n",
       "                    ... ...\n",
       "2021-02-12 22:58:09.000 ...\n",
       "2021-02-12 22:58:21.000 ...\n",
       "2021-02-12 22:58:33.000 ...\n",
       "2021-02-12 22:58:45.000 ...\n",
       "2021-02-12 22:58:57.000 ...\n",
       "2021-02-12 22:59:09.000 ...\n",
       "2021-02-12 22:59:21.000 ...\n",
       "2021-02-12 22:59:33.000 ...\n",
       "2021-02-12 22:59:45.000 ...\n",
       "2021-02-12 22:59:57.000 ...\n",
       "Length = 1500 rows\n"
      ]
     },
     "execution_count": 14,
     "metadata": {},
     "output_type": "execute_result"
    }
   ],
   "source": [
    "result"
   ]
  },
  {
   "cell_type": "markdown",
   "id": "414f2640",
   "metadata": {},
   "source": [
    "We can further specify this query by choosing the cadence (time-sampling) of the data we want to search for and download. This can be achieved by using the `Sample` attribute. Similar to the `Wavelength` attributes, this needs to be an `astropy Quantity`. Lets further specify the search above to only search for data with a cadence of 2 minutes."
   ]
  },
  {
   "cell_type": "code",
   "execution_count": 15,
   "id": "5fb4038b",
   "metadata": {},
   "outputs": [],
   "source": [
    "result = Fido.search(a.Time(\"2021-02-12 18:00\", \"2021-02-12 23:00\"), \n",
    "                     a.Instrument(\"AIA\"), \n",
    "                     a.Wavelength(171*u.angstrom),\n",
    "                     a.Sample(10*u.min))"
   ]
  },
  {
   "cell_type": "code",
   "execution_count": 16,
   "id": "e8a81bc5",
   "metadata": {},
   "outputs": [
    {
     "data": {
      "text/html": [
       "Results from 1 Provider:</br></br>30 Results from the VSOClient:</br><div><i>VSOQueryResponseTable length=30</i>\n",
       "<table id=\"table140589464936560\" class=\"table-striped table-bordered table-condensed\">\n",
       "<thead><tr><th>Start Time</th><th>End Time</th><th>Source</th><th>Instrument</th><th>Wavelength [2]</th><th>Provider</th><th>Physobs</th><th>Wavetype</th><th>Extent Width</th><th>Extent Length</th><th>Extent Type</th><th>Size</th><th>Info</th></tr></thead>\n",
       "<thead><tr><th></th><th></th><th></th><th></th><th>Angstrom</th><th></th><th></th><th></th><th></th><th></th><th></th><th>Mibyte</th><th></th></tr></thead>\n",
       "<thead><tr><th>Time</th><th>Time</th><th>str3</th><th>str3</th><th>float64</th><th>str4</th><th>str9</th><th>str6</th><th>str4</th><th>str4</th><th>str8</th><th>float64</th><th>str64</th></tr></thead>\n",
       "<tr><td>2021-02-12 18:00:09.000</td><td>2021-02-12 18:00:10.000</td><td>SDO</td><td>AIA</td><td>171.0 .. 171.0</td><td>JSOC</td><td>intensity</td><td>NARROW</td><td>4096</td><td>4096</td><td>FULLDISK</td><td>64.64844</td><td>AIA level 1, 4096x4096 [2.000 exposure] [100.00 percentd]</td></tr>\n",
       "<tr><td>2021-02-12 18:10:09.000</td><td>2021-02-12 18:10:10.000</td><td>SDO</td><td>AIA</td><td>171.0 .. 171.0</td><td>JSOC</td><td>intensity</td><td>NARROW</td><td>4096</td><td>4096</td><td>FULLDISK</td><td>64.64844</td><td>AIA level 1, 4096x4096 [2.000 exposure] [100.00 percentd]</td></tr>\n",
       "<tr><td>2021-02-12 18:20:09.000</td><td>2021-02-12 18:20:10.000</td><td>SDO</td><td>AIA</td><td>171.0 .. 171.0</td><td>JSOC</td><td>intensity</td><td>NARROW</td><td>4096</td><td>4096</td><td>FULLDISK</td><td>64.64844</td><td>AIA level 1, 4096x4096 [2.000 exposure] [100.00 percentd]</td></tr>\n",
       "<tr><td>2021-02-12 18:30:09.000</td><td>2021-02-12 18:30:10.000</td><td>SDO</td><td>AIA</td><td>171.0 .. 171.0</td><td>JSOC</td><td>intensity</td><td>NARROW</td><td>4096</td><td>4096</td><td>FULLDISK</td><td>64.64844</td><td>AIA level 1, 4096x4096 [2.000 exposure] [100.00 percentd]</td></tr>\n",
       "<tr><td>2021-02-12 18:40:09.000</td><td>2021-02-12 18:40:10.000</td><td>SDO</td><td>AIA</td><td>171.0 .. 171.0</td><td>JSOC</td><td>intensity</td><td>NARROW</td><td>4096</td><td>4096</td><td>FULLDISK</td><td>64.64844</td><td>AIA level 1, 4096x4096 [2.000 exposure] [100.00 percentd]</td></tr>\n",
       "<tr><td>2021-02-12 18:50:09.000</td><td>2021-02-12 18:50:10.000</td><td>SDO</td><td>AIA</td><td>171.0 .. 171.0</td><td>JSOC</td><td>intensity</td><td>NARROW</td><td>4096</td><td>4096</td><td>FULLDISK</td><td>64.64844</td><td>AIA level 1, 4096x4096 [2.000 exposure] [100.00 percentd]</td></tr>\n",
       "<tr><td>2021-02-12 19:00:09.000</td><td>2021-02-12 19:00:10.000</td><td>SDO</td><td>AIA</td><td>171.0 .. 171.0</td><td>JSOC</td><td>intensity</td><td>NARROW</td><td>4096</td><td>4096</td><td>FULLDISK</td><td>64.64844</td><td>AIA level 1, 4096x4096 [2.000 exposure] [100.00 percentd]</td></tr>\n",
       "<tr><td>2021-02-12 19:10:09.000</td><td>2021-02-12 19:10:10.000</td><td>SDO</td><td>AIA</td><td>171.0 .. 171.0</td><td>JSOC</td><td>intensity</td><td>NARROW</td><td>4096</td><td>4096</td><td>FULLDISK</td><td>64.64844</td><td>AIA level 1, 4096x4096 [2.000 exposure] [100.00 percentd]</td></tr>\n",
       "<tr><td>2021-02-12 19:20:09.000</td><td>2021-02-12 19:20:10.000</td><td>SDO</td><td>AIA</td><td>171.0 .. 171.0</td><td>JSOC</td><td>intensity</td><td>NARROW</td><td>4096</td><td>4096</td><td>FULLDISK</td><td>64.64844</td><td>AIA level 1, 4096x4096 [2.000 exposure] [100.00 percentd]</td></tr>\n",
       "<tr><td>...</td><td>...</td><td>...</td><td>...</td><td>...</td><td>...</td><td>...</td><td>...</td><td>...</td><td>...</td><td>...</td><td>...</td><td>...</td></tr>\n",
       "<tr><td>2021-02-12 21:20:09.000</td><td>2021-02-12 21:20:10.000</td><td>SDO</td><td>AIA</td><td>171.0 .. 171.0</td><td>JSOC</td><td>intensity</td><td>NARROW</td><td>4096</td><td>4096</td><td>FULLDISK</td><td>64.64844</td><td>AIA level 1, 4096x4096 [2.000 exposure] [100.00 percentd]</td></tr>\n",
       "<tr><td>2021-02-12 21:30:09.000</td><td>2021-02-12 21:30:10.000</td><td>SDO</td><td>AIA</td><td>171.0 .. 171.0</td><td>JSOC</td><td>intensity</td><td>NARROW</td><td>4096</td><td>4096</td><td>FULLDISK</td><td>64.64844</td><td>AIA level 1, 4096x4096 [2.000 exposure] [100.00 percentd]</td></tr>\n",
       "<tr><td>2021-02-12 21:40:09.000</td><td>2021-02-12 21:40:10.000</td><td>SDO</td><td>AIA</td><td>171.0 .. 171.0</td><td>JSOC</td><td>intensity</td><td>NARROW</td><td>4096</td><td>4096</td><td>FULLDISK</td><td>64.64844</td><td>AIA level 1, 4096x4096 [2.000 exposure] [100.00 percentd]</td></tr>\n",
       "<tr><td>2021-02-12 21:50:09.000</td><td>2021-02-12 21:50:10.000</td><td>SDO</td><td>AIA</td><td>171.0 .. 171.0</td><td>JSOC</td><td>intensity</td><td>NARROW</td><td>4096</td><td>4096</td><td>FULLDISK</td><td>64.64844</td><td>AIA level 1, 4096x4096 [2.000 exposure] [100.00 percentd]</td></tr>\n",
       "<tr><td>2021-02-12 22:00:09.000</td><td>2021-02-12 22:00:10.000</td><td>SDO</td><td>AIA</td><td>171.0 .. 171.0</td><td>JSOC</td><td>intensity</td><td>NARROW</td><td>4096</td><td>4096</td><td>FULLDISK</td><td>64.64844</td><td>AIA level 1, 4096x4096 [2.000 exposure] [100.00 percentd]</td></tr>\n",
       "<tr><td>2021-02-12 22:10:09.000</td><td>2021-02-12 22:10:10.000</td><td>SDO</td><td>AIA</td><td>171.0 .. 171.0</td><td>JSOC</td><td>intensity</td><td>NARROW</td><td>4096</td><td>4096</td><td>FULLDISK</td><td>64.64844</td><td>AIA level 1, 4096x4096 [2.000 exposure] [100.00 percentd]</td></tr>\n",
       "<tr><td>2021-02-12 22:20:09.000</td><td>2021-02-12 22:20:10.000</td><td>SDO</td><td>AIA</td><td>171.0 .. 171.0</td><td>JSOC</td><td>intensity</td><td>NARROW</td><td>4096</td><td>4096</td><td>FULLDISK</td><td>64.64844</td><td>AIA level 1, 4096x4096 [2.000 exposure] [100.00 percentd]</td></tr>\n",
       "<tr><td>2021-02-12 22:30:09.000</td><td>2021-02-12 22:30:10.000</td><td>SDO</td><td>AIA</td><td>171.0 .. 171.0</td><td>JSOC</td><td>intensity</td><td>NARROW</td><td>4096</td><td>4096</td><td>FULLDISK</td><td>64.64844</td><td>AIA level 1, 4096x4096 [2.000 exposure] [100.00 percentd]</td></tr>\n",
       "<tr><td>2021-02-12 22:40:09.000</td><td>2021-02-12 22:40:10.000</td><td>SDO</td><td>AIA</td><td>171.0 .. 171.0</td><td>JSOC</td><td>intensity</td><td>NARROW</td><td>4096</td><td>4096</td><td>FULLDISK</td><td>64.64844</td><td>AIA level 1, 4096x4096 [2.000 exposure] [100.00 percentd]</td></tr>\n",
       "<tr><td>2021-02-12 22:50:09.000</td><td>2021-02-12 22:50:10.000</td><td>SDO</td><td>AIA</td><td>171.0 .. 171.0</td><td>JSOC</td><td>intensity</td><td>NARROW</td><td>4096</td><td>4096</td><td>FULLDISK</td><td>64.64844</td><td>AIA level 1, 4096x4096 [2.000 exposure] [100.00 percentd]</td></tr>\n",
       "</table></div></br>"
      ],
      "text/plain": [
       "<sunpy.net.fido_factory.UnifiedResponse object at 0x7fdd89395580>\n",
       "Results from 1 Provider:\n",
       "\n",
       "30 Results from the VSOClient:\n",
       "Source: http://vso.stanford.edu/cgi-bin/search\n",
       "Total estimated size: 2.034 Gbyte\n",
       "\n",
       "       Start Time       ...\n",
       "                        ...\n",
       "----------------------- ...\n",
       "2021-02-12 18:00:09.000 ...\n",
       "2021-02-12 18:10:09.000 ...\n",
       "2021-02-12 18:20:09.000 ...\n",
       "2021-02-12 18:30:09.000 ...\n",
       "2021-02-12 18:40:09.000 ...\n",
       "2021-02-12 18:50:09.000 ...\n",
       "2021-02-12 19:00:09.000 ...\n",
       "2021-02-12 19:10:09.000 ...\n",
       "2021-02-12 19:20:09.000 ...\n",
       "2021-02-12 19:30:09.000 ...\n",
       "                    ... ...\n",
       "2021-02-12 21:20:09.000 ...\n",
       "2021-02-12 21:30:09.000 ...\n",
       "2021-02-12 21:40:09.000 ...\n",
       "2021-02-12 21:50:09.000 ...\n",
       "2021-02-12 22:00:09.000 ...\n",
       "2021-02-12 22:10:09.000 ...\n",
       "2021-02-12 22:20:09.000 ...\n",
       "2021-02-12 22:30:09.000 ...\n",
       "2021-02-12 22:40:09.000 ...\n",
       "2021-02-12 22:50:09.000 ...\n",
       "Length = 30 rows\n"
      ]
     },
     "execution_count": 16,
     "metadata": {},
     "output_type": "execute_result"
    }
   ],
   "source": [
    "result"
   ]
  },
  {
   "cell_type": "markdown",
   "id": "7c0a5c3e",
   "metadata": {},
   "source": [
    "## 4. Dealing with search results and the `UnifiedResponse`\n",
    "\n",
    "So far we have shown how queries can be constructed and returned as a `UnifiedResponse` object. This object can then be passed to `fido.fetch` to download the data. However lets first inspect the `UnifiedResponse` object to get a better idea of what it consists of. \n",
    "\n",
    "From above, we can see that what is returned from a `Fido.search` is the `UnifiedResponse` object that consists of a one record (for a simple query) or multiple records depending on the search. These records (stored as tables) can be accessed by indexing the `UnifiedResponse` object. It acts both like a two dimensional array, where the first dimension is the response index and the second index is the row index, and a dictionary where you can index the responses by the name of the client. \n",
    "\n",
    "\n",
    "In this case here, we only have one query returned as it was a simple query for AIA data"
   ]
  },
  {
   "cell_type": "code",
   "execution_count": 17,
   "id": "375011d9",
   "metadata": {},
   "outputs": [
    {
     "data": {
      "text/plain": [
       "30"
      ]
     },
     "execution_count": 17,
     "metadata": {},
     "output_type": "execute_result"
    }
   ],
   "source": [
    "result.file_num"
   ]
  },
  {
   "cell_type": "markdown",
   "id": "38f8a5aa",
   "metadata": {},
   "source": [
    "As mentioned above the first index is the response index, and the second is the row, so we can pull out the individual rows. In this example, there is only one response (a simple query)\n",
    "\n",
    "So we can index to get the first row of the query results"
   ]
  },
  {
   "cell_type": "code",
   "execution_count": 18,
   "id": "8606b1fe",
   "metadata": {},
   "outputs": [
    {
     "data": {
      "text/html": [
       "<i>QueryResponseRow index=0</i>\n",
       "<table id=\"table140589464882816\">\n",
       "<thead><tr><th>Start Time</th><th>End Time</th><th>Source</th><th>Instrument</th><th>Wavelength [2]</th><th>Provider</th><th>Physobs</th><th>Wavetype</th><th>Extent Width</th><th>Extent Length</th><th>Extent Type</th><th>Size</th><th>Info</th><th>fileid</th></tr></thead>\n",
       "<thead><tr><th></th><th></th><th></th><th></th><th>Angstrom</th><th></th><th></th><th></th><th></th><th></th><th></th><th>Mibyte</th><th></th><th></th></tr></thead>\n",
       "<thead><tr><th>Time</th><th>Time</th><th>str3</th><th>str3</th><th>float64</th><th>str4</th><th>str9</th><th>str6</th><th>str4</th><th>str4</th><th>str8</th><th>float64</th><th>str64</th><th>str24</th></tr></thead>\n",
       "<tr><td>2021-02-12 18:00:09.000</td><td>2021-02-12 18:00:10.000</td><td>SDO</td><td>AIA</td><td>171.0 .. 171.0</td><td>JSOC</td><td>intensity</td><td>NARROW</td><td>4096</td><td>4096</td><td>FULLDISK</td><td>64.64844</td><td>AIA level 1, 4096x4096 [2.000 exposure] [100.00 percentd]</td><td>aia__lev1:171:1392228047</td></tr>\n",
       "</table>"
      ],
      "text/plain": [
       "<QueryResponseRow index=0>\n",
       "       Start Time               End Time        Source Instrument Wavelength [2] Provider  Physobs  Wavetype Extent Width Extent Length Extent Type   Size                              Info                                    fileid         \n",
       "                                                                     Angstrom                                                                        Mibyte                                                                                    \n",
       "          Time                    Time           str3     str3       float64       str4      str9     str6       str4          str4         str8    float64                            str64                                    str24          \n",
       "----------------------- ----------------------- ------ ---------- -------------- -------- --------- -------- ------------ ------------- ----------- -------- --------------------------------------------------------- ------------------------\n",
       "2021-02-12 18:00:09.000 2021-02-12 18:00:10.000    SDO        AIA 171.0 .. 171.0     JSOC intensity   NARROW         4096          4096    FULLDISK 64.64844 AIA level 1, 4096x4096 [2.000 exposure] [100.00 percentd] aia__lev1:171:1392228047"
      ]
     },
     "execution_count": 18,
     "metadata": {},
     "output_type": "execute_result"
    }
   ],
   "source": [
    "result[0, 0]"
   ]
  },
  {
   "cell_type": "markdown",
   "id": "96c16560",
   "metadata": {},
   "source": [
    "The normal slices operations that work with other Python sequences will also work here (i.e. result[0, ::5] will return every fifth row etc"
   ]
  },
  {
   "cell_type": "code",
   "execution_count": 20,
   "id": "87d437b3",
   "metadata": {},
   "outputs": [
    {
     "data": {
      "text/html": [
       "<div><i>VSOQueryResponseTable length=3</i>\n",
       "<table id=\"table140589464578848\" class=\"table-striped table-bordered table-condensed\">\n",
       "<thead><tr><th>Start Time</th><th>End Time</th><th>Source</th><th>Instrument</th><th>Wavelength [2]</th><th>Provider</th><th>Physobs</th><th>Wavetype</th><th>Extent Width</th><th>Extent Length</th><th>Extent Type</th><th>Size</th><th>Info</th></tr></thead>\n",
       "<thead><tr><th></th><th></th><th></th><th></th><th>Angstrom</th><th></th><th></th><th></th><th></th><th></th><th></th><th>Mibyte</th><th></th></tr></thead>\n",
       "<thead><tr><th>Time</th><th>Time</th><th>str3</th><th>str3</th><th>float64</th><th>str4</th><th>str9</th><th>str6</th><th>str4</th><th>str4</th><th>str8</th><th>float64</th><th>str64</th></tr></thead>\n",
       "<tr><td>2021-02-12 18:00:09.000</td><td>2021-02-12 18:00:10.000</td><td>SDO</td><td>AIA</td><td>171.0 .. 171.0</td><td>JSOC</td><td>intensity</td><td>NARROW</td><td>4096</td><td>4096</td><td>FULLDISK</td><td>64.64844</td><td>AIA level 1, 4096x4096 [2.000 exposure] [100.00 percentd]</td></tr>\n",
       "<tr><td>2021-02-12 19:40:09.000</td><td>2021-02-12 19:40:10.000</td><td>SDO</td><td>AIA</td><td>171.0 .. 171.0</td><td>JSOC</td><td>intensity</td><td>NARROW</td><td>4096</td><td>4096</td><td>FULLDISK</td><td>64.64844</td><td>AIA level 1, 4096x4096 [2.000 exposure] [100.00 percentd]</td></tr>\n",
       "<tr><td>2021-02-12 21:20:09.000</td><td>2021-02-12 21:20:10.000</td><td>SDO</td><td>AIA</td><td>171.0 .. 171.0</td><td>JSOC</td><td>intensity</td><td>NARROW</td><td>4096</td><td>4096</td><td>FULLDISK</td><td>64.64844</td><td>AIA level 1, 4096x4096 [2.000 exposure] [100.00 percentd]</td></tr>\n",
       "</table></div>"
      ],
      "text/plain": [
       "<sunpy.net.vso.table_response.VSOQueryResponseTable object at 0x7fdd891d0850>\n",
       "       Start Time       ...\n",
       "                        ...\n",
       "----------------------- ...\n",
       "2021-02-12 18:00:09.000 ...\n",
       "2021-02-12 19:40:09.000 ...\n",
       "2021-02-12 21:20:09.000 ..."
      ]
     },
     "execution_count": 20,
     "metadata": {},
     "output_type": "execute_result"
    }
   ],
   "source": [
    "result[0,::10]"
   ]
  },
  {
   "cell_type": "markdown",
   "id": "d20dc0ff",
   "metadata": {},
   "source": [
    "### Inspecting the result tables\n",
    "\n",
    "Each of these tables indexed from the `UnifiedResponse` object are `QueryResponseTable` objects which are just `astropy.table` objects that can easily interacted with (e.g. indexed, filtered etc).\n",
    "\n",
    "This is particularly handy when the results that are searched for are from metadata tables such as the HEK! But lets first look at how we can interact with the results table, and filter etc. Lets first look at how we can play around with each table"
   ]
  },
  {
   "cell_type": "code",
   "execution_count": 21,
   "id": "33c8b73f",
   "metadata": {},
   "outputs": [
    {
     "data": {
      "text/plain": [
       "['Start Time',\n",
       " 'End Time',\n",
       " 'Source',\n",
       " 'Instrument',\n",
       " 'Wavelength',\n",
       " 'Provider',\n",
       " 'Physobs',\n",
       " 'Wavetype',\n",
       " 'Extent Width',\n",
       " 'Extent Length',\n",
       " 'Extent Type',\n",
       " 'Size',\n",
       " 'Info',\n",
       " 'fileid']"
      ]
     },
     "execution_count": 21,
     "metadata": {},
     "output_type": "execute_result"
    }
   ],
   "source": [
    "result[0].colnames"
   ]
  },
  {
   "cell_type": "code",
   "execution_count": 22,
   "id": "5c2c8023",
   "metadata": {},
   "outputs": [
    {
     "data": {
      "text/plain": [
       "<Time object: scale='utc' format='iso' value=['2021-02-12 18:00:09.000' '2021-02-12 18:10:09.000'\n",
       " '2021-02-12 18:20:09.000' '2021-02-12 18:30:09.000'\n",
       " '2021-02-12 18:40:09.000' '2021-02-12 18:50:09.000'\n",
       " '2021-02-12 19:00:09.000' '2021-02-12 19:10:09.000'\n",
       " '2021-02-12 19:20:09.000' '2021-02-12 19:30:09.000'\n",
       " '2021-02-12 19:40:09.000' '2021-02-12 19:50:09.000'\n",
       " '2021-02-12 20:00:09.000' '2021-02-12 20:10:09.000'\n",
       " '2021-02-12 20:20:09.000' '2021-02-12 20:30:09.000'\n",
       " '2021-02-12 20:40:09.000' '2021-02-12 20:50:09.000'\n",
       " '2021-02-12 21:00:06.000' '2021-02-12 21:10:09.000'\n",
       " '2021-02-12 21:20:09.000' '2021-02-12 21:30:09.000'\n",
       " '2021-02-12 21:40:09.000' '2021-02-12 21:50:09.000'\n",
       " '2021-02-12 22:00:09.000' '2021-02-12 22:10:09.000'\n",
       " '2021-02-12 22:20:09.000' '2021-02-12 22:30:09.000'\n",
       " '2021-02-12 22:40:09.000' '2021-02-12 22:50:09.000']>"
      ]
     },
     "execution_count": 22,
     "metadata": {},
     "output_type": "execute_result"
    }
   ],
   "source": [
    "result[0][\"Start Time\"]"
   ]
  },
  {
   "cell_type": "markdown",
   "id": "e466c8d0",
   "metadata": {},
   "source": [
    "The responses can also be indexed like a dictionary (useful for more complex searches)"
   ]
  },
  {
   "cell_type": "code",
   "execution_count": 23,
   "id": "a52d2ee9",
   "metadata": {},
   "outputs": [
    {
     "data": {
      "text/html": [
       "<div><i>VSOQueryResponseTable length=6</i>\n",
       "<table id=\"table140589464684768\" class=\"table-striped table-bordered table-condensed\">\n",
       "<thead><tr><th>Start Time</th><th>End Time</th><th>Source</th><th>Instrument</th><th>Wavelength [2]</th><th>Provider</th><th>Physobs</th><th>Wavetype</th><th>Extent Width</th><th>Extent Length</th><th>Extent Type</th><th>Size</th><th>Info</th></tr></thead>\n",
       "<thead><tr><th></th><th></th><th></th><th></th><th>Angstrom</th><th></th><th></th><th></th><th></th><th></th><th></th><th>Mibyte</th><th></th></tr></thead>\n",
       "<thead><tr><th>Time</th><th>Time</th><th>str3</th><th>str3</th><th>float64</th><th>str4</th><th>str9</th><th>str6</th><th>str4</th><th>str4</th><th>str8</th><th>float64</th><th>str64</th></tr></thead>\n",
       "<tr><td>2021-02-12 18:00:09.000</td><td>2021-02-12 18:00:10.000</td><td>SDO</td><td>AIA</td><td>171.0 .. 171.0</td><td>JSOC</td><td>intensity</td><td>NARROW</td><td>4096</td><td>4096</td><td>FULLDISK</td><td>64.64844</td><td>AIA level 1, 4096x4096 [2.000 exposure] [100.00 percentd]</td></tr>\n",
       "<tr><td>2021-02-12 18:50:09.000</td><td>2021-02-12 18:50:10.000</td><td>SDO</td><td>AIA</td><td>171.0 .. 171.0</td><td>JSOC</td><td>intensity</td><td>NARROW</td><td>4096</td><td>4096</td><td>FULLDISK</td><td>64.64844</td><td>AIA level 1, 4096x4096 [2.000 exposure] [100.00 percentd]</td></tr>\n",
       "<tr><td>2021-02-12 19:40:09.000</td><td>2021-02-12 19:40:10.000</td><td>SDO</td><td>AIA</td><td>171.0 .. 171.0</td><td>JSOC</td><td>intensity</td><td>NARROW</td><td>4096</td><td>4096</td><td>FULLDISK</td><td>64.64844</td><td>AIA level 1, 4096x4096 [2.000 exposure] [100.00 percentd]</td></tr>\n",
       "<tr><td>2021-02-12 20:30:09.000</td><td>2021-02-12 20:30:10.000</td><td>SDO</td><td>AIA</td><td>171.0 .. 171.0</td><td>JSOC</td><td>intensity</td><td>NARROW</td><td>4096</td><td>4096</td><td>FULLDISK</td><td>64.64844</td><td>AIA level 1, 4096x4096 [2.000 exposure] [100.00 percentd]</td></tr>\n",
       "<tr><td>2021-02-12 21:20:09.000</td><td>2021-02-12 21:20:10.000</td><td>SDO</td><td>AIA</td><td>171.0 .. 171.0</td><td>JSOC</td><td>intensity</td><td>NARROW</td><td>4096</td><td>4096</td><td>FULLDISK</td><td>64.64844</td><td>AIA level 1, 4096x4096 [2.000 exposure] [100.00 percentd]</td></tr>\n",
       "<tr><td>2021-02-12 22:10:09.000</td><td>2021-02-12 22:10:10.000</td><td>SDO</td><td>AIA</td><td>171.0 .. 171.0</td><td>JSOC</td><td>intensity</td><td>NARROW</td><td>4096</td><td>4096</td><td>FULLDISK</td><td>64.64844</td><td>AIA level 1, 4096x4096 [2.000 exposure] [100.00 percentd]</td></tr>\n",
       "</table></div>"
      ],
      "text/plain": [
       "<sunpy.net.vso.table_response.VSOQueryResponseTable object at 0x7fdd89395d60>\n",
       "       Start Time       ...\n",
       "                        ...\n",
       "----------------------- ...\n",
       "2021-02-12 18:00:09.000 ...\n",
       "2021-02-12 18:50:09.000 ...\n",
       "2021-02-12 19:40:09.000 ...\n",
       "2021-02-12 20:30:09.000 ...\n",
       "2021-02-12 21:20:09.000 ...\n",
       "2021-02-12 22:10:09.000 ..."
      ]
     },
     "execution_count": 23,
     "metadata": {},
     "output_type": "execute_result"
    }
   ],
   "source": [
    "result[\"VSO\", ::5]"
   ]
  },
  {
   "cell_type": "markdown",
   "id": "b48c80e5",
   "metadata": {},
   "source": [
    "## 5.  More complex queries\n",
    "\n",
    "In addition to making a query to one client for one instrument, Fido allows the flexibility to search for data from multiple instruments, wavelengths, times etc, even when the data is being obtained through different clients.\n",
    "\n",
    "This query can be constructed by using the pipe `|` operator, which joins queries together just like the `OR` operator.\n",
    "\n",
    "Lets now make a query that searches for both GOES/XRS and Fermi/GBM data over a particular time period"
   ]
  },
  {
   "cell_type": "markdown",
   "id": "ccb2895d-664b-4f78-86dc-a61bb4fb9582",
   "metadata": {},
   "source": [
    "COMMENT from Sandy: Point out known warnings when they pop up."
   ]
  },
  {
   "cell_type": "code",
   "execution_count": 25,
   "id": "69883556",
   "metadata": {},
   "outputs": [
    {
     "name": "stderr",
     "output_type": "stream",
     "text": [
      "/home/jovyan/users_conda_envs/sunpy-tutorial/lib/python3.9/site-packages/astropy/table/table.py:3486: FutureWarning: elementwise == comparison failed and returning scalar instead; this will raise an error or perform elementwise comparison in the future.\n",
      "  result = self.as_array() == other\n"
     ]
    }
   ],
   "source": [
    "result = Fido.search(a.Time(\"2021-02-12 18:00\", \"2021-02-12 23:00\"), \n",
    "                     a.Instrument.xrs  | a.Instrument.gbm)"
   ]
  },
  {
   "cell_type": "code",
   "execution_count": 26,
   "id": "9adc006f",
   "metadata": {},
   "outputs": [
    {
     "data": {
      "text/html": [
       "Results from 2 Providers:</br></br>2 Results from the XRSClient:</br><div><i>QueryResponse length=2</i>\n",
       "<table id=\"table140589461920400\" class=\"table-striped table-bordered table-condensed\">\n",
       "<thead><tr><th>Start Time</th><th>End Time</th><th>Instrument</th><th>SatelliteNumber</th><th>Physobs</th><th>Source</th><th>Provider</th></tr></thead>\n",
       "<thead><tr><th>Time</th><th>Time</th><th>str3</th><th>int64</th><th>str10</th><th>str4</th><th>str4</th></tr></thead>\n",
       "<tr><td>2021-02-12 00:00:00.000</td><td>2021-02-12 23:59:59.999</td><td>XRS</td><td>16</td><td>irradiance</td><td>GOES</td><td>NOAA</td></tr>\n",
       "<tr><td>2021-02-12 00:00:00.000</td><td>2021-02-12 23:59:59.999</td><td>XRS</td><td>17</td><td>irradiance</td><td>GOES</td><td>NOAA</td></tr>\n",
       "</table></div></br>20 Results from the GBMClient:</br><div><i>QueryResponse length=20</i>\n",
       "<table id=\"table140589466737872\" class=\"table-striped table-bordered table-condensed\">\n",
       "<thead><tr><th>Start Time</th><th>End Time</th><th>Instrument</th><th>Physobs</th><th>Source</th><th>Provider</th><th>Resolution</th><th>Detector</th></tr></thead>\n",
       "<thead><tr><th>Time</th><th>Time</th><th>str3</th><th>str4</th><th>str5</th><th>str4</th><th>str5</th><th>str2</th></tr></thead>\n",
       "<tr><td>2021-02-12 00:00:00.000</td><td>2021-02-12 23:59:59.999</td><td>GBM</td><td>flux</td><td>FERMI</td><td>NASA</td><td>cspec</td><td>n0</td></tr>\n",
       "<tr><td>2021-02-12 00:00:00.000</td><td>2021-02-12 23:59:59.999</td><td>GBM</td><td>flux</td><td>FERMI</td><td>NASA</td><td>cspec</td><td>n1</td></tr>\n",
       "<tr><td>2021-02-12 00:00:00.000</td><td>2021-02-12 23:59:59.999</td><td>GBM</td><td>flux</td><td>FERMI</td><td>NASA</td><td>cspec</td><td>n2</td></tr>\n",
       "<tr><td>2021-02-12 00:00:00.000</td><td>2021-02-12 23:59:59.999</td><td>GBM</td><td>flux</td><td>FERMI</td><td>NASA</td><td>cspec</td><td>n3</td></tr>\n",
       "<tr><td>2021-02-12 00:00:00.000</td><td>2021-02-12 23:59:59.999</td><td>GBM</td><td>flux</td><td>FERMI</td><td>NASA</td><td>cspec</td><td>n4</td></tr>\n",
       "<tr><td>2021-02-12 00:00:00.000</td><td>2021-02-12 23:59:59.999</td><td>GBM</td><td>flux</td><td>FERMI</td><td>NASA</td><td>cspec</td><td>n5</td></tr>\n",
       "<tr><td>2021-02-12 00:00:00.000</td><td>2021-02-12 23:59:59.999</td><td>GBM</td><td>flux</td><td>FERMI</td><td>NASA</td><td>cspec</td><td>n6</td></tr>\n",
       "<tr><td>2021-02-12 00:00:00.000</td><td>2021-02-12 23:59:59.999</td><td>GBM</td><td>flux</td><td>FERMI</td><td>NASA</td><td>cspec</td><td>n7</td></tr>\n",
       "<tr><td>2021-02-12 00:00:00.000</td><td>2021-02-12 23:59:59.999</td><td>GBM</td><td>flux</td><td>FERMI</td><td>NASA</td><td>cspec</td><td>n8</td></tr>\n",
       "<tr><td>2021-02-12 00:00:00.000</td><td>2021-02-12 23:59:59.999</td><td>GBM</td><td>flux</td><td>FERMI</td><td>NASA</td><td>cspec</td><td>n9</td></tr>\n",
       "<tr><td>2021-02-12 00:00:00.000</td><td>2021-02-12 23:59:59.999</td><td>GBM</td><td>flux</td><td>FERMI</td><td>NASA</td><td>ctime</td><td>n0</td></tr>\n",
       "<tr><td>2021-02-12 00:00:00.000</td><td>2021-02-12 23:59:59.999</td><td>GBM</td><td>flux</td><td>FERMI</td><td>NASA</td><td>ctime</td><td>n1</td></tr>\n",
       "<tr><td>2021-02-12 00:00:00.000</td><td>2021-02-12 23:59:59.999</td><td>GBM</td><td>flux</td><td>FERMI</td><td>NASA</td><td>ctime</td><td>n2</td></tr>\n",
       "<tr><td>2021-02-12 00:00:00.000</td><td>2021-02-12 23:59:59.999</td><td>GBM</td><td>flux</td><td>FERMI</td><td>NASA</td><td>ctime</td><td>n3</td></tr>\n",
       "<tr><td>2021-02-12 00:00:00.000</td><td>2021-02-12 23:59:59.999</td><td>GBM</td><td>flux</td><td>FERMI</td><td>NASA</td><td>ctime</td><td>n4</td></tr>\n",
       "<tr><td>2021-02-12 00:00:00.000</td><td>2021-02-12 23:59:59.999</td><td>GBM</td><td>flux</td><td>FERMI</td><td>NASA</td><td>ctime</td><td>n5</td></tr>\n",
       "<tr><td>2021-02-12 00:00:00.000</td><td>2021-02-12 23:59:59.999</td><td>GBM</td><td>flux</td><td>FERMI</td><td>NASA</td><td>ctime</td><td>n6</td></tr>\n",
       "<tr><td>2021-02-12 00:00:00.000</td><td>2021-02-12 23:59:59.999</td><td>GBM</td><td>flux</td><td>FERMI</td><td>NASA</td><td>ctime</td><td>n7</td></tr>\n",
       "<tr><td>2021-02-12 00:00:00.000</td><td>2021-02-12 23:59:59.999</td><td>GBM</td><td>flux</td><td>FERMI</td><td>NASA</td><td>ctime</td><td>n8</td></tr>\n",
       "<tr><td>2021-02-12 00:00:00.000</td><td>2021-02-12 23:59:59.999</td><td>GBM</td><td>flux</td><td>FERMI</td><td>NASA</td><td>ctime</td><td>n9</td></tr>\n",
       "</table></div></br>"
      ],
      "text/plain": [
       "<sunpy.net.fido_factory.UnifiedResponse object at 0x7fdd88ef9b80>\n",
       "Results from 2 Providers:\n",
       "\n",
       "2 Results from the XRSClient:\n",
       "Source: https://umbra.nascom.nasa.gov/goes/fits\n",
       "\n",
       "       Start Time               End Time        Instrument ... Source Provider\n",
       "----------------------- ----------------------- ---------- ... ------ --------\n",
       "2021-02-12 00:00:00.000 2021-02-12 23:59:59.999        XRS ...   GOES     NOAA\n",
       "2021-02-12 00:00:00.000 2021-02-12 23:59:59.999        XRS ...   GOES     NOAA\n",
       "\n",
       "20 Results from the GBMClient:\n",
       "Source: https://heasarc.gsfc.nasa.gov/FTP/fermi/data/gbm/daily\n",
       "\n",
       "       Start Time               End Time        ... Resolution Detector\n",
       "----------------------- ----------------------- ... ---------- --------\n",
       "2021-02-12 00:00:00.000 2021-02-12 23:59:59.999 ...      cspec       n0\n",
       "2021-02-12 00:00:00.000 2021-02-12 23:59:59.999 ...      cspec       n1\n",
       "2021-02-12 00:00:00.000 2021-02-12 23:59:59.999 ...      cspec       n2\n",
       "2021-02-12 00:00:00.000 2021-02-12 23:59:59.999 ...      cspec       n3\n",
       "2021-02-12 00:00:00.000 2021-02-12 23:59:59.999 ...      cspec       n4\n",
       "2021-02-12 00:00:00.000 2021-02-12 23:59:59.999 ...      cspec       n5\n",
       "2021-02-12 00:00:00.000 2021-02-12 23:59:59.999 ...      cspec       n6\n",
       "2021-02-12 00:00:00.000 2021-02-12 23:59:59.999 ...      cspec       n7\n",
       "2021-02-12 00:00:00.000 2021-02-12 23:59:59.999 ...      cspec       n8\n",
       "2021-02-12 00:00:00.000 2021-02-12 23:59:59.999 ...      cspec       n9\n",
       "2021-02-12 00:00:00.000 2021-02-12 23:59:59.999 ...      ctime       n0\n",
       "2021-02-12 00:00:00.000 2021-02-12 23:59:59.999 ...      ctime       n1\n",
       "2021-02-12 00:00:00.000 2021-02-12 23:59:59.999 ...      ctime       n2\n",
       "2021-02-12 00:00:00.000 2021-02-12 23:59:59.999 ...      ctime       n3\n",
       "2021-02-12 00:00:00.000 2021-02-12 23:59:59.999 ...      ctime       n4\n",
       "2021-02-12 00:00:00.000 2021-02-12 23:59:59.999 ...      ctime       n5\n",
       "2021-02-12 00:00:00.000 2021-02-12 23:59:59.999 ...      ctime       n6\n",
       "2021-02-12 00:00:00.000 2021-02-12 23:59:59.999 ...      ctime       n7\n",
       "2021-02-12 00:00:00.000 2021-02-12 23:59:59.999 ...      ctime       n8\n",
       "2021-02-12 00:00:00.000 2021-02-12 23:59:59.999 ...      ctime       n9\n"
      ]
     },
     "execution_count": 26,
     "metadata": {},
     "output_type": "execute_result"
    }
   ],
   "source": [
    "result"
   ]
  },
  {
   "cell_type": "markdown",
   "id": "5d7e0c01",
   "metadata": {},
   "source": [
    "If we then want to further specify our search for each instrument, e.g. lets only search for data from the GOES 15 satellite and for detector n5 for GBM, this can be achieved by using the `&` operator "
   ]
  },
  {
   "cell_type": "code",
   "execution_count": 27,
   "id": "3c9dd3ff",
   "metadata": {},
   "outputs": [
    {
     "name": "stderr",
     "output_type": "stream",
     "text": [
      "/home/jovyan/users_conda_envs/sunpy-tutorial/lib/python3.9/site-packages/astropy/table/table.py:3486: FutureWarning: elementwise == comparison failed and returning scalar instead; this will raise an error or perform elementwise comparison in the future.\n",
      "  result = self.as_array() == other\n"
     ]
    }
   ],
   "source": [
    "result = Fido.search(a.Time(\"2021-02-12 18:00\", \"2021-02-12 23:00\"), \n",
    "                     a.Instrument.xrs & a.goes.SatelliteNumber(17) | a.Instrument.gbm & a.Detector(\"n5\"))"
   ]
  },
  {
   "cell_type": "code",
   "execution_count": 28,
   "id": "08bbc7ee",
   "metadata": {},
   "outputs": [
    {
     "data": {
      "text/html": [
       "Results from 2 Providers:</br></br>1 Results from the XRSClient:</br><div><i>QueryResponse length=1</i>\n",
       "<table id=\"table140589461984304\" class=\"table-striped table-bordered table-condensed\">\n",
       "<thead><tr><th>Start Time</th><th>End Time</th><th>Instrument</th><th>SatelliteNumber</th><th>Physobs</th><th>Source</th><th>Provider</th></tr></thead>\n",
       "<thead><tr><th>Time</th><th>Time</th><th>str3</th><th>int64</th><th>str10</th><th>str4</th><th>str4</th></tr></thead>\n",
       "<tr><td>2021-02-12 00:00:00.000</td><td>2021-02-12 23:59:59.999</td><td>XRS</td><td>17</td><td>irradiance</td><td>GOES</td><td>NOAA</td></tr>\n",
       "</table></div></br>2 Results from the GBMClient:</br><div><i>QueryResponse length=2</i>\n",
       "<table id=\"table140589461986224\" class=\"table-striped table-bordered table-condensed\">\n",
       "<thead><tr><th>Start Time</th><th>End Time</th><th>Instrument</th><th>Physobs</th><th>Source</th><th>Provider</th><th>Resolution</th><th>Detector</th></tr></thead>\n",
       "<thead><tr><th>Time</th><th>Time</th><th>str3</th><th>str4</th><th>str5</th><th>str4</th><th>str5</th><th>str2</th></tr></thead>\n",
       "<tr><td>2021-02-12 00:00:00.000</td><td>2021-02-12 23:59:59.999</td><td>GBM</td><td>flux</td><td>FERMI</td><td>NASA</td><td>cspec</td><td>n5</td></tr>\n",
       "<tr><td>2021-02-12 00:00:00.000</td><td>2021-02-12 23:59:59.999</td><td>GBM</td><td>flux</td><td>FERMI</td><td>NASA</td><td>ctime</td><td>n5</td></tr>\n",
       "</table></div></br>"
      ],
      "text/plain": [
       "<sunpy.net.fido_factory.UnifiedResponse object at 0x7fdd893898e0>\n",
       "Results from 2 Providers:\n",
       "\n",
       "1 Results from the XRSClient:\n",
       "Source: https://umbra.nascom.nasa.gov/goes/fits\n",
       "\n",
       "       Start Time               End Time        Instrument ... Source Provider\n",
       "----------------------- ----------------------- ---------- ... ------ --------\n",
       "2021-02-12 00:00:00.000 2021-02-12 23:59:59.999        XRS ...   GOES     NOAA\n",
       "\n",
       "2 Results from the GBMClient:\n",
       "Source: https://heasarc.gsfc.nasa.gov/FTP/fermi/data/gbm/daily\n",
       "\n",
       "       Start Time               End Time        ... Resolution Detector\n",
       "----------------------- ----------------------- ... ---------- --------\n",
       "2021-02-12 00:00:00.000 2021-02-12 23:59:59.999 ...      cspec       n5\n",
       "2021-02-12 00:00:00.000 2021-02-12 23:59:59.999 ...      ctime       n5\n"
      ]
     },
     "execution_count": 28,
     "metadata": {},
     "output_type": "execute_result"
    }
   ],
   "source": [
    "result"
   ]
  },
  {
   "cell_type": "markdown",
   "id": "66bc943f",
   "metadata": {},
   "source": [
    "### Dealing with `UnifiedResponse` query results for complex queries"
   ]
  },
  {
   "cell_type": "code",
   "execution_count": 29,
   "id": "8d3bcfe8",
   "metadata": {},
   "outputs": [
    {
     "data": {
      "text/plain": [
       "2"
      ]
     },
     "execution_count": 29,
     "metadata": {},
     "output_type": "execute_result"
    }
   ],
   "source": [
    "len(result)"
   ]
  },
  {
   "cell_type": "code",
   "execution_count": 30,
   "id": "449e1c2b",
   "metadata": {},
   "outputs": [
    {
     "data": {
      "text/html": [
       "<div><i>QueryResponse length=1</i>\n",
       "<table id=\"table140589461905024\" class=\"table-striped table-bordered table-condensed\">\n",
       "<thead><tr><th>Start Time</th><th>End Time</th><th>Instrument</th><th>SatelliteNumber</th><th>Physobs</th><th>Source</th><th>Provider</th></tr></thead>\n",
       "<thead><tr><th>Time</th><th>Time</th><th>str3</th><th>int64</th><th>str10</th><th>str4</th><th>str4</th></tr></thead>\n",
       "<tr><td>2021-02-12 00:00:00.000</td><td>2021-02-12 23:59:59.999</td><td>XRS</td><td>17</td><td>irradiance</td><td>GOES</td><td>NOAA</td></tr>\n",
       "</table></div>"
      ],
      "text/plain": [
       "<sunpy.net.dataretriever.client.QueryResponse object at 0x7fdd88f00520>\n",
       "       Start Time               End Time        Instrument ... Source Provider\n",
       "----------------------- ----------------------- ---------- ... ------ --------\n",
       "2021-02-12 00:00:00.000 2021-02-12 23:59:59.999        XRS ...   GOES     NOAA"
      ]
     },
     "execution_count": 30,
     "metadata": {},
     "output_type": "execute_result"
    }
   ],
   "source": [
    "result[0]"
   ]
  },
  {
   "cell_type": "code",
   "execution_count": 31,
   "id": "733b146d",
   "metadata": {},
   "outputs": [
    {
     "data": {
      "text/html": [
       "<div><i>QueryResponse length=2</i>\n",
       "<table id=\"table140589466758208\" class=\"table-striped table-bordered table-condensed\">\n",
       "<thead><tr><th>Start Time</th><th>End Time</th><th>Instrument</th><th>Physobs</th><th>Source</th><th>Provider</th><th>Resolution</th><th>Detector</th></tr></thead>\n",
       "<thead><tr><th>Time</th><th>Time</th><th>str3</th><th>str4</th><th>str5</th><th>str4</th><th>str5</th><th>str2</th></tr></thead>\n",
       "<tr><td>2021-02-12 00:00:00.000</td><td>2021-02-12 23:59:59.999</td><td>GBM</td><td>flux</td><td>FERMI</td><td>NASA</td><td>cspec</td><td>n5</td></tr>\n",
       "<tr><td>2021-02-12 00:00:00.000</td><td>2021-02-12 23:59:59.999</td><td>GBM</td><td>flux</td><td>FERMI</td><td>NASA</td><td>ctime</td><td>n5</td></tr>\n",
       "</table></div>"
      ],
      "text/plain": [
       "<sunpy.net.dataretriever.client.QueryResponse object at 0x7fdd88e4a640>\n",
       "       Start Time               End Time        ... Resolution Detector\n",
       "----------------------- ----------------------- ... ---------- --------\n",
       "2021-02-12 00:00:00.000 2021-02-12 23:59:59.999 ...      cspec       n5\n",
       "2021-02-12 00:00:00.000 2021-02-12 23:59:59.999 ...      ctime       n5"
      ]
     },
     "execution_count": 31,
     "metadata": {},
     "output_type": "execute_result"
    }
   ],
   "source": [
    "result[1]"
   ]
  },
  {
   "cell_type": "code",
   "execution_count": 32,
   "id": "b7c6cb5b",
   "metadata": {},
   "outputs": [
    {
     "data": {
      "text/html": [
       "<div><i>QueryResponse length=1</i>\n",
       "<table id=\"table140589461986992\" class=\"table-striped table-bordered table-condensed\">\n",
       "<thead><tr><th>Start Time</th><th>End Time</th><th>Instrument</th><th>SatelliteNumber</th><th>Physobs</th><th>Source</th><th>Provider</th></tr></thead>\n",
       "<thead><tr><th>Time</th><th>Time</th><th>str3</th><th>int64</th><th>str10</th><th>str4</th><th>str4</th></tr></thead>\n",
       "<tr><td>2021-02-12 00:00:00.000</td><td>2021-02-12 23:59:59.999</td><td>XRS</td><td>17</td><td>irradiance</td><td>GOES</td><td>NOAA</td></tr>\n",
       "</table></div>"
      ],
      "text/plain": [
       "<sunpy.net.dataretriever.client.QueryResponse object at 0x7fdd88f00520>\n",
       "       Start Time               End Time        Instrument ... Source Provider\n",
       "----------------------- ----------------------- ---------- ... ------ --------\n",
       "2021-02-12 00:00:00.000 2021-02-12 23:59:59.999        XRS ...   GOES     NOAA"
      ]
     },
     "execution_count": 32,
     "metadata": {},
     "output_type": "execute_result"
    }
   ],
   "source": [
    "result[\"XRS\"]"
   ]
  },
  {
   "cell_type": "code",
   "execution_count": 33,
   "id": "6056dd17",
   "metadata": {},
   "outputs": [
    {
     "data": {
      "text/html": [
       "<div><i>QueryResponse length=2</i>\n",
       "<table id=\"table140589460358768\" class=\"table-striped table-bordered table-condensed\">\n",
       "<thead><tr><th>Start Time</th><th>End Time</th><th>Instrument</th><th>Physobs</th><th>Source</th><th>Provider</th><th>Resolution</th><th>Detector</th></tr></thead>\n",
       "<thead><tr><th>Time</th><th>Time</th><th>str3</th><th>str4</th><th>str5</th><th>str4</th><th>str5</th><th>str2</th></tr></thead>\n",
       "<tr><td>2021-02-12 00:00:00.000</td><td>2021-02-12 23:59:59.999</td><td>GBM</td><td>flux</td><td>FERMI</td><td>NASA</td><td>cspec</td><td>n5</td></tr>\n",
       "<tr><td>2021-02-12 00:00:00.000</td><td>2021-02-12 23:59:59.999</td><td>GBM</td><td>flux</td><td>FERMI</td><td>NASA</td><td>ctime</td><td>n5</td></tr>\n",
       "</table></div>"
      ],
      "text/plain": [
       "<sunpy.net.dataretriever.client.QueryResponse object at 0x7fdd88e4a640>\n",
       "       Start Time               End Time        ... Resolution Detector\n",
       "----------------------- ----------------------- ... ---------- --------\n",
       "2021-02-12 00:00:00.000 2021-02-12 23:59:59.999 ...      cspec       n5\n",
       "2021-02-12 00:00:00.000 2021-02-12 23:59:59.999 ...      ctime       n5"
      ]
     },
     "execution_count": 33,
     "metadata": {},
     "output_type": "execute_result"
    }
   ],
   "source": [
    "result[\"GBM\"]"
   ]
  },
  {
   "cell_type": "markdown",
   "id": "6e40634a",
   "metadata": {},
   "source": [
    "Similarly, as mentioned above the first index is the response index, and the second is the row, so we can pull out  the individual rows. For example, say we only want the first file from the Fermi/GBM data"
   ]
  },
  {
   "cell_type": "code",
   "execution_count": 34,
   "id": "c869f098",
   "metadata": {},
   "outputs": [
    {
     "data": {
      "text/html": [
       "<i>QueryResponseRow index=0</i>\n",
       "<table id=\"table140589461186112\">\n",
       "<thead><tr><th>Start Time</th><th>End Time</th><th>Instrument</th><th>Physobs</th><th>Source</th><th>Provider</th><th>Resolution</th><th>Detector</th><th>url</th></tr></thead>\n",
       "<thead><tr><th>Time</th><th>Time</th><th>str3</th><th>str4</th><th>str5</th><th>str4</th><th>str5</th><th>str2</th><th>str101</th></tr></thead>\n",
       "<tr><td>2021-02-12 00:00:00.000</td><td>2021-02-12 23:59:59.999</td><td>GBM</td><td>flux</td><td>FERMI</td><td>NASA</td><td>cspec</td><td>n5</td><td>https://heasarc.gsfc.nasa.gov/FTP/fermi/data/gbm/daily/2021/02/12/current/glg_cspec_n5_210212_v00.pha</td></tr>\n",
       "</table>"
      ],
      "text/plain": [
       "<QueryResponseRow index=0>\n",
       "       Start Time               End Time        Instrument Physobs Source Provider Resolution Detector                                                  url                                                 \n",
       "          Time                    Time             str3      str4   str5    str4      str5      str2                                                   str101                                               \n",
       "----------------------- ----------------------- ---------- ------- ------ -------- ---------- -------- -----------------------------------------------------------------------------------------------------\n",
       "2021-02-12 00:00:00.000 2021-02-12 23:59:59.999        GBM    flux  FERMI     NASA      cspec       n5 https://heasarc.gsfc.nasa.gov/FTP/fermi/data/gbm/daily/2021/02/12/current/glg_cspec_n5_210212_v00.pha"
      ]
     },
     "execution_count": 34,
     "metadata": {},
     "output_type": "execute_result"
    }
   ],
   "source": [
    "result[\"GBM\", 0]"
   ]
  },
  {
   "cell_type": "code",
   "execution_count": 35,
   "id": "3f4f525a",
   "metadata": {},
   "outputs": [
    {
     "data": {
      "text/plain": [
       "['End Time',\n",
       " 'Instrument',\n",
       " 'Physobs',\n",
       " 'Provider',\n",
       " 'SatelliteNumber',\n",
       " 'Source',\n",
       " 'Start Time',\n",
       " 'url']"
      ]
     },
     "execution_count": 35,
     "metadata": {},
     "output_type": "execute_result"
    }
   ],
   "source": [
    "result.all_colnames"
   ]
  },
  {
   "cell_type": "code",
   "execution_count": 36,
   "id": "669ded00",
   "metadata": {
    "scrolled": true
   },
   "outputs": [
    {
     "data": {
      "text/html": [
       "&lt;QueryResponseColumn name=&apos;url&apos; dtype=&apos;str101&apos; length=2&gt;\n",
       "<table>\n",
       "<tr><td>https://heasarc.gsfc.nasa.gov/FTP/fermi/data/gbm/daily/2021/02/12/current/glg_cspec_n5_210212_v00.pha</td></tr>\n",
       "<tr><td>https://heasarc.gsfc.nasa.gov/FTP/fermi/data/gbm/daily/2021/02/12/current/glg_ctime_n5_210212_v00.pha</td></tr>\n",
       "</table>"
      ],
      "text/plain": [
       "<QueryResponseColumn name='url' dtype='str101' length=2>\n",
       "https://heasarc.gsfc.nasa.gov/FTP/fermi/data/gbm/daily/2021/02/12/current/glg_cspec_n5_210212_v00.pha\n",
       "https://heasarc.gsfc.nasa.gov/FTP/fermi/data/gbm/daily/2021/02/12/current/glg_ctime_n5_210212_v00.pha"
      ]
     },
     "execution_count": 36,
     "metadata": {},
     "output_type": "execute_result"
    }
   ],
   "source": [
    "result[1][\"url\"]"
   ]
  },
  {
   "cell_type": "markdown",
   "id": "682e2a8f",
   "metadata": {},
   "source": [
    "## 6. Downloading the data\n",
    "\n",
    "Now we can show how data that is queried above can be downloaded. Once the data you have searched for (and filtered etc) is constructed into a query using `Fido.search`, you can then easily download them using `Fido.fetch`.\n",
    "\n",
    "The data is downloaded via asynchronous and parallel download streams (via `parfive`), and also allows for failed data downloads to be recognized so that files can be re-requested if not downloaded. \n",
    "\n",
    "Lets now look at how a `UnifiedResponse` from a `Fido.search` can be passed to `Fido.fetch` to download the data"
   ]
  },
  {
   "cell_type": "code",
   "execution_count": 37,
   "id": "b879658a",
   "metadata": {},
   "outputs": [],
   "source": [
    "result = Fido.search(a.Time(\"2021-02-12 18:00\", \"2021-02-12 23:00\"), \n",
    "                     a.Instrument(\"AIA\"), \n",
    "                     a.Wavelength(171*u.angstrom),\n",
    "                     a.Sample(10*u.min))"
   ]
  },
  {
   "cell_type": "code",
   "execution_count": 38,
   "id": "177aedcf",
   "metadata": {},
   "outputs": [
    {
     "data": {
      "application/vnd.jupyter.widget-view+json": {
       "model_id": "4f654255bf0748848668c0a025fdbaf1",
       "version_major": 2,
       "version_minor": 0
      },
      "text/plain": [
       "Files Downloaded:   0%|          | 0/30 [00:00<?, ?file/s]"
      ]
     },
     "metadata": {},
     "output_type": "display_data"
    }
   ],
   "source": [
    "files = Fido.fetch(result)"
   ]
  },
  {
   "cell_type": "markdown",
   "id": "70e84059",
   "metadata": {},
   "source": [
    "These files are downloaded to a local location set in the sunpy.config.file, which by default is `~/sunpy/data/`. `Fido.fetch` returns a `parfile.Results` object which gives the path to where the files are downloaded to "
   ]
  },
  {
   "cell_type": "code",
   "execution_count": 39,
   "id": "ba124d99",
   "metadata": {},
   "outputs": [
    {
     "name": "stdout",
     "output_type": "stream",
     "text": [
      "['/home/jovyan/sunpy/data/aia_lev1_171a_2021_02_12t18_10_09_35z_image_lev1.fits', '/home/jovyan/sunpy/data/aia_lev1_171a_2021_02_12t21_20_09_35z_image_lev1.fits', '/home/jovyan/sunpy/data/aia_lev1_171a_2021_02_12t19_50_09_35z_image_lev1.fits', '/home/jovyan/sunpy/data/aia_lev1_171a_2021_02_12t22_50_09_35z_image_lev1.fits', '/home/jovyan/sunpy/data/aia_lev1_171a_2021_02_12t18_00_09_35z_image_lev1.fits', '/home/jovyan/sunpy/data/aia_lev1_171a_2021_02_12t19_00_09_35z_image_lev1.fits', '/home/jovyan/sunpy/data/aia_lev1_171a_2021_02_12t20_30_09_35z_image_lev1.fits', '/home/jovyan/sunpy/data/aia_lev1_171a_2021_02_12t22_10_09_35z_image_lev1.fits', '/home/jovyan/sunpy/data/aia_lev1_171a_2021_02_12t18_20_09_35z_image_lev1.fits', '/home/jovyan/sunpy/data/aia_lev1_171a_2021_02_12t21_30_09_35z_image_lev1.fits', '/home/jovyan/sunpy/data/aia_lev1_171a_2021_02_12t20_00_09_35z_image_lev1.fits', '/home/jovyan/sunpy/data/aia_lev1_171a_2021_02_12t18_50_09_35z_image_lev1.fits', '/home/jovyan/sunpy/data/aia_lev1_171a_2021_02_12t22_20_09_35z_image_lev1.fits', '/home/jovyan/sunpy/data/aia_lev1_171a_2021_02_12t20_50_09_35z_image_lev1.fits', '/home/jovyan/sunpy/data/aia_lev1_171a_2021_02_12t18_30_09_35z_image_lev1.fits', '/home/jovyan/sunpy/data/aia_lev1_171a_2021_02_12t21_40_09_35z_image_lev1.fits', '/home/jovyan/sunpy/data/aia_lev1_171a_2021_02_12t19_40_09_35z_image_lev1.fits', '/home/jovyan/sunpy/data/aia_lev1_171a_2021_02_12t19_10_09_35z_image_lev1.fits', '/home/jovyan/sunpy/data/aia_lev1_171a_2021_02_12t22_30_09_35z_image_lev1.fits', '/home/jovyan/sunpy/data/aia_lev1_171a_2021_02_12t21_00_06_51z_image_lev1.fits', '/home/jovyan/sunpy/data/aia_lev1_171a_2021_02_12t18_40_09_35z_image_lev1.fits', '/home/jovyan/sunpy/data/aia_lev1_171a_2021_02_12t21_50_09_35z_image_lev1.fits', '/home/jovyan/sunpy/data/aia_lev1_171a_2021_02_12t20_20_09_35z_image_lev1.fits', '/home/jovyan/sunpy/data/aia_lev1_171a_2021_02_12t19_20_09_35z_image_lev1.fits', '/home/jovyan/sunpy/data/aia_lev1_171a_2021_02_12t22_40_09_35z_image_lev1.fits', '/home/jovyan/sunpy/data/aia_lev1_171a_2021_02_12t21_10_09_35z_image_lev1.fits', '/home/jovyan/sunpy/data/aia_lev1_171a_2021_02_12t22_00_09_35z_image_lev1.fits', '/home/jovyan/sunpy/data/aia_lev1_171a_2021_02_12t19_30_09_35z_image_lev1.fits', '/home/jovyan/sunpy/data/aia_lev1_171a_2021_02_12t20_10_09_35z_image_lev1.fits', '/home/jovyan/sunpy/data/aia_lev1_171a_2021_02_12t20_40_09_35z_image_lev1.fits']\n"
     ]
    }
   ],
   "source": [
    "print(files)"
   ]
  },
  {
   "cell_type": "markdown",
   "id": "df4bfe0a",
   "metadata": {},
   "source": [
    "You can also define what directory you want the files to be saved to by passing the directory path to the `path` keyword in Fido.fetch. For example, I want to download these files to a local directory `/Users/laurahayes/event_analysis/`"
   ]
  },
  {
   "cell_type": "code",
   "execution_count": 40,
   "id": "e4cb8677-1349-4dbf-954e-e331547e1690",
   "metadata": {},
   "outputs": [
    {
     "data": {
      "text/html": [
       "<div><i>VSOQueryResponseTable length=3</i>\n",
       "<table id=\"table140589459821376\" class=\"table-striped table-bordered table-condensed\">\n",
       "<thead><tr><th>Start Time</th><th>End Time</th><th>Source</th><th>Instrument</th><th>Wavelength [2]</th><th>Provider</th><th>Physobs</th><th>Wavetype</th><th>Extent Width</th><th>Extent Length</th><th>Extent Type</th><th>Size</th><th>Info</th></tr></thead>\n",
       "<thead><tr><th></th><th></th><th></th><th></th><th>Angstrom</th><th></th><th></th><th></th><th></th><th></th><th></th><th>Mibyte</th><th></th></tr></thead>\n",
       "<thead><tr><th>Time</th><th>Time</th><th>str3</th><th>str3</th><th>float64</th><th>str4</th><th>str9</th><th>str6</th><th>str4</th><th>str4</th><th>str8</th><th>float64</th><th>str64</th></tr></thead>\n",
       "<tr><td>2021-02-12 18:00:09.000</td><td>2021-02-12 18:00:10.000</td><td>SDO</td><td>AIA</td><td>171.0 .. 171.0</td><td>JSOC</td><td>intensity</td><td>NARROW</td><td>4096</td><td>4096</td><td>FULLDISK</td><td>64.64844</td><td>AIA level 1, 4096x4096 [2.000 exposure] [100.00 percentd]</td></tr>\n",
       "<tr><td>2021-02-12 19:40:09.000</td><td>2021-02-12 19:40:10.000</td><td>SDO</td><td>AIA</td><td>171.0 .. 171.0</td><td>JSOC</td><td>intensity</td><td>NARROW</td><td>4096</td><td>4096</td><td>FULLDISK</td><td>64.64844</td><td>AIA level 1, 4096x4096 [2.000 exposure] [100.00 percentd]</td></tr>\n",
       "<tr><td>2021-02-12 21:20:09.000</td><td>2021-02-12 21:20:10.000</td><td>SDO</td><td>AIA</td><td>171.0 .. 171.0</td><td>JSOC</td><td>intensity</td><td>NARROW</td><td>4096</td><td>4096</td><td>FULLDISK</td><td>64.64844</td><td>AIA level 1, 4096x4096 [2.000 exposure] [100.00 percentd]</td></tr>\n",
       "</table></div>"
      ],
      "text/plain": [
       "<sunpy.net.vso.table_response.VSOQueryResponseTable object at 0x7fdd88cfd3d0>\n",
       "       Start Time       ...\n",
       "                        ...\n",
       "----------------------- ...\n",
       "2021-02-12 18:00:09.000 ...\n",
       "2021-02-12 19:40:09.000 ...\n",
       "2021-02-12 21:20:09.000 ..."
      ]
     },
     "execution_count": 40,
     "metadata": {},
     "output_type": "execute_result"
    }
   ],
   "source": [
    "result[0][::10]"
   ]
  },
  {
   "cell_type": "code",
   "execution_count": 41,
   "id": "1bc5dc9d",
   "metadata": {},
   "outputs": [
    {
     "data": {
      "application/vnd.jupyter.widget-view+json": {
       "model_id": "889fa2f6b83e4e92815028dfe967fc68",
       "version_major": 2,
       "version_minor": 0
      },
      "text/plain": [
       "Files Downloaded:   0%|          | 0/3 [00:00<?, ?file/s]"
      ]
     },
     "metadata": {},
     "output_type": "display_data"
    }
   ],
   "source": [
    "files = Fido.fetch(result[0][::10], path='./downloaded_data/')"
   ]
  },
  {
   "cell_type": "code",
   "execution_count": 42,
   "id": "746ed71a",
   "metadata": {},
   "outputs": [
    {
     "name": "stdout",
     "output_type": "stream",
     "text": [
      "['downloaded_data/aia_lev1_171a_2021_02_12t21_20_09_35z_image_lev1.fits', 'downloaded_data/aia_lev1_171a_2021_02_12t19_40_09_35z_image_lev1.fits', 'downloaded_data/aia_lev1_171a_2021_02_12t18_00_09_35z_image_lev1.fits']\n"
     ]
    }
   ],
   "source": [
    "print(files)"
   ]
  },
  {
   "cell_type": "markdown",
   "id": "7335e8ad",
   "metadata": {},
   "source": [
    "You can also use the properties of the query to define the path to where to save the files, for example you can save them in a subdirectory named after the instrument of the queried files:"
   ]
  },
  {
   "cell_type": "markdown",
   "id": "e0b67879-0332-4752-821a-dc6b731813ad",
   "metadata": {},
   "source": [
    "COMMENT from Jack: what properties of the search can you use to do the download file templating"
   ]
  },
  {
   "cell_type": "code",
   "execution_count": 43,
   "id": "c969f967",
   "metadata": {},
   "outputs": [
    {
     "data": {
      "application/vnd.jupyter.widget-view+json": {
       "model_id": "5998a062409f4f92ab9b563770980e64",
       "version_major": 2,
       "version_minor": 0
      },
      "text/plain": [
       "Files Downloaded:   0%|          | 0/3 [00:00<?, ?file/s]"
      ]
     },
     "metadata": {},
     "output_type": "display_data"
    }
   ],
   "source": [
    "files = Fido.fetch(result[0][::10], path='./downloaded_data/{instrument}/')"
   ]
  },
  {
   "cell_type": "code",
   "execution_count": 44,
   "id": "576d7978",
   "metadata": {},
   "outputs": [
    {
     "name": "stdout",
     "output_type": "stream",
     "text": [
      "['downloaded_data/AIA/aia_lev1_171a_2021_02_12t18_00_09_35z_image_lev1.fits', 'downloaded_data/AIA/aia_lev1_171a_2021_02_12t19_40_09_35z_image_lev1.fits', 'downloaded_data/AIA/aia_lev1_171a_2021_02_12t21_20_09_35z_image_lev1.fits']\n"
     ]
    }
   ],
   "source": [
    "print(files)"
   ]
  },
  {
   "cell_type": "markdown",
   "id": "4a1c0d67",
   "metadata": {},
   "source": [
    "### Download errors\n",
    "The parfive.Results that is returned from `Fido.fetch` also contains information on the failed downloads and the error that is associated with them. These can be accessed by:"
   ]
  },
  {
   "cell_type": "code",
   "execution_count": 47,
   "id": "2bf51688",
   "metadata": {},
   "outputs": [
    {
     "data": {
      "text/plain": [
       "[]"
      ]
     },
     "execution_count": 47,
     "metadata": {},
     "output_type": "execute_result"
    }
   ],
   "source": [
    "files.errors"
   ]
  },
  {
   "cell_type": "markdown",
   "id": "ddc909d7",
   "metadata": {},
   "source": [
    "However for this example, there were no errors, but in the case that there was, this would list the errors. If there were failed downloads, the ~~parfive.Results~~ can be passed back into `Fido.fetch` to retry downloading the failed downloads e.g."
   ]
  },
  {
   "cell_type": "markdown",
   "id": "cd0db925-2fb3-4f44-86c1-fc391006236b",
   "metadata": {},
   "source": [
    "COMMENT from Jack: remove mentions of `parfive` in the notebook"
   ]
  },
  {
   "cell_type": "code",
   "execution_count": 48,
   "id": "5d1e626f",
   "metadata": {},
   "outputs": [
    {
     "data": {
      "application/vnd.jupyter.widget-view+json": {
       "model_id": "2805230bf6f941168913f3cb9723487b",
       "version_major": 2,
       "version_minor": 0
      },
      "text/plain": [
       "Files Downloaded: 0file [00:00, ?file/s]"
      ]
     },
     "metadata": {},
     "output_type": "display_data"
    },
    {
     "data": {
      "text/plain": [
       "<parfive.results.Results object at 0x7fdaa62f2160>\n",
       "['downloaded_data/AIA/aia_lev1_171a_2021_02_12t19_40_09_35z_image_lev1.fits', 'downloaded_data/AIA/aia_lev1_171a_2021_02_12t21_20_09_35z_image_lev1.fits', 'downloaded_data/AIA/aia_lev1_171a_2021_02_12t18_00_09_35z_image_lev1.fits']"
      ]
     },
     "execution_count": 48,
     "metadata": {},
     "output_type": "execute_result"
    }
   ],
   "source": [
    "Fido.fetch(files)"
   ]
  },
  {
   "cell_type": "markdown",
   "id": "6ffec2ed",
   "metadata": {},
   "source": [
    "Again as we had no failed file downloads this just returns to us the files downloaded."
   ]
  },
  {
   "cell_type": "markdown",
   "id": "6166b3ce",
   "metadata": {
    "jp-MarkdownHeadingCollapsed": true,
    "tags": []
   },
   "source": [
    "## 7. Metadata queries\n",
    "\n",
    "As well as Fido providing an interface to search for data files that can be downloaded, Fido also allows you to query metadata. Currently Fido supports metadata searching from the HEK, HELIO and JSOC. \n",
    "\n",
    "Similar to what we have seen so far, the search results of these clients are a UnifiedResponse object which can then be indexed and the QueryResponse table accessed like an astropy table. Lets look at an example of how we can use Fido to query the HEK.\n",
    "\n",
    "Lets query for the active regions defined by SWPC over the past month. This can be done by using the HEK client specific attributes `a.hek.attrs` "
   ]
  },
  {
   "cell_type": "code",
   "execution_count": 55,
   "id": "35c4c0c2",
   "metadata": {},
   "outputs": [],
   "source": [
    "result_hek = Fido.search(a.Time(\"2021-02-12 18:00\", \"2021-02-12 23:00\"), \n",
    "                         a.hek.AR, )#a.hek.FRM.Name==\"NOAA SWPC Observer\")"
   ]
  },
  {
   "cell_type": "code",
   "execution_count": 56,
   "id": "837fcfad",
   "metadata": {},
   "outputs": [
    {
     "data": {
      "text/html": [
       "Results from 1 Provider:</br></br>7 Results from the HEKClient:</br><div><i>HEKTable length=7</i>\n",
       "<table id=\"table140577067704816\" class=\"table-striped table-bordered table-condensed\">\n",
       "<thead><tr><th>gs_thumburl</th><th>comment_count</th><th>hpc_bbox</th><th>meanphotoenergydensity</th><th>frm_humanflag</th><th>hgc_coord</th><th>ar_spotarearepruncert</th><th>event_coordsys</th><th>obs_levelnum</th><th>hpc_coord</th><th>event_npixels</th><th>gs_imageurl</th><th>ar_polarity</th><th>totalenergydensityunit</th><th>frm_paramset</th><th>hrc_coord</th><th>event_starttime</th><th>ar_mtwilsoncls</th><th>event_type</th><th>meantwistalpha</th><th>intensmin</th><th>obs_meanwavel</th><th>frm_url</th><th>bound_chaincode</th><th>totalphotoenergy</th><th>noposition</th><th>ar_spotarearepr</th><th>active</th><th>intensmax</th><th>frm_versionnumber</th><th>ar_pilcurvature</th><th>area_uncert</th><th>obs_dataprepurl</th><th>hpc_geom</th><th>hgc_bbox</th><th>intensmedian</th><th>chaincodetype</th><th>obs_channelid</th><th>ar_spotareareprunit</th><th>event_clippedspatial</th><th>ar_noaaclass</th><th>SOL_standard</th><th>event_avg_rating</th><th>eventtype</th><th>intensunit</th><th>hpc_boundcc</th><th>event_mapurl</th><th>frm_contact</th><th>meanvertcurrentdensity</th><th>ar_penumbracls</th><th>intensmean</th><th>bound_ccstartc1</th><th>frm_name</th><th>area_atdiskcenter</th><th>frm_identifier</th><th>obs_observatory</th><th>event_description</th><th>ar_spotarearaw</th><th>unsignedflux</th><th>boundbox_c2ur</th><th>magfluxunit</th><th>highshearareapercent</th><th>obs_firstprocessingdate</th><th>maxmagfieldstrengthunit</th><th>sharp_noaa_ars</th><th>boundbox_c2ll</th><th>frm_institute</th><th>hrc_bbox</th><th>refs_orig</th><th>meangradienthorz</th><th>gwill</th><th>ar_mcintoshcls</th><th>event_maskurl</th><th>bound_ccstartc2</th><th>ar_spotarearawunit</th><th>gs_movieurl</th><th>event_score</th><th>event_expires</th><th>hrc_boundcc</th><th>event_probability</th><th>intensvar</th><th>frm_daterun</th><th>currentdensityunit</th><th>highsheararea</th><th>event_coordunit</th><th>hpc_y</th><th>hpc_x</th><th>search_instrument</th><th>ar_numspots</th><th>kb_archivdate</th><th>kb_archivist</th><th>intenstotal</th><th>sum_overlap_scores</th><th>unsignedvertcurrent</th><th>hgs_boundcc</th><th>intensskew</th><th>obs_includesnrt</th><th>rasterscan</th><th>obs_wavelunit</th><th>kb_archivid</th><th>search_frm_name</th><th>meaninclinationgamma</th><th>currenthelicityunit</th><th>boundbox_c1ur</th><th>ar_noaanum</th><th>area_atdiskcenteruncert</th><th>boundbox_c1ll</th><th>absnetcurrenthelicity</th><th>meancurrenthelicity</th><th>event_importance_num_ratings</th><th>highshearareaunit</th><th>ar_compactnesscls</th><th>currentunit</th><th>event_testflag</th><th>maxmagfieldstrength</th><th>event_c2error</th><th>hrc_r</th><th>hgs_y</th><th>obs_title</th><th>hgs_x</th><th>hcr_checked</th><th>frm_specificid</th><th>totalphotoenergydensity</th><th>event_title</th><th>gwillunit</th><th>ar_sumnegsignedflux</th><th>obs_instrument</th><th>ar_neutrallength</th><th>event_c1error</th><th>revision</th><th>hpc_radius</th><th>meanshearangle</th><th>event_endtime</th><th>ar_spotarearawuncert</th><th>meanenergydensityunit</th><th>event_importance</th><th>meangradienttotal</th><th>event_coord2</th><th>event_coord3</th><th>event_coord1</th><th>search_observatory</th><th>ar_sumpossignedflux</th><th>area_raw</th><th>meangradientvert</th><th>concept</th><th>ar_axislength</th><th>event_pixelunit</th><th>hgc_boundcc</th><th>log_r_value</th><th>totalphotoenergyunit</th><th>hgc_x</th><th>hrc_a</th><th>hgc_y</th><th>gs_galleryid</th><th>twistunit</th><th>ar_lengthunit</th><th>hgs_coord</th><th>ar_zurichcls</th><th>bound_ccnsteps</th><th>intenskurt</th><th>event_clippedtemporal</th><th>gradientunit</th><th>rasterscantype</th><th>search_channelid</th><th>unsignedcurrenthelicity</th><th>hgs_bbox</th><th>area_unit</th><th>savncpp</th><th>obs_lastprocessingdate</th><th>refs</th></tr></thead>\n",
       "<thead><tr><th>str131</th><th>str1</th><th>str128</th><th>object</th><th>str5</th><th>str27</th><th>object</th><th>str12</th><th>object</th><th>str30</th><th>object</th><th>str130</th><th>object</th><th>str7</th><th>str549</th><th>str41</th><th>str19</th><th>str1</th><th>str2</th><th>object</th><th>object</th><th>float64</th><th>str55</th><th>str192</th><th>object</th><th>str5</th><th>object</th><th>str4</th><th>object</th><th>float64</th><th>object</th><th>object</th><th>str1</th><th>str442</th><th>str115</th><th>object</th><th>str29</th><th>str16</th><th>str1</th><th>str1</th><th>str1</th><th>str30</th><th>object</th><th>str1</th><th>str4</th><th>str192</th><th>str1</th><th>str43</th><th>object</th><th>str1</th><th>object</th><th>object</th><th>str9</th><th>int64</th><th>str23</th><th>str3</th><th>str1</th><th>object</th><th>object</th><th>float64</th><th>str3</th><th>object</th><th>str1</th><th>str1</th><th>str1</th><th>float64</th><th>str12</th><th>str110</th><th>str1</th><th>object</th><th>object</th><th>str1</th><th>str1</th><th>object</th><th>str1</th><th>str131</th><th>str23</th><th>str1</th><th>str269</th><th>object</th><th>object</th><th>str19</th><th>str8</th><th>object</th><th>str13</th><th>float64</th><th>float64</th><th>str3</th><th>object</th><th>str19</th><th>str8</th><th>object</th><th>str20</th><th>object</th><th>str291</th><th>object</th><th>str1</th><th>str1</th><th>str2</th><th>str73</th><th>str9</th><th>object</th><th>str7</th><th>float64</th><th>object</th><th>object</th><th>float64</th><th>object</th><th>object</th><th>str1</th><th>str3</th><th>str1</th><th>str7</th><th>str5</th><th>object</th><th>float64</th><th>float64</th><th>float64</th><th>str1</th><th>float64</th><th>str4</th><th>str24</th><th>object</th><th>str1</th><th>str1</th><th>object</th><th>str3</th><th>object</th><th>float64</th><th>str1</th><th>str19</th><th>object</th><th>str19</th><th>object</th><th>str25</th><th>object</th><th>object</th><th>float64</th><th>object</th><th>float64</th><th>str3</th><th>object</th><th>object</th><th>object</th><th>str13</th><th>object</th><th>str4</th><th>str279</th><th>object</th><th>str4</th><th>float64</th><th>float64</th><th>float64</th><th>str1</th><th>str4</th><th>str1</th><th>str28</th><th>str1</th><th>object</th><th>object</th><th>str1</th><th>str4</th><th>str1</th><th>str7</th><th>object</th><th>str120</th><th>str3</th><th>object</th><th>str19</th><th>object</th></tr></thead>\n",
       "<tr><td></td><td>0</td><td>POLYGON((-354.800346 -420.412956,-211.87881 -414.408102,-219.12156 -362.571372,-366.925482 -368.794914,-354.800346 -420.412956))</td><td>1469.52099609375</td><td>false</td><td>POINT(58.174398 -29.981974)</td><td>None</td><td>UTC-HGS-TOPO</td><td>None</td><td>POINT(-291.369228 -391.181886)</td><td>None</td><td></td><td>None</td><td>ergs/cm</td><td>/builtin/hmi.M_Ic_noLimbDark_720s.production</td><td>POINT(0.502167458733721 143.319661451754)</td><td>2021-02-12T16:00:00</td><td></td><td>AR</td><td>0.008950769901275635</td><td>None</td><td>5e-05</td><td>http://sun.stanford.edu/~mbobra/spaceweather/sharps.htm</td><td></td><td>1.4126228311172995e+29</td><td>false</td><td>None</td><td>true</td><td>None</td><td>1.100000023841858</td><td>None</td><td>None</td><td></td><td>01030000000100000005000000C0779B37CE2C76C0FE2AC0779B467AC0BA2C26361F7C6AC0EA76F69587E679C00E10CCD1E3636BC09A5DF75624A976C096B036C6CEEE76C01F12BEF7B70C77C0C0779B37CE2C76C0FE2AC0779B467AC0</td><td>POLYGON((53.043436 -31.658576,63.564182 -31.658576,63.564182 -28.333984,53.043436 -28.333984,53.043436 -31.658576))</td><td>None</td><td></td><td>BLOS</td><td></td><td></td><td></td><td>SOL2021-02-12T16:00:00L058C119</td><td>None</td><td>1</td><td></td><td></td><td></td><td>turmon@jpl.nasa.gov,mbobra@sun.stanford.edu</td><td>0.3087051808834076</td><td></td><td>None</td><td>None</td><td>HMI SHARP</td><td>272829248</td><td>HMI Active Region Patch</td><td>SDO</td><td></td><td>None</td><td>1137.654052734375</td><td>-28.333984375</td><td>emx</td><td>None</td><td></td><td></td><td></td><td>-31.65857696533203</td><td>JPL,Stanford</td><td>POLYGON((0.566357 139.837878,0.47917 152.920222,0.436147 148.853153,0.535591 135.145586,0.566357 139.837878))</td><td></td><td>48.275001525878906</td><td>None</td><td></td><td></td><td>None</td><td></td><td></td><td>0.00072605962277645078</td><td></td><td></td><td>None</td><td>None</td><td>2021-03-20T03:01:54</td><td>ma/(m^2)</td><td>898469120</td><td>deg</td><td>-391.181886</td><td>-291.369228</td><td>HMI</td><td>None</td><td>2021-03-24T06:07:28</td><td>rtimmons</td><td>None</td><td>0.649089863360321484</td><td>1973671952384</td><td></td><td>None</td><td></td><td></td><td>cm</td><td>ivo://helio-informatics.org/AR_SHARP_20210324T060724_20210212T160000_7545</td><td>HMI SHARP</td><td>28.56999969482422</td><td>(g^2)/m</td><td>-14.785770416259766</td><td>None</td><td>None</td><td>-25.306514739990234</td><td>3.9579999446868896</td><td>0.0019729100167751312</td><td></td><td>km2</td><td></td><td>amperes</td><td>false</td><td>None</td><td>0.0</td><td>0.502167458733721</td><td>-29.981974</td><td></td><td>-20.175554</td><td>true</td><td>7545</td><td>None</td><td></td><td></td><td>None</td><td>HMI</td><td>None</td><td>0.0</td><td>1</td><td>487.769715090874627</td><td>22.22800064086914</td><td>2021-02-12T20:00:00</td><td>None</td><td>ergs per cubic centimeter</td><td>None</td><td>130.1540069580078</td><td>-29.98197364807129</td><td>None</td><td>-20.175554275512695</td><td>SDO</td><td>None</td><td>None</td><td>130.427001953125</td><td>Active Region</td><td>None</td><td></td><td></td><td>0</td><td>ergs</td><td>58.174398</td><td>143.319661451754</td><td>-29.981974</td><td></td><td>1/mm</td><td></td><td>POINT(-20.175554 -29.981974)</td><td></td><td>None</td><td>None</td><td></td><td>g/mm</td><td></td><td>BLOS</td><td>82.47200012207031</td><td>POLYGON((-25.306516 -31.658576,-14.78577 -31.658576,-14.78577 -28.333984,-25.306516 -28.333984,-25.306516 -31.658576))</td><td>km2</td><td>728207392768</td><td></td><td>[{&apos;ref_name&apos;: &apos;FRM_URL&apos;, &apos;ref_type&apos;: &apos;unknown&apos;, &apos;ref_url&apos;: &apos;http://sun.stanford.edu/~mbobra/spaceweather/sharps.htm&apos;}, {&apos;ref_name&apos;: &apos;JSOC Link&apos;, &apos;ref_type&apos;: &apos;url&apos;, &apos;ref_url&apos;: &apos;http://jsoc.stanford.edu/ajax/lookdata.html?ds=hmi.sharp_720s[7545][2021.02.12_16:00:00_TAI-2021.02.12_20:00:00_TAI]&apos;}]</td></tr>\n",
       "<tr><td>http://sdowww.lmsal.com/sdomedia/ssw/media/ssw/ssw_client/data/ssw_service_210215_105905_37622/www/ssw_cutout_171_context_thumb.gif</td><td>0</td><td>POLYGON((-338.7 -462.9,-128.1 -462.9,-128.1 -341.1,-338.7 -341.1,-338.7 -462.9))</td><td>None</td><td>false</td><td>POINT(59.746661 -29.913145)</td><td>None</td><td>UTC-HPC-TOPO</td><td>1.5</td><td>POINT(-269.218 -389.202)</td><td>28786</td><td>http://sdowww.lmsal.com/sdomedia/ssw/media/ssw/ssw_client/data/ssw_service_210215_105905_37622/www/ssw_cutout_171_context_full.gif</td><td>None</td><td></td><td>image171 : calibrated image 171 A ; image195 : calibrated image 195/193 A; spocaPreprocessing=DivExpTime,ALC,DivMedian; spocaClassifierType=HPCM2; spocaNumberclasses=4; spocaChannels=[AIA_171,AIA_193]; spocaPrecision=0.00150000; spocaRadiusRatio=1.20; spocaBinsize=0.01,0.01; spocaSegmentationType=threshold; spocaVersion=2.00; intensitiesStatsPreprocessing=NAR,DivExpTime; intensitiesStatsRadiusRatio=0.95; trackingDeltat=36000; trackingOverlap=2; trackingNumberImages=6; spocaCenters=(0.3914,0.2072),(0.9784,0.8725),(1.1791,1.3434),(1.5165,3.1202)</td><td>POINT(0.487209572025947 145.327695594898)</td><td>2021-02-12T16:03:46</td><td></td><td>AR</td><td>None</td><td>69.0154037475586</td><td>1.71e-06</td><td>http://sdoatsidc.oma.be/web/sdoatsidc/SoftwareSPoCA</td><td>POLYGON((-338.7 -362.7,-338.1 -362.1,-255.9 -342.9,-216.9 -364.5,-197.7 -398.7,-134.1 -411.9,-131.7 -434.1,-192.9 -411.9,-239.1 -414.3,-267.9 -433.5,-275.7 -460.5,-296.7 -462.9,-338.7 -362.7))</td><td>None</td><td>false</td><td>None</td><td>true</td><td>2010.449951171875</td><td>1.0</td><td>None</td><td>222085008</td><td></td><td>0103000000010000000D00000033333333332B75C03333333333AB76C09A999999992175C09A99999999A176C0CDCCCCCCCCFC6FC066666666666E75C0CDCCCCCCCC1C6BC00000000000C876C06666666666B668C03333333333EB78C03333333333C360C06666666666BE79C066666666667660C09A99999999217BC0CDCCCCCCCC1C68C06666666666BE79C03333333333E36DC0CDCCCCCCCCE479C06666666666BE70C00000000000187BC033333333333B71C00000000000C87CC033333333338B72C06666666666EE7CC033333333332B75C03333333333AB76C0</td><td>POLYGON((53.391398 -34.484056,69.091602 -34.977949,69.832053 -27.119953,55.442399 -26.693191,53.391398 -34.484056))</td><td>391.0870056152344</td><td>ordered list of points in HPC</td><td>AIA 171, AIA 193</td><td></td><td>F</td><td></td><td>SOL2021-02-12T16:03:46L059C119</td><td>None</td><td>1</td><td>DN/s</td><td>POLYGON((-338.7 -362.7,-338.1 -362.1,-255.9 -342.9,-216.9 -364.5,-197.7 -398.7,-134.1 -411.9,-131.7 -434.1,-192.9 -411.9,-239.1 -414.3,-267.9 -433.5,-275.7 -460.5,-296.7 -462.9,-338.7 -362.7))</td><td></td><td>veronique.delouille@sidc.be</td><td>None</td><td></td><td>458.0350036621094</td><td>-338.70001220703125</td><td>SPoCA</td><td>6097959936</td><td>vdelouille</td><td>SDO</td><td></td><td>None</td><td>None</td><td>-341.1000061035156</td><td></td><td>None</td><td></td><td></td><td></td><td>-462.8999938964844</td><td>ROB</td><td>POLYGON((0.590511 143.807383,0.494475 164.531443,0.375116 159.416348,0.494883 135.202279,0.590511 143.807383))</td><td></td><td>None</td><td>None</td><td></td><td></td><td>-362.70001220703125</td><td></td><td>http://sdowww.lmsal.com/sdomedia/h264/2021/02/12/EDS_SPoCA_20210212T150346-20210212T210346_AIA_171-193_XCEN-269.218YCEN-389.202.mov</td><td>0.103311128612300698</td><td></td><td>POLYGON((0.510903 136.959741,0.51003 136.963097,0.440491 143.266693,0.436673 149.244742,0.458161 153.624955,0.445966 161.966592,0.467029 163.122921,0.468258 154.905482,0.492464 150.009981,0.524643 148.284222,0.552565 149.091167,0.566055 147.341787,0.510903 136.959741))</td><td>None</td><td>65153.8984375</td><td>2021-02-15T18:57:35</td><td></td><td>None</td><td>arcsec,arcsec</td><td>-389.202</td><td>-269.218</td><td>AIA</td><td>None</td><td>2021-02-15T18:57:37</td><td>rtimmons</td><td>13185000</td><td>0.662956723635268252</td><td>None</td><td>POLYGON((-23.171188 -28.043407,-23.119556 -28.007599,-17.126774 -27.02265,-14.650339 -28.460109,-13.629976 -30.673006,-9.290594 -31.619975,-9.271971 -33.06926,-13.416268 -31.532011,-16.726605 -31.59455,-19.068363 -32.771245,-20.069022 -34.523654,-21.699621 -34.621545,-23.171188 -28.043407))</td><td>0.7691149711608887</td><td>T</td><td></td><td>cm</td><td>ivo://helio-informatics.org/AR_SPoCA_20210215_185735_20210212T200346_0</td><td>SPoCA</td><td>None</td><td></td><td>-128.10000610351562</td><td>None</td><td>239418000</td><td>-338.70001220703125</td><td>None</td><td>None</td><td></td><td></td><td></td><td></td><td>false</td><td>None</td><td>7.229770183563232</td><td>0.487209572025947</td><td>-29.913145</td><td></td><td>-18.568848</td><td>true</td><td>SPoCA_v1.0_AR_0000025115</td><td>None</td><td></td><td></td><td>None</td><td>AIA</td><td>None</td><td>4.981780052185059</td><td>1</td><td>473.240455083882296</td><td>None</td><td>2021-02-12T20:03:46</td><td>None</td><td></td><td>None</td><td>None</td><td>-389.2019958496094</td><td>None</td><td>-269.2179870605469</td><td>SDO</td><td>None</td><td>5303119872</td><td>None</td><td>Active Region</td><td>None</td><td>DN/s</td><td>POLYGON((55.144321 -28.043407,55.195953 -28.007599,61.188735 -27.02265,63.66517 -28.460109,64.685533 -30.673006,69.024915 -31.619975,69.043539 -33.06926,64.899241 -31.532011,61.588904 -31.59455,59.247146 -32.771245,58.246487 -34.523654,56.615888 -34.621545,55.144321 -28.043407))</td><td>None</td><td></td><td>59.746661</td><td>145.327695594898</td><td>-29.913145</td><td></td><td></td><td></td><td>POINT(-18.568848 -29.913145)</td><td></td><td>12</td><td>-0.16685399413108826</td><td></td><td></td><td></td><td>171,193</td><td>None</td><td>POLYGON((-24.924111 -34.484056,-9.223907 -34.977949,-8.483456 -27.119953,-22.87311 -26.693191,-24.924111 -34.484056))</td><td>km2</td><td>None</td><td>2021-02-12T20:13:46</td><td>[{&apos;ref_name&apos;: &apos;SSW Context Thumbnail&apos;, &apos;ref_type&apos;: &apos;thumbnail&apos;, &apos;ref_url&apos;: &apos;http://sdowww.lmsal.com/sdomedia/ssw/media/ssw/ssw_client/data/ssw_service_210215_105905_37622/www/ssw_cutout_171_context_thumb.gif&apos;}, {&apos;ref_name&apos;: &apos;SSW Context Image&apos;, &apos;ref_type&apos;: &apos;image&apos;, &apos;ref_url&apos;: &apos;http://sdowww.lmsal.com/sdomedia/ssw/media/ssw/ssw_client/data/ssw_service_210215_105905_37622/www/ssw_cutout_171_context_full.gif&apos;}, {&apos;ref_name&apos;: &apos;SDO Movie&apos;, &apos;ref_type&apos;: &apos;movie&apos;, &apos;ref_url&apos;: &apos;http://sdowww.lmsal.com/sdomedia/h264/2021/02/12/EDS_SPoCA_20210212T150346-20210212T210346_AIA_171-193_XCEN-269.218YCEN-389.202.mov&apos;}, {&apos;ref_name&apos;: &apos;OBS_DATAPREPURL&apos;, &apos;ref_type&apos;: &apos;unknown&apos;, &apos;ref_url&apos;: &apos;http://sdoatsidc.oma.be/web/sdoatsidc/SoftwareSPoCA&apos;}, {&apos;ref_name&apos;: &apos;FRM_URL&apos;, &apos;ref_type&apos;: &apos;unknown&apos;, &apos;ref_url&apos;: &apos;http://sdoatsidc.oma.be/web/sdoatsidc/SoftwareSPoCA&apos;}]</td></tr>\n",
       "<tr><td>http://sdowww.lmsal.com/sdomedia/ssw/media/ssw/ssw_client/data/ssw_service_210215_105906_37627/www/ssw_cutout_171_context_thumb.gif</td><td>0</td><td>POLYGON((-858.3 45.9,-827.1 45.9,-827.1 116.7,-858.3 116.7,-858.3 45.9))</td><td>None</td><td>false</td><td>POINT(18.437288 1.9524409)</td><td>None</td><td>UTC-HPC-TOPO</td><td>1.5</td><td>POINT(-841.633 90.1239)</td><td>3532</td><td>http://sdowww.lmsal.com/sdomedia/ssw/media/ssw/ssw_client/data/ssw_service_210215_105906_37627/www/ssw_cutout_171_context_full.gif</td><td>None</td><td></td><td>image171 : calibrated image 171 A ; image195 : calibrated image 195/193 A; spocaPreprocessing=DivExpTime,ALC,DivMedian; spocaClassifierType=HPCM2; spocaNumberclasses=4; spocaChannels=[AIA_171,AIA_193]; spocaPrecision=0.00150000; spocaRadiusRatio=1.20; spocaBinsize=0.01,0.01; spocaSegmentationType=threshold; spocaVersion=2.00; intensitiesStatsPreprocessing=NAR,DivExpTime; intensitiesStatsRadiusRatio=0.95; trackingDeltat=36000; trackingOverlap=2; trackingNumberImages=6; spocaCenters=(0.3914,0.2072),(0.9784,0.8725),(1.1791,1.3434),(1.5165,3.1202)</td><td>POINT(0.871429938586485 83.8879333013326)</td><td>2021-02-12T16:03:46</td><td></td><td>AR</td><td>None</td><td>181.0399932861328</td><td>1.71e-06</td><td>http://sdoatsidc.oma.be/web/sdoatsidc/SoftwareSPoCA</td><td>POLYGON((-858.3 102.9,-857.7 103.5,-839.1 116.7,-827.1 100.5,-852.3 45.9,-858.3 102.9))</td><td>None</td><td>false</td><td>None</td><td>true</td><td>1035.22998046875</td><td>1.0</td><td>None</td><td>54897500</td><td></td><td>010300000001000000060000006666666666D28AC09A99999999B959409A99999999CD8AC00000000000E05940CDCCCCCCCC388AC0CDCCCCCCCC2C5D40CDCCCCCCCCD889C000000000002059406666666666A28AC03333333333F346406666666666D28AC09A99999999B95940</td><td>POLYGON((16.466231 -0.467071,20.158494 -0.84452,20.002877 3.373983,16.23082 3.763172,16.466231 -0.467071))</td><td>322.5719909667969</td><td>ordered list of points in HPC</td><td>AIA 171, AIA 193</td><td></td><td>F</td><td></td><td>SOL2021-02-12T16:03:46L018C089</td><td>None</td><td>1</td><td>DN/s</td><td>POLYGON((-858.3 102.9,-857.7 103.5,-839.1 116.7,-827.1 100.5,-852.3 45.9,-858.3 102.9))</td><td></td><td>veronique.delouille@sidc.be</td><td>None</td><td></td><td>381.15899658203125</td><td>-858.2999877929688</td><td>SPoCA</td><td>1335000064</td><td>vdelouille</td><td>SDO</td><td></td><td>None</td><td>None</td><td>116.69999694824219</td><td></td><td>None</td><td></td><td></td><td></td><td>45.900001525878906</td><td>ROB</td><td>POLYGON((0.884898 86.938863,0.852825 86.823623,0.859949 81.968844,0.891766 82.257177,0.884898 86.938863))</td><td></td><td>None</td><td>None</td><td></td><td></td><td>102.9000015258789</td><td></td><td>http://sdowww.lmsal.com/sdomedia/h264/2021/02/12/EDS_SPoCA_20210212T150346-20210212T210346_AIA_171-193_XCEN-841.633YCEN90.1239.mov</td><td>0.0226174597335586126</td><td></td><td>POLYGON((0.889963 83.163544,0.889423 83.119298,0.872183 82.082231,0.857777 83.072016,0.87873 86.917355,0.889963 83.163544))</td><td>None</td><td>25267.400390625</td><td>2021-02-15T18:57:35</td><td></td><td>None</td><td>arcsec,arcsec</td><td>90.1239</td><td>-841.633</td><td>AIA</td><td>None</td><td>2021-02-15T18:57:38</td><td>rtimmons</td><td>1346250</td><td>0</td><td>None</td><td>POLYGON((-61.991249 2.931351,-61.918213 2.959407,-59.710504 3.516492,-58.231712 2.401617,-61.105246 -0.544263,-61.991249 2.931351))</td><td>1.5107699632644653</td><td>T</td><td></td><td>cm</td><td>ivo://helio-informatics.org/AR_SPoCA_20210215_185735_20210212T200346_1</td><td>SPoCA</td><td>None</td><td></td><td>-827.0999755859375</td><td>None</td><td>110027000</td><td>-858.2999877929688</td><td>None</td><td>None</td><td></td><td></td><td></td><td></td><td>false</td><td>None</td><td>2.10575008392334</td><td>0.871429938586485</td><td>1.9524409</td><td></td><td>-59.878221</td><td>true</td><td>SPoCA_v1.0_AR_0000025128</td><td>None</td><td></td><td></td><td>None</td><td>AIA</td><td>None</td><td>14.688699722290039</td><td>1</td><td>846.444578244913828</td><td>None</td><td>2021-02-12T20:03:46</td><td>None</td><td></td><td>None</td><td>None</td><td>90.1239013671875</td><td>None</td><td>-841.6329956054688</td><td>SDO</td><td>None</td><td>650673984</td><td>None</td><td>Active Region</td><td>None</td><td>DN/s</td><td>POLYGON((16.32426 2.931351,16.397296 2.959407,18.605005 3.516492,20.083797 2.401617,17.210263 -0.544263,16.32426 2.931351))</td><td>None</td><td></td><td>18.437288</td><td>83.8879333013326</td><td>1.9524409</td><td></td><td></td><td></td><td>POINT(-59.878221 1.9524409)</td><td></td><td>5</td><td>1.7983900308609009</td><td></td><td></td><td></td><td>171,193</td><td>None</td><td>POLYGON((-61.849278 -0.467071,-58.157015 -0.84452,-58.312632 3.373983,-62.084689 3.763172,-61.849278 -0.467071))</td><td>km2</td><td>None</td><td>2021-02-12T20:13:46</td><td>[{&apos;ref_name&apos;: &apos;SSW Context Thumbnail&apos;, &apos;ref_type&apos;: &apos;thumbnail&apos;, &apos;ref_url&apos;: &apos;http://sdowww.lmsal.com/sdomedia/ssw/media/ssw/ssw_client/data/ssw_service_210215_105906_37627/www/ssw_cutout_171_context_thumb.gif&apos;}, {&apos;ref_name&apos;: &apos;SSW Context Image&apos;, &apos;ref_type&apos;: &apos;image&apos;, &apos;ref_url&apos;: &apos;http://sdowww.lmsal.com/sdomedia/ssw/media/ssw/ssw_client/data/ssw_service_210215_105906_37627/www/ssw_cutout_171_context_full.gif&apos;}, {&apos;ref_name&apos;: &apos;SDO Movie&apos;, &apos;ref_type&apos;: &apos;movie&apos;, &apos;ref_url&apos;: &apos;http://sdowww.lmsal.com/sdomedia/h264/2021/02/12/EDS_SPoCA_20210212T150346-20210212T210346_AIA_171-193_XCEN-841.633YCEN90.1239.mov&apos;}, {&apos;ref_name&apos;: &apos;OBS_DATAPREPURL&apos;, &apos;ref_type&apos;: &apos;unknown&apos;, &apos;ref_url&apos;: &apos;http://sdoatsidc.oma.be/web/sdoatsidc/SoftwareSPoCA&apos;}, {&apos;ref_name&apos;: &apos;FRM_URL&apos;, &apos;ref_type&apos;: &apos;unknown&apos;, &apos;ref_url&apos;: &apos;http://sdoatsidc.oma.be/web/sdoatsidc/SoftwareSPoCA&apos;}]</td></tr>\n",
       "<tr><td></td><td>0</td><td>POLYGON((-324.76857 -417.535902,-184.537884 -412.307298,-190.7637 -360.960486,-335.722902 -366.377052,-324.76857 -417.535902))</td><td>1589.1300048828125</td><td>false</td><td>POINT(58.165634 -29.963507)</td><td>None</td><td>UTC-HGS-TOPO</td><td>None</td><td>POINT(-260.967024 -389.549118)</td><td>None</td><td></td><td>None</td><td>ergs/cm</td><td>/builtin/hmi.M_Ic_noLimbDark_720s.production</td><td>POINT(0.482739678918597 146.181050134945)</td><td>2021-02-12T20:00:00</td><td></td><td>AR</td><td>0.021562760695815086</td><td>None</td><td>5e-05</td><td>http://sun.stanford.edu/~mbobra/spaceweather/sharps.htm</td><td></td><td>1.358451715166335e+29</td><td>false</td><td>None</td><td>true</td><td>None</td><td>1.100000023841858</td><td>None</td><td>None</td><td></td><td>01030000000100000005000000FD6A0E104C4C74C0C7BDF90D93187AC055A18158361167C005C24EB1EAC479C0917EFB3A70D867C0416491265E8F76C06803B00191FB74C0438EAD6708E676C0FD6A0E104C4C74C0C7BDF90D93187AC0</td><td>POLYGON((53.142395 -31.581323,63.323641 -31.581323,63.323641 -28.291557,53.142395 -28.291557,53.142395 -31.581323))</td><td>None</td><td></td><td>BLOS</td><td></td><td></td><td></td><td>SOL2021-02-12T20:00:00L058C119</td><td>None</td><td>1</td><td></td><td></td><td></td><td>turmon@jpl.nasa.gov,mbobra@sun.stanford.edu</td><td>0.28255191445350647</td><td></td><td>None</td><td>None</td><td>HMI SHARP</td><td>258148320</td><td>HMI Active Region Patch</td><td>SDO</td><td></td><td>None</td><td>1010.3599853515625</td><td>-28.29155731201172</td><td>emx</td><td>None</td><td></td><td></td><td></td><td>-31.581323623657227</td><td>JPL,Stanford</td><td>POLYGON((0.544603 142.123441,0.465069 155.887968,0.420333 152.144034,0.511617 137.499984,0.544603 142.123441))</td><td></td><td>46.6349983215332</td><td>None</td><td></td><td></td><td>None</td><td></td><td></td><td>0.000698216762568940269</td><td></td><td></td><td>None</td><td>None</td><td>2021-03-20T03:02:11</td><td>ma/(m^2)</td><td>1067406016</td><td>deg</td><td>-389.549118</td><td>-260.967024</td><td>HMI</td><td>None</td><td>2021-03-24T06:07:28</td><td>rtimmons</td><td>None</td><td>0</td><td>1811202048000</td><td></td><td>None</td><td></td><td></td><td>cm</td><td>ivo://helio-informatics.org/AR_SHARP_20210324T060724_20210212T200000_7545</td><td>HMI SHARP</td><td>29.481000900268555</td><td>(g^2)/m</td><td>-12.831732749938965</td><td>None</td><td>None</td><td>-23.01297950744629</td><td>8.333999633789062</td><td>0.00467139994725585</td><td></td><td>km2</td><td></td><td>amperes</td><td>false</td><td>None</td><td>0.0</td><td>0.482739678918597</td><td>-29.963507</td><td></td><td>-17.98974</td><td>true</td><td>7545</td><td>None</td><td></td><td></td><td>None</td><td>HMI</td><td>None</td><td>0.0</td><td>1</td><td>468.884103963862856</td><td>23.729999542236328</td><td>2021-02-13T00:00:00</td><td>None</td><td>ergs per cubic centimeter</td><td>None</td><td>122.41000366210938</td><td>-29.9635066986084</td><td>None</td><td>-17.9897403717041</td><td>SDO</td><td>None</td><td>None</td><td>123.03099822998047</td><td>Active Region</td><td>None</td><td></td><td></td><td>0</td><td>ergs</td><td>58.165634</td><td>146.181050134945</td><td>-29.963507</td><td></td><td>1/mm</td><td></td><td>POINT(-17.98974 -29.963507)</td><td></td><td>None</td><td>None</td><td></td><td>g/mm</td><td></td><td>BLOS</td><td>76.00199890136719</td><td>POLYGON((-23.012979 -31.581323,-12.831733 -31.581323,-12.831733 -28.291557,-23.012979 -28.291557,-23.012979 -31.581323))</td><td>km2</td><td>848706273280</td><td></td><td>[{&apos;ref_name&apos;: &apos;FRM_URL&apos;, &apos;ref_type&apos;: &apos;unknown&apos;, &apos;ref_url&apos;: &apos;http://sun.stanford.edu/~mbobra/spaceweather/sharps.htm&apos;}, {&apos;ref_name&apos;: &apos;JSOC Link&apos;, &apos;ref_type&apos;: &apos;url&apos;, &apos;ref_url&apos;: &apos;http://jsoc.stanford.edu/ajax/lookdata.html?ds=hmi.sharp_720s[7545][2021.02.12_20:00:00_TAI-2021.02.13_00:00:00_TAI]&apos;}]</td></tr>\n",
       "<tr><td>http://sdowww.lmsal.com/sdomedia/ssw/media/ssw/ssw_client/data/ssw_service_210215_110253_40160/www/ssw_cutout_171_context_thumb.gif</td><td>0</td><td>POLYGON((-291.9 -428.7,-174.3 -428.7,-174.3 -335.7,-291.9 -335.7,-291.9 -428.7))</td><td>None</td><td>false</td><td>POINT(59.761808 -29.595741)</td><td>None</td><td>UTC-HPC-TOPO</td><td>1.5</td><td>POINT(-238.879 -382.986)</td><td>20212</td><td>http://sdowww.lmsal.com/sdomedia/ssw/media/ssw/ssw_client/data/ssw_service_210215_110253_40160/www/ssw_cutout_171_context_full.gif</td><td>None</td><td></td><td>image171 : calibrated image 171 A ; image195 : calibrated image 195/193 A; spocaPreprocessing=DivExpTime,ALC,DivMedian; spocaClassifierType=HPCM2; spocaNumberclasses=4; spocaChannels=[AIA_171,AIA_193]; spocaPrecision=0.00150000; spocaRadiusRatio=1.20; spocaBinsize=0.01,0.01; spocaSegmentationType=threshold; spocaVersion=2.00; intensitiesStatsPreprocessing=NAR,DivExpTime; intensitiesStatsRadiusRatio=0.95; trackingDeltat=36000; trackingOverlap=2; trackingNumberImages=6; spocaCenters=(0.3774,0.2014),(0.9945,0.8563),(1.1437,1.3011),(1.5033,2.9311)</td><td>POINT(0.464715760596451 148.047064899795)</td><td>2021-02-12T20:03:46</td><td></td><td>AR</td><td>None</td><td>93.52010345458984</td><td>1.71e-06</td><td>http://sdoatsidc.oma.be/web/sdoatsidc/SoftwareSPoCA</td><td>POLYGON((-291.9 -397.5,-291.3 -396.9,-290.1 -360.3,-246.9 -335.7,-177.9 -372.9,-190.5 -422.7,-252.9 -428.7,-291.9 -397.5))</td><td>None</td><td>false</td><td>None</td><td>true</td><td>1311.280029296875</td><td>1.0</td><td>None</td><td>147865008</td><td></td><td>0103000000010000000800000066666666663E72C00000000000D878C0CDCCCCCCCC3472C06666666666CE78C09A999999992172C0CDCCCCCCCC8476C0CDCCCCCCCCDC6EC03333333333FB74C0CDCCCCCCCC3C66C066666666664E77C00000000000D067C033333333336B7AC0CDCCCCCCCC9C6FC03333333333CB7AC066666666663E72C00000000000D878C0</td><td>POLYGON((55.356813 -32.402114,63.86514 -32.663707,64.580971 -26.731645,56.585737 -26.49577,55.356813 -32.402114))</td><td>425.5920104980469</td><td>ordered list of points in HPC</td><td>AIA 171, AIA 193</td><td></td><td>F</td><td></td><td>SOL2021-02-12T20:03:46L059C119</td><td>None</td><td>1</td><td>DN/s</td><td>POLYGON((-291.9 -397.5,-291.3 -396.9,-290.1 -360.3,-246.9 -335.7,-177.9 -372.9,-190.5 -422.7,-252.9 -428.7,-291.9 -397.5))</td><td></td><td>veronique.delouille@sidc.be</td><td>None</td><td></td><td>467.9989929199219</td><td>-291.8999938964844</td><td>SPoCA</td><td>4216059904</td><td>vdelouille</td><td>SDO</td><td></td><td>None</td><td>None</td><td>-335.70001220703125</td><td></td><td>None</td><td></td><td></td><td></td><td>-428.70001220703125</td><td>ROB</td><td>POLYGON((0.533968 145.749218,0.476454 157.874421,0.38943 152.561048,0.458006 138.992181,0.533968 145.749218))</td><td></td><td>None</td><td>None</td><td></td><td></td><td>-397.5</td><td></td><td>http://sdowww.lmsal.com/sdomedia/h264/2021/02/12/EDS_SPoCA_20210212T190346-20210213T010346_AIA_171-193_XCEN-238.879YCEN-382.986.mov</td><td>0.0714281352371463202</td><td></td><td>POLYGON((0.507738 143.708687,0.506875 143.723639,0.476243 141.160291,0.429033 143.666332,0.425371 154.495516,0.477345 155.740137,0.512445 149.462667,0.507738 143.708687))</td><td>None</td><td>41926.5</td><td>2021-02-15T19:01:49</td><td></td><td>None</td><td>arcsec,arcsec</td><td>-382.986</td><td>-238.879</td><td>AIA</td><td>None</td><td>2021-02-15T19:01:52</td><td>rtimmons</td><td>9459190</td><td>0</td><td>None</td><td>POLYGON((-20.302985 -30.392172,-20.251429 -30.355458,-19.693324 -28.039156,-16.443926 -26.601067,-12.043596 -29.067968,-13.351904 -32.245136,-17.907752 -32.50463,-20.302985 -30.392172))</td><td>0.9215180277824402</td><td>T</td><td></td><td>cm</td><td>ivo://helio-informatics.org/AR_SPoCA_20210215_190149_20210213T000346_0</td><td>SPoCA</td><td>None</td><td></td><td>-174.3000030517578</td><td>None</td><td>156580000</td><td>-291.8999938964844</td><td>None</td><td>None</td><td></td><td></td><td></td><td></td><td>false</td><td>None</td><td>7.033599853515625</td><td>0.464715760596451</td><td>-29.595741</td><td></td><td>-16.359123</td><td>true</td><td>SPoCA_v1.0_AR_0000025115</td><td>None</td><td></td><td></td><td>None</td><td>AIA</td><td>None</td><td>4.591209888458252</td><td>1</td><td>451.377284360876956</td><td>None</td><td>2021-02-13T00:03:46</td><td>None</td><td></td><td>None</td><td>None</td><td>-382.9859924316406</td><td>None</td><td>-238.87899780273438</td><td>SDO</td><td>None</td><td>3725530112</td><td>None</td><td>Active Region</td><td>None</td><td>DN/s</td><td>POLYGON((55.817946 -30.392172,55.869502 -30.355458,56.427607 -28.039156,59.677005 -26.601067,64.077335 -29.067968,62.769027 -32.245136,58.213179 -32.50463,55.817946 -30.392172))</td><td>None</td><td></td><td>59.761808</td><td>148.047064899795</td><td>-29.595741</td><td></td><td></td><td></td><td>POINT(-16.359123 -29.595741)</td><td></td><td>7</td><td>0.6024199724197388</td><td></td><td></td><td></td><td>171,193</td><td>None</td><td>POLYGON((-20.764118 -32.402114,-12.255791 -32.663707,-11.53996 -26.731645,-19.535194 -26.49577,-20.764118 -32.402114))</td><td>km2</td><td>None</td><td>2021-02-13T00:13:31</td><td>[{&apos;ref_name&apos;: &apos;SSW Context Thumbnail&apos;, &apos;ref_type&apos;: &apos;thumbnail&apos;, &apos;ref_url&apos;: &apos;http://sdowww.lmsal.com/sdomedia/ssw/media/ssw/ssw_client/data/ssw_service_210215_110253_40160/www/ssw_cutout_171_context_thumb.gif&apos;}, {&apos;ref_name&apos;: &apos;SSW Context Image&apos;, &apos;ref_type&apos;: &apos;image&apos;, &apos;ref_url&apos;: &apos;http://sdowww.lmsal.com/sdomedia/ssw/media/ssw/ssw_client/data/ssw_service_210215_110253_40160/www/ssw_cutout_171_context_full.gif&apos;}, {&apos;ref_name&apos;: &apos;SDO Movie&apos;, &apos;ref_type&apos;: &apos;movie&apos;, &apos;ref_url&apos;: &apos;http://sdowww.lmsal.com/sdomedia/h264/2021/02/12/EDS_SPoCA_20210212T190346-20210213T010346_AIA_171-193_XCEN-238.879YCEN-382.986.mov&apos;}, {&apos;ref_name&apos;: &apos;OBS_DATAPREPURL&apos;, &apos;ref_type&apos;: &apos;unknown&apos;, &apos;ref_url&apos;: &apos;http://sdoatsidc.oma.be/web/sdoatsidc/SoftwareSPoCA&apos;}, {&apos;ref_name&apos;: &apos;FRM_URL&apos;, &apos;ref_type&apos;: &apos;unknown&apos;, &apos;ref_url&apos;: &apos;http://sdoatsidc.oma.be/web/sdoatsidc/SoftwareSPoCA&apos;}]</td></tr>\n",
       "<tr><td>http://sdowww.lmsal.com/sdomedia/ssw/media/ssw/ssw_client/data/ssw_service_210215_110442_40498/www/ssw_cutout_171_context_thumb.gif</td><td>0</td><td>POLYGON((-756.9 532.5,-729.3 532.5,-729.3 561.9,-756.9 561.9,-756.9 532.5))</td><td>None</td><td>false</td><td>POINT(12.874249 31.301672)</td><td>None</td><td>UTC-HPC-TOPO</td><td>1.5</td><td>POINT(-742.203 545.779)</td><td>1551</td><td>http://sdowww.lmsal.com/sdomedia/ssw/media/ssw/ssw_client/data/ssw_service_210215_110442_40498/www/ssw_cutout_171_context_full.gif</td><td>None</td><td></td><td>image171 : calibrated image 171 A ; image195 : calibrated image 195/193 A; spocaPreprocessing=DivExpTime,ALC,DivMedian; spocaClassifierType=HPCM2; spocaNumberclasses=4; spocaChannels=[AIA_171,AIA_193]; spocaPrecision=0.00150000; spocaRadiusRatio=1.20; spocaBinsize=0.01,0.01; spocaSegmentationType=threshold; spocaVersion=2.00; intensitiesStatsPreprocessing=NAR,DivExpTime; intensitiesStatsRadiusRatio=0.95; trackingDeltat=36000; trackingOverlap=2; trackingNumberImages=6; spocaCenters=(0.3774,0.2014),(0.9945,0.8563),(1.1437,1.3011),(1.5033,2.9311)</td><td>POINT(0.948494987282073 53.6710946847033)</td><td>2021-02-12T20:03:46</td><td></td><td>AR</td><td>None</td><td>168.03599548339844</td><td>1.71e-06</td><td>http://sdoatsidc.oma.be/web/sdoatsidc/SoftwareSPoCA</td><td>POLYGON((-756.9 536.7,-756.3 537.3,-742.5 561.9,-731.7 536.7,-756.9 536.7))</td><td>None</td><td>false</td><td>None</td><td>true</td><td>409.5880126953125</td><td>1.0</td><td>None</td><td>30216500</td><td></td><td>010300000001000000050000003333333333A787C09A99999999C580406666666666A287C06666666666CA804000000000003487C033333333338F81409A99999999DD86C09A99999999C580403333333333A787C09A99999999C58040</td><td>POLYGON((11.550848 30.501541,16.193675 29.989088,13.5104 32.396598,7.93398 33.029336,11.550848 30.501541))</td><td>246.55299377441406</td><td>ordered list of points in HPC</td><td>AIA 171, AIA 193</td><td></td><td>T</td><td></td><td>SOL2021-02-12T20:03:46L012C059</td><td>None</td><td>1</td><td>DN/s</td><td>POLYGON((-756.9 536.7,-756.3 537.3,-742.5 561.9,-731.7 536.7,-756.9 536.7))</td><td></td><td>veronique.delouille@sidc.be</td><td>None</td><td></td><td>255.33900451660156</td><td>-756.9000244140625</td><td>SPoCA</td><td>902926016</td><td>vdelouille</td><td>SDO</td><td></td><td>None</td><td>None</td><td>561.9000244140625</td><td></td><td>None</td><td></td><td></td><td></td><td>532.5</td><td>ROB</td><td>POLYGON((0.952795 54.872558,0.929699 53.864867,0.947863 52.387013,0.970528 53.410908,0.952795 54.872558))</td><td></td><td>None</td><td>None</td><td></td><td></td><td>536.7000122070312</td><td></td><td>http://sdowww.lmsal.com/sdomedia/h264/2021/02/12/EDS_SPoCA_20210212T190346-20210213T010346_AIA_171-193_XCEN-742.203YCEN545.779.mov</td><td>0.0152972972511127171</td><td></td><td>POLYGON((0.95529 54.660443,0.955144 54.608781,0.958665 52.882741,0.934247 53.740052,0.95529 54.660443))</td><td>None</td><td>3164.179931640625</td><td>2021-02-15T19:01:49</td><td></td><td>None</td><td>arcsec,arcsec</td><td>545.779</td><td>-742.203</td><td>AIA</td><td>None</td><td>2021-02-15T19:01:53</td><td>rtimmons</td><td>234146</td><td>0</td><td>None</td><td>POLYGON((-65.014257 30.850412,-64.964161 30.887541,-65.082182 32.674043,-60.646382 30.365736,-65.014257 30.850412))</td><td>0.5248420238494873</td><td>T</td><td></td><td>cm</td><td>ivo://helio-informatics.org/AR_SPoCA_20210215_190149_20210213T000346_2</td><td>SPoCA</td><td>None</td><td></td><td>-729.2999877929688</td><td>None</td><td>93986800</td><td>-756.9000244140625</td><td>None</td><td>None</td><td></td><td></td><td></td><td></td><td>false</td><td>None</td><td>9.704489707946777</td><td>0.948494987282073</td><td>31.301672</td><td></td><td>-63.246682</td><td>true</td><td>SPoCA_v1.0_AR_0000025129</td><td>None</td><td></td><td></td><td>None</td><td>AIA</td><td>None</td><td>13.004799842834473</td><td>1</td><td>921.27086681930848</td><td>None</td><td>2021-02-13T00:03:46</td><td>None</td><td></td><td>None</td><td>None</td><td>545.7789916992188</td><td>None</td><td>-742.2030029296875</td><td>SDO</td><td>None</td><td>285859008</td><td>None</td><td>Active Region</td><td>None</td><td>DN/s</td><td>POLYGON((11.106674 30.850412,11.15677 30.887541,11.038749 32.674043,15.474549 30.365736,11.106674 30.850412))</td><td>None</td><td></td><td>12.874249</td><td>53.6710946847033</td><td>31.301672</td><td></td><td></td><td></td><td>POINT(-63.246682 31.301672)</td><td></td><td>4</td><td>-0.6650620102882385</td><td></td><td></td><td></td><td>171,193</td><td>None</td><td>POLYGON((-64.570083 30.501541,-59.927256 29.989088,-62.610531 32.396598,-68.186951 33.029336,-64.570083 30.501541))</td><td>km2</td><td>None</td><td>2021-02-13T00:13:31</td><td>[{&apos;ref_name&apos;: &apos;SSW Context Thumbnail&apos;, &apos;ref_type&apos;: &apos;thumbnail&apos;, &apos;ref_url&apos;: &apos;http://sdowww.lmsal.com/sdomedia/ssw/media/ssw/ssw_client/data/ssw_service_210215_110442_40498/www/ssw_cutout_171_context_thumb.gif&apos;}, {&apos;ref_name&apos;: &apos;SSW Context Image&apos;, &apos;ref_type&apos;: &apos;image&apos;, &apos;ref_url&apos;: &apos;http://sdowww.lmsal.com/sdomedia/ssw/media/ssw/ssw_client/data/ssw_service_210215_110442_40498/www/ssw_cutout_171_context_full.gif&apos;}, {&apos;ref_name&apos;: &apos;SDO Movie&apos;, &apos;ref_type&apos;: &apos;movie&apos;, &apos;ref_url&apos;: &apos;http://sdowww.lmsal.com/sdomedia/h264/2021/02/12/EDS_SPoCA_20210212T190346-20210213T010346_AIA_171-193_XCEN-742.203YCEN545.779.mov&apos;}, {&apos;ref_name&apos;: &apos;OBS_DATAPREPURL&apos;, &apos;ref_type&apos;: &apos;unknown&apos;, &apos;ref_url&apos;: &apos;http://sdoatsidc.oma.be/web/sdoatsidc/SoftwareSPoCA&apos;}, {&apos;ref_name&apos;: &apos;FRM_URL&apos;, &apos;ref_type&apos;: &apos;unknown&apos;, &apos;ref_url&apos;: &apos;http://sdoatsidc.oma.be/web/sdoatsidc/SoftwareSPoCA&apos;}]</td></tr>\n",
       "<tr><td>http://sdowww.lmsal.com/sdomedia/ssw/media/ssw/ssw_client/data/ssw_service_210215_110441_40493/www/ssw_cutout_171_context_thumb.gif</td><td>0</td><td>POLYGON((-842.1 43.5,-803.1 43.5,-803.1 123.3,-842.1 123.3,-842.1 43.5))</td><td>None</td><td>false</td><td>POINT(18.48658 1.8495992)</td><td>None</td><td>UTC-HPC-TOPO</td><td>1.5</td><td>POINT(-822.022 92.2909)</td><td>4419</td><td>http://sdowww.lmsal.com/sdomedia/ssw/media/ssw/ssw_client/data/ssw_service_210215_110441_40493/www/ssw_cutout_171_context_full.gif</td><td>None</td><td></td><td>image171 : calibrated image 171 A ; image195 : calibrated image 195/193 A; spocaPreprocessing=DivExpTime,ALC,DivMedian; spocaClassifierType=HPCM2; spocaNumberclasses=4; spocaChannels=[AIA_171,AIA_193]; spocaPrecision=0.00150000; spocaRadiusRatio=1.20; spocaBinsize=0.01,0.01; spocaSegmentationType=threshold; spocaVersion=2.00; intensitiesStatsPreprocessing=NAR,DivExpTime; intensitiesStatsRadiusRatio=0.95; trackingDeltat=36000; trackingOverlap=2; trackingNumberImages=6; spocaCenters=(0.3774,0.2014),(0.9945,0.8563),(1.1437,1.3011),(1.5033,2.9311)</td><td>POINT(0.851630539431792 83.5940555321205)</td><td>2021-02-12T20:03:46</td><td></td><td>AR</td><td>None</td><td>152.5330047607422</td><td>1.71e-06</td><td>http://sdoatsidc.oma.be/web/sdoatsidc/SoftwareSPoCA</td><td>POLYGON((-842.1 55.5,-841.5 56.1,-836.1 119.7,-816.3 119.7,-803.1 99.9,-827.7 45.3,-842.1 55.5))</td><td>None</td><td>false</td><td>None</td><td>true</td><td>754.1619873046875</td><td>1.0</td><td>None</td><td>73765800</td><td></td><td>01030000000100000007000000CDCCCCCCCC508AC00000000000C04B4000000000004C8AC0CDCCCCCCCC0C4C40CDCCCCCCCC208AC0CDCCCCCCCCEC5D4066666666668289C0CDCCCCCCCCEC5D40CDCCCCCCCC1889C09A99999999F958409A99999999DD89C06666666666A64640CDCCCCCCCC508AC00000000000C04B40</td><td>POLYGON((16.234828 -0.815573,20.549696 -1.246461,20.40772 3.503694,16.002319 3.948311,16.234828 -0.815573))</td><td>324.57000732421875</td><td>ordered list of points in HPC</td><td>AIA 171, AIA 193</td><td></td><td>F</td><td></td><td>SOL2021-02-12T20:03:46L018C089</td><td>None</td><td>1</td><td>DN/s</td><td>POLYGON((-842.1 55.5,-841.5 56.1,-836.1 119.7,-816.3 119.7,-803.1 99.9,-827.7 45.3,-842.1 55.5))</td><td></td><td>veronique.delouille@sidc.be</td><td>None</td><td></td><td>344.260009765625</td><td>-842.0999755859375</td><td>SPoCA</td><td>1564899968</td><td>vdelouille</td><td>SDO</td><td></td><td>None</td><td>None</td><td>123.30000305175781</td><td></td><td>None</td><td></td><td></td><td></td><td>43.5</td><td>ROB</td><td>POLYGON((0.868141 87.042925,0.828044 86.899597,0.83652 81.27153,0.876229 81.669963,0.868141 87.042925))</td><td></td><td>None</td><td>None</td><td></td><td></td><td>55.5</td><td></td><td>http://sdowww.lmsal.com/sdomedia/h264/2021/02/12/EDS_SPoCA_20210212T190346-20210213T010346_AIA_171-193_XCEN-822.022YCEN92.2909.mov</td><td>0.0265124047314556251</td><td></td><td>POLYGON((0.868865 86.22928,0.86829 86.185925,0.869584 81.852629,0.84941 81.657758,0.833205 82.909231,0.853434 86.867329,0.868865 86.22928))</td><td>None</td><td>12854.599609375</td><td>2021-02-15T19:01:49</td><td></td><td>None</td><td>arcsec,arcsec</td><td>92.2909</td><td>-822.022</td><td>AIA</td><td>None</td><td>2021-02-15T19:01:52</td><td>rtimmons</td><td>1521290</td><td>0</td><td>None</td><td>POLYGON((-59.876854 -0.105709,-59.806023 -0.077403,-59.377514 3.657374,-57.121298 3.428883,-55.610715 2.100988,-58.228162 -0.87702,-59.876854 -0.105709))</td><td>0.725354015827179</td><td>T</td><td></td><td>cm</td><td>ivo://helio-informatics.org/AR_SPoCA_20210215_190149_20210213T000346_1</td><td>SPoCA</td><td>None</td><td></td><td>-803.0999755859375</td><td>None</td><td>138644000</td><td>-842.0999755859375</td><td>None</td><td>None</td><td></td><td></td><td></td><td></td><td>false</td><td>None</td><td>2.094089984893799</td><td>0.851630539431792</td><td>1.8495992</td><td></td><td>-57.634351</td><td>true</td><td>SPoCA_v1.0_AR_0000025128</td><td>None</td><td></td><td></td><td>None</td><td>AIA</td><td>None</td><td>14.369400024414062</td><td>1</td><td>827.186664971583014</td><td>None</td><td>2021-02-13T00:03:46</td><td>None</td><td></td><td>None</td><td>None</td><td>92.29090118408203</td><td>None</td><td>-822.02197265625</td><td>SDO</td><td>None</td><td>814468992</td><td>None</td><td>Active Region</td><td>None</td><td>DN/s</td><td>POLYGON((16.244077 -0.105709,16.314908 -0.077403,16.743417 3.657374,18.999633 3.428883,20.510216 2.100988,17.892769 -0.87702,16.244077 -0.105709))</td><td>None</td><td></td><td>18.48658</td><td>83.5940555321205</td><td>1.8495992</td><td></td><td></td><td></td><td>POINT(-57.634351 1.8495992)</td><td></td><td>6</td><td>0.021297700703144073</td><td></td><td></td><td></td><td>171,193</td><td>None</td><td>POLYGON((-59.886103 -0.815573,-55.571235 -1.246461,-55.713211 3.503694,-60.118612 3.948311,-59.886103 -0.815573))</td><td>km2</td><td>None</td><td>2021-02-13T00:13:31</td><td>[{&apos;ref_name&apos;: &apos;SSW Context Thumbnail&apos;, &apos;ref_type&apos;: &apos;thumbnail&apos;, &apos;ref_url&apos;: &apos;http://sdowww.lmsal.com/sdomedia/ssw/media/ssw/ssw_client/data/ssw_service_210215_110441_40493/www/ssw_cutout_171_context_thumb.gif&apos;}, {&apos;ref_name&apos;: &apos;SSW Context Image&apos;, &apos;ref_type&apos;: &apos;image&apos;, &apos;ref_url&apos;: &apos;http://sdowww.lmsal.com/sdomedia/ssw/media/ssw/ssw_client/data/ssw_service_210215_110441_40493/www/ssw_cutout_171_context_full.gif&apos;}, {&apos;ref_name&apos;: &apos;SDO Movie&apos;, &apos;ref_type&apos;: &apos;movie&apos;, &apos;ref_url&apos;: &apos;http://sdowww.lmsal.com/sdomedia/h264/2021/02/12/EDS_SPoCA_20210212T190346-20210213T010346_AIA_171-193_XCEN-822.022YCEN92.2909.mov&apos;}, {&apos;ref_name&apos;: &apos;OBS_DATAPREPURL&apos;, &apos;ref_type&apos;: &apos;unknown&apos;, &apos;ref_url&apos;: &apos;http://sdoatsidc.oma.be/web/sdoatsidc/SoftwareSPoCA&apos;}, {&apos;ref_name&apos;: &apos;FRM_URL&apos;, &apos;ref_type&apos;: &apos;unknown&apos;, &apos;ref_url&apos;: &apos;http://sdoatsidc.oma.be/web/sdoatsidc/SoftwareSPoCA&apos;}]</td></tr>\n",
       "</table></div></br>"
      ],
      "text/plain": [
       "<sunpy.net.fido_factory.UnifiedResponse object at 0x7fdaa6472e50>\n",
       "Results from 1 Provider:\n",
       "\n",
       "7 Results from the HEKClient:\n",
       "                                                            gs_thumburl                                                             ...\n",
       "----------------------------------------------------------------------------------------------------------------------------------- ...\n",
       "                                                                                                                                    ...\n",
       "http://sdowww.lmsal.com/sdomedia/ssw/media/ssw/ssw_client/data/ssw_service_210215_105905_37622/www/ssw_cutout_171_context_thumb.gif ...\n",
       "http://sdowww.lmsal.com/sdomedia/ssw/media/ssw/ssw_client/data/ssw_service_210215_105906_37627/www/ssw_cutout_171_context_thumb.gif ...\n",
       "                                                                                                                                    ...\n",
       "http://sdowww.lmsal.com/sdomedia/ssw/media/ssw/ssw_client/data/ssw_service_210215_110253_40160/www/ssw_cutout_171_context_thumb.gif ...\n",
       "http://sdowww.lmsal.com/sdomedia/ssw/media/ssw/ssw_client/data/ssw_service_210215_110442_40498/www/ssw_cutout_171_context_thumb.gif ...\n",
       "http://sdowww.lmsal.com/sdomedia/ssw/media/ssw/ssw_client/data/ssw_service_210215_110441_40493/www/ssw_cutout_171_context_thumb.gif ...\n"
      ]
     },
     "execution_count": 56,
     "metadata": {},
     "output_type": "execute_result"
    }
   ],
   "source": [
    "result_hek"
   ]
  },
  {
   "cell_type": "markdown",
   "id": "429d96b8",
   "metadata": {},
   "source": [
    "As we can see the results from the HEK returns metadata with lots of columns, we can use the `.show()` to specify the columns we want to show. Lets just print all columns out first"
   ]
  },
  {
   "cell_type": "code",
   "execution_count": 57,
   "id": "dbaaa859",
   "metadata": {},
   "outputs": [
    {
     "data": {
      "text/plain": [
       "['SOL_standard',\n",
       " 'absnetcurrenthelicity',\n",
       " 'active',\n",
       " 'ar_axislength',\n",
       " 'ar_compactnesscls',\n",
       " 'ar_lengthunit',\n",
       " 'ar_mcintoshcls',\n",
       " 'ar_mtwilsoncls',\n",
       " 'ar_neutrallength',\n",
       " 'ar_noaaclass',\n",
       " 'ar_noaanum',\n",
       " 'ar_numspots',\n",
       " 'ar_penumbracls',\n",
       " 'ar_pilcurvature',\n",
       " 'ar_polarity',\n",
       " 'ar_spotarearaw',\n",
       " 'ar_spotarearawuncert',\n",
       " 'ar_spotarearawunit',\n",
       " 'ar_spotarearepr',\n",
       " 'ar_spotarearepruncert',\n",
       " 'ar_spotareareprunit',\n",
       " 'ar_sumnegsignedflux',\n",
       " 'ar_sumpossignedflux',\n",
       " 'ar_zurichcls',\n",
       " 'area_atdiskcenter',\n",
       " 'area_atdiskcenteruncert',\n",
       " 'area_raw',\n",
       " 'area_uncert',\n",
       " 'area_unit',\n",
       " 'bound_ccnsteps',\n",
       " 'bound_ccstartc1',\n",
       " 'bound_ccstartc2',\n",
       " 'bound_chaincode',\n",
       " 'boundbox_c1ll',\n",
       " 'boundbox_c1ur',\n",
       " 'boundbox_c2ll',\n",
       " 'boundbox_c2ur',\n",
       " 'chaincodetype',\n",
       " 'comment_count',\n",
       " 'concept',\n",
       " 'currentdensityunit',\n",
       " 'currenthelicityunit',\n",
       " 'currentunit',\n",
       " 'event_avg_rating',\n",
       " 'event_c1error',\n",
       " 'event_c2error',\n",
       " 'event_clippedspatial',\n",
       " 'event_clippedtemporal',\n",
       " 'event_coord1',\n",
       " 'event_coord2',\n",
       " 'event_coord3',\n",
       " 'event_coordsys',\n",
       " 'event_coordunit',\n",
       " 'event_description',\n",
       " 'event_endtime',\n",
       " 'event_expires',\n",
       " 'event_importance',\n",
       " 'event_importance_num_ratings',\n",
       " 'event_mapurl',\n",
       " 'event_maskurl',\n",
       " 'event_npixels',\n",
       " 'event_pixelunit',\n",
       " 'event_probability',\n",
       " 'event_score',\n",
       " 'event_starttime',\n",
       " 'event_testflag',\n",
       " 'event_title',\n",
       " 'event_type',\n",
       " 'eventtype',\n",
       " 'frm_contact',\n",
       " 'frm_daterun',\n",
       " 'frm_humanflag',\n",
       " 'frm_identifier',\n",
       " 'frm_institute',\n",
       " 'frm_name',\n",
       " 'frm_paramset',\n",
       " 'frm_specificid',\n",
       " 'frm_url',\n",
       " 'frm_versionnumber',\n",
       " 'gradientunit',\n",
       " 'gs_galleryid',\n",
       " 'gs_imageurl',\n",
       " 'gs_movieurl',\n",
       " 'gs_thumburl',\n",
       " 'gwill',\n",
       " 'gwillunit',\n",
       " 'hcr_checked',\n",
       " 'hgc_bbox',\n",
       " 'hgc_boundcc',\n",
       " 'hgc_coord',\n",
       " 'hgc_x',\n",
       " 'hgc_y',\n",
       " 'hgs_bbox',\n",
       " 'hgs_boundcc',\n",
       " 'hgs_coord',\n",
       " 'hgs_x',\n",
       " 'hgs_y',\n",
       " 'highsheararea',\n",
       " 'highshearareapercent',\n",
       " 'highshearareaunit',\n",
       " 'hpc_bbox',\n",
       " 'hpc_boundcc',\n",
       " 'hpc_coord',\n",
       " 'hpc_geom',\n",
       " 'hpc_radius',\n",
       " 'hpc_x',\n",
       " 'hpc_y',\n",
       " 'hrc_a',\n",
       " 'hrc_bbox',\n",
       " 'hrc_boundcc',\n",
       " 'hrc_coord',\n",
       " 'hrc_r',\n",
       " 'intenskurt',\n",
       " 'intensmax',\n",
       " 'intensmean',\n",
       " 'intensmedian',\n",
       " 'intensmin',\n",
       " 'intensskew',\n",
       " 'intenstotal',\n",
       " 'intensunit',\n",
       " 'intensvar',\n",
       " 'kb_archivdate',\n",
       " 'kb_archivid',\n",
       " 'kb_archivist',\n",
       " 'log_r_value',\n",
       " 'magfluxunit',\n",
       " 'maxmagfieldstrength',\n",
       " 'maxmagfieldstrengthunit',\n",
       " 'meancurrenthelicity',\n",
       " 'meanenergydensityunit',\n",
       " 'meangradienthorz',\n",
       " 'meangradienttotal',\n",
       " 'meangradientvert',\n",
       " 'meaninclinationgamma',\n",
       " 'meanphotoenergydensity',\n",
       " 'meanshearangle',\n",
       " 'meantwistalpha',\n",
       " 'meanvertcurrentdensity',\n",
       " 'noposition',\n",
       " 'obs_channelid',\n",
       " 'obs_dataprepurl',\n",
       " 'obs_firstprocessingdate',\n",
       " 'obs_includesnrt',\n",
       " 'obs_instrument',\n",
       " 'obs_lastprocessingdate',\n",
       " 'obs_levelnum',\n",
       " 'obs_meanwavel',\n",
       " 'obs_observatory',\n",
       " 'obs_title',\n",
       " 'obs_wavelunit',\n",
       " 'rasterscan',\n",
       " 'rasterscantype',\n",
       " 'refs',\n",
       " 'refs_orig',\n",
       " 'revision',\n",
       " 'savncpp',\n",
       " 'search_channelid',\n",
       " 'search_frm_name',\n",
       " 'search_instrument',\n",
       " 'search_observatory',\n",
       " 'sharp_noaa_ars',\n",
       " 'sum_overlap_scores',\n",
       " 'totalenergydensityunit',\n",
       " 'totalphotoenergy',\n",
       " 'totalphotoenergydensity',\n",
       " 'totalphotoenergyunit',\n",
       " 'twistunit',\n",
       " 'unsignedcurrenthelicity',\n",
       " 'unsignedflux',\n",
       " 'unsignedvertcurrent']"
      ]
     },
     "execution_count": 57,
     "metadata": {},
     "output_type": "execute_result"
    }
   ],
   "source": [
    "result_hek.all_colnames"
   ]
  },
  {
   "cell_type": "markdown",
   "id": "b2887eba",
   "metadata": {},
   "source": [
    "Now lets only print the time, NOAA active region number, active region area, number of spots, and the Hale class"
   ]
  },
  {
   "cell_type": "code",
   "execution_count": 58,
   "id": "fce30b30",
   "metadata": {},
   "outputs": [
    {
     "data": {
      "text/html": [
       "Results from 1 Provider:</br></br>7 Results from the HEKClient:</br><div><i>HEKTable length=7</i>\n",
       "<table id=\"table140577072008688\" class=\"table-striped table-bordered table-condensed\">\n",
       "<thead><tr><th>event_starttime</th><th>ar_noaanum</th><th>area_atdiskcenter</th><th>ar_numspots</th><th>ar_mtwilsoncls</th></tr></thead>\n",
       "<thead><tr><th>str19</th><th>object</th><th>int64</th><th>object</th><th>str1</th></tr></thead>\n",
       "<tr><td>2021-02-12T16:00:00</td><td>None</td><td>272829248</td><td>None</td><td></td></tr>\n",
       "<tr><td>2021-02-12T16:03:46</td><td>None</td><td>6097959936</td><td>None</td><td></td></tr>\n",
       "<tr><td>2021-02-12T16:03:46</td><td>None</td><td>1335000064</td><td>None</td><td></td></tr>\n",
       "<tr><td>2021-02-12T20:00:00</td><td>None</td><td>258148320</td><td>None</td><td></td></tr>\n",
       "<tr><td>2021-02-12T20:03:46</td><td>None</td><td>4216059904</td><td>None</td><td></td></tr>\n",
       "<tr><td>2021-02-12T20:03:46</td><td>None</td><td>902926016</td><td>None</td><td></td></tr>\n",
       "<tr><td>2021-02-12T20:03:46</td><td>None</td><td>1564899968</td><td>None</td><td></td></tr>\n",
       "</table></div></br>"
      ],
      "text/plain": [
       "<sunpy.net.fido_factory.UnifiedResponse object at 0x7fdaa6472400>\n",
       "Results from 1 Provider:\n",
       "\n",
       "7 Results from the HEKClient:\n",
       "  event_starttime   ar_noaanum area_atdiskcenter ar_numspots ar_mtwilsoncls\n",
       "------------------- ---------- ----------------- ----------- --------------\n",
       "2021-02-12T16:00:00       None         272829248        None               \n",
       "2021-02-12T16:03:46       None        6097959936        None               \n",
       "2021-02-12T16:03:46       None        1335000064        None               \n",
       "2021-02-12T20:00:00       None         258148320        None               \n",
       "2021-02-12T20:03:46       None        4216059904        None               \n",
       "2021-02-12T20:03:46       None         902926016        None               \n",
       "2021-02-12T20:03:46       None        1564899968        None               \n"
      ]
     },
     "execution_count": 58,
     "metadata": {},
     "output_type": "execute_result"
    }
   ],
   "source": [
    "result_hek.show(\"event_starttime\", \"ar_noaanum\", \"area_atdiskcenter\", \"ar_numspots\", \"ar_mtwilsoncls\")"
   ]
  },
  {
   "cell_type": "markdown",
   "id": "a9e1ccf5",
   "metadata": {},
   "source": [
    "We can also index the results table like before, using a dictionary like indexing"
   ]
  },
  {
   "cell_type": "code",
   "execution_count": 59,
   "id": "9526cea2",
   "metadata": {},
   "outputs": [],
   "source": [
    "interesting_columns=[\"event_starttime\", \"ar_noaanum\", \"area_atdiskcenter\", \"ar_numspots\", \"ar_mtwilsoncls\"]"
   ]
  },
  {
   "cell_type": "code",
   "execution_count": 60,
   "id": "299eab08",
   "metadata": {},
   "outputs": [
    {
     "data": {
      "text/html": [
       "<div><i>HEKTable length=7</i>\n",
       "<table id=\"table140577069653776\" class=\"table-striped table-bordered table-condensed\">\n",
       "<thead><tr><th>event_starttime</th><th>ar_noaanum</th><th>area_atdiskcenter</th><th>ar_numspots</th><th>ar_mtwilsoncls</th></tr></thead>\n",
       "<thead><tr><th>str19</th><th>object</th><th>int64</th><th>object</th><th>str1</th></tr></thead>\n",
       "<tr><td>2021-02-12T16:00:00</td><td>None</td><td>272829248</td><td>None</td><td></td></tr>\n",
       "<tr><td>2021-02-12T16:03:46</td><td>None</td><td>6097959936</td><td>None</td><td></td></tr>\n",
       "<tr><td>2021-02-12T16:03:46</td><td>None</td><td>1335000064</td><td>None</td><td></td></tr>\n",
       "<tr><td>2021-02-12T20:00:00</td><td>None</td><td>258148320</td><td>None</td><td></td></tr>\n",
       "<tr><td>2021-02-12T20:03:46</td><td>None</td><td>4216059904</td><td>None</td><td></td></tr>\n",
       "<tr><td>2021-02-12T20:03:46</td><td>None</td><td>902926016</td><td>None</td><td></td></tr>\n",
       "<tr><td>2021-02-12T20:03:46</td><td>None</td><td>1564899968</td><td>None</td><td></td></tr>\n",
       "</table></div>"
      ],
      "text/plain": [
       "<sunpy.net.hek.hek.HEKTable object at 0x7fdaa650ffd0>\n",
       "  event_starttime   ar_noaanum area_atdiskcenter ar_numspots ar_mtwilsoncls\n",
       "------------------- ---------- ----------------- ----------- --------------\n",
       "2021-02-12T16:00:00       None         272829248        None               \n",
       "2021-02-12T16:03:46       None        6097959936        None               \n",
       "2021-02-12T16:03:46       None        1335000064        None               \n",
       "2021-02-12T20:00:00       None         258148320        None               \n",
       "2021-02-12T20:03:46       None        4216059904        None               \n",
       "2021-02-12T20:03:46       None         902926016        None               \n",
       "2021-02-12T20:03:46       None        1564899968        None               "
      ]
     },
     "execution_count": 60,
     "metadata": {},
     "output_type": "execute_result"
    }
   ],
   "source": [
    "result_hek[\"HEK\", interesting_columns]"
   ]
  },
  {
   "cell_type": "markdown",
   "id": "39a5d81b",
   "metadata": {},
   "source": [
    "#### Saving results\n",
    "\n",
    "We can then save these metadata results to a file, for example lets write it to a csv file"
   ]
  },
  {
   "cell_type": "code",
   "execution_count": 48,
   "id": "24bc830a",
   "metadata": {},
   "outputs": [
    {
     "name": "stderr",
     "output_type": "stream",
     "text": [
      "WARNING: AstropyDeprecationWarning: active_regions_may2021.csv already exists. Automatically overwriting ASCII files is deprecated. Use the argument 'overwrite=True' in the future. [astropy.io.ascii.ui]\n"
     ]
    }
   ],
   "source": [
    "result_hek[\"HEK\", interesting_columns].write(\"active_regions_may2021.csv\", format=\"csv\")"
   ]
  },
  {
   "cell_type": "markdown",
   "id": "04773af4",
   "metadata": {},
   "source": [
    "## 7. How Fido can be extended "
   ]
  },
  {
   "cell_type": "markdown",
   "id": "868e2c1b",
   "metadata": {},
   "source": [
    "Fido is designed to be extensible in such a way that new data and metadata sources can be easily added and supports, providing a similar unified workflow to retrieve new data sources. This can be done both inside sunpy code and outside in, for example, an affiliated package. \n",
    "\n",
    "So if there is a new datasource that you would like to see in sunpy core let us know! Or even better if you are building an instrument package why now use the Fido functionality to search and retrieve your data? Some examples of affiliated packages that have recently done this is `sunpy-soar` which provides interface to the Solar Orbiter archive (SOAR), and other sunpy affiliated packages such as `radiospectra`.\n",
    "\n",
    "To learn more about how to extend Fido please find more information here https://docs.sunpy.org/en/stable/dev_guide/contents/extending_fido.html\n"
   ]
  },
  {
   "cell_type": "markdown",
   "id": "e7433537-38e2-49a6-bfd9-70ea1cf8e11e",
   "metadata": {},
   "source": [
    "(COMMENT: add sunpy-soar queries here)"
   ]
  },
  {
   "cell_type": "code",
   "execution_count": null,
   "id": "f028024b-53ee-4443-a411-f11ee0fc6410",
   "metadata": {},
   "outputs": [],
   "source": []
  }
 ],
 "metadata": {
  "kernelspec": {
   "display_name": "Python [conda env:sunpy-tutorial]",
   "language": "python",
   "name": "conda-env-sunpy-tutorial-py"
  },
  "language_info": {
   "codemirror_mode": {
    "name": "ipython",
    "version": 3
   },
   "file_extension": ".py",
   "mimetype": "text/x-python",
   "name": "python",
   "nbconvert_exporter": "python",
   "pygments_lexer": "ipython3",
   "version": "3.9.12"
  }
 },
 "nbformat": 4,
 "nbformat_minor": 5
}
