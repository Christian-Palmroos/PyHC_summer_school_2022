{
 "cells": [
  {
   "cell_type": "markdown",
   "id": "120afae3-e858-4a0a-a923-39ea66d9c95f",
   "metadata": {},
   "source": [
    "# Data Search and Download"
   ]
  },
  {
   "cell_type": "code",
   "execution_count": 1,
   "id": "a31c066c-871b-43cc-bf29-5de53eb90a11",
   "metadata": {},
   "outputs": [],
   "source": [
    "import glob\n",
    "\n",
    "import numpy as np\n",
    "import matplotlib.pyplot as plt\n",
    "\n",
    "import astropy.time\n",
    "import astropy.units as u\n",
    "from astropy.visualization import ImageNormalize, LogStretch, AsymmetricPercentileInterval\n",
    "\n",
    "import sunpy.map\n",
    "from sunpy.net import Fido, attrs as a"
   ]
  },
  {
   "cell_type": "markdown",
   "id": "1d5c8378-632a-452a-b052-df4bf6a0f249",
   "metadata": {
    "slideshow": {
     "slide_type": "slide"
    }
   },
   "source": [
    "\n",
    "## Overview of the `Fido` Unified Downloader\n",
    "\n",
    "* Fido is sunpy's interface for searching and downloading solar physics data.\n",
    "* It offers a unified interface for searching and fetching data irrespective of the underlying client or webservice from where the data is obtained.\n",
    "* Offers a way to search and accesses multiple instruments and all available data providers in a single query.\n",
    "* It supplies a single, easy, consistent and *extendable* way to get most forms of solar physics data the community need \n",
    "\n",
    "Fido offers access to data available through:\n",
    "\n",
    " * **VSO**\n",
    " * **JSOC**\n",
    " * **Individual data providers** from web accessible sources (http, ftp, etc)\n",
    " * **HEK**\n",
    " * **HELIO**\n",
    " \n",
    "As described here Fido provides access to many sources of data through different `clients`, these clients can be defined inside sunpy or in other packages.\n",
    "Lets print the current list of available clients within sunpy."
   ]
  },
  {
   "cell_type": "code",
   "execution_count": 44,
   "id": "05c7100b",
   "metadata": {},
   "outputs": [
    {
     "data": {
      "text/html": [
       "<p>sunpy.net.Fido</p>\n",
       "<p>\n",
       "Fido is a unified data search and retrieval tool.\n",
       "\n",
       "It provides simultaneous access to a variety of online data sources, some\n",
       "cover multiple instruments and data products like the Virtual Solar\n",
       "Observatory and some are specific to a single source.\n",
       "\n",
       "For details of using `~sunpy.net.Fido` see :ref:`fido_guide`.\n",
       "\n",
       "</p>\n",
       "<table id=\"table140237126915264\">\n",
       "<thead><tr><th>Client</th><th>Description</th></tr></thead>\n",
       "<tr><td>CDAWEBClient</td><td>Provides access to query and download from the Coordinated Data Analysis Web (CDAWeb).</td></tr>\n",
       "<tr><td>EVEClient</td><td>Provides access to Level 0CS Extreme ultraviolet Variability Experiment (EVE) data.</td></tr>\n",
       "<tr><td>GBMClient</td><td>Provides access to data from the Gamma-Ray Burst Monitor (GBM) instrument on board the Fermi satellite.</td></tr>\n",
       "<tr><td>XRSClient</td><td>Provides access to the GOES XRS fits files archive.</td></tr>\n",
       "<tr><td>SUVIClient</td><td>Provides access to data from the GOES Solar Ultraviolet Imager (SUVI).</td></tr>\n",
       "<tr><td>...</td><td>...</td></tr>\n",
       "<tr><td>RHESSIClient</td><td>Provides access to the RHESSI observing summary time series data.</td></tr>\n",
       "<tr><td>HEKClient</td><td>Provides access to the Heliophysics Event Knowledgebase (HEK).</td></tr>\n",
       "<tr><td>HECClient</td><td>Provides access to the HELIO webservices.</td></tr>\n",
       "<tr><td>JSOCClient</td><td>Provides access to the JSOC Data Export service.</td></tr>\n",
       "<tr><td>VSOClient</td><td>Provides access to query and download from Virtual Solar Observatory (VSO).</td></tr>\n",
       "<tr><td>SOARClient</td><td>Client to access the Solar Orbiter Archive (SOAR).</td></tr>\n",
       "</table>\n",
       "Length = 17 rows"
      ],
      "text/plain": [
       "<sunpy.net.fido_factory.UnifiedDownloaderFactory object at 0x7f8b7ca630d0>\n",
       "sunpy.net.Fido\n",
       "\n",
       "Fido is a unified data search and retrieval tool.\n",
       "\n",
       "It provides simultaneous access to a variety of online data sources, some\n",
       "cover multiple instruments and data products like the Virtual Solar\n",
       "Observatory and some are specific to a single source.\n",
       "\n",
       "For details of using `~sunpy.net.Fido` see :ref:`fido_guide`.\n",
       "\n",
       "\n",
       "   Client    ...\n",
       "------------ ...\n",
       "CDAWEBClient ...\n",
       "EVEClient    ...\n",
       "GBMClient    ...\n",
       "XRSClient    ...\n",
       "SUVIClient   ...\n",
       "...          ...\n",
       "RHESSIClient ...\n",
       "HEKClient    ...\n",
       "HECClient    ...\n",
       "JSOCClient   ...\n",
       "VSOClient    ...\n",
       "SOARClient   ...\n",
       "Length = 17 rows"
      ]
     },
     "execution_count": 44,
     "metadata": {},
     "output_type": "execute_result"
    }
   ],
   "source": [
    "Fido"
   ]
  },
  {
   "cell_type": "markdown",
   "id": "73a6c22d-9d12-4834-a96d-10155ce4a6d4",
   "metadata": {},
   "source": [
    "Sunpy also now provides tab completion to auto-fill the attribute name"
   ]
  },
  {
   "cell_type": "code",
   "execution_count": 7,
   "id": "705a3d84",
   "metadata": {},
   "outputs": [
    {
     "data": {
      "text/plain": [
       "<sunpy.net.attrs.Instrument(WISPR: Wide-Field Imager for Solar Probe Plus) object at 0x7fdd8a23ddc0>"
      ]
     },
     "execution_count": 7,
     "metadata": {},
     "output_type": "execute_result"
    }
   ],
   "source": [
    "a.Instrument."
   ]
  },
  {
   "cell_type": "markdown",
   "id": "a57261bf-6882-4e51-a597-e88c14fa5e7b",
   "metadata": {
    "tags": []
   },
   "source": [
    "## Searching for Data"
   ]
  },
  {
   "cell_type": "markdown",
   "id": "8238fd9b-67e1-4976-ad6d-30855a16ecc3",
   "metadata": {},
   "source": [
    "Sunpy uses specified *attributes* to search for data using Fido. The range of these attributes is located in the `attrs` submodule. These `attr` parameters can be combined together to construct data search queries, such as searching over a certain time period, for data from a certain instrument with a certain wavelength etc.\n",
    "\n",
    "Different clients and provides will have client-specific attributes, but the core attributes are:\n",
    "\n",
    "* `a.Time`\n",
    "* `a.Instrument`\n",
    "* `a.Wavelength`\n",
    "\n",
    "Let's use these different attributes to construct a query for our CME observation."
   ]
  },
  {
   "cell_type": "code",
   "execution_count": 2,
   "id": "929cbfac-47ec-4925-b634-c150f3f8c3db",
   "metadata": {},
   "outputs": [],
   "source": [
    "cme_start = astropy.time.Time(\"2022-02-15 21:45\")\n",
    "cme_end = astropy.time.Time(\"2022-02-16 00:30\")"
   ]
  },
  {
   "cell_type": "markdown",
   "id": "024a36ac-c560-4e5d-b35a-a04448805bfd",
   "metadata": {},
   "source": [
    "We can inspect the instrument attribute to see what instrument `attrs` are currently supported through sunpy. Here we can see the instrument name (i.e. the name to be passed to the `a.Instrument` attribute, the client from which the data is available to access, and the full name of the instrument."
   ]
  },
  {
   "cell_type": "code",
   "execution_count": 47,
   "id": "13fdc573",
   "metadata": {},
   "outputs": [
    {
     "data": {
      "text/html": [
       "<p>sunpy.net.attrs.Instrument</p>\n",
       "<p>\n",
       "Specifies the Instrument name for the search.\n",
       "</p>\n",
       "<table id=\"table140237125457616\">\n",
       "<thead><tr><th>Attribute Name</th><th>Client</th><th>Full Name</th><th>Description</th></tr></thead>\n",
       "<tr><td>aia</td><td>VSO</td><td>AIA</td><td>Atmospheric Imaging Assembly</td></tr>\n",
       "<tr><td>bcs</td><td>VSO</td><td>BCS</td><td>Bragg Crystal Spectrometer</td></tr>\n",
       "<tr><td>be_continuum</td><td>VSO</td><td>BE-Continuum</td><td>INAF-OACT Barra Equatoriale Continuum Instrument</td></tr>\n",
       "<tr><td>be_halpha</td><td>VSO</td><td>BE-Halpha</td><td>INAF-OACT Barra Equatoriale Hα Instrument</td></tr>\n",
       "<tr><td>bigbear</td><td>VSO</td><td>Big Bear</td><td>Big Bear Solar Observatory, California TON and GONG+ sites</td></tr>\n",
       "<tr><td>caii</td><td>VSO</td><td>CAII</td><td>Kanzelhöhe Ca II k Instrument</td></tr>\n",
       "<tr><td>cds</td><td>VSO</td><td>CDS</td><td>Coronal Diagnostic Spectrometer</td></tr>\n",
       "<tr><td>celias</td><td>VSO</td><td>CELIAS</td><td>Charge, Element, and Isotope Analysis System</td></tr>\n",
       "<tr><td>cerrotololo</td><td>VSO</td><td>Cerro Tololo</td><td>Cerro Tololo, Chile GONG+ site</td></tr>\n",
       "<tr><td>chp</td><td>VSO</td><td>chp</td><td>Chromospheric Helium-I Imaging Photometer</td></tr>\n",
       "<tr><td>chrotel</td><td>VSO</td><td>ChroTel</td><td>Chromospheric Telescope</td></tr>\n",
       "<tr><td>climso</td><td>VSO</td><td>CLIMSO</td><td>Christian Latouche IMageur SOlaire</td></tr>\n",
       "<tr><td>cook</td><td>VSO</td><td>Cook</td><td>None</td></tr>\n",
       "<tr><td>costep</td><td>VSO</td><td>COSTEP</td><td>Comprehensive Suprathermal and Energetic Particle Analyzer</td></tr>\n",
       "<tr><td>cp</td><td>VSO</td><td>cp</td><td>Coronagraph/Polarimeter</td></tr>\n",
       "<tr><td>dpm</td><td>VSO</td><td>dpm</td><td>Digital Prominence Monitor</td></tr>\n",
       "<tr><td>eis</td><td>VSO</td><td>EIS</td><td>EUV Imaging Spectrometer</td></tr>\n",
       "<tr><td>eit</td><td>VSO</td><td>EIT</td><td>Extreme ultraviolet Imaging Telescope</td></tr>\n",
       "<tr><td>elteide</td><td>VSO</td><td>El Teide</td><td>Canary Islands GONG+ site</td></tr>\n",
       "<tr><td>erne</td><td>VSO</td><td>ERNE</td><td>Energetic and Relativistic Nuclei and Electron experiment</td></tr>\n",
       "<tr><td>eui</td><td>VSO</td><td>EUI</td><td>Extreme Ultravoilet Imager</td></tr>\n",
       "<tr><td>eve</td><td>EVE</td><td>EVE</td><td>Extreme ultraviolet Variability Experiment, which is part of the NASA Solar D...</td></tr>\n",
       "<tr><td>eve</td><td>VSO</td><td>EVE</td><td>Extreme Ultraviolet Variability Experiment</td></tr>\n",
       "<tr><td>film</td><td>VSO</td><td>FILM</td><td>Kanzelhöhe Hα Film Camera</td></tr>\n",
       "<tr><td>five_12_channelmagnetograph</td><td>VSO</td><td>512-channel magnetograph</td><td>512-channel Magnetograph</td></tr>\n",
       "<tr><td>foxsi</td><td>VSO</td><td>FOXSI</td><td>Focusing Optics X-ray Solar Imager</td></tr>\n",
       "<tr><td>gbm</td><td>GBM</td><td>GBM</td><td>Gamma-Ray Burst Monitor on board the Fermi satellite.</td></tr>\n",
       "<tr><td>goes</td><td>XRS</td><td>GOES</td><td>The Geostationary Operational Environmental Satellite Program.</td></tr>\n",
       "<tr><td>golf</td><td>VSO</td><td>GOLF</td><td>Global Oscillations at Low Frequencies</td></tr>\n",
       "<tr><td>gong</td><td>GONG</td><td>GONG</td><td>Global Oscillation Network Group.</td></tr>\n",
       "<tr><td>ha2</td><td>VSO</td><td>HA2</td><td>Kanzelhöhe Hα Patrol Instrument</td></tr>\n",
       "<tr><td>hi_c</td><td>VSO</td><td>Hi-C</td><td>High Resolution Coronal Imager (193 A)</td></tr>\n",
       "<tr><td>hi_c21</td><td>VSO</td><td>Hi-C21</td><td>High Resolution Coronal Imager 2.1 (172 A)</td></tr>\n",
       "<tr><td>hmi</td><td>VSO</td><td>HMI</td><td>Helioseismic and Magnetic Imager</td></tr>\n",
       "<tr><td>hxeclipse</td><td>VSO</td><td>HXECLIPSE</td><td>UCAR HAO Historical Eclipse Archive</td></tr>\n",
       "<tr><td>hxt</td><td>VSO</td><td>HXT</td><td>Hard X-Ray Telescope</td></tr>\n",
       "<tr><td>imax</td><td>VSO</td><td>IMaX</td><td>Imaging Magnetograph eXperiment</td></tr>\n",
       "<tr><td>impact</td><td>VSO</td><td>IMPACT</td><td>In-situ Measurements of Particles and CME Transients</td></tr>\n",
       "<tr><td>iris</td><td>VSO</td><td>IRIS</td><td>Interface Region Imaging Spectrograph</td></tr>\n",
       "<tr><td>isoon</td><td>VSO</td><td>ISOON</td><td>Improved Solar Observing Optical Network</td></tr>\n",
       "<tr><td>iss</td><td>VSO</td><td>ISS</td><td>None</td></tr>\n",
       "<tr><td>ivm</td><td>VSO</td><td>IVM</td><td>None</td></tr>\n",
       "<tr><td>k_cor</td><td>VSO</td><td>K-Cor</td><td>None</td></tr>\n",
       "<tr><td>kpdc</td><td>VSO</td><td>KPDC</td><td>Kanzelhöhe Photosphere Digital Camera</td></tr>\n",
       "<tr><td>lasco</td><td>VSO</td><td>LASCO</td><td>Large Angle and Spectrometric Coronagraph</td></tr>\n",
       "<tr><td>learmonth</td><td>VSO</td><td>Learmonth</td><td>Australian GONG+ site</td></tr>\n",
       "<tr><td>longwave_lobe_06</td><td>VSO</td><td>LONGWAVE-LOBE-06</td><td>Full longwave EUV observation of Sun with EUNIS (2006 flight)</td></tr>\n",
       "<tr><td>longwave_lobe_07</td><td>VSO</td><td>LONGWAVE-LOBE-07</td><td>Full longwave EUV observation of Sun with EUNIS (2007 flight)</td></tr>\n",
       "<tr><td>longwave_slit_06</td><td>VSO</td><td>LONGWAVE-SLIT-06</td><td>Full longwave EUV observation of Sun with EUNIS (trimmed/2006 flight)</td></tr>\n",
       "<tr><td>longwave_slit_07</td><td>VSO</td><td>LONGWAVE-SLIT-07</td><td>Full longwave EUV observation of Sun with EUNIS (trimmed/2007 flight)</td></tr>\n",
       "<tr><td>lyra</td><td>LYRA</td><td>LYRA</td><td>Lyman Alpha Radiometer is the solar UV radiometer on board Proba-2.</td></tr>\n",
       "<tr><td>maunaloa</td><td>VSO</td><td>Mauna Loa</td><td>Hawai&apos;ian GONG+ site</td></tr>\n",
       "<tr><td>mdi</td><td>VSO</td><td>MDI</td><td>Michelson Doppler Imager</td></tr>\n",
       "<tr><td>mees</td><td>VSO</td><td>MEES</td><td>Mees Solar Observatory Imaging Spectrograph on Haleakala, Maui</td></tr>\n",
       "<tr><td>mergedgong</td><td>VSO</td><td>MERGED GONG</td><td>None</td></tr>\n",
       "<tr><td>meudonspectroheliograph</td><td>VSO</td><td>Meudon Spectroheliograph</td><td>None</td></tr>\n",
       "<tr><td>mk4</td><td>VSO</td><td>mk4</td><td>Mk. IV coronagraph</td></tr>\n",
       "<tr><td>noaa_indices</td><td>NOAAIndices</td><td>NOAA-Indices</td><td>Recent Solar Indices of Observed Monthly Mean Values</td></tr>\n",
       "<tr><td>noaa_predict</td><td>NOAAPredict</td><td>NOAA-Predict</td><td>Predicted Sunspot Number And Radio Flux Values With Expected Ranges.</td></tr>\n",
       "<tr><td>norh</td><td>NoRH</td><td>NORH</td><td>Nobeyama Radio Heliograph is an imaging radio telescope at 17 or 34GHz locate...</td></tr>\n",
       "<tr><td>phoenix</td><td>VSO</td><td>PHOENIX</td><td>PHOENIX detector on flight #3 of FOXSI</td></tr>\n",
       "<tr><td>phoka</td><td>VSO</td><td>PHOKA</td><td>Kanzelhöhe Photoheliograph</td></tr>\n",
       "<tr><td>plastic</td><td>VSO</td><td>PLASTIC</td><td>PLasma And SupraThermal Ion Composition</td></tr>\n",
       "<tr><td>ptmc</td><td>VSO</td><td>PTMC</td><td>None</td></tr>\n",
       "<tr><td>rhessi</td><td>RHESSI</td><td>RHESSI</td><td>Reuven Ramaty High Energy Solar Spectroscopic Imager.</td></tr>\n",
       "<tr><td>rhessi</td><td>VSO</td><td>RHESSI</td><td>Reuven Ramaty High Energy Solar Spectroscopic Imager</td></tr>\n",
       "<tr><td>secchi</td><td>VSO</td><td>SECCHI</td><td>Sun Earth Connection Coronal and Heliospheric Investigation</td></tr>\n",
       "<tr><td>shortwave_lobe_06</td><td>VSO</td><td>SHORTWAVE-LOBE-06</td><td>Shortwave EUV observation of Sun with EUNIS (2006 flight)</td></tr>\n",
       "<tr><td>shortwave_lobe_07</td><td>VSO</td><td>SHORTWAVE-LOBE-07</td><td>Shortwave EUV observation of Sun with EUNIS (2007 flight)</td></tr>\n",
       "<tr><td>shortwave_slit_06</td><td>VSO</td><td>SHORTWAVE-SLIT-06</td><td>Shortwave EUV observation of Sun with EUNIS (trimmed/2006 flight)</td></tr>\n",
       "<tr><td>shortwave_slit_07</td><td>VSO</td><td>SHORTWAVE-SLIT-07</td><td>Shortwave EUV observation of Sun with EUNIS (trimmed/2007 flight)</td></tr>\n",
       "<tr><td>six_0_ftshg</td><td>VSO</td><td>60-ft SHG</td><td>60-foot Tower Spectroheliograph</td></tr>\n",
       "<tr><td>sj</td><td>VSO</td><td>SJ</td><td>Slit-Jaw</td></tr>\n",
       "<tr><td>solarftsspectrometer</td><td>VSO</td><td>solar fts spectrometer</td><td>Solar FTS Spectrometer</td></tr>\n",
       "<tr><td>soon</td><td>SRS</td><td>SOON</td><td>Solar Region Summary.</td></tr>\n",
       "<tr><td>sot</td><td>VSO</td><td>SOT</td><td>Solar Optical Telescope</td></tr>\n",
       "<tr><td>sp1</td><td>VSO</td><td>SP1</td><td>Spectropolarimeter1</td></tr>\n",
       "<tr><td>sp2</td><td>VSO</td><td>SP2</td><td>Spectropolarimeter2</td></tr>\n",
       "<tr><td>spectroheliograph</td><td>VSO</td><td>spectroheliograph</td><td>SpectroHeliograph</td></tr>\n",
       "<tr><td>spectromagnetograph</td><td>VSO</td><td>spectromagnetograph</td><td>SpectroMagnetograph</td></tr>\n",
       "<tr><td>srs_table</td><td>SRS</td><td>SRS-Table</td><td>Solar Region Summary.</td></tr>\n",
       "<tr><td>sufi</td><td>VSO</td><td>SuFI</td><td>Sunrise Filter Imager</td></tr>\n",
       "<tr><td>sumer</td><td>VSO</td><td>SUMER</td><td>Solar Ultraviolet Measurements of Emitted Radiation</td></tr>\n",
       "<tr><td>suvi</td><td>SUVI</td><td>SUVI</td><td>GOES Solar Ultraviolet Imager.</td></tr>\n",
       "<tr><td>suvi</td><td>VSO</td><td>SUVI</td><td>GOES-R Series Solar Ultraviolet Imager</td></tr>\n",
       "<tr><td>swan</td><td>VSO</td><td>SWAN</td><td>Solar Wind Anisotropies</td></tr>\n",
       "<tr><td>swap</td><td>VSO</td><td>SWAP</td><td>Sun Watcher using Active pixel system detector and image Processing</td></tr>\n",
       "<tr><td>swaves</td><td>VSO</td><td>SWAVES</td><td>STEREO/WAVES</td></tr>\n",
       "<tr><td>sxt</td><td>VSO</td><td>SXT</td><td>Soft X-Ray Telescope</td></tr>\n",
       "<tr><td>tm_1001</td><td>VSO</td><td>TM-1001</td><td>Kanzelhöhe Hα Pulnix TM-1001 Camera</td></tr>\n",
       "<tr><td>tm_1010</td><td>VSO</td><td>TM-1010</td><td>Kanzelhöhe Hα Pulnix TM-1010 Camera</td></tr>\n",
       "<tr><td>trace</td><td>VSO</td><td>TRACE</td><td>Transition Region And Coronal Explorer</td></tr>\n",
       "<tr><td>udaipur</td><td>VSO</td><td>Udaipur</td><td>Indian GONG+ site</td></tr>\n",
       "<tr><td>uvcs</td><td>VSO</td><td>UVCS</td><td>Ultraviolet Coronagraph Spectrometer</td></tr>\n",
       "<tr><td>vault_1999</td><td>VSO</td><td>VAULT-1999</td><td>Very High Angular Resolution Ultraviolet Telescope (1999 flight)</td></tr>\n",
       "<tr><td>vault_2002</td><td>VSO</td><td>VAULT-2002</td><td>Very High Angular Resolution Ultraviolet Telescope (2002 flight)</td></tr>\n",
       "<tr><td>vault_2014</td><td>VSO</td><td>VAULT-2014</td><td>Very High Angular Resolution Ultraviolet Telescope (2014 flight)</td></tr>\n",
       "<tr><td>virgo</td><td>VSO</td><td>VIRGO</td><td>Variability of Solar Irradiance and Gravity Oscillations</td></tr>\n",
       "<tr><td>vsm</td><td>VSO</td><td>vsm</td><td>Vector SpecroMagnetograph</td></tr>\n",
       "<tr><td>wbs</td><td>VSO</td><td>WBS</td><td>Wide Band Spectrometer</td></tr>\n",
       "<tr><td>wispr</td><td>VSO</td><td>WISPR</td><td>Wide-Field Imager for Solar Probe Plus</td></tr>\n",
       "<tr><td>x123</td><td>VSO</td><td>X123</td><td>X123 SXR Spectometer</td></tr>\n",
       "<tr><td>xrs</td><td>XRS</td><td>XRS</td><td>GOES X-ray Sensor</td></tr>\n",
       "</table>"
      ],
      "text/plain": [
       "<class 'sunpy.net.attrs.Instrument'>\n",
       "sunpy.net.attrs.Instrument\n",
       "\n",
       "Specifies the Instrument name for the search.\n",
       "\n",
       "       Attribute Name       ...\n",
       "--------------------------- ...\n",
       "aia                         ...\n",
       "bcs                         ...\n",
       "be_continuum                ...\n",
       "be_halpha                   ...\n",
       "bigbear                     ...\n",
       "caii                        ...\n",
       "cds                         ...\n",
       "celias                      ...\n",
       "cerrotololo                 ...\n",
       "chp                         ...\n",
       "chrotel                     ...\n",
       "climso                      ...\n",
       "cook                        ...\n",
       "costep                      ...\n",
       "cp                          ...\n",
       "dpm                         ...\n",
       "eis                         ...\n",
       "eit                         ...\n",
       "elteide                     ...\n",
       "erne                        ...\n",
       "eui                         ...\n",
       "eve                         ...\n",
       "eve                         ...\n",
       "film                        ...\n",
       "five_12_channelmagnetograph ...\n",
       "foxsi                       ...\n",
       "gbm                         ...\n",
       "goes                        ...\n",
       "golf                        ...\n",
       "gong                        ...\n",
       "ha2                         ...\n",
       "hi_c                        ...\n",
       "hi_c21                      ...\n",
       "hmi                         ...\n",
       "hxeclipse                   ...\n",
       "hxt                         ...\n",
       "imax                        ...\n",
       "impact                      ...\n",
       "iris                        ...\n",
       "isoon                       ...\n",
       "iss                         ...\n",
       "ivm                         ...\n",
       "k_cor                       ...\n",
       "kpdc                        ...\n",
       "lasco                       ...\n",
       "learmonth                   ...\n",
       "longwave_lobe_06            ...\n",
       "longwave_lobe_07            ...\n",
       "longwave_slit_06            ...\n",
       "longwave_slit_07            ...\n",
       "lyra                        ...\n",
       "maunaloa                    ...\n",
       "mdi                         ...\n",
       "mees                        ...\n",
       "mergedgong                  ...\n",
       "meudonspectroheliograph     ...\n",
       "mk4                         ...\n",
       "noaa_indices                ...\n",
       "noaa_predict                ...\n",
       "norh                        ...\n",
       "phoenix                     ...\n",
       "phoka                       ...\n",
       "plastic                     ...\n",
       "ptmc                        ...\n",
       "rhessi                      ...\n",
       "rhessi                      ...\n",
       "secchi                      ...\n",
       "shortwave_lobe_06           ...\n",
       "shortwave_lobe_07           ...\n",
       "shortwave_slit_06           ...\n",
       "shortwave_slit_07           ...\n",
       "six_0_ftshg                 ...\n",
       "sj                          ...\n",
       "solarftsspectrometer        ...\n",
       "soon                        ...\n",
       "sot                         ...\n",
       "sp1                         ...\n",
       "sp2                         ...\n",
       "spectroheliograph           ...\n",
       "spectromagnetograph         ...\n",
       "srs_table                   ...\n",
       "sufi                        ...\n",
       "sumer                       ...\n",
       "suvi                        ...\n",
       "suvi                        ...\n",
       "swan                        ...\n",
       "swap                        ...\n",
       "swaves                      ...\n",
       "sxt                         ...\n",
       "tm_1001                     ...\n",
       "tm_1010                     ...\n",
       "trace                       ...\n",
       "udaipur                     ...\n",
       "uvcs                        ...\n",
       "vault_1999                  ...\n",
       "vault_2002                  ...\n",
       "vault_2014                  ...\n",
       "virgo                       ...\n",
       "vsm                         ...\n",
       "wbs                         ...\n",
       "wispr                       ...\n",
       "x123                        ...\n",
       "xrs                         ..."
      ]
     },
     "execution_count": 47,
     "metadata": {},
     "output_type": "execute_result"
    }
   ],
   "source": [
    "a.Instrument"
   ]
  },
  {
   "cell_type": "markdown",
   "id": "0fd46283-bde4-4760-ab9d-876041131620",
   "metadata": {},
   "source": [
    "Sunpy also now provides tab completion to auto-fill the attribute name"
   ]
  },
  {
   "cell_type": "code",
   "execution_count": 7,
   "id": "bf212f1f-8c9b-46fd-a9d5-bd2c0e75c045",
   "metadata": {},
   "outputs": [
    {
     "data": {
      "text/plain": [
       "<sunpy.net.attrs.Instrument(WISPR: Wide-Field Imager for Solar Probe Plus) object at 0x7fdd8a23ddc0>"
      ]
     },
     "execution_count": 7,
     "metadata": {},
     "output_type": "execute_result"
    }
   ],
   "source": [
    "a.Instrument"
   ]
  },
  {
   "cell_type": "code",
   "execution_count": 3,
   "id": "fd533109-7292-4d9a-a3ad-3bc24eb3b566",
   "metadata": {
    "tags": []
   },
   "outputs": [],
   "source": [
    "result = Fido.search(a.Time(cme_start, cme_end) & a.Instrument.aia)"
   ]
  },
  {
   "cell_type": "code",
   "execution_count": 4,
   "id": "3270b504-e729-4a1f-b99a-23a6a94867e8",
   "metadata": {},
   "outputs": [
    {
     "data": {
      "text/html": [
       "Results from 1 Provider:</br></br>165 Results from the VSOClient:</br><div><i>VSOQueryResponseTable length=165</i>\n",
       "<table id=\"table140237068450592\" class=\"table-striped table-bordered table-condensed\">\n",
       "<thead><tr><th>Start Time</th><th>End Time</th><th>Source</th><th>Instrument</th><th>Wavelength [2]</th><th>Provider</th><th>Physobs</th><th>Wavetype</th><th>Extent Width</th><th>Extent Length</th><th>Extent Type</th><th>Size</th><th>Extra Flags</th><th>Info</th></tr></thead>\n",
       "<thead><tr><th></th><th></th><th></th><th></th><th>Angstrom</th><th></th><th></th><th></th><th></th><th></th><th></th><th>Mibyte</th><th></th><th></th></tr></thead>\n",
       "<thead><tr><th>Time</th><th>Time</th><th>str3</th><th>str3</th><th>float64</th><th>str4</th><th>str9</th><th>str6</th><th>str4</th><th>str4</th><th>str8</th><th>float64</th><th>str1</th><th>str106</th></tr></thead>\n",
       "<tr><td>2022-02-15 21:45:00.000</td><td>2022-02-15 21:49:13.000</td><td>SDO</td><td>AIA</td><td>335.0 .. 335.0</td><td>JSOC</td><td>intensity</td><td>NARROW</td><td>4096</td><td>4096</td><td>FULLDISK</td><td>1422.26562</td><td>S</td><td>AIA level 1, 4096x4096 [22 records] [0 eclipse] [0 darks] [2.901 to 2.901 exposure] [100.00 avg. percentd]</td></tr>\n",
       "<tr><td>2022-02-15 21:45:02.000</td><td>2022-02-15 21:49:03.000</td><td>SDO</td><td>AIA</td><td>1600.0 .. 1600.0</td><td>JSOC</td><td>intensity</td><td>NARROW</td><td>4096</td><td>4096</td><td>FULLDISK</td><td>711.13281</td><td>S</td><td>AIA level 1, 4096x4096 [11 records] [0 eclipse] [0 darks] [2.901 to 2.901 exposure] [100.00 avg. percentd]</td></tr>\n",
       "<tr><td>2022-02-15 21:45:04.000</td><td>2022-02-15 21:49:17.000</td><td>SDO</td><td>AIA</td><td>193.0 .. 193.0</td><td>JSOC</td><td>intensity</td><td>NARROW</td><td>4096</td><td>4096</td><td>FULLDISK</td><td>1422.26562</td><td>S</td><td>AIA level 1, 4096x4096 [22 records] [0 eclipse] [0 darks] [2.000 to 2.000 exposure] [100.00 avg. percentd]</td></tr>\n",
       "<tr><td>2022-02-15 21:45:05.000</td><td>2022-02-15 21:49:18.000</td><td>SDO</td><td>AIA</td><td>304.0 .. 304.0</td><td>JSOC</td><td>intensity</td><td>NARROW</td><td>4096</td><td>4096</td><td>FULLDISK</td><td>1422.26562</td><td>S</td><td>AIA level 1, 4096x4096 [22 records] [0 eclipse] [0 darks] [2.901 to 2.901 exposure] [100.00 avg. percentd]</td></tr>\n",
       "<tr><td>2022-02-15 21:45:06.000</td><td>2022-02-15 21:49:19.000</td><td>SDO</td><td>AIA</td><td>131.0 .. 131.0</td><td>JSOC</td><td>intensity</td><td>NARROW</td><td>4096</td><td>4096</td><td>FULLDISK</td><td>1422.26562</td><td>S</td><td>AIA level 1, 4096x4096 [22 records] [0 eclipse] [0 darks] [2.901 to 2.901 exposure] [100.00 avg. percentd]</td></tr>\n",
       "<tr><td>2022-02-15 21:45:09.000</td><td>2022-02-15 21:49:10.000</td><td>SDO</td><td>AIA</td><td>211.0 .. 211.0</td><td>JSOC</td><td>intensity</td><td>NARROW</td><td>4096</td><td>4096</td><td>FULLDISK</td><td>1357.61719</td><td>S</td><td>AIA level 1, 4096x4096 [21 records] [0 eclipse] [0 darks] [2.901 to 2.901 exposure] [100.00 avg. percentd]</td></tr>\n",
       "<tr><td>2022-02-15 21:45:09.000</td><td>2022-02-15 21:49:22.000</td><td>SDO</td><td>AIA</td><td>171.0 .. 171.0</td><td>JSOC</td><td>intensity</td><td>NARROW</td><td>4096</td><td>4096</td><td>FULLDISK</td><td>1422.26562</td><td>S</td><td>AIA level 1, 4096x4096 [22 records] [0 eclipse] [0 darks] [2.000 to 2.000 exposure] [100.00 avg. percentd]</td></tr>\n",
       "<tr><td>2022-02-15 21:45:11.000</td><td>2022-02-15 21:49:12.000</td><td>SDO</td><td>AIA</td><td>94.0 .. 94.0</td><td>JSOC</td><td>intensity</td><td>NARROW</td><td>4096</td><td>4096</td><td>FULLDISK</td><td>1357.61719</td><td>S</td><td>AIA level 1, 4096x4096 [21 records] [0 eclipse] [0 darks] [2.902 to 2.902 exposure] [100.00 avg. percentd]</td></tr>\n",
       "<tr><td>2022-02-15 21:45:16.000</td><td>2022-02-15 21:49:17.000</td><td>SDO</td><td>AIA</td><td>1700.0 .. 1700.0</td><td>JSOC</td><td>intensity</td><td>NARROW</td><td>4096</td><td>4096</td><td>FULLDISK</td><td>711.13281</td><td>S</td><td>AIA level 1, 4096x4096 [11 records] [0 eclipse] [0 darks] [0.988 to 0.988 exposure] [100.00 avg. percentd]</td></tr>\n",
       "<tr><td>2022-02-15 21:49:21.000</td><td>2022-02-15 21:59:10.000</td><td>SDO</td><td>AIA</td><td>211.0 .. 211.0</td><td>JSOC</td><td>intensity</td><td>NARROW</td><td>4096</td><td>4096</td><td>FULLDISK</td><td>3232.42188</td><td>S</td><td>AIA level 1, 4096x4096 [50 records] [0 eclipse] [0 darks] [2.901 to 2.901 exposure] [100.00 avg. percentd]</td></tr>\n",
       "<tr><td>2022-02-15 21:49:23.000</td><td>2022-02-15 21:59:12.000</td><td>SDO</td><td>AIA</td><td>94.0 .. 94.0</td><td>JSOC</td><td>intensity</td><td>NARROW</td><td>4096</td><td>4096</td><td>FULLDISK</td><td>3232.42188</td><td>S</td><td>AIA level 1, 4096x4096 [50 records] [0 eclipse] [0 darks] [2.902 to 2.902 exposure] [100.00 avg. percentd]</td></tr>\n",
       "<tr><td>2022-02-15 21:49:24.000</td><td>2022-02-15 21:59:13.000</td><td>SDO</td><td>AIA</td><td>335.0 .. 335.0</td><td>JSOC</td><td>intensity</td><td>NARROW</td><td>4096</td><td>4096</td><td>FULLDISK</td><td>3232.42188</td><td>S</td><td>AIA level 1, 4096x4096 [50 records] [0 eclipse] [0 darks] [2.901 to 2.901 exposure] [100.00 avg. percentd]</td></tr>\n",
       "<tr><td>...</td><td>...</td><td>...</td><td>...</td><td>...</td><td>...</td><td>...</td><td>...</td><td>...</td><td>...</td><td>...</td><td>...</td><td>...</td><td>...</td></tr>\n",
       "<tr><td>2022-02-16 00:19:29.000</td><td>2022-02-16 00:29:18.000</td><td>SDO</td><td>AIA</td><td>304.0 .. 304.0</td><td>JSOC</td><td>intensity</td><td>NARROW</td><td>4096</td><td>4096</td><td>FULLDISK</td><td>3232.42188</td><td>S</td><td>AIA level 1, 4096x4096 [50 records] [0 eclipse] [0 darks] [2.901 to 2.901 exposure] [100.00 avg. percentd]</td></tr>\n",
       "<tr><td>2022-02-16 00:19:30.000</td><td>2022-02-16 00:29:19.000</td><td>SDO</td><td>AIA</td><td>131.0 .. 131.0</td><td>JSOC</td><td>intensity</td><td>NARROW</td><td>4096</td><td>4096</td><td>FULLDISK</td><td>3232.42188</td><td>S</td><td>AIA level 1, 4096x4096 [50 records] [0 eclipse] [0 darks] [2.901 to 2.901 exposure] [100.00 avg. percentd]</td></tr>\n",
       "<tr><td>2022-02-16 00:19:33.000</td><td>2022-02-16 00:29:22.000</td><td>SDO</td><td>AIA</td><td>171.0 .. 171.0</td><td>JSOC</td><td>intensity</td><td>NARROW</td><td>4096</td><td>4096</td><td>FULLDISK</td><td>3232.42188</td><td>S</td><td>AIA level 1, 4096x4096 [50 records] [0 eclipse] [0 darks] [2.000 to 2.000 exposure] [100.00 avg. percentd]</td></tr>\n",
       "<tr><td>2022-02-16 00:19:40.000</td><td>2022-02-16 00:29:17.000</td><td>SDO</td><td>AIA</td><td>1700.0 .. 1700.0</td><td>JSOC</td><td>intensity</td><td>NARROW</td><td>4096</td><td>4096</td><td>FULLDISK</td><td>1616.21094</td><td>S</td><td>AIA level 1, 4096x4096 [25 records] [0 eclipse] [0 darks] [0.988 to 0.988 exposure] [100.00 avg. percentd]</td></tr>\n",
       "<tr><td>2022-02-16 00:29:21.000</td><td>2022-02-16 00:29:58.000</td><td>SDO</td><td>AIA</td><td>211.0 .. 211.0</td><td>JSOC</td><td>intensity</td><td>NARROW</td><td>4096</td><td>4096</td><td>FULLDISK</td><td>258.59375</td><td>S</td><td>AIA level 1, 4096x4096 [4 records] [0 eclipse] [0 darks] [2.901 to 2.901 exposure] [100.00 avg. percentd]</td></tr>\n",
       "<tr><td>2022-02-16 00:29:23.000</td><td>2022-02-16 00:30:00.000</td><td>SDO</td><td>AIA</td><td>94.0 .. 94.0</td><td>JSOC</td><td>intensity</td><td>NARROW</td><td>4096</td><td>4096</td><td>FULLDISK</td><td>258.59375</td><td>S</td><td>AIA level 1, 4096x4096 [4 records] [0 eclipse] [0 darks] [2.902 to 2.902 exposure] [100.00 avg. percentd]</td></tr>\n",
       "<tr><td>2022-02-16 00:29:24.000</td><td>2022-02-16 00:30:01.000</td><td>SDO</td><td>AIA</td><td>335.0 .. 335.0</td><td>JSOC</td><td>intensity</td><td>NARROW</td><td>4096</td><td>4096</td><td>FULLDISK</td><td>258.59375</td><td>S</td><td>AIA level 1, 4096x4096 [4 records] [0 eclipse] [0 darks] [2.901 to 2.901 exposure] [100.00 avg. percentd]</td></tr>\n",
       "<tr><td>2022-02-16 00:29:26.000</td><td>2022-02-16 00:29:51.000</td><td>SDO</td><td>AIA</td><td>1600.0 .. 1600.0</td><td>JSOC</td><td>intensity</td><td>NARROW</td><td>4096</td><td>4096</td><td>FULLDISK</td><td>129.29688</td><td>S</td><td>AIA level 1, 4096x4096 [2 records] [0 eclipse] [0 darks] [2.901 to 2.901 exposure] [100.00 avg. percentd]</td></tr>\n",
       "<tr><td>2022-02-16 00:29:28.000</td><td>2022-02-16 00:29:53.000</td><td>SDO</td><td>AIA</td><td>193.0 .. 193.0</td><td>JSOC</td><td>intensity</td><td>NARROW</td><td>4096</td><td>4096</td><td>FULLDISK</td><td>193.94531</td><td>S</td><td>AIA level 1, 4096x4096 [3 records] [0 eclipse] [0 darks] [2.000 to 2.000 exposure] [100.00 avg. percentd]</td></tr>\n",
       "<tr><td>2022-02-16 00:29:29.000</td><td>2022-02-16 00:29:54.000</td><td>SDO</td><td>AIA</td><td>304.0 .. 304.0</td><td>JSOC</td><td>intensity</td><td>NARROW</td><td>4096</td><td>4096</td><td>FULLDISK</td><td>193.94531</td><td>S</td><td>AIA level 1, 4096x4096 [3 records] [0 eclipse] [0 darks] [2.901 to 2.901 exposure] [100.00 avg. percentd]</td></tr>\n",
       "<tr><td>2022-02-16 00:29:30.000</td><td>2022-02-16 00:29:55.000</td><td>SDO</td><td>AIA</td><td>131.0 .. 131.0</td><td>JSOC</td><td>intensity</td><td>NARROW</td><td>4096</td><td>4096</td><td>FULLDISK</td><td>193.94531</td><td>S</td><td>AIA level 1, 4096x4096 [3 records] [0 eclipse] [0 darks] [2.901 to 2.901 exposure] [100.00 avg. percentd]</td></tr>\n",
       "<tr><td>2022-02-16 00:29:33.000</td><td>2022-02-16 00:29:58.000</td><td>SDO</td><td>AIA</td><td>171.0 .. 171.0</td><td>JSOC</td><td>intensity</td><td>NARROW</td><td>4096</td><td>4096</td><td>FULLDISK</td><td>193.94531</td><td>S</td><td>AIA level 1, 4096x4096 [3 records] [0 eclipse] [0 darks] [2.000 to 2.000 exposure] [100.00 avg. percentd]</td></tr>\n",
       "<tr><td>2022-02-16 00:29:40.000</td><td>2022-02-16 00:29:41.000</td><td>SDO</td><td>AIA</td><td>1700.0 .. 1700.0</td><td>JSOC</td><td>intensity</td><td>NARROW</td><td>4096</td><td>4096</td><td>FULLDISK</td><td>64.64844</td><td>S</td><td>AIA level 1, 4096x4096 [0.988 exposure] [100.00 percentd]</td></tr>\n",
       "</table></div></br>"
      ],
      "text/plain": [
       "<sunpy.net.fido_factory.UnifiedResponse object at 0x7f8b7ca63a00>\n",
       "Results from 1 Provider:\n",
       "\n",
       "165 Results from the VSOClient:\n",
       "Source: http://vso.stanford.edu/cgi-bin/search\n",
       "Total estimated size: 443.745 Gbyte\n",
       "\n",
       "       Start Time       ...\n",
       "                        ...\n",
       "----------------------- ...\n",
       "2022-02-15 21:45:00.000 ...\n",
       "2022-02-15 21:45:02.000 ...\n",
       "2022-02-15 21:45:04.000 ...\n",
       "2022-02-15 21:45:05.000 ...\n",
       "2022-02-15 21:45:06.000 ...\n",
       "2022-02-15 21:45:09.000 ...\n",
       "2022-02-15 21:45:09.000 ...\n",
       "2022-02-15 21:45:11.000 ...\n",
       "2022-02-15 21:45:16.000 ...\n",
       "2022-02-15 21:49:21.000 ...\n",
       "2022-02-15 21:49:23.000 ...\n",
       "2022-02-15 21:49:24.000 ...\n",
       "2022-02-15 21:49:26.000 ...\n",
       "                    ... ...\n",
       "2022-02-16 00:19:29.000 ...\n",
       "2022-02-16 00:19:30.000 ...\n",
       "2022-02-16 00:19:33.000 ...\n",
       "2022-02-16 00:19:40.000 ...\n",
       "2022-02-16 00:29:21.000 ...\n",
       "2022-02-16 00:29:23.000 ...\n",
       "2022-02-16 00:29:24.000 ...\n",
       "2022-02-16 00:29:26.000 ...\n",
       "2022-02-16 00:29:28.000 ...\n",
       "2022-02-16 00:29:29.000 ...\n",
       "2022-02-16 00:29:30.000 ...\n",
       "2022-02-16 00:29:33.000 ...\n",
       "2022-02-16 00:29:40.000 ...\n",
       "Length = 165 rows\n"
      ]
     },
     "execution_count": 4,
     "metadata": {},
     "output_type": "execute_result"
    }
   ],
   "source": [
    "result"
   ]
  },
  {
   "cell_type": "code",
   "execution_count": 5,
   "id": "ea3687de-e9ed-4dbd-ba21-eb15c94f46ba",
   "metadata": {},
   "outputs": [],
   "source": [
    "result = Fido.search(a.Time(cme_start, cme_end) & a.Instrument.aia & a.Wavelength(304*u.angstrom))"
   ]
  },
  {
   "cell_type": "code",
   "execution_count": 6,
   "id": "52232394-e254-426d-b6e1-a1af1835b2a8",
   "metadata": {},
   "outputs": [
    {
     "data": {
      "text/html": [
       "Results from 1 Provider:</br></br>819 Results from the VSOClient:</br><div><i>VSOQueryResponseTable length=819</i>\n",
       "<table id=\"table140237082807888\" class=\"table-striped table-bordered table-condensed\">\n",
       "<thead><tr><th>Start Time</th><th>End Time</th><th>Source</th><th>Instrument</th><th>Wavelength [2]</th><th>Provider</th><th>Physobs</th><th>Wavetype</th><th>Extent Width</th><th>Extent Length</th><th>Extent Type</th><th>Size</th><th>Info</th></tr></thead>\n",
       "<thead><tr><th></th><th></th><th></th><th></th><th>Angstrom</th><th></th><th></th><th></th><th></th><th></th><th></th><th>Mibyte</th><th></th></tr></thead>\n",
       "<thead><tr><th>Time</th><th>Time</th><th>str3</th><th>str3</th><th>float64</th><th>str4</th><th>str9</th><th>str6</th><th>str4</th><th>str4</th><th>str8</th><th>float64</th><th>str57</th></tr></thead>\n",
       "<tr><td>2022-02-15 21:45:05.000</td><td>2022-02-15 21:45:06.000</td><td>SDO</td><td>AIA</td><td>304.0 .. 304.0</td><td>JSOC</td><td>intensity</td><td>NARROW</td><td>4096</td><td>4096</td><td>FULLDISK</td><td>64.64844</td><td>AIA level 1, 4096x4096 [2.901 exposure] [100.00 percentd]</td></tr>\n",
       "<tr><td>2022-02-15 21:45:17.000</td><td>2022-02-15 21:45:18.000</td><td>SDO</td><td>AIA</td><td>304.0 .. 304.0</td><td>JSOC</td><td>intensity</td><td>NARROW</td><td>4096</td><td>4096</td><td>FULLDISK</td><td>64.64844</td><td>AIA level 1, 4096x4096 [2.901 exposure] [100.00 percentd]</td></tr>\n",
       "<tr><td>2022-02-15 21:45:29.000</td><td>2022-02-15 21:45:30.000</td><td>SDO</td><td>AIA</td><td>304.0 .. 304.0</td><td>JSOC</td><td>intensity</td><td>NARROW</td><td>4096</td><td>4096</td><td>FULLDISK</td><td>64.64844</td><td>AIA level 1, 4096x4096 [2.901 exposure] [100.00 percentd]</td></tr>\n",
       "<tr><td>2022-02-15 21:45:41.000</td><td>2022-02-15 21:45:42.000</td><td>SDO</td><td>AIA</td><td>304.0 .. 304.0</td><td>JSOC</td><td>intensity</td><td>NARROW</td><td>4096</td><td>4096</td><td>FULLDISK</td><td>64.64844</td><td>AIA level 1, 4096x4096 [2.901 exposure] [100.00 percentd]</td></tr>\n",
       "<tr><td>2022-02-15 21:45:53.000</td><td>2022-02-15 21:45:54.000</td><td>SDO</td><td>AIA</td><td>304.0 .. 304.0</td><td>JSOC</td><td>intensity</td><td>NARROW</td><td>4096</td><td>4096</td><td>FULLDISK</td><td>64.64844</td><td>AIA level 1, 4096x4096 [2.901 exposure] [100.00 percentd]</td></tr>\n",
       "<tr><td>2022-02-15 21:46:05.000</td><td>2022-02-15 21:46:06.000</td><td>SDO</td><td>AIA</td><td>304.0 .. 304.0</td><td>JSOC</td><td>intensity</td><td>NARROW</td><td>4096</td><td>4096</td><td>FULLDISK</td><td>64.64844</td><td>AIA level 1, 4096x4096 [2.901 exposure] [100.00 percentd]</td></tr>\n",
       "<tr><td>2022-02-15 21:46:17.000</td><td>2022-02-15 21:46:18.000</td><td>SDO</td><td>AIA</td><td>304.0 .. 304.0</td><td>JSOC</td><td>intensity</td><td>NARROW</td><td>4096</td><td>4096</td><td>FULLDISK</td><td>64.64844</td><td>AIA level 1, 4096x4096 [2.901 exposure] [100.00 percentd]</td></tr>\n",
       "<tr><td>2022-02-15 21:46:29.000</td><td>2022-02-15 21:46:30.000</td><td>SDO</td><td>AIA</td><td>304.0 .. 304.0</td><td>JSOC</td><td>intensity</td><td>NARROW</td><td>4096</td><td>4096</td><td>FULLDISK</td><td>64.64844</td><td>AIA level 1, 4096x4096 [2.901 exposure] [100.00 percentd]</td></tr>\n",
       "<tr><td>2022-02-15 21:46:41.000</td><td>2022-02-15 21:46:42.000</td><td>SDO</td><td>AIA</td><td>304.0 .. 304.0</td><td>JSOC</td><td>intensity</td><td>NARROW</td><td>4096</td><td>4096</td><td>FULLDISK</td><td>64.64844</td><td>AIA level 1, 4096x4096 [2.901 exposure] [100.00 percentd]</td></tr>\n",
       "<tr><td>2022-02-15 21:46:53.000</td><td>2022-02-15 21:46:54.000</td><td>SDO</td><td>AIA</td><td>304.0 .. 304.0</td><td>JSOC</td><td>intensity</td><td>NARROW</td><td>4096</td><td>4096</td><td>FULLDISK</td><td>64.64844</td><td>AIA level 1, 4096x4096 [2.901 exposure] [100.00 percentd]</td></tr>\n",
       "<tr><td>2022-02-15 21:47:05.000</td><td>2022-02-15 21:47:06.000</td><td>SDO</td><td>AIA</td><td>304.0 .. 304.0</td><td>JSOC</td><td>intensity</td><td>NARROW</td><td>4096</td><td>4096</td><td>FULLDISK</td><td>64.64844</td><td>AIA level 1, 4096x4096 [2.901 exposure] [100.00 percentd]</td></tr>\n",
       "<tr><td>2022-02-15 21:47:17.000</td><td>2022-02-15 21:47:18.000</td><td>SDO</td><td>AIA</td><td>304.0 .. 304.0</td><td>JSOC</td><td>intensity</td><td>NARROW</td><td>4096</td><td>4096</td><td>FULLDISK</td><td>64.64844</td><td>AIA level 1, 4096x4096 [2.901 exposure] [100.00 percentd]</td></tr>\n",
       "<tr><td>...</td><td>...</td><td>...</td><td>...</td><td>...</td><td>...</td><td>...</td><td>...</td><td>...</td><td>...</td><td>...</td><td>...</td><td>...</td></tr>\n",
       "<tr><td>2022-02-16 00:27:29.000</td><td>2022-02-16 00:27:30.000</td><td>SDO</td><td>AIA</td><td>304.0 .. 304.0</td><td>JSOC</td><td>intensity</td><td>NARROW</td><td>4096</td><td>4096</td><td>FULLDISK</td><td>64.64844</td><td>AIA level 1, 4096x4096 [2.901 exposure] [100.00 percentd]</td></tr>\n",
       "<tr><td>2022-02-16 00:27:41.000</td><td>2022-02-16 00:27:42.000</td><td>SDO</td><td>AIA</td><td>304.0 .. 304.0</td><td>JSOC</td><td>intensity</td><td>NARROW</td><td>4096</td><td>4096</td><td>FULLDISK</td><td>64.64844</td><td>AIA level 1, 4096x4096 [2.901 exposure] [100.00 percentd]</td></tr>\n",
       "<tr><td>2022-02-16 00:27:53.000</td><td>2022-02-16 00:27:54.000</td><td>SDO</td><td>AIA</td><td>304.0 .. 304.0</td><td>JSOC</td><td>intensity</td><td>NARROW</td><td>4096</td><td>4096</td><td>FULLDISK</td><td>64.64844</td><td>AIA level 1, 4096x4096 [2.901 exposure] [100.00 percentd]</td></tr>\n",
       "<tr><td>2022-02-16 00:28:05.000</td><td>2022-02-16 00:28:06.000</td><td>SDO</td><td>AIA</td><td>304.0 .. 304.0</td><td>JSOC</td><td>intensity</td><td>NARROW</td><td>4096</td><td>4096</td><td>FULLDISK</td><td>64.64844</td><td>AIA level 1, 4096x4096 [2.901 exposure] [100.00 percentd]</td></tr>\n",
       "<tr><td>2022-02-16 00:28:17.000</td><td>2022-02-16 00:28:18.000</td><td>SDO</td><td>AIA</td><td>304.0 .. 304.0</td><td>JSOC</td><td>intensity</td><td>NARROW</td><td>4096</td><td>4096</td><td>FULLDISK</td><td>64.64844</td><td>AIA level 1, 4096x4096 [2.901 exposure] [100.00 percentd]</td></tr>\n",
       "<tr><td>2022-02-16 00:28:29.000</td><td>2022-02-16 00:28:30.000</td><td>SDO</td><td>AIA</td><td>304.0 .. 304.0</td><td>JSOC</td><td>intensity</td><td>NARROW</td><td>4096</td><td>4096</td><td>FULLDISK</td><td>64.64844</td><td>AIA level 1, 4096x4096 [2.901 exposure] [100.00 percentd]</td></tr>\n",
       "<tr><td>2022-02-16 00:28:41.000</td><td>2022-02-16 00:28:42.000</td><td>SDO</td><td>AIA</td><td>304.0 .. 304.0</td><td>JSOC</td><td>intensity</td><td>NARROW</td><td>4096</td><td>4096</td><td>FULLDISK</td><td>64.64844</td><td>AIA level 1, 4096x4096 [2.901 exposure] [100.00 percentd]</td></tr>\n",
       "<tr><td>2022-02-16 00:28:53.000</td><td>2022-02-16 00:28:54.000</td><td>SDO</td><td>AIA</td><td>304.0 .. 304.0</td><td>JSOC</td><td>intensity</td><td>NARROW</td><td>4096</td><td>4096</td><td>FULLDISK</td><td>64.64844</td><td>AIA level 1, 4096x4096 [2.901 exposure] [100.00 percentd]</td></tr>\n",
       "<tr><td>2022-02-16 00:29:05.000</td><td>2022-02-16 00:29:06.000</td><td>SDO</td><td>AIA</td><td>304.0 .. 304.0</td><td>JSOC</td><td>intensity</td><td>NARROW</td><td>4096</td><td>4096</td><td>FULLDISK</td><td>64.64844</td><td>AIA level 1, 4096x4096 [2.901 exposure] [100.00 percentd]</td></tr>\n",
       "<tr><td>2022-02-16 00:29:17.000</td><td>2022-02-16 00:29:18.000</td><td>SDO</td><td>AIA</td><td>304.0 .. 304.0</td><td>JSOC</td><td>intensity</td><td>NARROW</td><td>4096</td><td>4096</td><td>FULLDISK</td><td>64.64844</td><td>AIA level 1, 4096x4096 [2.901 exposure] [100.00 percentd]</td></tr>\n",
       "<tr><td>2022-02-16 00:29:29.000</td><td>2022-02-16 00:29:30.000</td><td>SDO</td><td>AIA</td><td>304.0 .. 304.0</td><td>JSOC</td><td>intensity</td><td>NARROW</td><td>4096</td><td>4096</td><td>FULLDISK</td><td>64.64844</td><td>AIA level 1, 4096x4096 [2.901 exposure] [100.00 percentd]</td></tr>\n",
       "<tr><td>2022-02-16 00:29:41.000</td><td>2022-02-16 00:29:42.000</td><td>SDO</td><td>AIA</td><td>304.0 .. 304.0</td><td>JSOC</td><td>intensity</td><td>NARROW</td><td>4096</td><td>4096</td><td>FULLDISK</td><td>64.64844</td><td>AIA level 1, 4096x4096 [2.901 exposure] [100.00 percentd]</td></tr>\n",
       "<tr><td>2022-02-16 00:29:53.000</td><td>2022-02-16 00:29:54.000</td><td>SDO</td><td>AIA</td><td>304.0 .. 304.0</td><td>JSOC</td><td>intensity</td><td>NARROW</td><td>4096</td><td>4096</td><td>FULLDISK</td><td>64.64844</td><td>AIA level 1, 4096x4096 [2.901 exposure] [100.00 percentd]</td></tr>\n",
       "</table></div></br>"
      ],
      "text/plain": [
       "<sunpy.net.fido_factory.UnifiedResponse object at 0x7f8b7cebd6d0>\n",
       "Results from 1 Provider:\n",
       "\n",
       "819 Results from the VSOClient:\n",
       "Source: http://vso.stanford.edu/cgi-bin/search\n",
       "Total estimated size: 55.519 Gbyte\n",
       "\n",
       "       Start Time               End Time        Source ...   Size                              Info                          \n",
       "                                                       ...  Mibyte                                                           \n",
       "----------------------- ----------------------- ------ ... -------- ---------------------------------------------------------\n",
       "2022-02-15 21:45:05.000 2022-02-15 21:45:06.000    SDO ... 64.64844 AIA level 1, 4096x4096 [2.901 exposure] [100.00 percentd]\n",
       "2022-02-15 21:45:17.000 2022-02-15 21:45:18.000    SDO ... 64.64844 AIA level 1, 4096x4096 [2.901 exposure] [100.00 percentd]\n",
       "2022-02-15 21:45:29.000 2022-02-15 21:45:30.000    SDO ... 64.64844 AIA level 1, 4096x4096 [2.901 exposure] [100.00 percentd]\n",
       "2022-02-15 21:45:41.000 2022-02-15 21:45:42.000    SDO ... 64.64844 AIA level 1, 4096x4096 [2.901 exposure] [100.00 percentd]\n",
       "2022-02-15 21:45:53.000 2022-02-15 21:45:54.000    SDO ... 64.64844 AIA level 1, 4096x4096 [2.901 exposure] [100.00 percentd]\n",
       "2022-02-15 21:46:05.000 2022-02-15 21:46:06.000    SDO ... 64.64844 AIA level 1, 4096x4096 [2.901 exposure] [100.00 percentd]\n",
       "2022-02-15 21:46:17.000 2022-02-15 21:46:18.000    SDO ... 64.64844 AIA level 1, 4096x4096 [2.901 exposure] [100.00 percentd]\n",
       "2022-02-15 21:46:29.000 2022-02-15 21:46:30.000    SDO ... 64.64844 AIA level 1, 4096x4096 [2.901 exposure] [100.00 percentd]\n",
       "2022-02-15 21:46:41.000 2022-02-15 21:46:42.000    SDO ... 64.64844 AIA level 1, 4096x4096 [2.901 exposure] [100.00 percentd]\n",
       "2022-02-15 21:46:53.000 2022-02-15 21:46:54.000    SDO ... 64.64844 AIA level 1, 4096x4096 [2.901 exposure] [100.00 percentd]\n",
       "2022-02-15 21:47:05.000 2022-02-15 21:47:06.000    SDO ... 64.64844 AIA level 1, 4096x4096 [2.901 exposure] [100.00 percentd]\n",
       "2022-02-15 21:47:17.000 2022-02-15 21:47:18.000    SDO ... 64.64844 AIA level 1, 4096x4096 [2.901 exposure] [100.00 percentd]\n",
       "2022-02-15 21:47:29.000 2022-02-15 21:47:30.000    SDO ... 64.64844 AIA level 1, 4096x4096 [2.901 exposure] [100.00 percentd]\n",
       "                    ...                     ...    ... ...      ...                                                       ...\n",
       "2022-02-16 00:27:29.000 2022-02-16 00:27:30.000    SDO ... 64.64844 AIA level 1, 4096x4096 [2.901 exposure] [100.00 percentd]\n",
       "2022-02-16 00:27:41.000 2022-02-16 00:27:42.000    SDO ... 64.64844 AIA level 1, 4096x4096 [2.901 exposure] [100.00 percentd]\n",
       "2022-02-16 00:27:53.000 2022-02-16 00:27:54.000    SDO ... 64.64844 AIA level 1, 4096x4096 [2.901 exposure] [100.00 percentd]\n",
       "2022-02-16 00:28:05.000 2022-02-16 00:28:06.000    SDO ... 64.64844 AIA level 1, 4096x4096 [2.901 exposure] [100.00 percentd]\n",
       "2022-02-16 00:28:17.000 2022-02-16 00:28:18.000    SDO ... 64.64844 AIA level 1, 4096x4096 [2.901 exposure] [100.00 percentd]\n",
       "2022-02-16 00:28:29.000 2022-02-16 00:28:30.000    SDO ... 64.64844 AIA level 1, 4096x4096 [2.901 exposure] [100.00 percentd]\n",
       "2022-02-16 00:28:41.000 2022-02-16 00:28:42.000    SDO ... 64.64844 AIA level 1, 4096x4096 [2.901 exposure] [100.00 percentd]\n",
       "2022-02-16 00:28:53.000 2022-02-16 00:28:54.000    SDO ... 64.64844 AIA level 1, 4096x4096 [2.901 exposure] [100.00 percentd]\n",
       "2022-02-16 00:29:05.000 2022-02-16 00:29:06.000    SDO ... 64.64844 AIA level 1, 4096x4096 [2.901 exposure] [100.00 percentd]\n",
       "2022-02-16 00:29:17.000 2022-02-16 00:29:18.000    SDO ... 64.64844 AIA level 1, 4096x4096 [2.901 exposure] [100.00 percentd]\n",
       "2022-02-16 00:29:29.000 2022-02-16 00:29:30.000    SDO ... 64.64844 AIA level 1, 4096x4096 [2.901 exposure] [100.00 percentd]\n",
       "2022-02-16 00:29:41.000 2022-02-16 00:29:42.000    SDO ... 64.64844 AIA level 1, 4096x4096 [2.901 exposure] [100.00 percentd]\n",
       "2022-02-16 00:29:53.000 2022-02-16 00:29:54.000    SDO ... 64.64844 AIA level 1, 4096x4096 [2.901 exposure] [100.00 percentd]\n",
       "Length = 819 rows\n"
      ]
     },
     "execution_count": 6,
     "metadata": {},
     "output_type": "execute_result"
    }
   ],
   "source": [
    "result"
   ]
  },
  {
   "cell_type": "code",
   "execution_count": 7,
   "id": "30a46c53-f239-4b57-9987-243e4ce41960",
   "metadata": {},
   "outputs": [],
   "source": [
    "result = Fido.search(\n",
    "    a.Time(cme_start, cme_end) & a.Instrument.aia & a.Wavelength(304*u.angstrom) & a.Sample(10*u.min)\n",
    ")"
   ]
  },
  {
   "cell_type": "code",
   "execution_count": 8,
   "id": "1578f150-fce2-4a34-98ab-46aa5a9e955e",
   "metadata": {},
   "outputs": [
    {
     "data": {
      "text/html": [
       "Results from 1 Provider:</br></br>17 Results from the VSOClient:</br><div><i>VSOQueryResponseTable length=17</i>\n",
       "<table id=\"table140237084059632\" class=\"table-striped table-bordered table-condensed\">\n",
       "<thead><tr><th>Start Time</th><th>End Time</th><th>Source</th><th>Instrument</th><th>Wavelength [2]</th><th>Provider</th><th>Physobs</th><th>Wavetype</th><th>Extent Width</th><th>Extent Length</th><th>Extent Type</th><th>Size</th><th>Info</th></tr></thead>\n",
       "<thead><tr><th></th><th></th><th></th><th></th><th>Angstrom</th><th></th><th></th><th></th><th></th><th></th><th></th><th>Mibyte</th><th></th></tr></thead>\n",
       "<thead><tr><th>Time</th><th>Time</th><th>str3</th><th>str3</th><th>float64</th><th>str4</th><th>str9</th><th>str6</th><th>str4</th><th>str4</th><th>str8</th><th>float64</th><th>str57</th></tr></thead>\n",
       "<tr><td>2022-02-15 21:45:05.000</td><td>2022-02-15 21:45:06.000</td><td>SDO</td><td>AIA</td><td>304.0 .. 304.0</td><td>JSOC</td><td>intensity</td><td>NARROW</td><td>4096</td><td>4096</td><td>FULLDISK</td><td>64.64844</td><td>AIA level 1, 4096x4096 [2.901 exposure] [100.00 percentd]</td></tr>\n",
       "<tr><td>2022-02-15 21:55:05.000</td><td>2022-02-15 21:55:06.000</td><td>SDO</td><td>AIA</td><td>304.0 .. 304.0</td><td>JSOC</td><td>intensity</td><td>NARROW</td><td>4096</td><td>4096</td><td>FULLDISK</td><td>64.64844</td><td>AIA level 1, 4096x4096 [2.901 exposure] [100.00 percentd]</td></tr>\n",
       "<tr><td>2022-02-15 22:05:05.000</td><td>2022-02-15 22:05:06.000</td><td>SDO</td><td>AIA</td><td>304.0 .. 304.0</td><td>JSOC</td><td>intensity</td><td>NARROW</td><td>4096</td><td>4096</td><td>FULLDISK</td><td>64.64844</td><td>AIA level 1, 4096x4096 [2.901 exposure] [100.00 percentd]</td></tr>\n",
       "<tr><td>2022-02-15 22:15:05.000</td><td>2022-02-15 22:15:06.000</td><td>SDO</td><td>AIA</td><td>304.0 .. 304.0</td><td>JSOC</td><td>intensity</td><td>NARROW</td><td>4096</td><td>4096</td><td>FULLDISK</td><td>64.64844</td><td>AIA level 1, 4096x4096 [2.901 exposure] [100.00 percentd]</td></tr>\n",
       "<tr><td>2022-02-15 22:25:05.000</td><td>2022-02-15 22:25:06.000</td><td>SDO</td><td>AIA</td><td>304.0 .. 304.0</td><td>JSOC</td><td>intensity</td><td>NARROW</td><td>4096</td><td>4096</td><td>FULLDISK</td><td>64.64844</td><td>AIA level 1, 4096x4096 [2.901 exposure] [100.00 percentd]</td></tr>\n",
       "<tr><td>2022-02-15 22:35:05.000</td><td>2022-02-15 22:35:06.000</td><td>SDO</td><td>AIA</td><td>304.0 .. 304.0</td><td>JSOC</td><td>intensity</td><td>NARROW</td><td>4096</td><td>4096</td><td>FULLDISK</td><td>64.64844</td><td>AIA level 1, 4096x4096 [2.901 exposure] [100.00 percentd]</td></tr>\n",
       "<tr><td>2022-02-15 22:45:05.000</td><td>2022-02-15 22:45:06.000</td><td>SDO</td><td>AIA</td><td>304.0 .. 304.0</td><td>JSOC</td><td>intensity</td><td>NARROW</td><td>4096</td><td>4096</td><td>FULLDISK</td><td>64.64844</td><td>AIA level 1, 4096x4096 [2.901 exposure] [100.00 percentd]</td></tr>\n",
       "<tr><td>2022-02-15 22:55:05.000</td><td>2022-02-15 22:55:06.000</td><td>SDO</td><td>AIA</td><td>304.0 .. 304.0</td><td>JSOC</td><td>intensity</td><td>NARROW</td><td>4096</td><td>4096</td><td>FULLDISK</td><td>64.64844</td><td>AIA level 1, 4096x4096 [2.901 exposure] [100.00 percentd]</td></tr>\n",
       "<tr><td>2022-02-15 23:05:05.000</td><td>2022-02-15 23:05:06.000</td><td>SDO</td><td>AIA</td><td>304.0 .. 304.0</td><td>JSOC</td><td>intensity</td><td>NARROW</td><td>4096</td><td>4096</td><td>FULLDISK</td><td>64.64844</td><td>AIA level 1, 4096x4096 [2.901 exposure] [100.00 percentd]</td></tr>\n",
       "<tr><td>2022-02-15 23:15:05.000</td><td>2022-02-15 23:15:06.000</td><td>SDO</td><td>AIA</td><td>304.0 .. 304.0</td><td>JSOC</td><td>intensity</td><td>NARROW</td><td>4096</td><td>4096</td><td>FULLDISK</td><td>64.64844</td><td>AIA level 1, 4096x4096 [2.901 exposure] [100.00 percentd]</td></tr>\n",
       "<tr><td>2022-02-15 23:25:05.000</td><td>2022-02-15 23:25:06.000</td><td>SDO</td><td>AIA</td><td>304.0 .. 304.0</td><td>JSOC</td><td>intensity</td><td>NARROW</td><td>4096</td><td>4096</td><td>FULLDISK</td><td>64.64844</td><td>AIA level 1, 4096x4096 [2.901 exposure] [100.00 percentd]</td></tr>\n",
       "<tr><td>2022-02-15 23:35:05.000</td><td>2022-02-15 23:35:06.000</td><td>SDO</td><td>AIA</td><td>304.0 .. 304.0</td><td>JSOC</td><td>intensity</td><td>NARROW</td><td>4096</td><td>4096</td><td>FULLDISK</td><td>64.64844</td><td>AIA level 1, 4096x4096 [2.901 exposure] [100.00 percentd]</td></tr>\n",
       "<tr><td>2022-02-15 23:45:05.000</td><td>2022-02-15 23:45:06.000</td><td>SDO</td><td>AIA</td><td>304.0 .. 304.0</td><td>JSOC</td><td>intensity</td><td>NARROW</td><td>4096</td><td>4096</td><td>FULLDISK</td><td>64.64844</td><td>AIA level 1, 4096x4096 [2.901 exposure] [100.00 percentd]</td></tr>\n",
       "<tr><td>2022-02-15 23:55:05.000</td><td>2022-02-15 23:55:06.000</td><td>SDO</td><td>AIA</td><td>304.0 .. 304.0</td><td>JSOC</td><td>intensity</td><td>NARROW</td><td>4096</td><td>4096</td><td>FULLDISK</td><td>64.64844</td><td>AIA level 1, 4096x4096 [2.901 exposure] [100.00 percentd]</td></tr>\n",
       "<tr><td>2022-02-16 00:05:05.000</td><td>2022-02-16 00:05:06.000</td><td>SDO</td><td>AIA</td><td>304.0 .. 304.0</td><td>JSOC</td><td>intensity</td><td>NARROW</td><td>4096</td><td>4096</td><td>FULLDISK</td><td>64.64844</td><td>AIA level 1, 4096x4096 [2.901 exposure] [100.00 percentd]</td></tr>\n",
       "<tr><td>2022-02-16 00:15:05.000</td><td>2022-02-16 00:15:06.000</td><td>SDO</td><td>AIA</td><td>304.0 .. 304.0</td><td>JSOC</td><td>intensity</td><td>NARROW</td><td>4096</td><td>4096</td><td>FULLDISK</td><td>64.64844</td><td>AIA level 1, 4096x4096 [2.901 exposure] [100.00 percentd]</td></tr>\n",
       "<tr><td>2022-02-16 00:25:05.000</td><td>2022-02-16 00:25:06.000</td><td>SDO</td><td>AIA</td><td>304.0 .. 304.0</td><td>JSOC</td><td>intensity</td><td>NARROW</td><td>4096</td><td>4096</td><td>FULLDISK</td><td>64.64844</td><td>AIA level 1, 4096x4096 [2.901 exposure] [100.00 percentd]</td></tr>\n",
       "</table></div></br>"
      ],
      "text/plain": [
       "<sunpy.net.fido_factory.UnifiedResponse object at 0x7f8b7d886f40>\n",
       "Results from 1 Provider:\n",
       "\n",
       "17 Results from the VSOClient:\n",
       "Source: http://vso.stanford.edu/cgi-bin/search\n",
       "Total estimated size: 1.152 Gbyte\n",
       "\n",
       "       Start Time               End Time        Source ...   Size                              Info                          \n",
       "                                                       ...  Mibyte                                                           \n",
       "----------------------- ----------------------- ------ ... -------- ---------------------------------------------------------\n",
       "2022-02-15 21:45:05.000 2022-02-15 21:45:06.000    SDO ... 64.64844 AIA level 1, 4096x4096 [2.901 exposure] [100.00 percentd]\n",
       "2022-02-15 21:55:05.000 2022-02-15 21:55:06.000    SDO ... 64.64844 AIA level 1, 4096x4096 [2.901 exposure] [100.00 percentd]\n",
       "2022-02-15 22:05:05.000 2022-02-15 22:05:06.000    SDO ... 64.64844 AIA level 1, 4096x4096 [2.901 exposure] [100.00 percentd]\n",
       "2022-02-15 22:15:05.000 2022-02-15 22:15:06.000    SDO ... 64.64844 AIA level 1, 4096x4096 [2.901 exposure] [100.00 percentd]\n",
       "2022-02-15 22:25:05.000 2022-02-15 22:25:06.000    SDO ... 64.64844 AIA level 1, 4096x4096 [2.901 exposure] [100.00 percentd]\n",
       "2022-02-15 22:35:05.000 2022-02-15 22:35:06.000    SDO ... 64.64844 AIA level 1, 4096x4096 [2.901 exposure] [100.00 percentd]\n",
       "2022-02-15 22:45:05.000 2022-02-15 22:45:06.000    SDO ... 64.64844 AIA level 1, 4096x4096 [2.901 exposure] [100.00 percentd]\n",
       "2022-02-15 22:55:05.000 2022-02-15 22:55:06.000    SDO ... 64.64844 AIA level 1, 4096x4096 [2.901 exposure] [100.00 percentd]\n",
       "2022-02-15 23:05:05.000 2022-02-15 23:05:06.000    SDO ... 64.64844 AIA level 1, 4096x4096 [2.901 exposure] [100.00 percentd]\n",
       "2022-02-15 23:15:05.000 2022-02-15 23:15:06.000    SDO ... 64.64844 AIA level 1, 4096x4096 [2.901 exposure] [100.00 percentd]\n",
       "2022-02-15 23:25:05.000 2022-02-15 23:25:06.000    SDO ... 64.64844 AIA level 1, 4096x4096 [2.901 exposure] [100.00 percentd]\n",
       "2022-02-15 23:35:05.000 2022-02-15 23:35:06.000    SDO ... 64.64844 AIA level 1, 4096x4096 [2.901 exposure] [100.00 percentd]\n",
       "2022-02-15 23:45:05.000 2022-02-15 23:45:06.000    SDO ... 64.64844 AIA level 1, 4096x4096 [2.901 exposure] [100.00 percentd]\n",
       "2022-02-15 23:55:05.000 2022-02-15 23:55:06.000    SDO ... 64.64844 AIA level 1, 4096x4096 [2.901 exposure] [100.00 percentd]\n",
       "2022-02-16 00:05:05.000 2022-02-16 00:05:06.000    SDO ... 64.64844 AIA level 1, 4096x4096 [2.901 exposure] [100.00 percentd]\n",
       "2022-02-16 00:15:05.000 2022-02-16 00:15:06.000    SDO ... 64.64844 AIA level 1, 4096x4096 [2.901 exposure] [100.00 percentd]\n",
       "2022-02-16 00:25:05.000 2022-02-16 00:25:06.000    SDO ... 64.64844 AIA level 1, 4096x4096 [2.901 exposure] [100.00 percentd]\n"
      ]
     },
     "execution_count": 8,
     "metadata": {},
     "output_type": "execute_result"
    }
   ],
   "source": [
    "result"
   ]
  },
  {
   "cell_type": "markdown",
   "id": "7d683b3b-388c-41b1-a700-1b72c25c0723",
   "metadata": {
    "tags": []
   },
   "source": [
    "### More Complicated Queries"
   ]
  },
  {
   "cell_type": "markdown",
   "id": "6d17fe1d-e294-41ed-8068-26d5921ca3ca",
   "metadata": {},
   "source": [
    "![solar mach image](images/Solar-MACH_2022-02-16_00-00-00.png)"
   ]
  },
  {
   "cell_type": "markdown",
   "id": "8e2ffe65-8a1a-4bc4-8100-0a2e56c2b71e",
   "metadata": {},
   "source": [
    "Combine STEREO, AIA, and GOES"
   ]
  },
  {
   "cell_type": "code",
   "execution_count": 9,
   "id": "02b82f61-4d14-45a3-b154-1dd0c17b5306",
   "metadata": {},
   "outputs": [],
   "source": [
    "cme_304_query =  (\n",
    "    a.Time(cme_start, cme_end) \n",
    "    & a.Wavelength(304*u.angstrom)\n",
    "    & a.Sample(5*u.min)\n",
    ")"
   ]
  },
  {
   "cell_type": "code",
   "execution_count": 10,
   "id": "c92375eb-920e-452f-88e8-e71dc928d5dd",
   "metadata": {},
   "outputs": [],
   "source": [
    "stereo_query = cme_304_query & a.Instrument.secchi"
   ]
  },
  {
   "cell_type": "code",
   "execution_count": 11,
   "id": "4440ecef-e800-410a-88c2-13fe117eacba",
   "metadata": {},
   "outputs": [],
   "source": [
    "aia_query = cme_304_query & a.Instrument.aia"
   ]
  },
  {
   "cell_type": "code",
   "execution_count": 12,
   "id": "2f03b976-cd83-4f53-b22f-37dd33f038ac",
   "metadata": {},
   "outputs": [],
   "source": [
    "goes_query = a.Time(cme_start, cme_end) & a.Instrument.xrs & a.goes.SatelliteNumber(17)"
   ]
  },
  {
   "cell_type": "code",
   "execution_count": 13,
   "id": "f6b47246-8c6c-48f3-8280-5632c8503206",
   "metadata": {},
   "outputs": [],
   "source": [
    "combined_query = Fido.search(stereo_query | aia_query | goes_query)"
   ]
  },
  {
   "cell_type": "code",
   "execution_count": 14,
   "id": "c4f6a0a5-ba64-4c07-81ad-16e57248ae8c",
   "metadata": {},
   "outputs": [
    {
     "data": {
      "text/html": [
       "Results from 3 Providers:</br></br>25 Results from the VSOClient:</br><div><i>VSOQueryResponseTable length=25</i>\n",
       "<table id=\"table140237084249248\" class=\"table-striped table-bordered table-condensed\">\n",
       "<thead><tr><th>Start Time</th><th>End Time</th><th>Source</th><th>Instrument</th><th>Wavelength [2]</th><th>Provider</th><th>Physobs</th><th>Wavetype</th><th>Extent Type</th><th>Size</th><th>Info</th></tr></thead>\n",
       "<thead><tr><th></th><th></th><th></th><th></th><th>Angstrom</th><th></th><th></th><th></th><th></th><th>Mibyte</th><th></th></tr></thead>\n",
       "<thead><tr><th>Time</th><th>Time</th><th>str8</th><th>str6</th><th>float64</th><th>str3</th><th>str9</th><th>str6</th><th>str8</th><th>float64</th><th>str28</th></tr></thead>\n",
       "<tr><td>2022-02-15 21:45:45.000</td><td>2022-02-15 21:45:49.000</td><td>STEREO_A</td><td>SECCHI</td><td>304.0 .. 304.0</td><td>SSC</td><td>intensity</td><td>NARROW</td><td>FULLDISK</td><td>-0.00098</td><td>EUVI ;  ; NORMAL ; 2048x2048</td></tr>\n",
       "<tr><td>2022-02-15 21:50:45.000</td><td>2022-02-15 21:50:49.000</td><td>STEREO_A</td><td>SECCHI</td><td>304.0 .. 304.0</td><td>SSC</td><td>intensity</td><td>NARROW</td><td>FULLDISK</td><td>-0.00098</td><td>EUVI ;  ; NORMAL ; 2048x2048</td></tr>\n",
       "<tr><td>2022-02-15 21:55:45.000</td><td>2022-02-15 21:55:49.000</td><td>STEREO_A</td><td>SECCHI</td><td>304.0 .. 304.0</td><td>SSC</td><td>intensity</td><td>NARROW</td><td>FULLDISK</td><td>-0.00098</td><td>EUVI ;  ; NORMAL ; 2048x2048</td></tr>\n",
       "<tr><td>2022-02-15 22:00:45.000</td><td>2022-02-15 22:00:49.000</td><td>STEREO_A</td><td>SECCHI</td><td>304.0 .. 304.0</td><td>SSC</td><td>intensity</td><td>NARROW</td><td>FULLDISK</td><td>-0.00098</td><td>EUVI ;  ; NORMAL ; 2048x2048</td></tr>\n",
       "<tr><td>2022-02-15 22:05:45.000</td><td>2022-02-15 22:05:49.000</td><td>STEREO_A</td><td>SECCHI</td><td>304.0 .. 304.0</td><td>SSC</td><td>intensity</td><td>NARROW</td><td>FULLDISK</td><td>-0.00098</td><td>EUVI ;  ; NORMAL ; 2048x2048</td></tr>\n",
       "<tr><td>2022-02-15 22:10:45.000</td><td>2022-02-15 22:10:49.000</td><td>STEREO_A</td><td>SECCHI</td><td>304.0 .. 304.0</td><td>SSC</td><td>intensity</td><td>NARROW</td><td>FULLDISK</td><td>-0.00098</td><td>EUVI ;  ; NORMAL ; 2048x2048</td></tr>\n",
       "<tr><td>2022-02-15 22:15:45.000</td><td>2022-02-15 22:15:49.000</td><td>STEREO_A</td><td>SECCHI</td><td>304.0 .. 304.0</td><td>SSC</td><td>intensity</td><td>NARROW</td><td>FULLDISK</td><td>-0.00098</td><td>EUVI ;  ; NORMAL ; 2048x2048</td></tr>\n",
       "<tr><td>2022-02-15 22:20:45.000</td><td>2022-02-15 22:20:49.000</td><td>STEREO_A</td><td>SECCHI</td><td>304.0 .. 304.0</td><td>SSC</td><td>intensity</td><td>NARROW</td><td>FULLDISK</td><td>-0.00098</td><td>EUVI ;  ; NORMAL ; 2048x2048</td></tr>\n",
       "<tr><td>2022-02-15 22:25:45.000</td><td>2022-02-15 22:25:49.000</td><td>STEREO_A</td><td>SECCHI</td><td>304.0 .. 304.0</td><td>SSC</td><td>intensity</td><td>NARROW</td><td>FULLDISK</td><td>-0.00098</td><td>EUVI ;  ; NORMAL ; 2048x2048</td></tr>\n",
       "<tr><td>2022-02-15 22:30:45.000</td><td>2022-02-15 22:30:49.000</td><td>STEREO_A</td><td>SECCHI</td><td>304.0 .. 304.0</td><td>SSC</td><td>intensity</td><td>NARROW</td><td>FULLDISK</td><td>-0.00098</td><td>EUVI ;  ; NORMAL ; 2048x2048</td></tr>\n",
       "<tr><td>2022-02-15 22:35:45.000</td><td>2022-02-15 22:35:49.000</td><td>STEREO_A</td><td>SECCHI</td><td>304.0 .. 304.0</td><td>SSC</td><td>intensity</td><td>NARROW</td><td>FULLDISK</td><td>-0.00098</td><td>EUVI ;  ; NORMAL ; 2048x2048</td></tr>\n",
       "<tr><td>2022-02-15 22:40:45.000</td><td>2022-02-15 22:40:49.000</td><td>STEREO_A</td><td>SECCHI</td><td>304.0 .. 304.0</td><td>SSC</td><td>intensity</td><td>NARROW</td><td>FULLDISK</td><td>-0.00098</td><td>EUVI ;  ; NORMAL ; 2048x2048</td></tr>\n",
       "<tr><td>2022-02-15 22:45:45.000</td><td>2022-02-15 22:45:49.000</td><td>STEREO_A</td><td>SECCHI</td><td>304.0 .. 304.0</td><td>SSC</td><td>intensity</td><td>NARROW</td><td>FULLDISK</td><td>-0.00098</td><td>EUVI ;  ; NORMAL ; 2048x2048</td></tr>\n",
       "<tr><td>2022-02-15 22:50:45.000</td><td>2022-02-15 22:50:49.000</td><td>STEREO_A</td><td>SECCHI</td><td>304.0 .. 304.0</td><td>SSC</td><td>intensity</td><td>NARROW</td><td>FULLDISK</td><td>-0.00098</td><td>EUVI ;  ; NORMAL ; 2048x2048</td></tr>\n",
       "<tr><td>2022-02-15 22:55:45.000</td><td>2022-02-15 22:55:49.000</td><td>STEREO_A</td><td>SECCHI</td><td>304.0 .. 304.0</td><td>SSC</td><td>intensity</td><td>NARROW</td><td>FULLDISK</td><td>-0.00098</td><td>EUVI ;  ; NORMAL ; 2048x2048</td></tr>\n",
       "<tr><td>2022-02-15 23:05:45.000</td><td>2022-02-15 23:05:49.000</td><td>STEREO_A</td><td>SECCHI</td><td>304.0 .. 304.0</td><td>SSC</td><td>intensity</td><td>NARROW</td><td>FULLDISK</td><td>-0.00098</td><td>EUVI ;  ; NORMAL ; 2048x2048</td></tr>\n",
       "<tr><td>2022-02-15 23:15:45.000</td><td>2022-02-15 23:15:49.000</td><td>STEREO_A</td><td>SECCHI</td><td>304.0 .. 304.0</td><td>SSC</td><td>intensity</td><td>NARROW</td><td>FULLDISK</td><td>-0.00098</td><td>EUVI ;  ; NORMAL ; 2048x2048</td></tr>\n",
       "<tr><td>2022-02-15 23:25:45.000</td><td>2022-02-15 23:25:49.000</td><td>STEREO_A</td><td>SECCHI</td><td>304.0 .. 304.0</td><td>SSC</td><td>intensity</td><td>NARROW</td><td>FULLDISK</td><td>-0.00098</td><td>EUVI ;  ; NORMAL ; 2048x2048</td></tr>\n",
       "<tr><td>2022-02-15 23:35:45.000</td><td>2022-02-15 23:35:49.000</td><td>STEREO_A</td><td>SECCHI</td><td>304.0 .. 304.0</td><td>SSC</td><td>intensity</td><td>NARROW</td><td>FULLDISK</td><td>-0.00098</td><td>EUVI ;  ; NORMAL ; 2048x2048</td></tr>\n",
       "<tr><td>2022-02-15 23:45:44.000</td><td>2022-02-15 23:45:48.000</td><td>STEREO_A</td><td>SECCHI</td><td>304.0 .. 304.0</td><td>SSC</td><td>intensity</td><td>NARROW</td><td>FULLDISK</td><td>-0.00098</td><td>EUVI ;  ; NORMAL ; 2048x2048</td></tr>\n",
       "<tr><td>2022-02-15 23:55:45.000</td><td>2022-02-15 23:55:49.000</td><td>STEREO_A</td><td>SECCHI</td><td>304.0 .. 304.0</td><td>SSC</td><td>intensity</td><td>NARROW</td><td>FULLDISK</td><td>-0.00098</td><td>EUVI ;  ; NORMAL ; 2048x2048</td></tr>\n",
       "<tr><td>2022-02-16 00:05:45.000</td><td>2022-02-16 00:05:49.000</td><td>STEREO_A</td><td>SECCHI</td><td>304.0 .. 304.0</td><td>SSC</td><td>intensity</td><td>NARROW</td><td>FULLDISK</td><td>-0.00098</td><td>EUVI ;  ; NORMAL ; 2048x2048</td></tr>\n",
       "<tr><td>2022-02-16 00:14:30.000</td><td>2022-02-16 00:14:34.000</td><td>STEREO_A</td><td>SECCHI</td><td>304.0 .. 304.0</td><td>SSC</td><td>intensity</td><td>NARROW</td><td>FULLDISK</td><td>-0.00098</td><td>EUVI ;  ; NORMAL ; 2048x2048</td></tr>\n",
       "<tr><td>2022-02-16 00:15:45.000</td><td>2022-02-16 00:15:49.000</td><td>STEREO_A</td><td>SECCHI</td><td>304.0 .. 304.0</td><td>SSC</td><td>intensity</td><td>NARROW</td><td>FULLDISK</td><td>-0.00098</td><td>EUVI ;  ; NORMAL ; 2048x2048</td></tr>\n",
       "<tr><td>2022-02-16 00:25:45.000</td><td>2022-02-16 00:25:49.000</td><td>STEREO_A</td><td>SECCHI</td><td>304.0 .. 304.0</td><td>SSC</td><td>intensity</td><td>NARROW</td><td>FULLDISK</td><td>-0.00098</td><td>EUVI ;  ; NORMAL ; 2048x2048</td></tr>\n",
       "</table></div></br>33 Results from the VSOClient:</br><div><i>VSOQueryResponseTable length=33</i>\n",
       "<table id=\"table140236946177664\" class=\"table-striped table-bordered table-condensed\">\n",
       "<thead><tr><th>Start Time</th><th>End Time</th><th>Source</th><th>Instrument</th><th>Wavelength [2]</th><th>Provider</th><th>Physobs</th><th>Wavetype</th><th>Extent Width</th><th>Extent Length</th><th>Extent Type</th><th>Size</th><th>Info</th></tr></thead>\n",
       "<thead><tr><th></th><th></th><th></th><th></th><th>Angstrom</th><th></th><th></th><th></th><th></th><th></th><th></th><th>Mibyte</th><th></th></tr></thead>\n",
       "<thead><tr><th>Time</th><th>Time</th><th>str3</th><th>str3</th><th>float64</th><th>str4</th><th>str9</th><th>str6</th><th>str4</th><th>str4</th><th>str8</th><th>float64</th><th>str57</th></tr></thead>\n",
       "<tr><td>2022-02-15 21:45:05.000</td><td>2022-02-15 21:45:06.000</td><td>SDO</td><td>AIA</td><td>304.0 .. 304.0</td><td>JSOC</td><td>intensity</td><td>NARROW</td><td>4096</td><td>4096</td><td>FULLDISK</td><td>64.64844</td><td>AIA level 1, 4096x4096 [2.901 exposure] [100.00 percentd]</td></tr>\n",
       "<tr><td>2022-02-15 21:50:05.000</td><td>2022-02-15 21:50:06.000</td><td>SDO</td><td>AIA</td><td>304.0 .. 304.0</td><td>JSOC</td><td>intensity</td><td>NARROW</td><td>4096</td><td>4096</td><td>FULLDISK</td><td>64.64844</td><td>AIA level 1, 4096x4096 [2.901 exposure] [100.00 percentd]</td></tr>\n",
       "<tr><td>2022-02-15 21:55:05.000</td><td>2022-02-15 21:55:06.000</td><td>SDO</td><td>AIA</td><td>304.0 .. 304.0</td><td>JSOC</td><td>intensity</td><td>NARROW</td><td>4096</td><td>4096</td><td>FULLDISK</td><td>64.64844</td><td>AIA level 1, 4096x4096 [2.901 exposure] [100.00 percentd]</td></tr>\n",
       "<tr><td>2022-02-15 22:00:05.000</td><td>2022-02-15 22:00:06.000</td><td>SDO</td><td>AIA</td><td>304.0 .. 304.0</td><td>JSOC</td><td>intensity</td><td>NARROW</td><td>4096</td><td>4096</td><td>FULLDISK</td><td>64.64844</td><td>AIA level 1, 4096x4096 [2.901 exposure] [100.00 percentd]</td></tr>\n",
       "<tr><td>2022-02-15 22:05:05.000</td><td>2022-02-15 22:05:06.000</td><td>SDO</td><td>AIA</td><td>304.0 .. 304.0</td><td>JSOC</td><td>intensity</td><td>NARROW</td><td>4096</td><td>4096</td><td>FULLDISK</td><td>64.64844</td><td>AIA level 1, 4096x4096 [2.901 exposure] [100.00 percentd]</td></tr>\n",
       "<tr><td>2022-02-15 22:10:05.000</td><td>2022-02-15 22:10:06.000</td><td>SDO</td><td>AIA</td><td>304.0 .. 304.0</td><td>JSOC</td><td>intensity</td><td>NARROW</td><td>4096</td><td>4096</td><td>FULLDISK</td><td>64.64844</td><td>AIA level 1, 4096x4096 [2.901 exposure] [100.00 percentd]</td></tr>\n",
       "<tr><td>2022-02-15 22:15:05.000</td><td>2022-02-15 22:15:06.000</td><td>SDO</td><td>AIA</td><td>304.0 .. 304.0</td><td>JSOC</td><td>intensity</td><td>NARROW</td><td>4096</td><td>4096</td><td>FULLDISK</td><td>64.64844</td><td>AIA level 1, 4096x4096 [2.901 exposure] [100.00 percentd]</td></tr>\n",
       "<tr><td>2022-02-15 22:20:05.000</td><td>2022-02-15 22:20:06.000</td><td>SDO</td><td>AIA</td><td>304.0 .. 304.0</td><td>JSOC</td><td>intensity</td><td>NARROW</td><td>4096</td><td>4096</td><td>FULLDISK</td><td>64.64844</td><td>AIA level 1, 4096x4096 [2.901 exposure] [100.00 percentd]</td></tr>\n",
       "<tr><td>2022-02-15 22:25:05.000</td><td>2022-02-15 22:25:06.000</td><td>SDO</td><td>AIA</td><td>304.0 .. 304.0</td><td>JSOC</td><td>intensity</td><td>NARROW</td><td>4096</td><td>4096</td><td>FULLDISK</td><td>64.64844</td><td>AIA level 1, 4096x4096 [2.901 exposure] [100.00 percentd]</td></tr>\n",
       "<tr><td>2022-02-15 22:30:05.000</td><td>2022-02-15 22:30:06.000</td><td>SDO</td><td>AIA</td><td>304.0 .. 304.0</td><td>JSOC</td><td>intensity</td><td>NARROW</td><td>4096</td><td>4096</td><td>FULLDISK</td><td>64.64844</td><td>AIA level 1, 4096x4096 [2.901 exposure] [100.00 percentd]</td></tr>\n",
       "<tr><td>2022-02-15 22:35:05.000</td><td>2022-02-15 22:35:06.000</td><td>SDO</td><td>AIA</td><td>304.0 .. 304.0</td><td>JSOC</td><td>intensity</td><td>NARROW</td><td>4096</td><td>4096</td><td>FULLDISK</td><td>64.64844</td><td>AIA level 1, 4096x4096 [2.901 exposure] [100.00 percentd]</td></tr>\n",
       "<tr><td>2022-02-15 22:40:05.000</td><td>2022-02-15 22:40:06.000</td><td>SDO</td><td>AIA</td><td>304.0 .. 304.0</td><td>JSOC</td><td>intensity</td><td>NARROW</td><td>4096</td><td>4096</td><td>FULLDISK</td><td>64.64844</td><td>AIA level 1, 4096x4096 [2.901 exposure] [100.00 percentd]</td></tr>\n",
       "<tr><td>...</td><td>...</td><td>...</td><td>...</td><td>...</td><td>...</td><td>...</td><td>...</td><td>...</td><td>...</td><td>...</td><td>...</td><td>...</td></tr>\n",
       "<tr><td>2022-02-15 23:25:05.000</td><td>2022-02-15 23:25:06.000</td><td>SDO</td><td>AIA</td><td>304.0 .. 304.0</td><td>JSOC</td><td>intensity</td><td>NARROW</td><td>4096</td><td>4096</td><td>FULLDISK</td><td>64.64844</td><td>AIA level 1, 4096x4096 [2.901 exposure] [100.00 percentd]</td></tr>\n",
       "<tr><td>2022-02-15 23:30:05.000</td><td>2022-02-15 23:30:06.000</td><td>SDO</td><td>AIA</td><td>304.0 .. 304.0</td><td>JSOC</td><td>intensity</td><td>NARROW</td><td>4096</td><td>4096</td><td>FULLDISK</td><td>64.64844</td><td>AIA level 1, 4096x4096 [2.901 exposure] [100.00 percentd]</td></tr>\n",
       "<tr><td>2022-02-15 23:35:05.000</td><td>2022-02-15 23:35:06.000</td><td>SDO</td><td>AIA</td><td>304.0 .. 304.0</td><td>JSOC</td><td>intensity</td><td>NARROW</td><td>4096</td><td>4096</td><td>FULLDISK</td><td>64.64844</td><td>AIA level 1, 4096x4096 [2.901 exposure] [100.00 percentd]</td></tr>\n",
       "<tr><td>2022-02-15 23:40:05.000</td><td>2022-02-15 23:40:06.000</td><td>SDO</td><td>AIA</td><td>304.0 .. 304.0</td><td>JSOC</td><td>intensity</td><td>NARROW</td><td>4096</td><td>4096</td><td>FULLDISK</td><td>64.64844</td><td>AIA level 1, 4096x4096 [2.901 exposure] [100.00 percentd]</td></tr>\n",
       "<tr><td>2022-02-15 23:45:05.000</td><td>2022-02-15 23:45:06.000</td><td>SDO</td><td>AIA</td><td>304.0 .. 304.0</td><td>JSOC</td><td>intensity</td><td>NARROW</td><td>4096</td><td>4096</td><td>FULLDISK</td><td>64.64844</td><td>AIA level 1, 4096x4096 [2.901 exposure] [100.00 percentd]</td></tr>\n",
       "<tr><td>2022-02-15 23:50:05.000</td><td>2022-02-15 23:50:06.000</td><td>SDO</td><td>AIA</td><td>304.0 .. 304.0</td><td>JSOC</td><td>intensity</td><td>NARROW</td><td>4096</td><td>4096</td><td>FULLDISK</td><td>64.64844</td><td>AIA level 1, 4096x4096 [2.901 exposure] [100.00 percentd]</td></tr>\n",
       "<tr><td>2022-02-15 23:55:05.000</td><td>2022-02-15 23:55:06.000</td><td>SDO</td><td>AIA</td><td>304.0 .. 304.0</td><td>JSOC</td><td>intensity</td><td>NARROW</td><td>4096</td><td>4096</td><td>FULLDISK</td><td>64.64844</td><td>AIA level 1, 4096x4096 [2.901 exposure] [100.00 percentd]</td></tr>\n",
       "<tr><td>2022-02-16 00:00:05.000</td><td>2022-02-16 00:00:06.000</td><td>SDO</td><td>AIA</td><td>304.0 .. 304.0</td><td>JSOC</td><td>intensity</td><td>NARROW</td><td>4096</td><td>4096</td><td>FULLDISK</td><td>64.64844</td><td>AIA level 1, 4096x4096 [2.901 exposure] [100.00 percentd]</td></tr>\n",
       "<tr><td>2022-02-16 00:05:05.000</td><td>2022-02-16 00:05:06.000</td><td>SDO</td><td>AIA</td><td>304.0 .. 304.0</td><td>JSOC</td><td>intensity</td><td>NARROW</td><td>4096</td><td>4096</td><td>FULLDISK</td><td>64.64844</td><td>AIA level 1, 4096x4096 [2.901 exposure] [100.00 percentd]</td></tr>\n",
       "<tr><td>2022-02-16 00:10:05.000</td><td>2022-02-16 00:10:06.000</td><td>SDO</td><td>AIA</td><td>304.0 .. 304.0</td><td>JSOC</td><td>intensity</td><td>NARROW</td><td>4096</td><td>4096</td><td>FULLDISK</td><td>64.64844</td><td>AIA level 1, 4096x4096 [2.901 exposure] [100.00 percentd]</td></tr>\n",
       "<tr><td>2022-02-16 00:15:05.000</td><td>2022-02-16 00:15:06.000</td><td>SDO</td><td>AIA</td><td>304.0 .. 304.0</td><td>JSOC</td><td>intensity</td><td>NARROW</td><td>4096</td><td>4096</td><td>FULLDISK</td><td>64.64844</td><td>AIA level 1, 4096x4096 [2.901 exposure] [100.00 percentd]</td></tr>\n",
       "<tr><td>2022-02-16 00:20:05.000</td><td>2022-02-16 00:20:06.000</td><td>SDO</td><td>AIA</td><td>304.0 .. 304.0</td><td>JSOC</td><td>intensity</td><td>NARROW</td><td>4096</td><td>4096</td><td>FULLDISK</td><td>64.64844</td><td>AIA level 1, 4096x4096 [2.901 exposure] [100.00 percentd]</td></tr>\n",
       "<tr><td>2022-02-16 00:25:05.000</td><td>2022-02-16 00:25:06.000</td><td>SDO</td><td>AIA</td><td>304.0 .. 304.0</td><td>JSOC</td><td>intensity</td><td>NARROW</td><td>4096</td><td>4096</td><td>FULLDISK</td><td>64.64844</td><td>AIA level 1, 4096x4096 [2.901 exposure] [100.00 percentd]</td></tr>\n",
       "</table></div></br>2 Results from the XRSClient:</br><div><i>QueryResponse length=2</i>\n",
       "<table id=\"table140236946174928\" class=\"table-striped table-bordered table-condensed\">\n",
       "<thead><tr><th>Start Time</th><th>End Time</th><th>Instrument</th><th>SatelliteNumber</th><th>Physobs</th><th>Source</th><th>Provider</th></tr></thead>\n",
       "<thead><tr><th>Time</th><th>Time</th><th>str3</th><th>int64</th><th>str10</th><th>str4</th><th>str4</th></tr></thead>\n",
       "<tr><td>2022-02-15 00:00:00.000</td><td>2022-02-15 23:59:59.999</td><td>XRS</td><td>17</td><td>irradiance</td><td>GOES</td><td>NOAA</td></tr>\n",
       "<tr><td>2022-02-16 00:00:00.000</td><td>2022-02-16 23:59:59.999</td><td>XRS</td><td>17</td><td>irradiance</td><td>GOES</td><td>NOAA</td></tr>\n",
       "</table></div></br>"
      ],
      "text/plain": [
       "<sunpy.net.fido_factory.UnifiedResponse object at 0x7f8b7d9cff70>\n",
       "Results from 3 Providers:\n",
       "\n",
       "25 Results from the VSOClient:\n",
       "Source: http://vso.stanford.edu/cgi-bin/search\n",
       "\n",
       "       Start Time               End Time         Source  Instrument ... Extent Type   Size               Info            \n",
       "                                                                    ...              Mibyte                              \n",
       "----------------------- ----------------------- -------- ---------- ... ----------- -------- ----------------------------\n",
       "2022-02-15 21:45:45.000 2022-02-15 21:45:49.000 STEREO_A     SECCHI ...    FULLDISK -0.00098 EUVI ;  ; NORMAL ; 2048x2048\n",
       "2022-02-15 21:50:45.000 2022-02-15 21:50:49.000 STEREO_A     SECCHI ...    FULLDISK -0.00098 EUVI ;  ; NORMAL ; 2048x2048\n",
       "2022-02-15 21:55:45.000 2022-02-15 21:55:49.000 STEREO_A     SECCHI ...    FULLDISK -0.00098 EUVI ;  ; NORMAL ; 2048x2048\n",
       "2022-02-15 22:00:45.000 2022-02-15 22:00:49.000 STEREO_A     SECCHI ...    FULLDISK -0.00098 EUVI ;  ; NORMAL ; 2048x2048\n",
       "2022-02-15 22:05:45.000 2022-02-15 22:05:49.000 STEREO_A     SECCHI ...    FULLDISK -0.00098 EUVI ;  ; NORMAL ; 2048x2048\n",
       "2022-02-15 22:10:45.000 2022-02-15 22:10:49.000 STEREO_A     SECCHI ...    FULLDISK -0.00098 EUVI ;  ; NORMAL ; 2048x2048\n",
       "2022-02-15 22:15:45.000 2022-02-15 22:15:49.000 STEREO_A     SECCHI ...    FULLDISK -0.00098 EUVI ;  ; NORMAL ; 2048x2048\n",
       "2022-02-15 22:20:45.000 2022-02-15 22:20:49.000 STEREO_A     SECCHI ...    FULLDISK -0.00098 EUVI ;  ; NORMAL ; 2048x2048\n",
       "2022-02-15 22:25:45.000 2022-02-15 22:25:49.000 STEREO_A     SECCHI ...    FULLDISK -0.00098 EUVI ;  ; NORMAL ; 2048x2048\n",
       "2022-02-15 22:30:45.000 2022-02-15 22:30:49.000 STEREO_A     SECCHI ...    FULLDISK -0.00098 EUVI ;  ; NORMAL ; 2048x2048\n",
       "2022-02-15 22:35:45.000 2022-02-15 22:35:49.000 STEREO_A     SECCHI ...    FULLDISK -0.00098 EUVI ;  ; NORMAL ; 2048x2048\n",
       "2022-02-15 22:40:45.000 2022-02-15 22:40:49.000 STEREO_A     SECCHI ...    FULLDISK -0.00098 EUVI ;  ; NORMAL ; 2048x2048\n",
       "2022-02-15 22:45:45.000 2022-02-15 22:45:49.000 STEREO_A     SECCHI ...    FULLDISK -0.00098 EUVI ;  ; NORMAL ; 2048x2048\n",
       "2022-02-15 22:50:45.000 2022-02-15 22:50:49.000 STEREO_A     SECCHI ...    FULLDISK -0.00098 EUVI ;  ; NORMAL ; 2048x2048\n",
       "2022-02-15 22:55:45.000 2022-02-15 22:55:49.000 STEREO_A     SECCHI ...    FULLDISK -0.00098 EUVI ;  ; NORMAL ; 2048x2048\n",
       "2022-02-15 23:05:45.000 2022-02-15 23:05:49.000 STEREO_A     SECCHI ...    FULLDISK -0.00098 EUVI ;  ; NORMAL ; 2048x2048\n",
       "2022-02-15 23:15:45.000 2022-02-15 23:15:49.000 STEREO_A     SECCHI ...    FULLDISK -0.00098 EUVI ;  ; NORMAL ; 2048x2048\n",
       "2022-02-15 23:25:45.000 2022-02-15 23:25:49.000 STEREO_A     SECCHI ...    FULLDISK -0.00098 EUVI ;  ; NORMAL ; 2048x2048\n",
       "2022-02-15 23:35:45.000 2022-02-15 23:35:49.000 STEREO_A     SECCHI ...    FULLDISK -0.00098 EUVI ;  ; NORMAL ; 2048x2048\n",
       "2022-02-15 23:45:44.000 2022-02-15 23:45:48.000 STEREO_A     SECCHI ...    FULLDISK -0.00098 EUVI ;  ; NORMAL ; 2048x2048\n",
       "2022-02-15 23:55:45.000 2022-02-15 23:55:49.000 STEREO_A     SECCHI ...    FULLDISK -0.00098 EUVI ;  ; NORMAL ; 2048x2048\n",
       "2022-02-16 00:05:45.000 2022-02-16 00:05:49.000 STEREO_A     SECCHI ...    FULLDISK -0.00098 EUVI ;  ; NORMAL ; 2048x2048\n",
       "2022-02-16 00:14:30.000 2022-02-16 00:14:34.000 STEREO_A     SECCHI ...    FULLDISK -0.00098 EUVI ;  ; NORMAL ; 2048x2048\n",
       "2022-02-16 00:15:45.000 2022-02-16 00:15:49.000 STEREO_A     SECCHI ...    FULLDISK -0.00098 EUVI ;  ; NORMAL ; 2048x2048\n",
       "2022-02-16 00:25:45.000 2022-02-16 00:25:49.000 STEREO_A     SECCHI ...    FULLDISK -0.00098 EUVI ;  ; NORMAL ; 2048x2048\n",
       "\n",
       "33 Results from the VSOClient:\n",
       "Source: http://vso.stanford.edu/cgi-bin/search\n",
       "Total estimated size: 2.237 Gbyte\n",
       "\n",
       "       Start Time               End Time        Source ...   Size                              Info                          \n",
       "                                                       ...  Mibyte                                                           \n",
       "----------------------- ----------------------- ------ ... -------- ---------------------------------------------------------\n",
       "2022-02-15 21:45:05.000 2022-02-15 21:45:06.000    SDO ... 64.64844 AIA level 1, 4096x4096 [2.901 exposure] [100.00 percentd]\n",
       "2022-02-15 21:50:05.000 2022-02-15 21:50:06.000    SDO ... 64.64844 AIA level 1, 4096x4096 [2.901 exposure] [100.00 percentd]\n",
       "2022-02-15 21:55:05.000 2022-02-15 21:55:06.000    SDO ... 64.64844 AIA level 1, 4096x4096 [2.901 exposure] [100.00 percentd]\n",
       "2022-02-15 22:00:05.000 2022-02-15 22:00:06.000    SDO ... 64.64844 AIA level 1, 4096x4096 [2.901 exposure] [100.00 percentd]\n",
       "2022-02-15 22:05:05.000 2022-02-15 22:05:06.000    SDO ... 64.64844 AIA level 1, 4096x4096 [2.901 exposure] [100.00 percentd]\n",
       "2022-02-15 22:10:05.000 2022-02-15 22:10:06.000    SDO ... 64.64844 AIA level 1, 4096x4096 [2.901 exposure] [100.00 percentd]\n",
       "2022-02-15 22:15:05.000 2022-02-15 22:15:06.000    SDO ... 64.64844 AIA level 1, 4096x4096 [2.901 exposure] [100.00 percentd]\n",
       "2022-02-15 22:20:05.000 2022-02-15 22:20:06.000    SDO ... 64.64844 AIA level 1, 4096x4096 [2.901 exposure] [100.00 percentd]\n",
       "2022-02-15 22:25:05.000 2022-02-15 22:25:06.000    SDO ... 64.64844 AIA level 1, 4096x4096 [2.901 exposure] [100.00 percentd]\n",
       "2022-02-15 22:30:05.000 2022-02-15 22:30:06.000    SDO ... 64.64844 AIA level 1, 4096x4096 [2.901 exposure] [100.00 percentd]\n",
       "2022-02-15 22:35:05.000 2022-02-15 22:35:06.000    SDO ... 64.64844 AIA level 1, 4096x4096 [2.901 exposure] [100.00 percentd]\n",
       "2022-02-15 22:40:05.000 2022-02-15 22:40:06.000    SDO ... 64.64844 AIA level 1, 4096x4096 [2.901 exposure] [100.00 percentd]\n",
       "2022-02-15 22:45:05.000 2022-02-15 22:45:06.000    SDO ... 64.64844 AIA level 1, 4096x4096 [2.901 exposure] [100.00 percentd]\n",
       "                    ...                     ...    ... ...      ...                                                       ...\n",
       "2022-02-15 23:25:05.000 2022-02-15 23:25:06.000    SDO ... 64.64844 AIA level 1, 4096x4096 [2.901 exposure] [100.00 percentd]\n",
       "2022-02-15 23:30:05.000 2022-02-15 23:30:06.000    SDO ... 64.64844 AIA level 1, 4096x4096 [2.901 exposure] [100.00 percentd]\n",
       "2022-02-15 23:35:05.000 2022-02-15 23:35:06.000    SDO ... 64.64844 AIA level 1, 4096x4096 [2.901 exposure] [100.00 percentd]\n",
       "2022-02-15 23:40:05.000 2022-02-15 23:40:06.000    SDO ... 64.64844 AIA level 1, 4096x4096 [2.901 exposure] [100.00 percentd]\n",
       "2022-02-15 23:45:05.000 2022-02-15 23:45:06.000    SDO ... 64.64844 AIA level 1, 4096x4096 [2.901 exposure] [100.00 percentd]\n",
       "2022-02-15 23:50:05.000 2022-02-15 23:50:06.000    SDO ... 64.64844 AIA level 1, 4096x4096 [2.901 exposure] [100.00 percentd]\n",
       "2022-02-15 23:55:05.000 2022-02-15 23:55:06.000    SDO ... 64.64844 AIA level 1, 4096x4096 [2.901 exposure] [100.00 percentd]\n",
       "2022-02-16 00:00:05.000 2022-02-16 00:00:06.000    SDO ... 64.64844 AIA level 1, 4096x4096 [2.901 exposure] [100.00 percentd]\n",
       "2022-02-16 00:05:05.000 2022-02-16 00:05:06.000    SDO ... 64.64844 AIA level 1, 4096x4096 [2.901 exposure] [100.00 percentd]\n",
       "2022-02-16 00:10:05.000 2022-02-16 00:10:06.000    SDO ... 64.64844 AIA level 1, 4096x4096 [2.901 exposure] [100.00 percentd]\n",
       "2022-02-16 00:15:05.000 2022-02-16 00:15:06.000    SDO ... 64.64844 AIA level 1, 4096x4096 [2.901 exposure] [100.00 percentd]\n",
       "2022-02-16 00:20:05.000 2022-02-16 00:20:06.000    SDO ... 64.64844 AIA level 1, 4096x4096 [2.901 exposure] [100.00 percentd]\n",
       "2022-02-16 00:25:05.000 2022-02-16 00:25:06.000    SDO ... 64.64844 AIA level 1, 4096x4096 [2.901 exposure] [100.00 percentd]\n",
       "Length = 33 rows\n",
       "\n",
       "2 Results from the XRSClient:\n",
       "Source: https://umbra.nascom.nasa.gov/goes/fits\n",
       "\n",
       "       Start Time               End Time        Instrument SatelliteNumber  Physobs   Source Provider\n",
       "----------------------- ----------------------- ---------- --------------- ---------- ------ --------\n",
       "2022-02-15 00:00:00.000 2022-02-15 23:59:59.999        XRS              17 irradiance   GOES     NOAA\n",
       "2022-02-16 00:00:00.000 2022-02-16 23:59:59.999        XRS              17 irradiance   GOES     NOAA\n"
      ]
     },
     "execution_count": 14,
     "metadata": {},
     "output_type": "execute_result"
    }
   ],
   "source": [
    "combined_query"
   ]
  },
  {
   "cell_type": "markdown",
   "id": "d8297e2e-acaf-4f62-8528-c4defa82fb5a",
   "metadata": {},
   "source": [
    "### Using External `Fido` Clients and Post-search filtering"
   ]
  },
  {
   "cell_type": "code",
   "execution_count": 15,
   "id": "6b29656f-6663-41e2-895a-710ca3f9d2d6",
   "metadata": {},
   "outputs": [],
   "source": [
    "import sunpy_soar\n",
    "from sunpy_soar.attrs import Product"
   ]
  },
  {
   "cell_type": "markdown",
   "id": "37db8b93-7f5f-485f-be66-fc0a7326acdf",
   "metadata": {},
   "source": [
    "*Some comments about external Fido clients*\n",
    "\n",
    "We'll grab the level 2 EUI data "
   ]
  },
  {
   "cell_type": "code",
   "execution_count": 16,
   "id": "53960126-cdf3-41af-8d46-9d518246d816",
   "metadata": {},
   "outputs": [],
   "source": [
    "result = Fido.search(\n",
    "    a.Time(cme_start, cme_end) & a.Instrument.eui & a.Level(2) & a.soar.Product('EUI-FSI304-IMAGE')\n",
    ")"
   ]
  },
  {
   "cell_type": "code",
   "execution_count": 17,
   "id": "ac568b82-caa3-4515-adb4-24f25e1df651",
   "metadata": {},
   "outputs": [
    {
     "data": {
      "text/html": [
       "Results from 1 Provider:</br></br>65 Results from the SOARClient:</br><div><i>QueryResponseTable length=65</i>\n",
       "<table id=\"table140237084183760\" class=\"table-striped table-bordered table-condensed\">\n",
       "<thead><tr><th>Instrument</th><th>Data product</th><th>Level</th><th>Start time</th><th>End time</th><th>Data item ID</th><th>Filename</th><th>Filesize</th></tr></thead>\n",
       "<thead><tr><th></th><th></th><th></th><th></th><th></th><th></th><th></th><th>Mbyte</th></tr></thead>\n",
       "<thead><tr><th>str3</th><th>str16</th><th>str2</th><th>str23</th><th>str23</th><th>str43</th><th>str52</th><th>float64</th></tr></thead>\n",
       "<tr><td>EUI</td><td>EUI-FSI304-IMAGE</td><td>L2</td><td>2022-02-16 00:26:15.234</td><td>2022-02-16 00:26:25.234</td><td>solo_L2_eui-fsi304-image_20220216T002615234</td><td>solo_L2_eui-fsi304-image_20220216T002615234_V01.fits</td><td>2.529</td></tr>\n",
       "<tr><td>EUI</td><td>EUI-FSI304-IMAGE</td><td>L2</td><td>2022-02-16 00:24:15.233</td><td>2022-02-16 00:24:25.233</td><td>solo_L2_eui-fsi304-image_20220216T002415233</td><td>solo_L2_eui-fsi304-image_20220216T002415233_V01.fits</td><td>2.526</td></tr>\n",
       "<tr><td>EUI</td><td>EUI-FSI304-IMAGE</td><td>L2</td><td>2022-02-16 00:22:15.233</td><td>2022-02-16 00:22:25.233</td><td>solo_L2_eui-fsi304-image_20220216T002215233</td><td>solo_L2_eui-fsi304-image_20220216T002215233_V01.fits</td><td>2.673</td></tr>\n",
       "<tr><td>EUI</td><td>EUI-FSI304-IMAGE</td><td>L2</td><td>2022-02-16 00:20:15.233</td><td>2022-02-16 00:20:25.233</td><td>solo_L2_eui-fsi304-image_20220216T002015233</td><td>solo_L2_eui-fsi304-image_20220216T002015233_V01.fits</td><td>2.575</td></tr>\n",
       "<tr><td>EUI</td><td>EUI-FSI304-IMAGE</td><td>L2</td><td>2022-02-16 00:16:15.232</td><td>2022-02-16 00:16:25.232</td><td>solo_L2_eui-fsi304-image_20220216T001615232</td><td>solo_L2_eui-fsi304-image_20220216T001615232_V01.fits</td><td>2.817</td></tr>\n",
       "<tr><td>EUI</td><td>EUI-FSI304-IMAGE</td><td>L2</td><td>2022-02-16 00:14:15.232</td><td>2022-02-16 00:14:25.232</td><td>solo_L2_eui-fsi304-image_20220216T001415232</td><td>solo_L2_eui-fsi304-image_20220216T001415232_V01.fits</td><td>2.629</td></tr>\n",
       "<tr><td>EUI</td><td>EUI-FSI304-IMAGE</td><td>L2</td><td>2022-02-16 00:12:15.232</td><td>2022-02-16 00:12:25.232</td><td>solo_L2_eui-fsi304-image_20220216T001215232</td><td>solo_L2_eui-fsi304-image_20220216T001215232_V01.fits</td><td>2.488</td></tr>\n",
       "<tr><td>EUI</td><td>EUI-FSI304-IMAGE</td><td>L2</td><td>2022-02-16 00:10:15.232</td><td>2022-02-16 00:10:25.232</td><td>solo_L2_eui-fsi304-image_20220216T001015232</td><td>solo_L2_eui-fsi304-image_20220216T001015232_V01.fits</td><td>2.583</td></tr>\n",
       "<tr><td>EUI</td><td>EUI-FSI304-IMAGE</td><td>L2</td><td>2022-02-16 00:06:15.231</td><td>2022-02-16 00:06:25.231</td><td>solo_L2_eui-fsi304-image_20220216T000615231</td><td>solo_L2_eui-fsi304-image_20220216T000615231_V01.fits</td><td>2.606</td></tr>\n",
       "<tr><td>EUI</td><td>EUI-FSI304-IMAGE</td><td>L2</td><td>2022-02-16 00:04:15.231</td><td>2022-02-16 00:04:25.231</td><td>solo_L2_eui-fsi304-image_20220216T000415231</td><td>solo_L2_eui-fsi304-image_20220216T000415231_V01.fits</td><td>2.629</td></tr>\n",
       "<tr><td>EUI</td><td>EUI-FSI304-IMAGE</td><td>L2</td><td>2022-02-16 00:02:15.231</td><td>2022-02-16 00:02:25.231</td><td>solo_L2_eui-fsi304-image_20220216T000215231</td><td>solo_L2_eui-fsi304-image_20220216T000215231_V01.fits</td><td>2.652</td></tr>\n",
       "<tr><td>EUI</td><td>EUI-FSI304-IMAGE</td><td>L2</td><td>2022-02-16 00:00:15.231</td><td>2022-02-16 00:00:25.231</td><td>solo_L2_eui-fsi304-image_20220216T000015231</td><td>solo_L2_eui-fsi304-image_20220216T000015231_V01.fits</td><td>2.411</td></tr>\n",
       "<tr><td>...</td><td>...</td><td>...</td><td>...</td><td>...</td><td>...</td><td>...</td><td>...</td></tr>\n",
       "<tr><td>EUI</td><td>EUI-FSI304-IMAGE</td><td>L2</td><td>2022-02-15 22:16:15.220</td><td>2022-02-15 22:16:25.220</td><td>solo_L2_eui-fsi304-image_20220215T221615220</td><td>solo_L2_eui-fsi304-image_20220215T221615220_V01.fits</td><td>3.139</td></tr>\n",
       "<tr><td>EUI</td><td>EUI-FSI304-IMAGE</td><td>L2</td><td>2022-02-15 22:14:15.220</td><td>2022-02-15 22:14:25.220</td><td>solo_L2_eui-fsi304-image_20220215T221415220</td><td>solo_L2_eui-fsi304-image_20220215T221415220_V01.fits</td><td>3.139</td></tr>\n",
       "<tr><td>EUI</td><td>EUI-FSI304-IMAGE</td><td>L2</td><td>2022-02-15 22:12:15.219</td><td>2022-02-15 22:12:25.219</td><td>solo_L2_eui-fsi304-image_20220215T221215219</td><td>solo_L2_eui-fsi304-image_20220215T221215219_V01.fits</td><td>3.021</td></tr>\n",
       "<tr><td>EUI</td><td>EUI-FSI304-IMAGE</td><td>L2</td><td>2022-02-15 22:10:15.220</td><td>2022-02-15 22:10:25.220</td><td>solo_L2_eui-fsi304-image_20220215T221015220</td><td>solo_L2_eui-fsi304-image_20220215T221015220_V01.fits</td><td>2.892</td></tr>\n",
       "<tr><td>EUI</td><td>EUI-FSI304-IMAGE</td><td>L2</td><td>2022-02-15 22:06:15.219</td><td>2022-02-15 22:06:25.219</td><td>solo_L2_eui-fsi304-image_20220215T220615219</td><td>solo_L2_eui-fsi304-image_20220215T220615219_V01.fits</td><td>2.917</td></tr>\n",
       "<tr><td>EUI</td><td>EUI-FSI304-IMAGE</td><td>L2</td><td>2022-02-15 22:04:15.219</td><td>2022-02-15 22:04:25.219</td><td>solo_L2_eui-fsi304-image_20220215T220415219</td><td>solo_L2_eui-fsi304-image_20220215T220415219_V01.fits</td><td>2.794</td></tr>\n",
       "<tr><td>EUI</td><td>EUI-FSI304-IMAGE</td><td>L2</td><td>2022-02-15 22:02:15.219</td><td>2022-02-15 22:02:25.219</td><td>solo_L2_eui-fsi304-image_20220215T220215219</td><td>solo_L2_eui-fsi304-image_20220215T220215219_V01.fits</td><td>2.739</td></tr>\n",
       "<tr><td>EUI</td><td>EUI-FSI304-IMAGE</td><td>L2</td><td>2022-02-15 22:00:15.218</td><td>2022-02-15 22:00:25.218</td><td>solo_L2_eui-fsi304-image_20220215T220015218</td><td>solo_L2_eui-fsi304-image_20220215T220015218_V01.fits</td><td>2.972</td></tr>\n",
       "<tr><td>EUI</td><td>EUI-FSI304-IMAGE</td><td>L2</td><td>2022-02-15 21:56:15.218</td><td>2022-02-15 21:56:25.218</td><td>solo_L2_eui-fsi304-image_20220215T215615218</td><td>solo_L2_eui-fsi304-image_20220215T215615218_V01.fits</td><td>2.782</td></tr>\n",
       "<tr><td>EUI</td><td>EUI-FSI304-IMAGE</td><td>L2</td><td>2022-02-15 21:54:15.217</td><td>2022-02-15 21:54:25.217</td><td>solo_L2_eui-fsi304-image_20220215T215415217</td><td>solo_L2_eui-fsi304-image_20220215T215415217_V01.fits</td><td>2.647</td></tr>\n",
       "<tr><td>EUI</td><td>EUI-FSI304-IMAGE</td><td>L2</td><td>2022-02-15 21:52:15.218</td><td>2022-02-15 21:52:25.218</td><td>solo_L2_eui-fsi304-image_20220215T215215218</td><td>solo_L2_eui-fsi304-image_20220215T215215218_V01.fits</td><td>2.871</td></tr>\n",
       "<tr><td>EUI</td><td>EUI-FSI304-IMAGE</td><td>L2</td><td>2022-02-15 21:50:15.217</td><td>2022-02-15 21:50:25.217</td><td>solo_L2_eui-fsi304-image_20220215T215015217</td><td>solo_L2_eui-fsi304-image_20220215T215015217_V01.fits</td><td>2.701</td></tr>\n",
       "<tr><td>EUI</td><td>EUI-FSI304-IMAGE</td><td>L2</td><td>2022-02-15 21:46:15.217</td><td>2022-02-15 21:46:25.217</td><td>solo_L2_eui-fsi304-image_20220215T214615217</td><td>solo_L2_eui-fsi304-image_20220215T214615217_V01.fits</td><td>2.641</td></tr>\n",
       "</table></div></br>"
      ],
      "text/plain": [
       "<sunpy.net.fido_factory.UnifiedResponse object at 0x7f8b7ca63910>\n",
       "Results from 1 Provider:\n",
       "\n",
       "65 Results from the SOARClient:\n",
       "\n",
       "Instrument   Data product   Level        Start time               End time        Filesize\n",
       "                                                                                   Mbyte  \n",
       "---------- ---------------- ----- ----------------------- ----------------------- --------\n",
       "       EUI EUI-FSI304-IMAGE    L2 2022-02-16 00:26:15.234 2022-02-16 00:26:25.234    2.529\n",
       "       EUI EUI-FSI304-IMAGE    L2 2022-02-16 00:24:15.233 2022-02-16 00:24:25.233    2.526\n",
       "       EUI EUI-FSI304-IMAGE    L2 2022-02-16 00:22:15.233 2022-02-16 00:22:25.233    2.673\n",
       "       EUI EUI-FSI304-IMAGE    L2 2022-02-16 00:20:15.233 2022-02-16 00:20:25.233    2.575\n",
       "       EUI EUI-FSI304-IMAGE    L2 2022-02-16 00:16:15.232 2022-02-16 00:16:25.232    2.817\n",
       "       EUI EUI-FSI304-IMAGE    L2 2022-02-16 00:14:15.232 2022-02-16 00:14:25.232    2.629\n",
       "       EUI EUI-FSI304-IMAGE    L2 2022-02-16 00:12:15.232 2022-02-16 00:12:25.232    2.488\n",
       "       EUI EUI-FSI304-IMAGE    L2 2022-02-16 00:10:15.232 2022-02-16 00:10:25.232    2.583\n",
       "       EUI EUI-FSI304-IMAGE    L2 2022-02-16 00:06:15.231 2022-02-16 00:06:25.231    2.606\n",
       "       EUI EUI-FSI304-IMAGE    L2 2022-02-16 00:04:15.231 2022-02-16 00:04:25.231    2.629\n",
       "       EUI EUI-FSI304-IMAGE    L2 2022-02-16 00:02:15.231 2022-02-16 00:02:25.231    2.652\n",
       "       EUI EUI-FSI304-IMAGE    L2 2022-02-16 00:00:15.231 2022-02-16 00:00:25.231    2.411\n",
       "       EUI EUI-FSI304-IMAGE    L2 2022-02-15 23:56:15.230 2022-02-15 23:56:25.230    2.575\n",
       "       ...              ...   ...                     ...                     ...      ...\n",
       "       EUI EUI-FSI304-IMAGE    L2 2022-02-15 22:16:15.220 2022-02-15 22:16:25.220    3.139\n",
       "       EUI EUI-FSI304-IMAGE    L2 2022-02-15 22:14:15.220 2022-02-15 22:14:25.220    3.139\n",
       "       EUI EUI-FSI304-IMAGE    L2 2022-02-15 22:12:15.219 2022-02-15 22:12:25.219    3.021\n",
       "       EUI EUI-FSI304-IMAGE    L2 2022-02-15 22:10:15.220 2022-02-15 22:10:25.220    2.892\n",
       "       EUI EUI-FSI304-IMAGE    L2 2022-02-15 22:06:15.219 2022-02-15 22:06:25.219    2.917\n",
       "       EUI EUI-FSI304-IMAGE    L2 2022-02-15 22:04:15.219 2022-02-15 22:04:25.219    2.794\n",
       "       EUI EUI-FSI304-IMAGE    L2 2022-02-15 22:02:15.219 2022-02-15 22:02:25.219    2.739\n",
       "       EUI EUI-FSI304-IMAGE    L2 2022-02-15 22:00:15.218 2022-02-15 22:00:25.218    2.972\n",
       "       EUI EUI-FSI304-IMAGE    L2 2022-02-15 21:56:15.218 2022-02-15 21:56:25.218    2.782\n",
       "       EUI EUI-FSI304-IMAGE    L2 2022-02-15 21:54:15.217 2022-02-15 21:54:25.217    2.647\n",
       "       EUI EUI-FSI304-IMAGE    L2 2022-02-15 21:52:15.218 2022-02-15 21:52:25.218    2.871\n",
       "       EUI EUI-FSI304-IMAGE    L2 2022-02-15 21:50:15.217 2022-02-15 21:50:25.217    2.701\n",
       "       EUI EUI-FSI304-IMAGE    L2 2022-02-15 21:46:15.217 2022-02-15 21:46:25.217    2.641\n",
       "Length = 65 rows\n"
      ]
     },
     "execution_count": 17,
     "metadata": {},
     "output_type": "execute_result"
    }
   ],
   "source": [
    "result"
   ]
  },
  {
   "cell_type": "markdown",
   "id": "c5bbedec-dddd-4b50-8daf-37670dc838e1",
   "metadata": {},
   "source": [
    "Unlike the VSO, our SOAR search does not support the `Sample` attribute for adjusting the cadence of our search.\n",
    "Thus, this query returns the data at the full cadence (~2-4 minutes).\n",
    "For the phenomenon we're interested in looking at, a ~10-15 minute cadence is sufficient so we'll select every 5th file.\n",
    "This also means we'll have fewer files to deal with.\n",
    "We can accomplish by performing a post-search filter on our search result."
   ]
  },
  {
   "cell_type": "code",
   "execution_count": 19,
   "id": "26778ac6-9a06-4bd1-a151-85057509cfbd",
   "metadata": {},
   "outputs": [],
   "source": [
    "fsi_304_low_cadence = result['soar'][np.argsort(result['soar']['Start time'])][::5]"
   ]
  },
  {
   "cell_type": "code",
   "execution_count": 20,
   "id": "19ba9499-7699-47ff-adee-07dc7dd04601",
   "metadata": {},
   "outputs": [
    {
     "data": {
      "text/html": [
       "<div><i>QueryResponseTable length=13</i>\n",
       "<table id=\"table140237084249728\" class=\"table-striped table-bordered table-condensed\">\n",
       "<thead><tr><th>Instrument</th><th>Data product</th><th>Level</th><th>Start time</th><th>End time</th><th>Data item ID</th><th>Filename</th><th>Filesize</th></tr></thead>\n",
       "<thead><tr><th></th><th></th><th></th><th></th><th></th><th></th><th></th><th>Mbyte</th></tr></thead>\n",
       "<thead><tr><th>str3</th><th>str16</th><th>str2</th><th>str23</th><th>str23</th><th>str43</th><th>str52</th><th>float64</th></tr></thead>\n",
       "<tr><td>EUI</td><td>EUI-FSI304-IMAGE</td><td>L2</td><td>2022-02-15 21:46:15.217</td><td>2022-02-15 21:46:25.217</td><td>solo_L2_eui-fsi304-image_20220215T214615217</td><td>solo_L2_eui-fsi304-image_20220215T214615217_V01.fits</td><td>2.641</td></tr>\n",
       "<tr><td>EUI</td><td>EUI-FSI304-IMAGE</td><td>L2</td><td>2022-02-15 22:00:15.218</td><td>2022-02-15 22:00:25.218</td><td>solo_L2_eui-fsi304-image_20220215T220015218</td><td>solo_L2_eui-fsi304-image_20220215T220015218_V01.fits</td><td>2.972</td></tr>\n",
       "<tr><td>EUI</td><td>EUI-FSI304-IMAGE</td><td>L2</td><td>2022-02-15 22:12:15.219</td><td>2022-02-15 22:12:25.219</td><td>solo_L2_eui-fsi304-image_20220215T221215219</td><td>solo_L2_eui-fsi304-image_20220215T221215219_V01.fits</td><td>3.021</td></tr>\n",
       "<tr><td>EUI</td><td>EUI-FSI304-IMAGE</td><td>L2</td><td>2022-02-15 22:24:15.221</td><td>2022-02-15 22:24:25.221</td><td>solo_L2_eui-fsi304-image_20220215T222415221</td><td>solo_L2_eui-fsi304-image_20220215T222415221_V01.fits</td><td>3.07</td></tr>\n",
       "<tr><td>EUI</td><td>EUI-FSI304-IMAGE</td><td>L2</td><td>2022-02-15 22:36:15.222</td><td>2022-02-15 22:36:25.222</td><td>solo_L2_eui-fsi304-image_20220215T223615222</td><td>solo_L2_eui-fsi304-image_20220215T223615222_V01.fits</td><td>2.629</td></tr>\n",
       "<tr><td>EUI</td><td>EUI-FSI304-IMAGE</td><td>L2</td><td>2022-02-15 22:50:15.224</td><td>2022-02-15 22:50:25.224</td><td>solo_L2_eui-fsi304-image_20220215T225015224</td><td>solo_L2_eui-fsi304-image_20220215T225015224_V01.fits</td><td>2.779</td></tr>\n",
       "<tr><td>EUI</td><td>EUI-FSI304-IMAGE</td><td>L2</td><td>2022-02-15 23:02:15.225</td><td>2022-02-15 23:02:25.225</td><td>solo_L2_eui-fsi304-image_20220215T230215225</td><td>solo_L2_eui-fsi304-image_20220215T230215225_V01.fits</td><td>2.863</td></tr>\n",
       "<tr><td>EUI</td><td>EUI-FSI304-IMAGE</td><td>L2</td><td>2022-02-15 23:14:15.226</td><td>2022-02-15 23:14:25.226</td><td>solo_L2_eui-fsi304-image_20220215T231415226</td><td>solo_L2_eui-fsi304-image_20220215T231415226_V01.fits</td><td>2.618</td></tr>\n",
       "<tr><td>EUI</td><td>EUI-FSI304-IMAGE</td><td>L2</td><td>2022-02-15 23:26:15.227</td><td>2022-02-15 23:26:25.227</td><td>solo_L2_eui-fsi304-image_20220215T232615227</td><td>solo_L2_eui-fsi304-image_20220215T232615227_V01.fits</td><td>2.722</td></tr>\n",
       "<tr><td>EUI</td><td>EUI-FSI304-IMAGE</td><td>L2</td><td>2022-02-15 23:40:15.229</td><td>2022-02-15 23:40:25.229</td><td>solo_L2_eui-fsi304-image_20220215T234015229</td><td>solo_L2_eui-fsi304-image_20220215T234015229_V01.fits</td><td>2.802</td></tr>\n",
       "<tr><td>EUI</td><td>EUI-FSI304-IMAGE</td><td>L2</td><td>2022-02-15 23:52:15.230</td><td>2022-02-15 23:52:25.230</td><td>solo_L2_eui-fsi304-image_20220215T235215230</td><td>solo_L2_eui-fsi304-image_20220215T235215230_V01.fits</td><td>2.938</td></tr>\n",
       "<tr><td>EUI</td><td>EUI-FSI304-IMAGE</td><td>L2</td><td>2022-02-16 00:04:15.231</td><td>2022-02-16 00:04:25.231</td><td>solo_L2_eui-fsi304-image_20220216T000415231</td><td>solo_L2_eui-fsi304-image_20220216T000415231_V01.fits</td><td>2.629</td></tr>\n",
       "<tr><td>EUI</td><td>EUI-FSI304-IMAGE</td><td>L2</td><td>2022-02-16 00:16:15.232</td><td>2022-02-16 00:16:25.232</td><td>solo_L2_eui-fsi304-image_20220216T001615232</td><td>solo_L2_eui-fsi304-image_20220216T001615232_V01.fits</td><td>2.817</td></tr>\n",
       "</table></div>"
      ],
      "text/plain": [
       "<sunpy.net.base_client.QueryResponseTable object at 0x7f8b7f545280>\n",
       "Instrument   Data product   Level ...                       Filename                       Filesize\n",
       "                                  ...                                                       Mbyte  \n",
       "---------- ---------------- ----- ... ---------------------------------------------------- --------\n",
       "       EUI EUI-FSI304-IMAGE    L2 ... solo_L2_eui-fsi304-image_20220215T214615217_V01.fits    2.641\n",
       "       EUI EUI-FSI304-IMAGE    L2 ... solo_L2_eui-fsi304-image_20220215T220015218_V01.fits    2.972\n",
       "       EUI EUI-FSI304-IMAGE    L2 ... solo_L2_eui-fsi304-image_20220215T221215219_V01.fits    3.021\n",
       "       EUI EUI-FSI304-IMAGE    L2 ... solo_L2_eui-fsi304-image_20220215T222415221_V01.fits     3.07\n",
       "       EUI EUI-FSI304-IMAGE    L2 ... solo_L2_eui-fsi304-image_20220215T223615222_V01.fits    2.629\n",
       "       EUI EUI-FSI304-IMAGE    L2 ... solo_L2_eui-fsi304-image_20220215T225015224_V01.fits    2.779\n",
       "       EUI EUI-FSI304-IMAGE    L2 ... solo_L2_eui-fsi304-image_20220215T230215225_V01.fits    2.863\n",
       "       EUI EUI-FSI304-IMAGE    L2 ... solo_L2_eui-fsi304-image_20220215T231415226_V01.fits    2.618\n",
       "       EUI EUI-FSI304-IMAGE    L2 ... solo_L2_eui-fsi304-image_20220215T232615227_V01.fits    2.722\n",
       "       EUI EUI-FSI304-IMAGE    L2 ... solo_L2_eui-fsi304-image_20220215T234015229_V01.fits    2.802\n",
       "       EUI EUI-FSI304-IMAGE    L2 ... solo_L2_eui-fsi304-image_20220215T235215230_V01.fits    2.938\n",
       "       EUI EUI-FSI304-IMAGE    L2 ... solo_L2_eui-fsi304-image_20220216T000415231_V01.fits    2.629\n",
       "       EUI EUI-FSI304-IMAGE    L2 ... solo_L2_eui-fsi304-image_20220216T001615232_V01.fits    2.817"
      ]
     },
     "execution_count": 20,
     "metadata": {},
     "output_type": "execute_result"
    }
   ],
   "source": [
    "fsi_304_low_cadence"
   ]
  },
  {
   "cell_type": "markdown",
   "id": "8d90a467-7b73-412e-bd18-9fe965b80274",
   "metadata": {},
   "source": [
    "### Metadata Queries\n",
    "\n",
    "In addition to providing an interface to search for data files that can be downloaded, Fido also allows you to query metadata.\n",
    "Currently Fido supports metadata searching from the HEK, HELIO and JSOC. \n",
    "\n",
    "Similar to what we have seen so far, the search results of these clients are a `UnifiedResponse` object which can then be indexed and the `QueryResponse` table accessed like an astropy table.\n",
    "Lets look at an example of how we can use Fido to query the HEK.\n",
    "\n",
    "Lets query the Heliophysics Event Knowledgebase (HEK) for flares that occurred around the time of our CME.\n",
    "This can be done by using the HEK client specific attributes `a.hek.attrs`."
   ]
  },
  {
   "cell_type": "code",
   "execution_count": 21,
   "id": "8c1c0d85-65f5-4bf1-9a84-8b84c9683197",
   "metadata": {},
   "outputs": [],
   "source": [
    "hek_query = a.Time(cme_start-6*u.h, cme_end) & a.hek.EventType('FL')"
   ]
  },
  {
   "cell_type": "code",
   "execution_count": 22,
   "id": "434d449c-c03c-4f50-8a78-c3f5495a1e83",
   "metadata": {},
   "outputs": [],
   "source": [
    "hek_result = Fido.search(hek_query)"
   ]
  },
  {
   "cell_type": "code",
   "execution_count": 23,
   "id": "cad0ffd9-eb04-496d-b79e-9c49bee0ae95",
   "metadata": {},
   "outputs": [
    {
     "data": {
      "text/plain": [
       "['gs_thumburl',\n",
       " 'comment_count',\n",
       " 'hpc_bbox',\n",
       " 'frm_humanflag',\n",
       " 'hgc_coord',\n",
       " 'event_coordsys',\n",
       " 'obs_levelnum',\n",
       " 'hpc_coord',\n",
       " 'event_npixels',\n",
       " 'gs_imageurl',\n",
       " 'ar_polarity',\n",
       " 'frm_paramset',\n",
       " 'hrc_coord',\n",
       " 'event_starttime',\n",
       " 'ar_mtwilsoncls',\n",
       " 'event_type',\n",
       " 'intensmin',\n",
       " 'fl_fluence',\n",
       " 'obs_meanwavel',\n",
       " 'frm_url',\n",
       " 'skel_chaincode',\n",
       " 'bound_chaincode',\n",
       " 'noposition',\n",
       " 'fl_fluenceunit',\n",
       " 'active',\n",
       " 'intensmax',\n",
       " 'frm_versionnumber',\n",
       " 'fl_peaktempunit',\n",
       " 'fl_halphaclass',\n",
       " 'area_uncert',\n",
       " 'obs_dataprepurl',\n",
       " 'hpc_geom',\n",
       " 'hgc_bbox',\n",
       " 'intensmedian',\n",
       " 'chaincodetype',\n",
       " 'obs_channelid',\n",
       " 'event_clippedspatial',\n",
       " 'ar_noaaclass',\n",
       " 'SOL_standard',\n",
       " 'event_avg_rating',\n",
       " 'eventtype',\n",
       " 'intensunit',\n",
       " 'hpc_boundcc',\n",
       " 'event_mapurl',\n",
       " 'frm_contact',\n",
       " 'ar_penumbracls',\n",
       " 'intensmean',\n",
       " 'bound_ccstartc1',\n",
       " 'frm_name',\n",
       " 'area_atdiskcenter',\n",
       " 'frm_identifier',\n",
       " 'obs_observatory',\n",
       " 'event_description',\n",
       " 'boundbox_c2ur',\n",
       " 'obs_firstprocessingdate',\n",
       " 'boundbox_c2ll',\n",
       " 'frm_institute',\n",
       " 'hrc_bbox',\n",
       " 'refs_orig',\n",
       " 'ar_mcintoshcls',\n",
       " 'event_maskurl',\n",
       " 'bound_ccstartc2',\n",
       " 'gs_movieurl',\n",
       " 'event_score',\n",
       " 'skel_startc2',\n",
       " 'skel_startc1',\n",
       " 'fl_efoldtime',\n",
       " 'event_expires',\n",
       " 'fl_efoldtimeunit',\n",
       " 'hrc_boundcc',\n",
       " 'event_probability',\n",
       " 'intensvar',\n",
       " 'frm_daterun',\n",
       " 'event_coordunit',\n",
       " 'hpc_y',\n",
       " 'hpc_x',\n",
       " 'search_instrument',\n",
       " 'ar_numspots',\n",
       " 'kb_archivdate',\n",
       " 'kb_archivist',\n",
       " 'intenstotal',\n",
       " 'sum_overlap_scores',\n",
       " 'hgs_boundcc',\n",
       " 'intensskew',\n",
       " 'obs_includesnrt',\n",
       " 'rasterscan',\n",
       " 'obs_wavelunit',\n",
       " 'kb_archivid',\n",
       " 'search_frm_name',\n",
       " 'boundbox_c1ur',\n",
       " 'ar_noaanum',\n",
       " 'area_atdiskcenteruncert',\n",
       " 'boundbox_c1ll',\n",
       " 'event_importance_num_ratings',\n",
       " 'ar_compactnesscls',\n",
       " 'skel_curvature',\n",
       " 'event_testflag',\n",
       " 'event_c2error',\n",
       " 'hrc_r',\n",
       " 'skel_nsteps',\n",
       " 'hgs_y',\n",
       " 'obs_title',\n",
       " 'fl_peakemunit',\n",
       " 'hgs_x',\n",
       " 'hcr_checked',\n",
       " 'frm_specificid',\n",
       " 'event_title',\n",
       " 'obs_instrument',\n",
       " 'event_c1error',\n",
       " 'revision',\n",
       " 'hpc_radius',\n",
       " 'event_endtime',\n",
       " 'event_importance',\n",
       " 'event_coord2',\n",
       " 'event_coord3',\n",
       " 'event_coord1',\n",
       " 'search_observatory',\n",
       " 'area_raw',\n",
       " 'concept',\n",
       " 'event_pixelunit',\n",
       " 'hgc_boundcc',\n",
       " 'fl_peakflux',\n",
       " 'hgc_x',\n",
       " 'hrc_a',\n",
       " 'event_peaktime',\n",
       " 'hgc_y',\n",
       " 'gs_galleryid',\n",
       " 'fl_goescls',\n",
       " 'hgs_coord',\n",
       " 'ar_zurichcls',\n",
       " 'bound_ccnsteps',\n",
       " 'intenskurt',\n",
       " 'event_clippedtemporal',\n",
       " 'fl_peakfluxunit',\n",
       " 'fl_peakem',\n",
       " 'rasterscantype',\n",
       " 'search_channelid',\n",
       " 'fl_peaktemp',\n",
       " 'hgs_bbox',\n",
       " 'area_unit',\n",
       " 'obs_lastprocessingdate',\n",
       " 'refs']"
      ]
     },
     "execution_count": 23,
     "metadata": {},
     "output_type": "execute_result"
    }
   ],
   "source": [
    "hek_result['hek'].colnames"
   ]
  },
  {
   "cell_type": "code",
   "execution_count": 38,
   "id": "f0544234-cc07-4e2d-a45a-426fa5ea8f81",
   "metadata": {},
   "outputs": [
    {
     "data": {
      "text/plain": [
       "<module 'sunpy.net.hek.attrs' from '/Users/willbarnes/anaconda/envs/pyhc-summer-school/lib/python3.9/site-packages/sunpy/net/hek/attrs.py'>"
      ]
     },
     "execution_count": 38,
     "metadata": {},
     "output_type": "execute_result"
    }
   ],
   "source": [
    "a.hek"
   ]
  },
  {
   "cell_type": "markdown",
   "id": "ad62bd81-580a-478d-8fdc-0ad63a0c36f6",
   "metadata": {},
   "source": [
    "The HEK keeps track of a lot of information for each event in the database.\n",
    "Let's filter this down to the start, end, and peak times of the flare, the GOES classification, and the coordinates of the flare on the disk."
   ]
  },
  {
   "cell_type": "code",
   "execution_count": 49,
   "id": "2abd7fb1-6735-4769-86ff-bc0620516249",
   "metadata": {},
   "outputs": [],
   "source": [
    "flare_table = hek_result['hek'][\n",
    "    'event_starttime',\n",
    "    'event_peaktime',\n",
    "    'event_endtime',\n",
    "    'fl_goescls',\n",
    "    'hpc_x',\n",
    "    'hpc_y',\n",
    "]"
   ]
  },
  {
   "cell_type": "code",
   "execution_count": 50,
   "id": "3d029895-8246-4f3e-bf84-6f27d7af3b0f",
   "metadata": {},
   "outputs": [
    {
     "data": {
      "text/html": [
       "<div><i>HEKTable length=10</i>\n",
       "<table id=\"table140237131409104\" class=\"table-striped table-bordered table-condensed\">\n",
       "<thead><tr><th>event_starttime</th><th>event_peaktime</th><th>event_endtime</th><th>fl_goescls</th><th>hpc_x</th><th>hpc_y</th></tr></thead>\n",
       "<thead><tr><th>Time</th><th>Time</th><th>Time</th><th>str4</th><th>float64</th><th>float64</th></tr></thead>\n",
       "<tr><td>2022-02-15 17:22:12.000</td><td>2022-02-15 18:32:24.000</td><td>2022-02-15 20:10:00.000</td><td></td><td>871.14954</td><td>478.49194</td></tr>\n",
       "<tr><td>2022-02-15 17:24:00.000</td><td>2022-02-15 17:39:00.000</td><td>2022-02-15 17:54:00.000</td><td>B9.5</td><td>877.7694</td><td>385.545282</td></tr>\n",
       "<tr><td>2022-02-15 17:54:00.000</td><td>2022-02-15 18:15:00.000</td><td>2022-02-15 18:31:00.000</td><td>M1.3</td><td>862.2147</td><td>439.024398</td></tr>\n",
       "<tr><td>2022-02-15 18:01:08.000</td><td>2022-02-15 18:16:56.000</td><td>2022-02-15 18:47:32.000</td><td></td><td>883.2</td><td>422.4</td></tr>\n",
       "<tr><td>2022-02-15 18:03:34.000</td><td>2022-02-15 18:04:34.000</td><td>2022-02-15 18:05:34.000</td><td></td><td>883.2</td><td>422.4</td></tr>\n",
       "<tr><td>2022-02-15 20:33:32.000</td><td>2022-02-15 20:34:56.000</td><td>2022-02-15 20:39:44.000</td><td></td><td>883.2</td><td>422.4</td></tr>\n",
       "<tr><td>2022-02-15 23:05:00.000</td><td>2022-02-15 23:13:00.000</td><td>2022-02-15 23:20:00.000</td><td>B7.1</td><td>864.18786</td><td>427.647576</td></tr>\n",
       "<tr><td>2022-02-15 23:20:00.000</td><td>2022-02-15 23:26:00.000</td><td>2022-02-15 23:30:00.000</td><td>B6.8</td><td>579.767628</td><td>-229.419378</td></tr>\n",
       "<tr><td>2022-02-15 23:41:00.000</td><td>2022-02-15 23:46:00.000</td><td>2022-02-15 23:52:00.000</td><td>B8.6</td><td>857.91882</td><td>431.300778</td></tr>\n",
       "<tr><td>2022-02-15 23:44:08.000</td><td>2022-02-15 23:46:32.000</td><td>2022-02-15 23:49:56.000</td><td></td><td>883.2</td><td>422.4</td></tr>\n",
       "</table></div>"
      ],
      "text/plain": [
       "<sunpy.net.hek.hek.HEKTable object at 0x7f8b806611c0>\n",
       "    event_starttime          event_peaktime          event_endtime      fl_goescls   hpc_x       hpc_y   \n",
       "----------------------- ----------------------- ----------------------- ---------- ---------- -----------\n",
       "2022-02-15 17:22:12.000 2022-02-15 18:32:24.000 2022-02-15 20:10:00.000             871.14954   478.49194\n",
       "2022-02-15 17:24:00.000 2022-02-15 17:39:00.000 2022-02-15 17:54:00.000       B9.5   877.7694  385.545282\n",
       "2022-02-15 17:54:00.000 2022-02-15 18:15:00.000 2022-02-15 18:31:00.000       M1.3   862.2147  439.024398\n",
       "2022-02-15 18:01:08.000 2022-02-15 18:16:56.000 2022-02-15 18:47:32.000                 883.2       422.4\n",
       "2022-02-15 18:03:34.000 2022-02-15 18:04:34.000 2022-02-15 18:05:34.000                 883.2       422.4\n",
       "2022-02-15 20:33:32.000 2022-02-15 20:34:56.000 2022-02-15 20:39:44.000                 883.2       422.4\n",
       "2022-02-15 23:05:00.000 2022-02-15 23:13:00.000 2022-02-15 23:20:00.000       B7.1  864.18786  427.647576\n",
       "2022-02-15 23:20:00.000 2022-02-15 23:26:00.000 2022-02-15 23:30:00.000       B6.8 579.767628 -229.419378\n",
       "2022-02-15 23:41:00.000 2022-02-15 23:46:00.000 2022-02-15 23:52:00.000       B8.6  857.91882  431.300778\n",
       "2022-02-15 23:44:08.000 2022-02-15 23:46:32.000 2022-02-15 23:49:56.000                 883.2       422.4"
      ]
     },
     "execution_count": 50,
     "metadata": {},
     "output_type": "execute_result"
    }
   ],
   "source": [
    "flare_table"
   ]
  },
  {
   "cell_type": "markdown",
   "id": "ad17962c-c2b4-4661-a3c4-37ad853f7e16",
   "metadata": {},
   "source": [
    "Let's save this in a CSV. We will come back to it in a later notebook."
   ]
  },
  {
   "cell_type": "code",
   "execution_count": 40,
   "id": "adb15297-09a1-452f-a12d-a9357397b2a8",
   "metadata": {},
   "outputs": [],
   "source": [
    "flare_table.write('data/flare-list.csv', format='csv', overwrite=True)"
   ]
  },
  {
   "cell_type": "markdown",
   "id": "cb00fd93-a90d-4aed-a162-1ab97a97b726",
   "metadata": {
    "tags": []
   },
   "source": [
    "## Downloading Data"
   ]
  },
  {
   "cell_type": "markdown",
   "id": "28c719b4-b6c2-417c-b4df-21faccd86f54",
   "metadata": {},
   "source": [
    "Recall that our combined query (what is returned by `Fido.search`) is a `UnifiedResponse` object, while each of our individual clients returns a `QueryResponseTable`.\n",
    "We can easily make a single download request from all of our different clients by combined our individual queries into a single `UnifiedResponse`."
   ]
  },
  {
   "cell_type": "code",
   "execution_count": 41,
   "id": "3557e836-b0a2-4a89-a8bf-3bf597a6eb04",
   "metadata": {},
   "outputs": [],
   "source": [
    "from sunpy.net.fido_factory import UnifiedResponse"
   ]
  },
  {
   "cell_type": "code",
   "execution_count": 42,
   "id": "31d85cd3-9caf-442b-ae8c-5c04d07d2224",
   "metadata": {},
   "outputs": [],
   "source": [
    "all_queries = UnifiedResponse(*combined_query, fsi_304_low_cadence)"
   ]
  },
  {
   "cell_type": "markdown",
   "id": "b38d948d-54dd-4ade-a05a-6c247a6e8bf8",
   "metadata": {},
   "source": [
    "Note that if we had not done any post search filtering on our EUI search result, we could have included this in `combined_query` passed that directly to `Fido.fetch`. "
   ]
  },
  {
   "cell_type": "code",
   "execution_count": 43,
   "id": "a3557d0e-2264-4232-88a5-79e12c900d1b",
   "metadata": {},
   "outputs": [
    {
     "data": {
      "text/html": [
       "Results from 4 Providers:</br></br>25 Results from the VSOClient:</br><div><i>VSOQueryResponseTable length=25</i>\n",
       "<table id=\"table140237130965584\" class=\"table-striped table-bordered table-condensed\">\n",
       "<thead><tr><th>Start Time</th><th>End Time</th><th>Source</th><th>Instrument</th><th>Wavelength [2]</th><th>Provider</th><th>Physobs</th><th>Wavetype</th><th>Extent Type</th><th>Size</th><th>Info</th></tr></thead>\n",
       "<thead><tr><th></th><th></th><th></th><th></th><th>Angstrom</th><th></th><th></th><th></th><th></th><th>Mibyte</th><th></th></tr></thead>\n",
       "<thead><tr><th>Time</th><th>Time</th><th>str8</th><th>str6</th><th>float64</th><th>str3</th><th>str9</th><th>str6</th><th>str8</th><th>float64</th><th>str28</th></tr></thead>\n",
       "<tr><td>2022-02-15 21:45:45.000</td><td>2022-02-15 21:45:49.000</td><td>STEREO_A</td><td>SECCHI</td><td>304.0 .. 304.0</td><td>SSC</td><td>intensity</td><td>NARROW</td><td>FULLDISK</td><td>-0.00098</td><td>EUVI ;  ; NORMAL ; 2048x2048</td></tr>\n",
       "<tr><td>2022-02-15 21:50:45.000</td><td>2022-02-15 21:50:49.000</td><td>STEREO_A</td><td>SECCHI</td><td>304.0 .. 304.0</td><td>SSC</td><td>intensity</td><td>NARROW</td><td>FULLDISK</td><td>-0.00098</td><td>EUVI ;  ; NORMAL ; 2048x2048</td></tr>\n",
       "<tr><td>2022-02-15 21:55:45.000</td><td>2022-02-15 21:55:49.000</td><td>STEREO_A</td><td>SECCHI</td><td>304.0 .. 304.0</td><td>SSC</td><td>intensity</td><td>NARROW</td><td>FULLDISK</td><td>-0.00098</td><td>EUVI ;  ; NORMAL ; 2048x2048</td></tr>\n",
       "<tr><td>2022-02-15 22:00:45.000</td><td>2022-02-15 22:00:49.000</td><td>STEREO_A</td><td>SECCHI</td><td>304.0 .. 304.0</td><td>SSC</td><td>intensity</td><td>NARROW</td><td>FULLDISK</td><td>-0.00098</td><td>EUVI ;  ; NORMAL ; 2048x2048</td></tr>\n",
       "<tr><td>2022-02-15 22:05:45.000</td><td>2022-02-15 22:05:49.000</td><td>STEREO_A</td><td>SECCHI</td><td>304.0 .. 304.0</td><td>SSC</td><td>intensity</td><td>NARROW</td><td>FULLDISK</td><td>-0.00098</td><td>EUVI ;  ; NORMAL ; 2048x2048</td></tr>\n",
       "<tr><td>2022-02-15 22:10:45.000</td><td>2022-02-15 22:10:49.000</td><td>STEREO_A</td><td>SECCHI</td><td>304.0 .. 304.0</td><td>SSC</td><td>intensity</td><td>NARROW</td><td>FULLDISK</td><td>-0.00098</td><td>EUVI ;  ; NORMAL ; 2048x2048</td></tr>\n",
       "<tr><td>2022-02-15 22:15:45.000</td><td>2022-02-15 22:15:49.000</td><td>STEREO_A</td><td>SECCHI</td><td>304.0 .. 304.0</td><td>SSC</td><td>intensity</td><td>NARROW</td><td>FULLDISK</td><td>-0.00098</td><td>EUVI ;  ; NORMAL ; 2048x2048</td></tr>\n",
       "<tr><td>2022-02-15 22:20:45.000</td><td>2022-02-15 22:20:49.000</td><td>STEREO_A</td><td>SECCHI</td><td>304.0 .. 304.0</td><td>SSC</td><td>intensity</td><td>NARROW</td><td>FULLDISK</td><td>-0.00098</td><td>EUVI ;  ; NORMAL ; 2048x2048</td></tr>\n",
       "<tr><td>2022-02-15 22:25:45.000</td><td>2022-02-15 22:25:49.000</td><td>STEREO_A</td><td>SECCHI</td><td>304.0 .. 304.0</td><td>SSC</td><td>intensity</td><td>NARROW</td><td>FULLDISK</td><td>-0.00098</td><td>EUVI ;  ; NORMAL ; 2048x2048</td></tr>\n",
       "<tr><td>2022-02-15 22:30:45.000</td><td>2022-02-15 22:30:49.000</td><td>STEREO_A</td><td>SECCHI</td><td>304.0 .. 304.0</td><td>SSC</td><td>intensity</td><td>NARROW</td><td>FULLDISK</td><td>-0.00098</td><td>EUVI ;  ; NORMAL ; 2048x2048</td></tr>\n",
       "<tr><td>2022-02-15 22:35:45.000</td><td>2022-02-15 22:35:49.000</td><td>STEREO_A</td><td>SECCHI</td><td>304.0 .. 304.0</td><td>SSC</td><td>intensity</td><td>NARROW</td><td>FULLDISK</td><td>-0.00098</td><td>EUVI ;  ; NORMAL ; 2048x2048</td></tr>\n",
       "<tr><td>2022-02-15 22:40:45.000</td><td>2022-02-15 22:40:49.000</td><td>STEREO_A</td><td>SECCHI</td><td>304.0 .. 304.0</td><td>SSC</td><td>intensity</td><td>NARROW</td><td>FULLDISK</td><td>-0.00098</td><td>EUVI ;  ; NORMAL ; 2048x2048</td></tr>\n",
       "<tr><td>2022-02-15 22:45:45.000</td><td>2022-02-15 22:45:49.000</td><td>STEREO_A</td><td>SECCHI</td><td>304.0 .. 304.0</td><td>SSC</td><td>intensity</td><td>NARROW</td><td>FULLDISK</td><td>-0.00098</td><td>EUVI ;  ; NORMAL ; 2048x2048</td></tr>\n",
       "<tr><td>2022-02-15 22:50:45.000</td><td>2022-02-15 22:50:49.000</td><td>STEREO_A</td><td>SECCHI</td><td>304.0 .. 304.0</td><td>SSC</td><td>intensity</td><td>NARROW</td><td>FULLDISK</td><td>-0.00098</td><td>EUVI ;  ; NORMAL ; 2048x2048</td></tr>\n",
       "<tr><td>2022-02-15 22:55:45.000</td><td>2022-02-15 22:55:49.000</td><td>STEREO_A</td><td>SECCHI</td><td>304.0 .. 304.0</td><td>SSC</td><td>intensity</td><td>NARROW</td><td>FULLDISK</td><td>-0.00098</td><td>EUVI ;  ; NORMAL ; 2048x2048</td></tr>\n",
       "<tr><td>2022-02-15 23:05:45.000</td><td>2022-02-15 23:05:49.000</td><td>STEREO_A</td><td>SECCHI</td><td>304.0 .. 304.0</td><td>SSC</td><td>intensity</td><td>NARROW</td><td>FULLDISK</td><td>-0.00098</td><td>EUVI ;  ; NORMAL ; 2048x2048</td></tr>\n",
       "<tr><td>2022-02-15 23:15:45.000</td><td>2022-02-15 23:15:49.000</td><td>STEREO_A</td><td>SECCHI</td><td>304.0 .. 304.0</td><td>SSC</td><td>intensity</td><td>NARROW</td><td>FULLDISK</td><td>-0.00098</td><td>EUVI ;  ; NORMAL ; 2048x2048</td></tr>\n",
       "<tr><td>2022-02-15 23:25:45.000</td><td>2022-02-15 23:25:49.000</td><td>STEREO_A</td><td>SECCHI</td><td>304.0 .. 304.0</td><td>SSC</td><td>intensity</td><td>NARROW</td><td>FULLDISK</td><td>-0.00098</td><td>EUVI ;  ; NORMAL ; 2048x2048</td></tr>\n",
       "<tr><td>2022-02-15 23:35:45.000</td><td>2022-02-15 23:35:49.000</td><td>STEREO_A</td><td>SECCHI</td><td>304.0 .. 304.0</td><td>SSC</td><td>intensity</td><td>NARROW</td><td>FULLDISK</td><td>-0.00098</td><td>EUVI ;  ; NORMAL ; 2048x2048</td></tr>\n",
       "<tr><td>2022-02-15 23:45:44.000</td><td>2022-02-15 23:45:48.000</td><td>STEREO_A</td><td>SECCHI</td><td>304.0 .. 304.0</td><td>SSC</td><td>intensity</td><td>NARROW</td><td>FULLDISK</td><td>-0.00098</td><td>EUVI ;  ; NORMAL ; 2048x2048</td></tr>\n",
       "<tr><td>2022-02-15 23:55:45.000</td><td>2022-02-15 23:55:49.000</td><td>STEREO_A</td><td>SECCHI</td><td>304.0 .. 304.0</td><td>SSC</td><td>intensity</td><td>NARROW</td><td>FULLDISK</td><td>-0.00098</td><td>EUVI ;  ; NORMAL ; 2048x2048</td></tr>\n",
       "<tr><td>2022-02-16 00:05:45.000</td><td>2022-02-16 00:05:49.000</td><td>STEREO_A</td><td>SECCHI</td><td>304.0 .. 304.0</td><td>SSC</td><td>intensity</td><td>NARROW</td><td>FULLDISK</td><td>-0.00098</td><td>EUVI ;  ; NORMAL ; 2048x2048</td></tr>\n",
       "<tr><td>2022-02-16 00:14:30.000</td><td>2022-02-16 00:14:34.000</td><td>STEREO_A</td><td>SECCHI</td><td>304.0 .. 304.0</td><td>SSC</td><td>intensity</td><td>NARROW</td><td>FULLDISK</td><td>-0.00098</td><td>EUVI ;  ; NORMAL ; 2048x2048</td></tr>\n",
       "<tr><td>2022-02-16 00:15:45.000</td><td>2022-02-16 00:15:49.000</td><td>STEREO_A</td><td>SECCHI</td><td>304.0 .. 304.0</td><td>SSC</td><td>intensity</td><td>NARROW</td><td>FULLDISK</td><td>-0.00098</td><td>EUVI ;  ; NORMAL ; 2048x2048</td></tr>\n",
       "<tr><td>2022-02-16 00:25:45.000</td><td>2022-02-16 00:25:49.000</td><td>STEREO_A</td><td>SECCHI</td><td>304.0 .. 304.0</td><td>SSC</td><td>intensity</td><td>NARROW</td><td>FULLDISK</td><td>-0.00098</td><td>EUVI ;  ; NORMAL ; 2048x2048</td></tr>\n",
       "</table></div></br>33 Results from the VSOClient:</br><div><i>VSOQueryResponseTable length=33</i>\n",
       "<table id=\"table140237130965680\" class=\"table-striped table-bordered table-condensed\">\n",
       "<thead><tr><th>Start Time</th><th>End Time</th><th>Source</th><th>Instrument</th><th>Wavelength [2]</th><th>Provider</th><th>Physobs</th><th>Wavetype</th><th>Extent Width</th><th>Extent Length</th><th>Extent Type</th><th>Size</th><th>Info</th></tr></thead>\n",
       "<thead><tr><th></th><th></th><th></th><th></th><th>Angstrom</th><th></th><th></th><th></th><th></th><th></th><th></th><th>Mibyte</th><th></th></tr></thead>\n",
       "<thead><tr><th>Time</th><th>Time</th><th>str3</th><th>str3</th><th>float64</th><th>str4</th><th>str9</th><th>str6</th><th>str4</th><th>str4</th><th>str8</th><th>float64</th><th>str57</th></tr></thead>\n",
       "<tr><td>2022-02-15 21:45:05.000</td><td>2022-02-15 21:45:06.000</td><td>SDO</td><td>AIA</td><td>304.0 .. 304.0</td><td>JSOC</td><td>intensity</td><td>NARROW</td><td>4096</td><td>4096</td><td>FULLDISK</td><td>64.64844</td><td>AIA level 1, 4096x4096 [2.901 exposure] [100.00 percentd]</td></tr>\n",
       "<tr><td>2022-02-15 21:50:05.000</td><td>2022-02-15 21:50:06.000</td><td>SDO</td><td>AIA</td><td>304.0 .. 304.0</td><td>JSOC</td><td>intensity</td><td>NARROW</td><td>4096</td><td>4096</td><td>FULLDISK</td><td>64.64844</td><td>AIA level 1, 4096x4096 [2.901 exposure] [100.00 percentd]</td></tr>\n",
       "<tr><td>2022-02-15 21:55:05.000</td><td>2022-02-15 21:55:06.000</td><td>SDO</td><td>AIA</td><td>304.0 .. 304.0</td><td>JSOC</td><td>intensity</td><td>NARROW</td><td>4096</td><td>4096</td><td>FULLDISK</td><td>64.64844</td><td>AIA level 1, 4096x4096 [2.901 exposure] [100.00 percentd]</td></tr>\n",
       "<tr><td>2022-02-15 22:00:05.000</td><td>2022-02-15 22:00:06.000</td><td>SDO</td><td>AIA</td><td>304.0 .. 304.0</td><td>JSOC</td><td>intensity</td><td>NARROW</td><td>4096</td><td>4096</td><td>FULLDISK</td><td>64.64844</td><td>AIA level 1, 4096x4096 [2.901 exposure] [100.00 percentd]</td></tr>\n",
       "<tr><td>2022-02-15 22:05:05.000</td><td>2022-02-15 22:05:06.000</td><td>SDO</td><td>AIA</td><td>304.0 .. 304.0</td><td>JSOC</td><td>intensity</td><td>NARROW</td><td>4096</td><td>4096</td><td>FULLDISK</td><td>64.64844</td><td>AIA level 1, 4096x4096 [2.901 exposure] [100.00 percentd]</td></tr>\n",
       "<tr><td>2022-02-15 22:10:05.000</td><td>2022-02-15 22:10:06.000</td><td>SDO</td><td>AIA</td><td>304.0 .. 304.0</td><td>JSOC</td><td>intensity</td><td>NARROW</td><td>4096</td><td>4096</td><td>FULLDISK</td><td>64.64844</td><td>AIA level 1, 4096x4096 [2.901 exposure] [100.00 percentd]</td></tr>\n",
       "<tr><td>2022-02-15 22:15:05.000</td><td>2022-02-15 22:15:06.000</td><td>SDO</td><td>AIA</td><td>304.0 .. 304.0</td><td>JSOC</td><td>intensity</td><td>NARROW</td><td>4096</td><td>4096</td><td>FULLDISK</td><td>64.64844</td><td>AIA level 1, 4096x4096 [2.901 exposure] [100.00 percentd]</td></tr>\n",
       "<tr><td>2022-02-15 22:20:05.000</td><td>2022-02-15 22:20:06.000</td><td>SDO</td><td>AIA</td><td>304.0 .. 304.0</td><td>JSOC</td><td>intensity</td><td>NARROW</td><td>4096</td><td>4096</td><td>FULLDISK</td><td>64.64844</td><td>AIA level 1, 4096x4096 [2.901 exposure] [100.00 percentd]</td></tr>\n",
       "<tr><td>2022-02-15 22:25:05.000</td><td>2022-02-15 22:25:06.000</td><td>SDO</td><td>AIA</td><td>304.0 .. 304.0</td><td>JSOC</td><td>intensity</td><td>NARROW</td><td>4096</td><td>4096</td><td>FULLDISK</td><td>64.64844</td><td>AIA level 1, 4096x4096 [2.901 exposure] [100.00 percentd]</td></tr>\n",
       "<tr><td>2022-02-15 22:30:05.000</td><td>2022-02-15 22:30:06.000</td><td>SDO</td><td>AIA</td><td>304.0 .. 304.0</td><td>JSOC</td><td>intensity</td><td>NARROW</td><td>4096</td><td>4096</td><td>FULLDISK</td><td>64.64844</td><td>AIA level 1, 4096x4096 [2.901 exposure] [100.00 percentd]</td></tr>\n",
       "<tr><td>2022-02-15 22:35:05.000</td><td>2022-02-15 22:35:06.000</td><td>SDO</td><td>AIA</td><td>304.0 .. 304.0</td><td>JSOC</td><td>intensity</td><td>NARROW</td><td>4096</td><td>4096</td><td>FULLDISK</td><td>64.64844</td><td>AIA level 1, 4096x4096 [2.901 exposure] [100.00 percentd]</td></tr>\n",
       "<tr><td>2022-02-15 22:40:05.000</td><td>2022-02-15 22:40:06.000</td><td>SDO</td><td>AIA</td><td>304.0 .. 304.0</td><td>JSOC</td><td>intensity</td><td>NARROW</td><td>4096</td><td>4096</td><td>FULLDISK</td><td>64.64844</td><td>AIA level 1, 4096x4096 [2.901 exposure] [100.00 percentd]</td></tr>\n",
       "<tr><td>...</td><td>...</td><td>...</td><td>...</td><td>...</td><td>...</td><td>...</td><td>...</td><td>...</td><td>...</td><td>...</td><td>...</td><td>...</td></tr>\n",
       "<tr><td>2022-02-15 23:25:05.000</td><td>2022-02-15 23:25:06.000</td><td>SDO</td><td>AIA</td><td>304.0 .. 304.0</td><td>JSOC</td><td>intensity</td><td>NARROW</td><td>4096</td><td>4096</td><td>FULLDISK</td><td>64.64844</td><td>AIA level 1, 4096x4096 [2.901 exposure] [100.00 percentd]</td></tr>\n",
       "<tr><td>2022-02-15 23:30:05.000</td><td>2022-02-15 23:30:06.000</td><td>SDO</td><td>AIA</td><td>304.0 .. 304.0</td><td>JSOC</td><td>intensity</td><td>NARROW</td><td>4096</td><td>4096</td><td>FULLDISK</td><td>64.64844</td><td>AIA level 1, 4096x4096 [2.901 exposure] [100.00 percentd]</td></tr>\n",
       "<tr><td>2022-02-15 23:35:05.000</td><td>2022-02-15 23:35:06.000</td><td>SDO</td><td>AIA</td><td>304.0 .. 304.0</td><td>JSOC</td><td>intensity</td><td>NARROW</td><td>4096</td><td>4096</td><td>FULLDISK</td><td>64.64844</td><td>AIA level 1, 4096x4096 [2.901 exposure] [100.00 percentd]</td></tr>\n",
       "<tr><td>2022-02-15 23:40:05.000</td><td>2022-02-15 23:40:06.000</td><td>SDO</td><td>AIA</td><td>304.0 .. 304.0</td><td>JSOC</td><td>intensity</td><td>NARROW</td><td>4096</td><td>4096</td><td>FULLDISK</td><td>64.64844</td><td>AIA level 1, 4096x4096 [2.901 exposure] [100.00 percentd]</td></tr>\n",
       "<tr><td>2022-02-15 23:45:05.000</td><td>2022-02-15 23:45:06.000</td><td>SDO</td><td>AIA</td><td>304.0 .. 304.0</td><td>JSOC</td><td>intensity</td><td>NARROW</td><td>4096</td><td>4096</td><td>FULLDISK</td><td>64.64844</td><td>AIA level 1, 4096x4096 [2.901 exposure] [100.00 percentd]</td></tr>\n",
       "<tr><td>2022-02-15 23:50:05.000</td><td>2022-02-15 23:50:06.000</td><td>SDO</td><td>AIA</td><td>304.0 .. 304.0</td><td>JSOC</td><td>intensity</td><td>NARROW</td><td>4096</td><td>4096</td><td>FULLDISK</td><td>64.64844</td><td>AIA level 1, 4096x4096 [2.901 exposure] [100.00 percentd]</td></tr>\n",
       "<tr><td>2022-02-15 23:55:05.000</td><td>2022-02-15 23:55:06.000</td><td>SDO</td><td>AIA</td><td>304.0 .. 304.0</td><td>JSOC</td><td>intensity</td><td>NARROW</td><td>4096</td><td>4096</td><td>FULLDISK</td><td>64.64844</td><td>AIA level 1, 4096x4096 [2.901 exposure] [100.00 percentd]</td></tr>\n",
       "<tr><td>2022-02-16 00:00:05.000</td><td>2022-02-16 00:00:06.000</td><td>SDO</td><td>AIA</td><td>304.0 .. 304.0</td><td>JSOC</td><td>intensity</td><td>NARROW</td><td>4096</td><td>4096</td><td>FULLDISK</td><td>64.64844</td><td>AIA level 1, 4096x4096 [2.901 exposure] [100.00 percentd]</td></tr>\n",
       "<tr><td>2022-02-16 00:05:05.000</td><td>2022-02-16 00:05:06.000</td><td>SDO</td><td>AIA</td><td>304.0 .. 304.0</td><td>JSOC</td><td>intensity</td><td>NARROW</td><td>4096</td><td>4096</td><td>FULLDISK</td><td>64.64844</td><td>AIA level 1, 4096x4096 [2.901 exposure] [100.00 percentd]</td></tr>\n",
       "<tr><td>2022-02-16 00:10:05.000</td><td>2022-02-16 00:10:06.000</td><td>SDO</td><td>AIA</td><td>304.0 .. 304.0</td><td>JSOC</td><td>intensity</td><td>NARROW</td><td>4096</td><td>4096</td><td>FULLDISK</td><td>64.64844</td><td>AIA level 1, 4096x4096 [2.901 exposure] [100.00 percentd]</td></tr>\n",
       "<tr><td>2022-02-16 00:15:05.000</td><td>2022-02-16 00:15:06.000</td><td>SDO</td><td>AIA</td><td>304.0 .. 304.0</td><td>JSOC</td><td>intensity</td><td>NARROW</td><td>4096</td><td>4096</td><td>FULLDISK</td><td>64.64844</td><td>AIA level 1, 4096x4096 [2.901 exposure] [100.00 percentd]</td></tr>\n",
       "<tr><td>2022-02-16 00:20:05.000</td><td>2022-02-16 00:20:06.000</td><td>SDO</td><td>AIA</td><td>304.0 .. 304.0</td><td>JSOC</td><td>intensity</td><td>NARROW</td><td>4096</td><td>4096</td><td>FULLDISK</td><td>64.64844</td><td>AIA level 1, 4096x4096 [2.901 exposure] [100.00 percentd]</td></tr>\n",
       "<tr><td>2022-02-16 00:25:05.000</td><td>2022-02-16 00:25:06.000</td><td>SDO</td><td>AIA</td><td>304.0 .. 304.0</td><td>JSOC</td><td>intensity</td><td>NARROW</td><td>4096</td><td>4096</td><td>FULLDISK</td><td>64.64844</td><td>AIA level 1, 4096x4096 [2.901 exposure] [100.00 percentd]</td></tr>\n",
       "</table></div></br>2 Results from the XRSClient:</br><div><i>QueryResponse length=2</i>\n",
       "<table id=\"table140237130935792\" class=\"table-striped table-bordered table-condensed\">\n",
       "<thead><tr><th>Start Time</th><th>End Time</th><th>Instrument</th><th>SatelliteNumber</th><th>Physobs</th><th>Source</th><th>Provider</th></tr></thead>\n",
       "<thead><tr><th>Time</th><th>Time</th><th>str3</th><th>int64</th><th>str10</th><th>str4</th><th>str4</th></tr></thead>\n",
       "<tr><td>2022-02-15 00:00:00.000</td><td>2022-02-15 23:59:59.999</td><td>XRS</td><td>17</td><td>irradiance</td><td>GOES</td><td>NOAA</td></tr>\n",
       "<tr><td>2022-02-16 00:00:00.000</td><td>2022-02-16 23:59:59.999</td><td>XRS</td><td>17</td><td>irradiance</td><td>GOES</td><td>NOAA</td></tr>\n",
       "</table></div></br>13 Results from the SOARClient:</br><div><i>QueryResponseTable length=13</i>\n",
       "<table id=\"table140237126532688\" class=\"table-striped table-bordered table-condensed\">\n",
       "<thead><tr><th>Instrument</th><th>Data product</th><th>Level</th><th>Start time</th><th>End time</th><th>Data item ID</th><th>Filename</th><th>Filesize</th></tr></thead>\n",
       "<thead><tr><th></th><th></th><th></th><th></th><th></th><th></th><th></th><th>Mbyte</th></tr></thead>\n",
       "<thead><tr><th>str3</th><th>str16</th><th>str2</th><th>str23</th><th>str23</th><th>str43</th><th>str52</th><th>float64</th></tr></thead>\n",
       "<tr><td>EUI</td><td>EUI-FSI304-IMAGE</td><td>L2</td><td>2022-02-15 21:46:15.217</td><td>2022-02-15 21:46:25.217</td><td>solo_L2_eui-fsi304-image_20220215T214615217</td><td>solo_L2_eui-fsi304-image_20220215T214615217_V01.fits</td><td>2.641</td></tr>\n",
       "<tr><td>EUI</td><td>EUI-FSI304-IMAGE</td><td>L2</td><td>2022-02-15 22:00:15.218</td><td>2022-02-15 22:00:25.218</td><td>solo_L2_eui-fsi304-image_20220215T220015218</td><td>solo_L2_eui-fsi304-image_20220215T220015218_V01.fits</td><td>2.972</td></tr>\n",
       "<tr><td>EUI</td><td>EUI-FSI304-IMAGE</td><td>L2</td><td>2022-02-15 22:12:15.219</td><td>2022-02-15 22:12:25.219</td><td>solo_L2_eui-fsi304-image_20220215T221215219</td><td>solo_L2_eui-fsi304-image_20220215T221215219_V01.fits</td><td>3.021</td></tr>\n",
       "<tr><td>EUI</td><td>EUI-FSI304-IMAGE</td><td>L2</td><td>2022-02-15 22:24:15.221</td><td>2022-02-15 22:24:25.221</td><td>solo_L2_eui-fsi304-image_20220215T222415221</td><td>solo_L2_eui-fsi304-image_20220215T222415221_V01.fits</td><td>3.07</td></tr>\n",
       "<tr><td>EUI</td><td>EUI-FSI304-IMAGE</td><td>L2</td><td>2022-02-15 22:36:15.222</td><td>2022-02-15 22:36:25.222</td><td>solo_L2_eui-fsi304-image_20220215T223615222</td><td>solo_L2_eui-fsi304-image_20220215T223615222_V01.fits</td><td>2.629</td></tr>\n",
       "<tr><td>EUI</td><td>EUI-FSI304-IMAGE</td><td>L2</td><td>2022-02-15 22:50:15.224</td><td>2022-02-15 22:50:25.224</td><td>solo_L2_eui-fsi304-image_20220215T225015224</td><td>solo_L2_eui-fsi304-image_20220215T225015224_V01.fits</td><td>2.779</td></tr>\n",
       "<tr><td>EUI</td><td>EUI-FSI304-IMAGE</td><td>L2</td><td>2022-02-15 23:02:15.225</td><td>2022-02-15 23:02:25.225</td><td>solo_L2_eui-fsi304-image_20220215T230215225</td><td>solo_L2_eui-fsi304-image_20220215T230215225_V01.fits</td><td>2.863</td></tr>\n",
       "<tr><td>EUI</td><td>EUI-FSI304-IMAGE</td><td>L2</td><td>2022-02-15 23:14:15.226</td><td>2022-02-15 23:14:25.226</td><td>solo_L2_eui-fsi304-image_20220215T231415226</td><td>solo_L2_eui-fsi304-image_20220215T231415226_V01.fits</td><td>2.618</td></tr>\n",
       "<tr><td>EUI</td><td>EUI-FSI304-IMAGE</td><td>L2</td><td>2022-02-15 23:26:15.227</td><td>2022-02-15 23:26:25.227</td><td>solo_L2_eui-fsi304-image_20220215T232615227</td><td>solo_L2_eui-fsi304-image_20220215T232615227_V01.fits</td><td>2.722</td></tr>\n",
       "<tr><td>EUI</td><td>EUI-FSI304-IMAGE</td><td>L2</td><td>2022-02-15 23:40:15.229</td><td>2022-02-15 23:40:25.229</td><td>solo_L2_eui-fsi304-image_20220215T234015229</td><td>solo_L2_eui-fsi304-image_20220215T234015229_V01.fits</td><td>2.802</td></tr>\n",
       "<tr><td>EUI</td><td>EUI-FSI304-IMAGE</td><td>L2</td><td>2022-02-15 23:52:15.230</td><td>2022-02-15 23:52:25.230</td><td>solo_L2_eui-fsi304-image_20220215T235215230</td><td>solo_L2_eui-fsi304-image_20220215T235215230_V01.fits</td><td>2.938</td></tr>\n",
       "<tr><td>EUI</td><td>EUI-FSI304-IMAGE</td><td>L2</td><td>2022-02-16 00:04:15.231</td><td>2022-02-16 00:04:25.231</td><td>solo_L2_eui-fsi304-image_20220216T000415231</td><td>solo_L2_eui-fsi304-image_20220216T000415231_V01.fits</td><td>2.629</td></tr>\n",
       "<tr><td>EUI</td><td>EUI-FSI304-IMAGE</td><td>L2</td><td>2022-02-16 00:16:15.232</td><td>2022-02-16 00:16:25.232</td><td>solo_L2_eui-fsi304-image_20220216T001615232</td><td>solo_L2_eui-fsi304-image_20220216T001615232_V01.fits</td><td>2.817</td></tr>\n",
       "</table></div></br>"
      ],
      "text/plain": [
       "<sunpy.net.fido_factory.UnifiedResponse object at 0x7f8b80602220>\n",
       "Results from 4 Providers:\n",
       "\n",
       "25 Results from the VSOClient:\n",
       "Source: http://vso.stanford.edu/cgi-bin/search\n",
       "\n",
       "       Start Time               End Time         Source  Instrument ... Extent Type   Size               Info            \n",
       "                                                                    ...              Mibyte                              \n",
       "----------------------- ----------------------- -------- ---------- ... ----------- -------- ----------------------------\n",
       "2022-02-15 21:45:45.000 2022-02-15 21:45:49.000 STEREO_A     SECCHI ...    FULLDISK -0.00098 EUVI ;  ; NORMAL ; 2048x2048\n",
       "2022-02-15 21:50:45.000 2022-02-15 21:50:49.000 STEREO_A     SECCHI ...    FULLDISK -0.00098 EUVI ;  ; NORMAL ; 2048x2048\n",
       "2022-02-15 21:55:45.000 2022-02-15 21:55:49.000 STEREO_A     SECCHI ...    FULLDISK -0.00098 EUVI ;  ; NORMAL ; 2048x2048\n",
       "2022-02-15 22:00:45.000 2022-02-15 22:00:49.000 STEREO_A     SECCHI ...    FULLDISK -0.00098 EUVI ;  ; NORMAL ; 2048x2048\n",
       "2022-02-15 22:05:45.000 2022-02-15 22:05:49.000 STEREO_A     SECCHI ...    FULLDISK -0.00098 EUVI ;  ; NORMAL ; 2048x2048\n",
       "2022-02-15 22:10:45.000 2022-02-15 22:10:49.000 STEREO_A     SECCHI ...    FULLDISK -0.00098 EUVI ;  ; NORMAL ; 2048x2048\n",
       "2022-02-15 22:15:45.000 2022-02-15 22:15:49.000 STEREO_A     SECCHI ...    FULLDISK -0.00098 EUVI ;  ; NORMAL ; 2048x2048\n",
       "2022-02-15 22:20:45.000 2022-02-15 22:20:49.000 STEREO_A     SECCHI ...    FULLDISK -0.00098 EUVI ;  ; NORMAL ; 2048x2048\n",
       "2022-02-15 22:25:45.000 2022-02-15 22:25:49.000 STEREO_A     SECCHI ...    FULLDISK -0.00098 EUVI ;  ; NORMAL ; 2048x2048\n",
       "2022-02-15 22:30:45.000 2022-02-15 22:30:49.000 STEREO_A     SECCHI ...    FULLDISK -0.00098 EUVI ;  ; NORMAL ; 2048x2048\n",
       "2022-02-15 22:35:45.000 2022-02-15 22:35:49.000 STEREO_A     SECCHI ...    FULLDISK -0.00098 EUVI ;  ; NORMAL ; 2048x2048\n",
       "2022-02-15 22:40:45.000 2022-02-15 22:40:49.000 STEREO_A     SECCHI ...    FULLDISK -0.00098 EUVI ;  ; NORMAL ; 2048x2048\n",
       "2022-02-15 22:45:45.000 2022-02-15 22:45:49.000 STEREO_A     SECCHI ...    FULLDISK -0.00098 EUVI ;  ; NORMAL ; 2048x2048\n",
       "2022-02-15 22:50:45.000 2022-02-15 22:50:49.000 STEREO_A     SECCHI ...    FULLDISK -0.00098 EUVI ;  ; NORMAL ; 2048x2048\n",
       "2022-02-15 22:55:45.000 2022-02-15 22:55:49.000 STEREO_A     SECCHI ...    FULLDISK -0.00098 EUVI ;  ; NORMAL ; 2048x2048\n",
       "2022-02-15 23:05:45.000 2022-02-15 23:05:49.000 STEREO_A     SECCHI ...    FULLDISK -0.00098 EUVI ;  ; NORMAL ; 2048x2048\n",
       "2022-02-15 23:15:45.000 2022-02-15 23:15:49.000 STEREO_A     SECCHI ...    FULLDISK -0.00098 EUVI ;  ; NORMAL ; 2048x2048\n",
       "2022-02-15 23:25:45.000 2022-02-15 23:25:49.000 STEREO_A     SECCHI ...    FULLDISK -0.00098 EUVI ;  ; NORMAL ; 2048x2048\n",
       "2022-02-15 23:35:45.000 2022-02-15 23:35:49.000 STEREO_A     SECCHI ...    FULLDISK -0.00098 EUVI ;  ; NORMAL ; 2048x2048\n",
       "2022-02-15 23:45:44.000 2022-02-15 23:45:48.000 STEREO_A     SECCHI ...    FULLDISK -0.00098 EUVI ;  ; NORMAL ; 2048x2048\n",
       "2022-02-15 23:55:45.000 2022-02-15 23:55:49.000 STEREO_A     SECCHI ...    FULLDISK -0.00098 EUVI ;  ; NORMAL ; 2048x2048\n",
       "2022-02-16 00:05:45.000 2022-02-16 00:05:49.000 STEREO_A     SECCHI ...    FULLDISK -0.00098 EUVI ;  ; NORMAL ; 2048x2048\n",
       "2022-02-16 00:14:30.000 2022-02-16 00:14:34.000 STEREO_A     SECCHI ...    FULLDISK -0.00098 EUVI ;  ; NORMAL ; 2048x2048\n",
       "2022-02-16 00:15:45.000 2022-02-16 00:15:49.000 STEREO_A     SECCHI ...    FULLDISK -0.00098 EUVI ;  ; NORMAL ; 2048x2048\n",
       "2022-02-16 00:25:45.000 2022-02-16 00:25:49.000 STEREO_A     SECCHI ...    FULLDISK -0.00098 EUVI ;  ; NORMAL ; 2048x2048\n",
       "\n",
       "33 Results from the VSOClient:\n",
       "Source: http://vso.stanford.edu/cgi-bin/search\n",
       "Total estimated size: 2.237 Gbyte\n",
       "\n",
       "       Start Time               End Time        Source ...   Size                              Info                          \n",
       "                                                       ...  Mibyte                                                           \n",
       "----------------------- ----------------------- ------ ... -------- ---------------------------------------------------------\n",
       "2022-02-15 21:45:05.000 2022-02-15 21:45:06.000    SDO ... 64.64844 AIA level 1, 4096x4096 [2.901 exposure] [100.00 percentd]\n",
       "2022-02-15 21:50:05.000 2022-02-15 21:50:06.000    SDO ... 64.64844 AIA level 1, 4096x4096 [2.901 exposure] [100.00 percentd]\n",
       "2022-02-15 21:55:05.000 2022-02-15 21:55:06.000    SDO ... 64.64844 AIA level 1, 4096x4096 [2.901 exposure] [100.00 percentd]\n",
       "2022-02-15 22:00:05.000 2022-02-15 22:00:06.000    SDO ... 64.64844 AIA level 1, 4096x4096 [2.901 exposure] [100.00 percentd]\n",
       "2022-02-15 22:05:05.000 2022-02-15 22:05:06.000    SDO ... 64.64844 AIA level 1, 4096x4096 [2.901 exposure] [100.00 percentd]\n",
       "2022-02-15 22:10:05.000 2022-02-15 22:10:06.000    SDO ... 64.64844 AIA level 1, 4096x4096 [2.901 exposure] [100.00 percentd]\n",
       "2022-02-15 22:15:05.000 2022-02-15 22:15:06.000    SDO ... 64.64844 AIA level 1, 4096x4096 [2.901 exposure] [100.00 percentd]\n",
       "2022-02-15 22:20:05.000 2022-02-15 22:20:06.000    SDO ... 64.64844 AIA level 1, 4096x4096 [2.901 exposure] [100.00 percentd]\n",
       "2022-02-15 22:25:05.000 2022-02-15 22:25:06.000    SDO ... 64.64844 AIA level 1, 4096x4096 [2.901 exposure] [100.00 percentd]\n",
       "2022-02-15 22:30:05.000 2022-02-15 22:30:06.000    SDO ... 64.64844 AIA level 1, 4096x4096 [2.901 exposure] [100.00 percentd]\n",
       "2022-02-15 22:35:05.000 2022-02-15 22:35:06.000    SDO ... 64.64844 AIA level 1, 4096x4096 [2.901 exposure] [100.00 percentd]\n",
       "2022-02-15 22:40:05.000 2022-02-15 22:40:06.000    SDO ... 64.64844 AIA level 1, 4096x4096 [2.901 exposure] [100.00 percentd]\n",
       "2022-02-15 22:45:05.000 2022-02-15 22:45:06.000    SDO ... 64.64844 AIA level 1, 4096x4096 [2.901 exposure] [100.00 percentd]\n",
       "                    ...                     ...    ... ...      ...                                                       ...\n",
       "2022-02-15 23:25:05.000 2022-02-15 23:25:06.000    SDO ... 64.64844 AIA level 1, 4096x4096 [2.901 exposure] [100.00 percentd]\n",
       "2022-02-15 23:30:05.000 2022-02-15 23:30:06.000    SDO ... 64.64844 AIA level 1, 4096x4096 [2.901 exposure] [100.00 percentd]\n",
       "2022-02-15 23:35:05.000 2022-02-15 23:35:06.000    SDO ... 64.64844 AIA level 1, 4096x4096 [2.901 exposure] [100.00 percentd]\n",
       "2022-02-15 23:40:05.000 2022-02-15 23:40:06.000    SDO ... 64.64844 AIA level 1, 4096x4096 [2.901 exposure] [100.00 percentd]\n",
       "2022-02-15 23:45:05.000 2022-02-15 23:45:06.000    SDO ... 64.64844 AIA level 1, 4096x4096 [2.901 exposure] [100.00 percentd]\n",
       "2022-02-15 23:50:05.000 2022-02-15 23:50:06.000    SDO ... 64.64844 AIA level 1, 4096x4096 [2.901 exposure] [100.00 percentd]\n",
       "2022-02-15 23:55:05.000 2022-02-15 23:55:06.000    SDO ... 64.64844 AIA level 1, 4096x4096 [2.901 exposure] [100.00 percentd]\n",
       "2022-02-16 00:00:05.000 2022-02-16 00:00:06.000    SDO ... 64.64844 AIA level 1, 4096x4096 [2.901 exposure] [100.00 percentd]\n",
       "2022-02-16 00:05:05.000 2022-02-16 00:05:06.000    SDO ... 64.64844 AIA level 1, 4096x4096 [2.901 exposure] [100.00 percentd]\n",
       "2022-02-16 00:10:05.000 2022-02-16 00:10:06.000    SDO ... 64.64844 AIA level 1, 4096x4096 [2.901 exposure] [100.00 percentd]\n",
       "2022-02-16 00:15:05.000 2022-02-16 00:15:06.000    SDO ... 64.64844 AIA level 1, 4096x4096 [2.901 exposure] [100.00 percentd]\n",
       "2022-02-16 00:20:05.000 2022-02-16 00:20:06.000    SDO ... 64.64844 AIA level 1, 4096x4096 [2.901 exposure] [100.00 percentd]\n",
       "2022-02-16 00:25:05.000 2022-02-16 00:25:06.000    SDO ... 64.64844 AIA level 1, 4096x4096 [2.901 exposure] [100.00 percentd]\n",
       "Length = 33 rows\n",
       "\n",
       "2 Results from the XRSClient:\n",
       "Source: https://umbra.nascom.nasa.gov/goes/fits\n",
       "\n",
       "       Start Time               End Time        Instrument SatelliteNumber  Physobs   Source Provider\n",
       "----------------------- ----------------------- ---------- --------------- ---------- ------ --------\n",
       "2022-02-15 00:00:00.000 2022-02-15 23:59:59.999        XRS              17 irradiance   GOES     NOAA\n",
       "2022-02-16 00:00:00.000 2022-02-16 23:59:59.999        XRS              17 irradiance   GOES     NOAA\n",
       "\n",
       "13 Results from the SOARClient:\n",
       "\n",
       "Instrument   Data product   Level ...                       Filename                       Filesize\n",
       "                                  ...                                                       Mbyte  \n",
       "---------- ---------------- ----- ... ---------------------------------------------------- --------\n",
       "       EUI EUI-FSI304-IMAGE    L2 ... solo_L2_eui-fsi304-image_20220215T214615217_V01.fits    2.641\n",
       "       EUI EUI-FSI304-IMAGE    L2 ... solo_L2_eui-fsi304-image_20220215T220015218_V01.fits    2.972\n",
       "       EUI EUI-FSI304-IMAGE    L2 ... solo_L2_eui-fsi304-image_20220215T221215219_V01.fits    3.021\n",
       "       EUI EUI-FSI304-IMAGE    L2 ... solo_L2_eui-fsi304-image_20220215T222415221_V01.fits     3.07\n",
       "       EUI EUI-FSI304-IMAGE    L2 ... solo_L2_eui-fsi304-image_20220215T223615222_V01.fits    2.629\n",
       "       EUI EUI-FSI304-IMAGE    L2 ... solo_L2_eui-fsi304-image_20220215T225015224_V01.fits    2.779\n",
       "       EUI EUI-FSI304-IMAGE    L2 ... solo_L2_eui-fsi304-image_20220215T230215225_V01.fits    2.863\n",
       "       EUI EUI-FSI304-IMAGE    L2 ... solo_L2_eui-fsi304-image_20220215T231415226_V01.fits    2.618\n",
       "       EUI EUI-FSI304-IMAGE    L2 ... solo_L2_eui-fsi304-image_20220215T232615227_V01.fits    2.722\n",
       "       EUI EUI-FSI304-IMAGE    L2 ... solo_L2_eui-fsi304-image_20220215T234015229_V01.fits    2.802\n",
       "       EUI EUI-FSI304-IMAGE    L2 ... solo_L2_eui-fsi304-image_20220215T235215230_V01.fits    2.938\n",
       "       EUI EUI-FSI304-IMAGE    L2 ... solo_L2_eui-fsi304-image_20220216T000415231_V01.fits    2.629\n",
       "       EUI EUI-FSI304-IMAGE    L2 ... solo_L2_eui-fsi304-image_20220216T001615232_V01.fits    2.817\n"
      ]
     },
     "execution_count": 43,
     "metadata": {},
     "output_type": "execute_result"
    }
   ],
   "source": [
    "all_queries"
   ]
  },
  {
   "cell_type": "code",
   "execution_count": 25,
   "id": "3d655074-3164-4888-98f0-6f69e8533eb8",
   "metadata": {},
   "outputs": [
    {
     "data": {
      "application/vnd.jupyter.widget-view+json": {
       "model_id": "ffcf67078f1847f485324957e0d1d1bf",
       "version_major": 2,
       "version_minor": 0
      },
      "text/plain": [
       "Files Downloaded:   0%|          | 0/73 [00:00<?, ?file/s]"
      ]
     },
     "metadata": {},
     "output_type": "display_data"
    },
    {
     "data": {
      "application/vnd.jupyter.widget-view+json": {
       "model_id": "b1518d1cdc794841952d99277a130ee7",
       "version_major": 2,
       "version_minor": 0
      },
      "text/plain": [
       "20220215_220545_n4eua.fts:   0%|          | 0.00/8.41M [00:00<?, ?B/s]"
      ]
     },
     "metadata": {},
     "output_type": "display_data"
    },
    {
     "data": {
      "application/vnd.jupyter.widget-view+json": {
       "model_id": "6dd61dd4263748fcb4803a88802530d9",
       "version_major": 2,
       "version_minor": 0
      },
      "text/plain": [
       "20220215_214545_n4eua.fts:   0%|          | 0.00/8.41M [00:00<?, ?B/s]"
      ]
     },
     "metadata": {},
     "output_type": "display_data"
    },
    {
     "data": {
      "application/vnd.jupyter.widget-view+json": {
       "model_id": "5fdbbb63d99f44cfad6a49bc483ae7bf",
       "version_major": 2,
       "version_minor": 0
      },
      "text/plain": [
       "20220215_220045_n5eua.fts:   0%|          | 0.00/8.41M [00:00<?, ?B/s]"
      ]
     },
     "metadata": {},
     "output_type": "display_data"
    },
    {
     "data": {
      "application/vnd.jupyter.widget-view+json": {
       "model_id": "861dc8a5b34644c3a5ca01006e6fbd17",
       "version_major": 2,
       "version_minor": 0
      },
      "text/plain": [
       "20220215_215045_n5eua.fts:   0%|          | 0.00/8.41M [00:00<?, ?B/s]"
      ]
     },
     "metadata": {},
     "output_type": "display_data"
    },
    {
     "data": {
      "application/vnd.jupyter.widget-view+json": {
       "model_id": "ff01e4b2fe324151b8ebfd1a8fa33aaa",
       "version_major": 2,
       "version_minor": 0
      },
      "text/plain": [
       "20220215_215545_n4eua.fts:   0%|          | 0.00/8.41M [00:00<?, ?B/s]"
      ]
     },
     "metadata": {},
     "output_type": "display_data"
    },
    {
     "data": {
      "application/vnd.jupyter.widget-view+json": {
       "model_id": "aeca8cc4f98042eb8288a1242e5fec5a",
       "version_major": 2,
       "version_minor": 0
      },
      "text/plain": [
       "20220215_221045_n5eua.fts:   0%|          | 0.00/8.41M [00:00<?, ?B/s]"
      ]
     },
     "metadata": {},
     "output_type": "display_data"
    },
    {
     "data": {
      "application/vnd.jupyter.widget-view+json": {
       "model_id": "66764200cd1a4f41b68d28ee44dab3fa",
       "version_major": 2,
       "version_minor": 0
      },
      "text/plain": [
       "20220215_221545_n4eua.fts:   0%|          | 0.00/8.41M [00:00<?, ?B/s]"
      ]
     },
     "metadata": {},
     "output_type": "display_data"
    },
    {
     "data": {
      "application/vnd.jupyter.widget-view+json": {
       "model_id": "e21008a334684f6d8a40fdeb5e841b7a",
       "version_major": 2,
       "version_minor": 0
      },
      "text/plain": [
       "20220215_222045_n5eua.fts:   0%|          | 0.00/8.41M [00:00<?, ?B/s]"
      ]
     },
     "metadata": {},
     "output_type": "display_data"
    },
    {
     "data": {
      "application/vnd.jupyter.widget-view+json": {
       "model_id": "e6482fc41e9449f99a53e4df4a0eea81",
       "version_major": 2,
       "version_minor": 0
      },
      "text/plain": [
       "20220215_222545_n4eua.fts:   0%|          | 0.00/8.41M [00:00<?, ?B/s]"
      ]
     },
     "metadata": {},
     "output_type": "display_data"
    },
    {
     "data": {
      "application/vnd.jupyter.widget-view+json": {
       "model_id": "7cde228f1a394932af3f27d24250f663",
       "version_major": 2,
       "version_minor": 0
      },
      "text/plain": [
       "20220215_223045_n5eua.fts:   0%|          | 0.00/8.41M [00:00<?, ?B/s]"
      ]
     },
     "metadata": {},
     "output_type": "display_data"
    },
    {
     "data": {
      "application/vnd.jupyter.widget-view+json": {
       "model_id": "ebc91e5c0a624175b0860a1b438483dd",
       "version_major": 2,
       "version_minor": 0
      },
      "text/plain": [
       "20220215_223545_n4eua.fts:   0%|          | 0.00/8.41M [00:00<?, ?B/s]"
      ]
     },
     "metadata": {},
     "output_type": "display_data"
    },
    {
     "data": {
      "application/vnd.jupyter.widget-view+json": {
       "model_id": "d4cb665b7da749d08b1e215e266d8aca",
       "version_major": 2,
       "version_minor": 0
      },
      "text/plain": [
       "20220215_224045_n5eua.fts:   0%|          | 0.00/8.41M [00:00<?, ?B/s]"
      ]
     },
     "metadata": {},
     "output_type": "display_data"
    },
    {
     "data": {
      "application/vnd.jupyter.widget-view+json": {
       "model_id": "aafc926f368b45de989ae36638943169",
       "version_major": 2,
       "version_minor": 0
      },
      "text/plain": [
       "20220215_224545_n4eua.fts:   0%|          | 0.00/8.41M [00:00<?, ?B/s]"
      ]
     },
     "metadata": {},
     "output_type": "display_data"
    },
    {
     "data": {
      "application/vnd.jupyter.widget-view+json": {
       "model_id": "c84973baeed34a209053c71f2094fa57",
       "version_major": 2,
       "version_minor": 0
      },
      "text/plain": [
       "20220215_225045_n5eua.fts:   0%|          | 0.00/8.41M [00:00<?, ?B/s]"
      ]
     },
     "metadata": {},
     "output_type": "display_data"
    },
    {
     "data": {
      "application/vnd.jupyter.widget-view+json": {
       "model_id": "e765f24675f94ca6b0a57d4a6603874d",
       "version_major": 2,
       "version_minor": 0
      },
      "text/plain": [
       "20220215_225545_n4eua.fts:   0%|          | 0.00/8.41M [00:00<?, ?B/s]"
      ]
     },
     "metadata": {},
     "output_type": "display_data"
    },
    {
     "data": {
      "application/vnd.jupyter.widget-view+json": {
       "model_id": "a085e5804d9c4990b2abdf4b562758b9",
       "version_major": 2,
       "version_minor": 0
      },
      "text/plain": [
       "20220215_230545_n4eua.fts:   0%|          | 0.00/8.41M [00:00<?, ?B/s]"
      ]
     },
     "metadata": {},
     "output_type": "display_data"
    },
    {
     "data": {
      "application/vnd.jupyter.widget-view+json": {
       "model_id": "f9c67b6adca64836a8dcbcb9e2262fef",
       "version_major": 2,
       "version_minor": 0
      },
      "text/plain": [
       "20220215_231545_n4eua.fts:   0%|          | 0.00/8.41M [00:00<?, ?B/s]"
      ]
     },
     "metadata": {},
     "output_type": "display_data"
    },
    {
     "data": {
      "application/vnd.jupyter.widget-view+json": {
       "model_id": "1ce81d085c7f48e5bf2248eb6a501a5f",
       "version_major": 2,
       "version_minor": 0
      },
      "text/plain": [
       "20220215_232545_n4eua.fts:   0%|          | 0.00/8.41M [00:00<?, ?B/s]"
      ]
     },
     "metadata": {},
     "output_type": "display_data"
    },
    {
     "data": {
      "application/vnd.jupyter.widget-view+json": {
       "model_id": "54189744f6c64939a1ed8c3f786ccec2",
       "version_major": 2,
       "version_minor": 0
      },
      "text/plain": [
       "20220215_234545_n4eua.fts:   0%|          | 0.00/8.41M [00:00<?, ?B/s]"
      ]
     },
     "metadata": {},
     "output_type": "display_data"
    },
    {
     "data": {
      "application/vnd.jupyter.widget-view+json": {
       "model_id": "19d09421f4b243bf8b5d45668db4f5de",
       "version_major": 2,
       "version_minor": 0
      },
      "text/plain": [
       "20220215_233545_n4eua.fts:   0%|          | 0.00/8.41M [00:00<?, ?B/s]"
      ]
     },
     "metadata": {},
     "output_type": "display_data"
    },
    {
     "data": {
      "application/vnd.jupyter.widget-view+json": {
       "model_id": "9b7707a36dea40b7a52b8ded0e0e12be",
       "version_major": 2,
       "version_minor": 0
      },
      "text/plain": [
       "20220215_235545_n4eua.fts:   0%|          | 0.00/8.41M [00:00<?, ?B/s]"
      ]
     },
     "metadata": {},
     "output_type": "display_data"
    },
    {
     "data": {
      "application/vnd.jupyter.widget-view+json": {
       "model_id": "87eb520a6f924bd49dad0f2bfeeb5c69",
       "version_major": 2,
       "version_minor": 0
      },
      "text/plain": [
       "20220216_000545_n4eua.fts:   0%|          | 0.00/8.41M [00:00<?, ?B/s]"
      ]
     },
     "metadata": {},
     "output_type": "display_data"
    },
    {
     "data": {
      "application/vnd.jupyter.widget-view+json": {
       "model_id": "e735bdbf4dc94dbf8e4048708136aa40",
       "version_major": 2,
       "version_minor": 0
      },
      "text/plain": [
       "20220216_001430_n4eua.fts:   0%|          | 0.00/8.41M [00:00<?, ?B/s]"
      ]
     },
     "metadata": {},
     "output_type": "display_data"
    },
    {
     "data": {
      "application/vnd.jupyter.widget-view+json": {
       "model_id": "80ad6f432dfd4b6f991ce14f164a32d5",
       "version_major": 2,
       "version_minor": 0
      },
      "text/plain": [
       "20220216_002545_n4eua.fts:   0%|          | 0.00/8.41M [00:00<?, ?B/s]"
      ]
     },
     "metadata": {},
     "output_type": "display_data"
    },
    {
     "data": {
      "application/vnd.jupyter.widget-view+json": {
       "model_id": "0cc2dbc7712f46539403ab5b3f677a35",
       "version_major": 2,
       "version_minor": 0
      },
      "text/plain": [
       "20220216_001545_n4eua.fts:   0%|          | 0.00/8.41M [00:00<?, ?B/s]"
      ]
     },
     "metadata": {},
     "output_type": "display_data"
    },
    {
     "data": {
      "application/vnd.jupyter.widget-view+json": {
       "model_id": "36209570c2c945cfb314ef069d6547a0",
       "version_major": 2,
       "version_minor": 0
      },
      "text/plain": [
       "aia_lev1_304a_2022_02_15t21_45_05_13z_image_lev1.fits:   0%|          | 0.00/7.41M [00:00<?, ?B/s]"
      ]
     },
     "metadata": {},
     "output_type": "display_data"
    },
    {
     "data": {
      "application/vnd.jupyter.widget-view+json": {
       "model_id": "1910def846dc49e495024bda46cdb966",
       "version_major": 2,
       "version_minor": 0
      },
      "text/plain": [
       "aia_lev1_304a_2022_02_15t21_50_05_13z_image_lev1.fits:   0%|          | 0.00/7.41M [00:00<?, ?B/s]"
      ]
     },
     "metadata": {},
     "output_type": "display_data"
    },
    {
     "data": {
      "application/vnd.jupyter.widget-view+json": {
       "model_id": "0f464c22e1e64de9b6e898394bb1aa55",
       "version_major": 2,
       "version_minor": 0
      },
      "text/plain": [
       "aia_lev1_304a_2022_02_15t21_55_05_13z_image_lev1.fits:   0%|          | 0.00/7.41M [00:00<?, ?B/s]"
      ]
     },
     "metadata": {},
     "output_type": "display_data"
    },
    {
     "data": {
      "application/vnd.jupyter.widget-view+json": {
       "model_id": "9fc6e4c9895d40229395c21e95800c9c",
       "version_major": 2,
       "version_minor": 0
      },
      "text/plain": [
       "aia_lev1_304a_2022_02_15t22_00_05_13z_image_lev1.fits:   0%|          | 0.00/7.42M [00:00<?, ?B/s]"
      ]
     },
     "metadata": {},
     "output_type": "display_data"
    },
    {
     "data": {
      "application/vnd.jupyter.widget-view+json": {
       "model_id": "3e5d801f3329487cba8dd53e03a38321",
       "version_major": 2,
       "version_minor": 0
      },
      "text/plain": [
       "aia_lev1_304a_2022_02_15t22_05_05_13z_image_lev1.fits:   0%|          | 0.00/7.42M [00:00<?, ?B/s]"
      ]
     },
     "metadata": {},
     "output_type": "display_data"
    },
    {
     "data": {
      "application/vnd.jupyter.widget-view+json": {
       "model_id": "6eb82f9a879b4642a2660ace8522a13f",
       "version_major": 2,
       "version_minor": 0
      },
      "text/plain": [
       "aia_lev1_304a_2022_02_15t22_10_05_13z_image_lev1.fits:   0%|          | 0.00/7.42M [00:00<?, ?B/s]"
      ]
     },
     "metadata": {},
     "output_type": "display_data"
    },
    {
     "data": {
      "application/vnd.jupyter.widget-view+json": {
       "model_id": "e7aa321d00384bbc9747a555aea8d3da",
       "version_major": 2,
       "version_minor": 0
      },
      "text/plain": [
       "aia_lev1_304a_2022_02_15t22_15_05_13z_image_lev1.fits:   0%|          | 0.00/7.42M [00:00<?, ?B/s]"
      ]
     },
     "metadata": {},
     "output_type": "display_data"
    },
    {
     "data": {
      "application/vnd.jupyter.widget-view+json": {
       "model_id": "038d1f53872d449fae753a8ca9f0aae2",
       "version_major": 2,
       "version_minor": 0
      },
      "text/plain": [
       "aia_lev1_304a_2022_02_15t22_20_05_13z_image_lev1.fits:   0%|          | 0.00/7.42M [00:00<?, ?B/s]"
      ]
     },
     "metadata": {},
     "output_type": "display_data"
    },
    {
     "data": {
      "application/vnd.jupyter.widget-view+json": {
       "model_id": "46153198b5924e93b9c87635dff49e25",
       "version_major": 2,
       "version_minor": 0
      },
      "text/plain": [
       "aia_lev1_304a_2022_02_15t22_30_05_13z_image_lev1.fits:   0%|          | 0.00/7.42M [00:00<?, ?B/s]"
      ]
     },
     "metadata": {},
     "output_type": "display_data"
    },
    {
     "data": {
      "application/vnd.jupyter.widget-view+json": {
       "model_id": "851c5060006b4bb58eecc8859d67877f",
       "version_major": 2,
       "version_minor": 0
      },
      "text/plain": [
       "aia_lev1_304a_2022_02_15t22_25_05_13z_image_lev1.fits:   0%|          | 0.00/7.42M [00:00<?, ?B/s]"
      ]
     },
     "metadata": {},
     "output_type": "display_data"
    },
    {
     "data": {
      "application/vnd.jupyter.widget-view+json": {
       "model_id": "b07e2b47ca3e435d9a90adfd45351b7c",
       "version_major": 2,
       "version_minor": 0
      },
      "text/plain": [
       "aia_lev1_304a_2022_02_15t22_35_05_13z_image_lev1.fits:   0%|          | 0.00/7.42M [00:00<?, ?B/s]"
      ]
     },
     "metadata": {},
     "output_type": "display_data"
    },
    {
     "data": {
      "application/vnd.jupyter.widget-view+json": {
       "model_id": "9411a0b20cb9400690e19e8a65cb2393",
       "version_major": 2,
       "version_minor": 0
      },
      "text/plain": [
       "aia_lev1_304a_2022_02_15t22_40_05_13z_image_lev1.fits:   0%|          | 0.00/7.42M [00:00<?, ?B/s]"
      ]
     },
     "metadata": {},
     "output_type": "display_data"
    },
    {
     "data": {
      "application/vnd.jupyter.widget-view+json": {
       "model_id": "aad5b43e4bc3446c95d9aeded656a135",
       "version_major": 2,
       "version_minor": 0
      },
      "text/plain": [
       "aia_lev1_304a_2022_02_15t22_50_05_13z_image_lev1.fits:   0%|          | 0.00/7.42M [00:00<?, ?B/s]"
      ]
     },
     "metadata": {},
     "output_type": "display_data"
    },
    {
     "data": {
      "application/vnd.jupyter.widget-view+json": {
       "model_id": "7b528da820bc42eeb3ec0bdb1ab488c7",
       "version_major": 2,
       "version_minor": 0
      },
      "text/plain": [
       "aia_lev1_304a_2022_02_15t22_45_05_13z_image_lev1.fits:   0%|          | 0.00/7.42M [00:00<?, ?B/s]"
      ]
     },
     "metadata": {},
     "output_type": "display_data"
    },
    {
     "data": {
      "application/vnd.jupyter.widget-view+json": {
       "model_id": "6829df3cb8ff4e6baf0a6beef9eb4bc7",
       "version_major": 2,
       "version_minor": 0
      },
      "text/plain": [
       "aia_lev1_304a_2022_02_15t23_00_05_13z_image_lev1.fits:   0%|          | 0.00/3.08M [00:00<?, ?B/s]"
      ]
     },
     "metadata": {},
     "output_type": "display_data"
    },
    {
     "data": {
      "application/vnd.jupyter.widget-view+json": {
       "model_id": "7cb3a320e7c44a19b2f1f9fde78e3e09",
       "version_major": 2,
       "version_minor": 0
      },
      "text/plain": [
       "aia_lev1_304a_2022_02_15t22_55_05_13z_image_lev1.fits:   0%|          | 0.00/7.42M [00:00<?, ?B/s]"
      ]
     },
     "metadata": {},
     "output_type": "display_data"
    },
    {
     "data": {
      "application/vnd.jupyter.widget-view+json": {
       "model_id": "1ba67de93f5346bcad793a4003ac65de",
       "version_major": 2,
       "version_minor": 0
      },
      "text/plain": [
       "aia_lev1_304a_2022_02_15t23_05_05_13z_image_lev1.fits:   0%|          | 0.00/7.41M [00:00<?, ?B/s]"
      ]
     },
     "metadata": {},
     "output_type": "display_data"
    },
    {
     "data": {
      "application/vnd.jupyter.widget-view+json": {
       "model_id": "2e58b10716c94efea1775e83b536d598",
       "version_major": 2,
       "version_minor": 0
      },
      "text/plain": [
       "aia_lev1_304a_2022_02_15t23_10_05_13z_image_lev1.fits:   0%|          | 0.00/7.41M [00:00<?, ?B/s]"
      ]
     },
     "metadata": {},
     "output_type": "display_data"
    },
    {
     "data": {
      "application/vnd.jupyter.widget-view+json": {
       "model_id": "c5f0f96f027545cf94a3cdd93813495f",
       "version_major": 2,
       "version_minor": 0
      },
      "text/plain": [
       "aia_lev1_304a_2022_02_15t23_15_05_13z_image_lev1.fits:   0%|          | 0.00/7.41M [00:00<?, ?B/s]"
      ]
     },
     "metadata": {},
     "output_type": "display_data"
    },
    {
     "data": {
      "application/vnd.jupyter.widget-view+json": {
       "model_id": "61bb8dddd06847a7a232d80ccddf3983",
       "version_major": 2,
       "version_minor": 0
      },
      "text/plain": [
       "aia_lev1_304a_2022_02_15t23_20_05_13z_image_lev1.fits:   0%|          | 0.00/7.41M [00:00<?, ?B/s]"
      ]
     },
     "metadata": {},
     "output_type": "display_data"
    },
    {
     "data": {
      "application/vnd.jupyter.widget-view+json": {
       "model_id": "cf23be5436b0414981a4813029462b08",
       "version_major": 2,
       "version_minor": 0
      },
      "text/plain": [
       "aia_lev1_304a_2022_02_15t23_25_05_13z_image_lev1.fits:   0%|          | 0.00/7.41M [00:00<?, ?B/s]"
      ]
     },
     "metadata": {},
     "output_type": "display_data"
    },
    {
     "data": {
      "application/vnd.jupyter.widget-view+json": {
       "model_id": "be77d989b3f04a54a769bb9bfc43f305",
       "version_major": 2,
       "version_minor": 0
      },
      "text/plain": [
       "aia_lev1_304a_2022_02_15t23_30_05_13z_image_lev1.fits:   0%|          | 0.00/7.41M [00:00<?, ?B/s]"
      ]
     },
     "metadata": {},
     "output_type": "display_data"
    },
    {
     "data": {
      "application/vnd.jupyter.widget-view+json": {
       "model_id": "06706ca4ed734c1799e3291c1c1cd20d",
       "version_major": 2,
       "version_minor": 0
      },
      "text/plain": [
       "aia_lev1_304a_2022_02_15t23_35_05_13z_image_lev1.fits:   0%|          | 0.00/7.41M [00:00<?, ?B/s]"
      ]
     },
     "metadata": {},
     "output_type": "display_data"
    },
    {
     "data": {
      "application/vnd.jupyter.widget-view+json": {
       "model_id": "205b9900627b4e47b629b4a555bf906a",
       "version_major": 2,
       "version_minor": 0
      },
      "text/plain": [
       "aia_lev1_304a_2022_02_15t23_40_05_13z_image_lev1.fits:   0%|          | 0.00/7.41M [00:00<?, ?B/s]"
      ]
     },
     "metadata": {},
     "output_type": "display_data"
    },
    {
     "data": {
      "application/vnd.jupyter.widget-view+json": {
       "model_id": "626248c9b452435d9cc2761a127d4ac9",
       "version_major": 2,
       "version_minor": 0
      },
      "text/plain": [
       "aia_lev1_304a_2022_02_15t23_45_05_14z_image_lev1.fits:   0%|          | 0.00/7.41M [00:00<?, ?B/s]"
      ]
     },
     "metadata": {},
     "output_type": "display_data"
    },
    {
     "data": {
      "application/vnd.jupyter.widget-view+json": {
       "model_id": "98145f856a9a486c8bcfcef0875569f1",
       "version_major": 2,
       "version_minor": 0
      },
      "text/plain": [
       "aia_lev1_304a_2022_02_15t23_50_05_13z_image_lev1.fits:   0%|          | 0.00/7.41M [00:00<?, ?B/s]"
      ]
     },
     "metadata": {},
     "output_type": "display_data"
    },
    {
     "data": {
      "application/vnd.jupyter.widget-view+json": {
       "model_id": "ec6f88ac98f949139e466208412384d2",
       "version_major": 2,
       "version_minor": 0
      },
      "text/plain": [
       "aia_lev1_304a_2022_02_15t23_55_05_13z_image_lev1.fits:   0%|          | 0.00/7.41M [00:00<?, ?B/s]"
      ]
     },
     "metadata": {},
     "output_type": "display_data"
    },
    {
     "data": {
      "application/vnd.jupyter.widget-view+json": {
       "model_id": "542d5fe41b834997bcefd905be185284",
       "version_major": 2,
       "version_minor": 0
      },
      "text/plain": [
       "aia_lev1_304a_2022_02_16t00_00_05_13z_image_lev1.fits:   0%|          | 0.00/7.41M [00:00<?, ?B/s]"
      ]
     },
     "metadata": {},
     "output_type": "display_data"
    },
    {
     "data": {
      "application/vnd.jupyter.widget-view+json": {
       "model_id": "f963d81066cf40b5803241eec38356fd",
       "version_major": 2,
       "version_minor": 0
      },
      "text/plain": [
       "aia_lev1_304a_2022_02_16t00_05_05_13z_image_lev1.fits:   0%|          | 0.00/7.41M [00:00<?, ?B/s]"
      ]
     },
     "metadata": {},
     "output_type": "display_data"
    },
    {
     "data": {
      "application/vnd.jupyter.widget-view+json": {
       "model_id": "62e246a98eac431bb61b4d022cc1b9ec",
       "version_major": 2,
       "version_minor": 0
      },
      "text/plain": [
       "aia_lev1_304a_2022_02_16t00_10_05_13z_image_lev1.fits:   0%|          | 0.00/7.41M [00:00<?, ?B/s]"
      ]
     },
     "metadata": {},
     "output_type": "display_data"
    },
    {
     "data": {
      "application/vnd.jupyter.widget-view+json": {
       "model_id": "cbcba00b9d1b48228cd1bfb04c873d48",
       "version_major": 2,
       "version_minor": 0
      },
      "text/plain": [
       "aia_lev1_304a_2022_02_16t00_15_05_13z_image_lev1.fits:   0%|          | 0.00/7.41M [00:00<?, ?B/s]"
      ]
     },
     "metadata": {},
     "output_type": "display_data"
    },
    {
     "data": {
      "application/vnd.jupyter.widget-view+json": {
       "model_id": "640e2864cf934d7b9b31828835e0c371",
       "version_major": 2,
       "version_minor": 0
      },
      "text/plain": [
       "aia_lev1_304a_2022_02_16t00_25_05_13z_image_lev1.fits:   0%|          | 0.00/7.41M [00:00<?, ?B/s]"
      ]
     },
     "metadata": {},
     "output_type": "display_data"
    },
    {
     "data": {
      "application/vnd.jupyter.widget-view+json": {
       "model_id": "8831c63e66154b8c99e7debd9a126b5c",
       "version_major": 2,
       "version_minor": 0
      },
      "text/plain": [
       "aia_lev1_304a_2022_02_16t00_20_05_13z_image_lev1.fits:   0%|          | 0.00/7.41M [00:00<?, ?B/s]"
      ]
     },
     "metadata": {},
     "output_type": "display_data"
    },
    {
     "data": {
      "application/vnd.jupyter.widget-view+json": {
       "model_id": "fb64a6ca03964b32ae979a11322b8d64",
       "version_major": 2,
       "version_minor": 0
      },
      "text/plain": [
       "sci_xrsf-l2-flx1s_g17_d20220215_v2-1-0.nc:   0%|          | 0.00/5.13M [00:00<?, ?B/s]"
      ]
     },
     "metadata": {},
     "output_type": "display_data"
    },
    {
     "data": {
      "application/vnd.jupyter.widget-view+json": {
       "model_id": "d8805d47f314428f85e91adca16666ec",
       "version_major": 2,
       "version_minor": 0
      },
      "text/plain": [
       "sci_xrsf-l2-flx1s_g17_d20220216_v2-1-0.nc:   0%|          | 0.00/5.10M [00:00<?, ?B/s]"
      ]
     },
     "metadata": {},
     "output_type": "display_data"
    },
    {
     "data": {
      "application/vnd.jupyter.widget-view+json": {
       "model_id": "003370ab26af40a9a0736e141f918feb",
       "version_major": 2,
       "version_minor": 0
      },
      "text/plain": [
       "solo_L2_eui-fsi304-image_20220215T214615217_V01.fits:   0%|          | 0.00/2.64M [00:00<?, ?B/s]"
      ]
     },
     "metadata": {},
     "output_type": "display_data"
    },
    {
     "data": {
      "application/vnd.jupyter.widget-view+json": {
       "model_id": "18e7661e59834d4da5232d5938aac2f0",
       "version_major": 2,
       "version_minor": 0
      },
      "text/plain": [
       "solo_L2_eui-fsi304-image_20220215T220015218_V01.fits:   0%|          | 0.00/2.97M [00:00<?, ?B/s]"
      ]
     },
     "metadata": {},
     "output_type": "display_data"
    },
    {
     "data": {
      "application/vnd.jupyter.widget-view+json": {
       "model_id": "f848228aab3a414989d2b322378b84dc",
       "version_major": 2,
       "version_minor": 0
      },
      "text/plain": [
       "solo_L2_eui-fsi304-image_20220215T221215219_V01.fits:   0%|          | 0.00/3.02M [00:00<?, ?B/s]"
      ]
     },
     "metadata": {},
     "output_type": "display_data"
    },
    {
     "data": {
      "application/vnd.jupyter.widget-view+json": {
       "model_id": "9634196f68bc4c3bab321fa20bcb8a34",
       "version_major": 2,
       "version_minor": 0
      },
      "text/plain": [
       "solo_L2_eui-fsi304-image_20220215T222415221_V01.fits:   0%|          | 0.00/3.07M [00:00<?, ?B/s]"
      ]
     },
     "metadata": {},
     "output_type": "display_data"
    },
    {
     "data": {
      "application/vnd.jupyter.widget-view+json": {
       "model_id": "e59d97bc03f34e0ca09bbdb9c702fc39",
       "version_major": 2,
       "version_minor": 0
      },
      "text/plain": [
       "solo_L2_eui-fsi304-image_20220215T223615222_V01.fits:   0%|          | 0.00/2.63M [00:00<?, ?B/s]"
      ]
     },
     "metadata": {},
     "output_type": "display_data"
    },
    {
     "data": {
      "application/vnd.jupyter.widget-view+json": {
       "model_id": "867de4834c4b43519b2f0baf8827f251",
       "version_major": 2,
       "version_minor": 0
      },
      "text/plain": [
       "solo_L2_eui-fsi304-image_20220215T225015224_V01.fits:   0%|          | 0.00/2.78M [00:00<?, ?B/s]"
      ]
     },
     "metadata": {},
     "output_type": "display_data"
    },
    {
     "data": {
      "application/vnd.jupyter.widget-view+json": {
       "model_id": "62e0cbf680e644dc8eb42b28e7cc1939",
       "version_major": 2,
       "version_minor": 0
      },
      "text/plain": [
       "solo_L2_eui-fsi304-image_20220215T230215225_V01.fits:   0%|          | 0.00/2.86M [00:00<?, ?B/s]"
      ]
     },
     "metadata": {},
     "output_type": "display_data"
    },
    {
     "data": {
      "application/vnd.jupyter.widget-view+json": {
       "model_id": "36241d69e67642acb6232947e9cb561b",
       "version_major": 2,
       "version_minor": 0
      },
      "text/plain": [
       "solo_L2_eui-fsi304-image_20220215T231415226_V01.fits:   0%|          | 0.00/2.62M [00:00<?, ?B/s]"
      ]
     },
     "metadata": {},
     "output_type": "display_data"
    },
    {
     "data": {
      "application/vnd.jupyter.widget-view+json": {
       "model_id": "8e5c019484044221b466c304e23011ea",
       "version_major": 2,
       "version_minor": 0
      },
      "text/plain": [
       "solo_L2_eui-fsi304-image_20220215T232615227_V01.fits:   0%|          | 0.00/2.72M [00:00<?, ?B/s]"
      ]
     },
     "metadata": {},
     "output_type": "display_data"
    },
    {
     "data": {
      "application/vnd.jupyter.widget-view+json": {
       "model_id": "43430b57854747c3840b83750fac2592",
       "version_major": 2,
       "version_minor": 0
      },
      "text/plain": [
       "solo_L2_eui-fsi304-image_20220215T234015229_V01.fits:   0%|          | 0.00/2.80M [00:00<?, ?B/s]"
      ]
     },
     "metadata": {},
     "output_type": "display_data"
    },
    {
     "data": {
      "application/vnd.jupyter.widget-view+json": {
       "model_id": "97e47299136b4b42a329d1ad34e5f21b",
       "version_major": 2,
       "version_minor": 0
      },
      "text/plain": [
       "solo_L2_eui-fsi304-image_20220215T235215230_V01.fits:   0%|          | 0.00/2.94M [00:00<?, ?B/s]"
      ]
     },
     "metadata": {},
     "output_type": "display_data"
    },
    {
     "data": {
      "application/vnd.jupyter.widget-view+json": {
       "model_id": "638abe357d0e4110b4b36541ffe5a3ba",
       "version_major": 2,
       "version_minor": 0
      },
      "text/plain": [
       "solo_L2_eui-fsi304-image_20220216T000415231_V01.fits:   0%|          | 0.00/2.63M [00:00<?, ?B/s]"
      ]
     },
     "metadata": {},
     "output_type": "display_data"
    },
    {
     "data": {
      "application/vnd.jupyter.widget-view+json": {
       "model_id": "df49e2565da4429ba5956a286fe27f26",
       "version_major": 2,
       "version_minor": 0
      },
      "text/plain": [
       "solo_L2_eui-fsi304-image_20220216T001615232_V01.fits:   0%|          | 0.00/2.82M [00:00<?, ?B/s]"
      ]
     },
     "metadata": {},
     "output_type": "display_data"
    }
   ],
   "source": [
    "files = Fido.fetch(all_queries, path='data/{instrument}')"
   ]
  },
  {
   "cell_type": "code",
   "execution_count": 26,
   "id": "80df6457-98fb-4c1b-9511-7b9749cb30bb",
   "metadata": {},
   "outputs": [
    {
     "data": {
      "text/plain": [
       "<parfive.results.Results object at 0x7fbd17acbbb0>\n",
       "['data/AIA/aia_lev1_304a_2022_02_15t22_00_05_13z_image_lev1.fits', 'data/EUI/solo_L2_eui-fsi304-image_20220215T235215230_V01.fits', 'data/EUI/solo_L2_eui-fsi304-image_20220216T000415231_V01.fits', 'data/SECCHI/20220215_214545_n4eua.fts', 'data/SECCHI/20220216_001430_n4eua.fts', 'data/AIA/aia_lev1_304a_2022_02_16t00_00_05_13z_image_lev1.fits', 'data/SECCHI/20220215_221545_n4eua.fts', 'data/SECCHI/20220215_230545_n4eua.fts', 'data/SECCHI/20220215_215045_n5eua.fts', 'data/EUI/solo_L2_eui-fsi304-image_20220215T220015218_V01.fits', 'data/EUI/solo_L2_eui-fsi304-image_20220215T222415221_V01.fits', 'data/SECCHI/20220215_215545_n4eua.fts', 'data/AIA/aia_lev1_304a_2022_02_15t22_30_05_13z_image_lev1.fits', 'data/AIA/aia_lev1_304a_2022_02_15t23_20_05_13z_image_lev1.fits', 'data/AIA/aia_lev1_304a_2022_02_15t23_50_05_13z_image_lev1.fits', 'data/SECCHI/20220215_220045_n5eua.fts', 'data/SECCHI/20220215_222045_n5eua.fts', 'data/AIA/aia_lev1_304a_2022_02_16t00_10_05_13z_image_lev1.fits', 'data/SECCHI/20220215_220545_n4eua.fts', 'data/SECCHI/20220215_222545_n4eua.fts', 'data/AIA/aia_lev1_304a_2022_02_15t21_45_05_13z_image_lev1.fits', 'data/EUI/solo_L2_eui-fsi304-image_20220215T221215219_V01.fits', 'data/EUI/solo_L2_eui-fsi304-image_20220215T231415226_V01.fits', 'data/SECCHI/20220215_223045_n5eua.fts', 'data/SECCHI/20220215_235545_n4eua.fts', 'data/SECCHI/20220216_001545_n4eua.fts', 'data/AIA/aia_lev1_304a_2022_02_15t23_15_05_13z_image_lev1.fits', 'data/SECCHI/20220215_225545_n4eua.fts', 'data/AIA/aia_lev1_304a_2022_02_15t21_50_05_13z_image_lev1.fits', 'data/AIA/aia_lev1_304a_2022_02_15t22_05_05_13z_image_lev1.fits', 'data/EUI/solo_L2_eui-fsi304-image_20220215T232615227_V01.fits', 'data/AIA/aia_lev1_304a_2022_02_15t22_25_05_13z_image_lev1.fits', 'data/AIA/aia_lev1_304a_2022_02_15t23_00_05_13z_image_lev1.fits', 'data/AIA/aia_lev1_304a_2022_02_16t00_05_05_13z_image_lev1.fits', 'data/AIA/aia_lev1_304a_2022_02_16t00_15_05_13z_image_lev1.fits', 'data/EUI/solo_L2_eui-fsi304-image_20220215T230215225_V01.fits', 'data/SECCHI/20220215_224545_n4eua.fts', 'data/AIA/aia_lev1_304a_2022_02_15t23_55_05_13z_image_lev1.fits', 'data/AIA/aia_lev1_304a_2022_02_15t22_15_05_13z_image_lev1.fits', 'data/AIA/aia_lev1_304a_2022_02_15t22_55_05_13z_image_lev1.fits', 'data/AIA/aia_lev1_304a_2022_02_15t22_10_05_13z_image_lev1.fits', 'data/AIA/aia_lev1_304a_2022_02_15t22_20_05_13z_image_lev1.fits', 'data/AIA/aia_lev1_304a_2022_02_15t23_35_05_13z_image_lev1.fits', 'data/EUI/solo_L2_eui-fsi304-image_20220216T001615232_V01.fits', 'data/SECCHI/20220215_231545_n4eua.fts', 'data/AIA/aia_lev1_304a_2022_02_15t23_10_05_13z_image_lev1.fits', 'data/AIA/aia_lev1_304a_2022_02_16t00_20_05_13z_image_lev1.fits', 'data/EUI/solo_L2_eui-fsi304-image_20220215T214615217_V01.fits', 'data/SECCHI/20220215_232545_n4eua.fts', 'data/SECCHI/20220216_000545_n4eua.fts', 'data/AIA/aia_lev1_304a_2022_02_15t22_40_05_13z_image_lev1.fits', 'data/XRS/sci_xrsf-l2-flx1s_g17_d20220215_v2-1-0.nc', 'data/EUI/solo_L2_eui-fsi304-image_20220215T234015229_V01.fits', 'data/SECCHI/20220215_234545_n4eua.fts', 'data/AIA/aia_lev1_304a_2022_02_15t21_55_05_13z_image_lev1.fits', 'data/AIA/aia_lev1_304a_2022_02_15t23_30_05_13z_image_lev1.fits', 'data/XRS/sci_xrsf-l2-flx1s_g17_d20220216_v2-1-0.nc', 'data/SECCHI/20220215_225045_n5eua.fts', 'data/AIA/aia_lev1_304a_2022_02_15t22_45_05_13z_image_lev1.fits', 'data/AIA/aia_lev1_304a_2022_02_15t23_05_05_13z_image_lev1.fits', 'data/EUI/solo_L2_eui-fsi304-image_20220215T223615222_V01.fits', 'data/SECCHI/20220215_224045_n5eua.fts', 'data/AIA/aia_lev1_304a_2022_02_15t23_25_05_13z_image_lev1.fits', 'data/EUI/solo_L2_eui-fsi304-image_20220215T225015224_V01.fits', 'data/SECCHI/20220215_221045_n5eua.fts', 'data/AIA/aia_lev1_304a_2022_02_15t22_50_05_13z_image_lev1.fits', 'data/AIA/aia_lev1_304a_2022_02_15t23_45_05_14z_image_lev1.fits', 'data/AIA/aia_lev1_304a_2022_02_16t00_25_05_13z_image_lev1.fits', 'data/SECCHI/20220215_223545_n4eua.fts', 'data/AIA/aia_lev1_304a_2022_02_15t22_35_05_13z_image_lev1.fits', 'data/AIA/aia_lev1_304a_2022_02_15t23_40_05_13z_image_lev1.fits', 'data/SECCHI/20220215_233545_n4eua.fts', 'data/SECCHI/20220216_002545_n4eua.fts']"
      ]
     },
     "execution_count": 26,
     "metadata": {},
     "output_type": "execute_result"
    }
   ],
   "source": [
    "files"
   ]
  },
  {
   "cell_type": "code",
   "execution_count": null,
   "id": "c3254296-16f9-4260-b93b-f69afa3e6aa0",
   "metadata": {},
   "outputs": [],
   "source": []
  }
 ],
 "metadata": {
  "kernelspec": {
   "display_name": "Python [conda env:pyhc-summer-school]",
   "language": "python",
   "name": "conda-env-pyhc-summer-school-py"
  },
  "language_info": {
   "codemirror_mode": {
    "name": "ipython",
    "version": 3
   },
   "file_extension": ".py",
   "mimetype": "text/x-python",
   "name": "python",
   "nbconvert_exporter": "python",
   "pygments_lexer": "ipython3",
   "version": "3.9.12"
  }
 },
 "nbformat": 4,
 "nbformat_minor": 5
}
