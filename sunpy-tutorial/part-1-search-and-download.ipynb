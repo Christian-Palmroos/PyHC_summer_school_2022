{
 "cells": [
  {
   "cell_type": "markdown",
   "id": "120afae3-e858-4a0a-a923-39ea66d9c95f",
   "metadata": {},
   "source": [
    "# Data Search and Download"
   ]
  },
  {
   "cell_type": "code",
   "execution_count": null,
   "id": "a31c066c-871b-43cc-bf29-5de53eb90a11",
   "metadata": {},
   "outputs": [],
   "source": [
    "import glob\n",
    "\n",
    "import numpy as np\n",
    "import matplotlib.pyplot as plt\n",
    "\n",
    "import astropy.time\n",
    "import astropy.units as u\n",
    "from astropy.visualization import ImageNormalize, LogStretch, AsymmetricPercentileInterval\n",
    "\n",
    "import sunpy.map\n",
    "from sunpy.net import Fido, attrs as a"
   ]
  },
  {
   "cell_type": "markdown",
   "id": "1d5c8378-632a-452a-b052-df4bf6a0f249",
   "metadata": {
    "slideshow": {
     "slide_type": "slide"
    }
   },
   "source": [
    "\n",
    "## Overview of the `Fido` Unified Downloader\n",
    "\n",
    "* Fido is sunpy's interface for searching and downloading solar physics data.\n",
    "* It offers a unified interface for searching and fetching data irrespective of the underlying client or webservice from where the data is obtained.\n",
    "* Offers a way to search and accesses multiple instruments and all available data providers in a single query.\n",
    "* It supplies a single, easy, consistent and *extendable* way to get most forms of solar physics data the community need \n",
    "\n",
    "Fido offers access to data available through:\n",
    "\n",
    " * **VSO**\n",
    " * **JSOC**\n",
    " * **Individual data providers** from web accessible sources (http, ftp, etc)\n",
    " * **HEK**\n",
    " * **HELIO**\n",
    " \n",
    "As described here Fido provides access to many sources of data through different `clients`, these clients can be defined inside sunpy or in other packages.\n",
    "Lets print the current list of available clients within sunpy."
   ]
  },
  {
   "cell_type": "code",
   "execution_count": null,
   "id": "05c7100b",
   "metadata": {},
   "outputs": [],
   "source": [
    "Fido"
   ]
  },
  {
   "cell_type": "markdown",
   "id": "73a6c22d-9d12-4834-a96d-10155ce4a6d4",
   "metadata": {},
   "source": [
    "Sunpy also now provides tab completion to auto-fill the attribute name"
   ]
  },
  {
   "cell_type": "code",
   "execution_count": null,
   "id": "705a3d84",
   "metadata": {},
   "outputs": [],
   "source": [
    "a.Instrument."
   ]
  },
  {
   "cell_type": "markdown",
   "id": "a57261bf-6882-4e51-a597-e88c14fa5e7b",
   "metadata": {
    "tags": []
   },
   "source": [
    "## Searching for Data"
   ]
  },
  {
   "cell_type": "markdown",
   "id": "8238fd9b-67e1-4976-ad6d-30855a16ecc3",
   "metadata": {},
   "source": [
    "Sunpy uses specified *attributes* to search for data using Fido. The range of these attributes is located in the `attrs` submodule. These `attr` parameters can be combined together to construct data search queries, such as searching over a certain time period, for data from a certain instrument with a certain wavelength etc.\n",
    "\n",
    "Different clients and provides will have client-specific attributes, but the core attributes are:\n",
    "\n",
    "* `a.Time`\n",
    "* `a.Instrument`\n",
    "* `a.Wavelength`\n",
    "\n",
    "Let's use these different attributes to construct a query for our CME observation."
   ]
  },
  {
   "cell_type": "code",
   "execution_count": null,
   "id": "929cbfac-47ec-4925-b634-c150f3f8c3db",
   "metadata": {},
   "outputs": [],
   "source": [
    "cme_start = \"2022-03-28T11:00\"\n",
    "cme_end = \"2022-03-28T14:00\""
   ]
  },
  {
   "cell_type": "code",
   "execution_count": null,
   "id": "7249d34f-8e4c-4fff-8f05-7c52647d78f9",
   "metadata": {},
   "outputs": [],
   "source": [
    "cme_time = a.Time(cme_start, cme_end)"
   ]
  },
  {
   "cell_type": "markdown",
   "id": "024a36ac-c560-4e5d-b35a-a04448805bfd",
   "metadata": {},
   "source": [
    "We can inspect the instrument attribute to see what instrument `attrs` are currently supported through sunpy. Here we can see the instrument name (i.e. the name to be passed to the `a.Instrument` attribute, the client from which the data is available to access, and the full name of the instrument."
   ]
  },
  {
   "cell_type": "code",
   "execution_count": null,
   "id": "13fdc573",
   "metadata": {},
   "outputs": [],
   "source": [
    "a.Instrument"
   ]
  },
  {
   "cell_type": "markdown",
   "id": "0fd46283-bde4-4760-ab9d-876041131620",
   "metadata": {},
   "source": [
    "Sunpy also now provides tab completion to auto-fill the attribute name"
   ]
  },
  {
   "cell_type": "code",
   "execution_count": null,
   "id": "bf212f1f-8c9b-46fd-a9d5-bd2c0e75c045",
   "metadata": {},
   "outputs": [],
   "source": [
    "a.Instrument"
   ]
  },
  {
   "cell_type": "markdown",
   "id": "79142238-2422-4410-8657-74d7290f0602",
   "metadata": {},
   "source": [
    "We can combine our time and instrument attributes to search for AIA data within our selected time range using `Fido.search`"
   ]
  },
  {
   "cell_type": "code",
   "execution_count": null,
   "id": "fd533109-7292-4d9a-a3ad-3bc24eb3b566",
   "metadata": {
    "tags": []
   },
   "outputs": [],
   "source": [
    "Fido.search(cme_time & a.Instrument.aia)"
   ]
  },
  {
   "cell_type": "markdown",
   "id": "912bcbbc-5eee-429e-821c-dc1f9b7cb510",
   "metadata": {},
   "source": [
    "We can further filter our results using the `Wavelength` search attribute."
   ]
  },
  {
   "cell_type": "code",
   "execution_count": null,
   "id": "ea3687de-e9ed-4dbd-ba21-eb15c94f46ba",
   "metadata": {},
   "outputs": [],
   "source": [
    "Fido.search(cme_time & a.Instrument.aia & a.Wavelength(304*u.angstrom))"
   ]
  },
  {
   "cell_type": "markdown",
   "id": "2e4e670b-09be-491d-a6ef-e1813a8ebe8b",
   "metadata": {},
   "source": [
    "<div class=\"alert alert-block alert-warning\">\n",
    "    <h3><u>EXERCISE:</u> <br><br>We want to query the AIA data at a 5 minute cadence rather than the full 12 second cadence. How would we modify our above query to accomplish this?</h3>\n",
    "</div>"
   ]
  },
  {
   "cell_type": "code",
   "execution_count": null,
   "id": "b66dcd15-d86f-421c-bca7-2ca2ecc036a9",
   "metadata": {},
   "outputs": [],
   "source": [
    "# aia_query = cme_time & a.Wavelength(304*u.angstrom) & a.Instrument.aia & a.Sample(5*u.min)\n",
    "aia_query = ... # put 5 minute cadence query here"
   ]
  },
  {
   "cell_type": "code",
   "execution_count": null,
   "id": "30a46c53-f239-4b57-9987-243e4ce41960",
   "metadata": {},
   "outputs": [],
   "source": [
    "Fido.search(aia_query)"
   ]
  },
  {
   "cell_type": "markdown",
   "id": "6d17fe1d-e294-41ed-8068-26d5921ca3ca",
   "metadata": {},
   "source": [
    "<img src=\"images/Solar-MACH_2022-02-16_00-00-00.png\" width=\"55%\"></img>"
   ]
  },
  {
   "cell_type": "markdown",
   "id": "8e2ffe65-8a1a-4bc4-8100-0a2e56c2b71e",
   "metadata": {
    "tags": []
   },
   "source": [
    "<div class=\"alert alert-block alert-warning\">\n",
    "    <h3><u>EXERCISE:</u> <br><br>We've written a query for the AIA data above. How would we write a query for EUVI data from STEREO-A for the same time range, cadence, and wavelength?</h3>\n",
    "</div>"
   ]
  },
  {
   "cell_type": "code",
   "execution_count": null,
   "id": "c98b6307-deca-4c54-9b64-93ef974ccaf7",
   "metadata": {},
   "outputs": [],
   "source": [
    "stereo_query = ..."
   ]
  },
  {
   "cell_type": "markdown",
   "id": "7d683b3b-388c-41b1-a700-1b72c25c0723",
   "metadata": {
    "tags": []
   },
   "source": [
    "### Combining Queries"
   ]
  },
  {
   "cell_type": "markdown",
   "id": "b8d6a27a-05ae-4914-abf5-f985483d01e9",
   "metadata": {},
   "source": [
    "In addition to making queries for individual instruments, we can also logically combine queries for multiple instruments at once. For example, if we wanted to search for data from both AIA and SECCHI for the same time range and passband,"
   ]
  },
  {
   "cell_type": "code",
   "execution_count": null,
   "id": "d247808d-7a70-449f-8be1-0ab36eddf987",
   "metadata": {},
   "outputs": [],
   "source": [
    "Fido.search(cme_time, a.Instrument.aia | a.Instrument.secchi, a.Wavelength(304*u.angstrom), a.Sample(10*u.minute))"
   ]
  },
  {
   "cell_type": "markdown",
   "id": "854db439-8401-42c7-af95-c2b7e9e7abe3",
   "metadata": {},
   "source": [
    "What if we also wanted to look for the GOES XRS data during this same interval?\n",
    "GOES/XRS data does not have a `Wavelength` or `Sample` associated with it, but we can still combine the queries for all three of these instruments."
   ]
  },
  {
   "cell_type": "code",
   "execution_count": null,
   "id": "942ea682-ab79-4587-947a-f6816708a968",
   "metadata": {},
   "outputs": [],
   "source": [
    "aia_or_secchi = (a.Instrument.aia | a.Instrument.secchi) & a.Wavelength(304*u.angstrom) & a.Sample(5*u.minute)"
   ]
  },
  {
   "cell_type": "code",
   "execution_count": null,
   "id": "7480c9e1-a309-4bd8-9583-a234214c48fe",
   "metadata": {},
   "outputs": [],
   "source": [
    "goes_query = a.Instrument.xrs  & a.goes.SatelliteNumber(17)"
   ]
  },
  {
   "cell_type": "code",
   "execution_count": null,
   "id": "f6b47246-8c6c-48f3-8280-5632c8503206",
   "metadata": {},
   "outputs": [],
   "source": [
    "combined_query = Fido.search(cme_time, aia_or_secchi | goes_query)"
   ]
  },
  {
   "cell_type": "code",
   "execution_count": null,
   "id": "c4f6a0a5-ba64-4c07-81ad-16e57248ae8c",
   "metadata": {},
   "outputs": [],
   "source": [
    "combined_query"
   ]
  },
  {
   "cell_type": "markdown",
   "id": "d8297e2e-acaf-4f62-8528-c4defa82fb5a",
   "metadata": {},
   "source": [
    "### Using External `Fido` Clients and Post-search filtering"
   ]
  },
  {
   "cell_type": "markdown",
   "id": "937a28a3-7ece-4bbe-9b02-58d648e49aa2",
   "metadata": {},
   "source": [
    "*Some comments about external Fido clients*"
   ]
  },
  {
   "cell_type": "code",
   "execution_count": null,
   "id": "6b29656f-6663-41e2-895a-710ca3f9d2d6",
   "metadata": {},
   "outputs": [],
   "source": [
    "import sunpy_soar\n",
    "from sunpy_soar.attrs import Product"
   ]
  },
  {
   "cell_type": "code",
   "execution_count": null,
   "id": "1f7cf746-ef23-41ab-a268-9a3f767e80e3",
   "metadata": {},
   "outputs": [],
   "source": [
    "Fido"
   ]
  },
  {
   "cell_type": "markdown",
   "id": "37db8b93-7f5f-485f-be66-fc0a7326acdf",
   "metadata": {},
   "source": [
    "We'll grab the level 2 EUI data "
   ]
  },
  {
   "cell_type": "code",
   "execution_count": null,
   "id": "53960126-cdf3-41af-8d46-9d518246d816",
   "metadata": {},
   "outputs": [],
   "source": [
    "fsi_304_low_cadence = Fido.search(\n",
    "    a.Time(cme_start, cme_end) & a.Level(2) & a.soar.Product('EUI-FSI304-IMAGE')\n",
    ")"
   ]
  },
  {
   "cell_type": "code",
   "execution_count": null,
   "id": "ac568b82-caa3-4515-adb4-24f25e1df651",
   "metadata": {},
   "outputs": [],
   "source": [
    "fsi_304_low_cadence"
   ]
  },
  {
   "cell_type": "markdown",
   "id": "c5bbedec-dddd-4b50-8daf-37670dc838e1",
   "metadata": {},
   "source": [
    "Unlike the VSO, our SOAR search does not support the `Sample` attribute for adjusting the cadence of our search.\n",
    "Thus, this query returns the data at the full cadence (~2-4 minutes).\n",
    "For the phenomenon we're interested in looking at, a ~10-15 minute cadence is sufficient so we'll select every 5th file.\n",
    "This also means we'll have fewer files to deal with.\n",
    "We can accomplish by performing a post-search filter on our search result."
   ]
  },
  {
   "cell_type": "markdown",
   "id": "cb00fd93-a90d-4aed-a162-1ab97a97b726",
   "metadata": {
    "tags": []
   },
   "source": [
    "## Downloading Data"
   ]
  },
  {
   "cell_type": "markdown",
   "id": "28c719b4-b6c2-417c-b4df-21faccd86f54",
   "metadata": {},
   "source": [
    "We can easily make a single download request from all of our different clients by passing in our combined query for AIA, STEREO, and GOES XRS as well as our filtered EUI query."
   ]
  },
  {
   "cell_type": "code",
   "execution_count": null,
   "id": "3d655074-3164-4888-98f0-6f69e8533eb8",
   "metadata": {},
   "outputs": [],
   "source": [
    "files = Fido.fetch(combined_query, fsi_304_low_cadence, path='data/{instrument}')"
   ]
  },
  {
   "cell_type": "code",
   "execution_count": null,
   "id": "80df6457-98fb-4c1b-9511-7b9749cb30bb",
   "metadata": {},
   "outputs": [],
   "source": [
    "files"
   ]
  }
 ],
 "metadata": {
  "kernelspec": {
   "display_name": "Environment (virtualenv_pyhc-summer-school)",
   "language": "python",
   "name": "virtualenv_pyhc-summer-school"
  },
  "language_info": {
   "codemirror_mode": {
    "name": "ipython",
    "version": 3
   },
   "file_extension": ".py",
   "mimetype": "text/x-python",
   "name": "python",
   "nbconvert_exporter": "python",
   "pygments_lexer": "ipython3",
   "version": "3.10.4"
  }
 },
 "nbformat": 4,
 "nbformat_minor": 5
}
